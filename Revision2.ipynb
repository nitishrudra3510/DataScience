{
  "nbformat": 4,
  "nbformat_minor": 0,
  "metadata": {
    "colab": {
      "provenance": [],
      "authorship_tag": "ABX9TyNAfcMVkX11ygircUyWsThD",
      "include_colab_link": true
    },
    "kernelspec": {
      "name": "python3",
      "display_name": "Python 3"
    },
    "language_info": {
      "name": "python"
    }
  },
  "cells": [
    {
      "cell_type": "markdown",
      "metadata": {
        "id": "view-in-github",
        "colab_type": "text"
      },
      "source": [
        "<a href=\"https://colab.research.google.com/github/nitishrudra3510/DataScience/blob/master/Revision2.ipynb\" target=\"_parent\"><img src=\"https://colab.research.google.com/assets/colab-badge.svg\" alt=\"Open In Colab\"/></a>"
      ]
    },
    {
      "cell_type": "markdown",
      "source": [
        "**data Types**"
      ],
      "metadata": {
        "id": "v08loyrGsQhP"
      }
    },
    {
      "cell_type": "markdown",
      "source": [
        "1. boolean"
      ],
      "metadata": {
        "id": "uPIjqnPVsisE"
      }
    },
    {
      "cell_type": "code",
      "execution_count": null,
      "metadata": {
        "colab": {
          "base_uri": "https://localhost:8080/"
        },
        "id": "zm4xtTOp8iML",
        "outputId": "454fb48d-c47b-4882-89a3-d275668cb430"
      },
      "outputs": [
        {
          "output_type": "stream",
          "name": "stdout",
          "text": [
            "True\n"
          ]
        }
      ],
      "source": [
        "result = True\n",
        "result2 = False\n",
        "print(result)\n"
      ]
    },
    {
      "cell_type": "code",
      "source": [
        "print(result2)"
      ],
      "metadata": {
        "colab": {
          "base_uri": "https://localhost:8080/"
        },
        "id": "m3Ekg28Ls7FA",
        "outputId": "1458ee15-8d89-4159-8e1e-40883f4bc398"
      },
      "execution_count": null,
      "outputs": [
        {
          "output_type": "stream",
          "name": "stdout",
          "text": [
            "False\n"
          ]
        }
      ]
    },
    {
      "cell_type": "markdown",
      "source": [],
      "metadata": {
        "id": "IYpf-FuKsOFz"
      }
    },
    {
      "cell_type": "code",
      "source": [
        "print(bool(1))"
      ],
      "metadata": {
        "colab": {
          "base_uri": "https://localhost:8080/"
        },
        "id": "7FUazGP3szXM",
        "outputId": "f969cd48-6112-4242-d57f-504d8b606d15"
      },
      "execution_count": null,
      "outputs": [
        {
          "output_type": "stream",
          "name": "stdout",
          "text": [
            "True\n"
          ]
        }
      ]
    },
    {
      "cell_type": "code",
      "source": [
        "print(bool(0))\n"
      ],
      "metadata": {
        "colab": {
          "base_uri": "https://localhost:8080/"
        },
        "id": "SXrlLo1hs_g0",
        "outputId": "2847b26a-bd3e-4910-898d-62514ce92d95"
      },
      "execution_count": null,
      "outputs": [
        {
          "output_type": "stream",
          "name": "stdout",
          "text": [
            "False\n"
          ]
        }
      ]
    },
    {
      "cell_type": "code",
      "source": [
        "print(\"hello world\") # because of it has non empty sets(list, tuples)"
      ],
      "metadata": {
        "colab": {
          "base_uri": "https://localhost:8080/"
        },
        "id": "iTW0jg65tD2J",
        "outputId": "b85d5a0f-16ab-40c1-9929-191a930d6122"
      },
      "execution_count": null,
      "outputs": [
        {
          "output_type": "stream",
          "name": "stdout",
          "text": [
            "hello world\n"
          ]
        }
      ]
    },
    {
      "cell_type": "markdown",
      "source": [
        "2. Numeric Data Types."
      ],
      "metadata": {
        "id": "_Ce_mfGEtVSE"
      }
    },
    {
      "cell_type": "code",
      "source": [
        "print(type(1))"
      ],
      "metadata": {
        "colab": {
          "base_uri": "https://localhost:8080/"
        },
        "id": "F8Bf4zX8tRI8",
        "outputId": "fafb8bdb-0c0d-487a-86a2-dceab18a9d73"
      },
      "execution_count": null,
      "outputs": [
        {
          "output_type": "stream",
          "name": "stdout",
          "text": [
            "<class 'int'>\n"
          ]
        }
      ]
    },
    {
      "cell_type": "code",
      "source": [
        "print(type(2.90))"
      ],
      "metadata": {
        "colab": {
          "base_uri": "https://localhost:8080/"
        },
        "id": "arAmxq0StfOw",
        "outputId": "0886aebd-0d85-4801-87b2-f03c618e4891"
      },
      "execution_count": null,
      "outputs": [
        {
          "output_type": "stream",
          "name": "stdout",
          "text": [
            "<class 'float'>\n"
          ]
        }
      ]
    },
    {
      "cell_type": "code",
      "source": [
        "print(type(2+3j))"
      ],
      "metadata": {
        "colab": {
          "base_uri": "https://localhost:8080/"
        },
        "id": "oXhypDrPth2-",
        "outputId": "30e46493-04b5-48b7-f621-95a5c0ede2e5"
      },
      "execution_count": null,
      "outputs": [
        {
          "output_type": "stream",
          "name": "stdout",
          "text": [
            "<class 'complex'>\n"
          ]
        }
      ]
    },
    {
      "cell_type": "markdown",
      "source": [
        "3. String:"
      ],
      "metadata": {
        "id": "w45q9QZVuKz2"
      }
    },
    {
      "cell_type": "code",
      "source": [
        "\n",
        "# str: \"Hello World!!!\", \"Python Programming\"\n",
        "\n",
        "str1 = 'hello javatpoint' #string str1\n",
        "str2 = ' how are you' #string str2\n",
        "print (str1[0:2]) #printing first two character using slice operator\n",
        "print (str1[4]) #printing 4th character of the string\n",
        "print (str1*2) #printing the string twice\n",
        "print (str1 + str2) #printing the concatenation of str1 and str2"
      ],
      "metadata": {
        "colab": {
          "base_uri": "https://localhost:8080/"
        },
        "id": "7H9CNeeSuKVq",
        "outputId": "dfe5c735-39f5-4768-b74f-30b23e52dedc"
      },
      "execution_count": null,
      "outputs": [
        {
          "output_type": "stream",
          "name": "stdout",
          "text": [
            "he\n",
            "o\n",
            "hello javatpointhello javatpoint\n",
            "hello javatpoint how are you\n"
          ]
        }
      ]
    },
    {
      "cell_type": "markdown",
      "source": [
        "4. Sequence data types:\n",
        "1. list\n",
        "2. tuples.\n",
        "3. list.\n"
      ],
      "metadata": {
        "id": "SnnV-Ggeucwj"
      }
    },
    {
      "cell_type": "code",
      "source": [
        "list1 = [8, 2.3, [-4, 5], [\"apple\", \"banana\"]]\n",
        "print(list1)"
      ],
      "metadata": {
        "colab": {
          "base_uri": "https://localhost:8080/"
        },
        "id": "_EMwONsHuZ3o",
        "outputId": "e182f5ed-bbff-40ff-aea2-8a7e5f4c5b74"
      },
      "execution_count": null,
      "outputs": [
        {
          "output_type": "stream",
          "name": "stdout",
          "text": [
            "[8, 2.3, [-4, 5], ['apple', 'banana']]\n"
          ]
        }
      ]
    },
    {
      "cell_type": "code",
      "source": [
        "tuples1 = ((\"parrot\", \"swayam\"), (\"lion\", \"tiger\"))\n",
        "print(tuples1)"
      ],
      "metadata": {
        "colab": {
          "base_uri": "https://localhost:8080/"
        },
        "id": "Q5HPR3riu9QF",
        "outputId": "a13357dd-170c-403f-ce55-27101296a174"
      },
      "execution_count": null,
      "outputs": [
        {
          "output_type": "stream",
          "name": "stdout",
          "text": [
            "(('parrot', 'swayam'), ('lion', 'tiger'))\n"
          ]
        }
      ]
    },
    {
      "cell_type": "code",
      "source": [
        "string1 = \"swayam\"\n",
        "print(string1)\n",
        "print(string1[0:3])\n",
        "if \"sw\" in string1:\n",
        "  print(\"yes\")"
      ],
      "metadata": {
        "colab": {
          "base_uri": "https://localhost:8080/"
        },
        "id": "ZSGxBS1VvLB1",
        "outputId": "8d426352-a273-41fe-e647-85e81e27ecd5"
      },
      "execution_count": null,
      "outputs": [
        {
          "output_type": "stream",
          "name": "stdout",
          "text": [
            "swayam\n",
            "swa\n",
            "yes\n"
          ]
        }
      ]
    },
    {
      "cell_type": "markdown",
      "source": [
        "5. Dictionary:"
      ],
      "metadata": {
        "id": "WM6vW-Sjvafs"
      }
    },
    {
      "cell_type": "code",
      "source": [
        "dict1 = {\"name\": \"sakshi\", \"age\":20, \"canVote\":True}\n",
        "print(dict1)"
      ],
      "metadata": {
        "colab": {
          "base_uri": "https://localhost:8080/"
        },
        "id": "zjiNy9XWvaTM",
        "outputId": "d5a35019-7196-4af4-8a65-323e64c05605"
      },
      "execution_count": null,
      "outputs": [
        {
          "output_type": "stream",
          "name": "stdout",
          "text": [
            "{'name': 'sakshi', 'age': 20, 'canVote': True}\n"
          ]
        }
      ]
    },
    {
      "cell_type": "code",
      "source": [
        "print(dict1['name'])"
      ],
      "metadata": {
        "colab": {
          "base_uri": "https://localhost:8080/"
        },
        "id": "QKLj_jpHwhNB",
        "outputId": "f11118c4-2c2d-45e7-ffbb-02a941b80526"
      },
      "execution_count": null,
      "outputs": [
        {
          "output_type": "stream",
          "name": "stdout",
          "text": [
            "sakshi\n"
          ]
        }
      ]
    },
    {
      "cell_type": "code",
      "source": [
        "print(dict1['age'])"
      ],
      "metadata": {
        "colab": {
          "base_uri": "https://localhost:8080/"
        },
        "id": "t296TnyLwp6T",
        "outputId": "c01e288f-76a6-4465-cfbb-fb01eee7ec5b"
      },
      "execution_count": null,
      "outputs": [
        {
          "output_type": "stream",
          "name": "stdout",
          "text": [
            "20\n"
          ]
        }
      ]
    },
    {
      "cell_type": "markdown",
      "source": [
        "5. Sets"
      ],
      "metadata": {
        "id": "Rw8iDX21w5H7"
      }
    },
    {
      "cell_type": "code",
      "source": [
        "my_set = {1,2,3}\n",
        "my_set2 = {4, 5, 6}\n",
        "my_set.add(4)\n",
        "my_set.remove(2)\n",
        "print(3 in my_set)\n",
        "\n",
        "print(my_set.intersection(my_set2))"
      ],
      "metadata": {
        "colab": {
          "base_uri": "https://localhost:8080/"
        },
        "id": "fTiZUhxPvYH3",
        "outputId": "dea3272e-8278-4d0e-e76a-9c75f5a6d4fc"
      },
      "execution_count": null,
      "outputs": [
        {
          "output_type": "stream",
          "name": "stdout",
          "text": [
            "True\n",
            "{4}\n"
          ]
        }
      ]
    },
    {
      "cell_type": "markdown",
      "source": [
        "# Type casting:"
      ],
      "metadata": {
        "id": "NyUAKvnEyyfj"
      }
    },
    {
      "cell_type": "markdown",
      "source": [
        "1. explicit type casting:"
      ],
      "metadata": {
        "id": "Pm_MKreEy6T3"
      }
    },
    {
      "cell_type": "code",
      "source": [
        "string = \"15\"\n",
        "number = 7\n",
        "string_number = int(string) #throws an error if the string is not a valid integer\n",
        "sum= number + string_number\n",
        "print(\"The Sum of both the numbers is: \", sum)"
      ],
      "metadata": {
        "colab": {
          "base_uri": "https://localhost:8080/"
        },
        "id": "6jp9jX6xy1JJ",
        "outputId": "e9a136e3-6045-454a-f672-d1ccc8768932"
      },
      "execution_count": null,
      "outputs": [
        {
          "output_type": "stream",
          "name": "stdout",
          "text": [
            "The Sum of both the numbers is:  22\n"
          ]
        }
      ]
    },
    {
      "cell_type": "markdown",
      "source": [
        "2. Implicit type casting:"
      ],
      "metadata": {
        "id": "yFoFhu74y_sX"
      }
    },
    {
      "cell_type": "code",
      "source": [
        "a = 7\n",
        "print(type(a))\n",
        "\n",
        "b = 3.0\n",
        "print(type(b))\n",
        "\n",
        "c = a+b\n",
        "print(c)\n",
        "print(type(c))"
      ],
      "metadata": {
        "colab": {
          "base_uri": "https://localhost:8080/"
        },
        "id": "U6W-Q_PuzGRu",
        "outputId": "26628c72-00fb-47e6-868a-e4e33fee91be"
      },
      "execution_count": null,
      "outputs": [
        {
          "output_type": "stream",
          "name": "stdout",
          "text": [
            "<class 'int'>\n",
            "<class 'float'>\n",
            "10.0\n",
            "<class 'float'>\n"
          ]
        }
      ]
    },
    {
      "cell_type": "markdown",
      "source": [
        "# Slicing"
      ],
      "metadata": {
        "id": "r_K2cK9_z5nJ"
      }
    },
    {
      "cell_type": "code",
      "source": [
        "a = \"nitish!!!!\"\n",
        "print(a)\n",
        "print(len(a))\n",
        "print(a.upper())\n",
        "print(a.lower())\n",
        "print(a.rstrip(\"!\")) ##it strips of !, its removes only from right sides(!) because runs start from right sides..\n",
        "print(a.replace(\"nitish\", \"Rudra\"))\n",
        "print(a.split(\" \"))\n"
      ],
      "metadata": {
        "colab": {
          "base_uri": "https://localhost:8080/"
        },
        "id": "1yDxafjLz8P4",
        "outputId": "e1bfa16f-049a-40ca-a58c-50ed16a78943"
      },
      "execution_count": null,
      "outputs": [
        {
          "output_type": "stream",
          "name": "stdout",
          "text": [
            "nitish!!!!\n",
            "10\n",
            "NITISH!!!!\n",
            "nitish!!!!\n",
            "nitish\n",
            "Rudra!!!!\n",
            "['nitish!!!!']\n"
          ]
        }
      ]
    },
    {
      "cell_type": "code",
      "source": [
        "\n",
        "str1 = \"Welcome to the Console !!!\"\n",
        "print(str1.endswith(\"to\", 4, 10))"
      ],
      "metadata": {
        "colab": {
          "base_uri": "https://localhost:8080/"
        },
        "id": "Ui6DmQqO1NZR",
        "outputId": "8a5cd538-4ae4-44ea-d36b-600b7855f4ff"
      },
      "execution_count": null,
      "outputs": [
        {
          "output_type": "stream",
          "name": "stdout",
          "text": [
            "True\n"
          ]
        }
      ]
    },
    {
      "cell_type": "code",
      "source": [
        "print(str1.swapcase())\n",
        "print(str1.title())"
      ],
      "metadata": {
        "colab": {
          "base_uri": "https://localhost:8080/"
        },
        "id": "2IeLJC-e1P5m",
        "outputId": "4ef4ed67-fbbf-4f62-f6bc-60955d40f72f"
      },
      "execution_count": null,
      "outputs": [
        {
          "output_type": "stream",
          "name": "stdout",
          "text": [
            "wELCOME TO THE cONSOLE !!!\n",
            "Welcome To The Console !!!\n"
          ]
        }
      ]
    },
    {
      "cell_type": "markdown",
      "source": [
        "# Control flow:\n"
      ],
      "metadata": {
        "id": "DUmZVSxA1pEL"
      }
    },
    {
      "cell_type": "code",
      "source": [
        "x = 5\n",
        "if x >5:\n",
        "  print(\"greater\")\n",
        "\n",
        "else:\n",
        "  print(\"lower\")"
      ],
      "metadata": {
        "colab": {
          "base_uri": "https://localhost:8080/"
        },
        "id": "A9d_sVhA1rES",
        "outputId": "48b2818b-df5b-421b-b19b-83a512804287"
      },
      "execution_count": null,
      "outputs": [
        {
          "output_type": "stream",
          "name": "stdout",
          "text": [
            "lower\n"
          ]
        }
      ]
    },
    {
      "cell_type": "code",
      "source": [
        "x = 20\n",
        "if x>5:\n",
        "  if(x%2==0):\n",
        "    print(\"X is greater than 5 and even\")\n",
        "  else:\n",
        "    print(\"x is greater than 5 and odd\")\n",
        "\n",
        "else:\n",
        "  print(\"x is lower than 5\")"
      ],
      "metadata": {
        "colab": {
          "base_uri": "https://localhost:8080/"
        },
        "id": "ATgS2btU139j",
        "outputId": "17dcf91a-6f26-496e-af50-a5d2ab0c8df5"
      },
      "execution_count": null,
      "outputs": [
        {
          "output_type": "stream",
          "name": "stdout",
          "text": [
            "X is greater than 5 and even\n"
          ]
        }
      ]
    },
    {
      "cell_type": "code",
      "source": [
        "\n",
        "\n",
        "a = int(input(\"Enter a:\\n\"))\n",
        "b = int(input(\"Enter b:\\n\"))\n",
        "\n",
        "#if a>b: print(\"A is greater than b\")\n",
        "print(\"B is greater than A\") if a<b else print(\"A is greater than B\")\n",
        "\n",
        "\n",
        "\n",
        "# Simple Python program to understand elif statement\n",
        "marks = int(input(\"Enter the marks? \"))\n",
        "# Here, we are taking an integer marks and taking input dynamically\n",
        "if marks > 85 and marks <= 100:\n",
        "# Here, we are checking the condition. If the condition is true, we will enter the block\n",
        "   print(\"Congrats ! you scored grade A ...\")\n",
        "elif marks > 60 and marks <= 85:\n",
        "# Here, we are checking the condition. If the condition is true, we will enter the block\n",
        "   print(\"You scored grade B + ...\")\n",
        "elif marks > 40 and marks <= 60:\n",
        "# Here, we are checking the condition. If the condition is true, we will enter the block\n",
        "   print(\"You scored grade B ...\")\n",
        "elif (marks > 30 and marks <= 40):\n",
        "# Here, we are checking the condition. If the condition is true, we will enter the block\n",
        "   print(\"You scored grade C ...\")\n",
        "else:\n",
        "   print(\"Sorry you are fail ?\")\n"
      ],
      "metadata": {
        "colab": {
          "base_uri": "https://localhost:8080/"
        },
        "id": "L6WL3W102xMS",
        "outputId": "30c50398-0021-4f6c-b0fc-2662e3a3257d"
      },
      "execution_count": null,
      "outputs": [
        {
          "output_type": "stream",
          "name": "stdout",
          "text": [
            "Enter a:\n",
            "23\n",
            "Enter b:\n",
            "45\n",
            "B is greater than A\n",
            "Enter the marks? 45\n",
            "You scored grade B ...\n"
          ]
        }
      ]
    },
    {
      "cell_type": "markdown",
      "source": [
        "# While functions:\n"
      ],
      "metadata": {
        "id": "yiS4kUdY3GLh"
      }
    },
    {
      "cell_type": "code",
      "source": [
        "count = 5\n",
        "while(count>0):\n",
        "  print(count)\n",
        "  count+=-1"
      ],
      "metadata": {
        "colab": {
          "base_uri": "https://localhost:8080/"
        },
        "id": "BjbfYSZX3F4y",
        "outputId": "bb8711f0-ae14-4f91-a825-a21ecb5db6be"
      },
      "execution_count": null,
      "outputs": [
        {
          "output_type": "stream",
          "name": "stdout",
          "text": [
            "5\n",
            "4\n",
            "3\n",
            "2\n",
            "1\n"
          ]
        }
      ]
    },
    {
      "cell_type": "code",
      "source": [
        "x = 5\n",
        "while(x>0):\n",
        "  print(x)\n",
        "  x = x-1\n",
        "else:\n",
        "    print(\"counter 0\")"
      ],
      "metadata": {
        "colab": {
          "base_uri": "https://localhost:8080/"
        },
        "id": "eLc2-iOg3CY1",
        "outputId": "21a06150-ac41-40a7-910c-206e0c39880d"
      },
      "execution_count": null,
      "outputs": [
        {
          "output_type": "stream",
          "name": "stdout",
          "text": [
            "5\n",
            "4\n",
            "3\n",
            "2\n",
            "1\n",
            "counter 0\n"
          ]
        }
      ]
    },
    {
      "cell_type": "code",
      "source": [
        "while True:\n",
        "  number = int(input(\"Enter a positive number: \"))\n",
        "  print(number)\n",
        "  if (not number > 0):\n",
        "    break"
      ],
      "metadata": {
        "colab": {
          "base_uri": "https://localhost:8080/"
        },
        "id": "doy8EcwQ4BxF",
        "outputId": "19e5d7c0-73d5-44b6-c9f5-b79af50b68c0"
      },
      "execution_count": null,
      "outputs": [
        {
          "output_type": "stream",
          "name": "stdout",
          "text": [
            "Enter a positive number: 10\n",
            "10\n",
            "Enter a positive number: 0\n",
            "0\n"
          ]
        }
      ]
    },
    {
      "cell_type": "code",
      "source": [
        "counter = 0\n",
        "\n",
        "while(counter < 10):\n",
        "    counter = counter + 3\n",
        "    print(\"Python loops\")\n",
        "else:\n",
        "    print(\"Code block inside the else statement\")"
      ],
      "metadata": {
        "colab": {
          "base_uri": "https://localhost:8080/"
        },
        "id": "kYZBiir64vYV",
        "outputId": "4c5b6ec8-2710-48c8-9d2b-42eaa55d34a3"
      },
      "execution_count": null,
      "outputs": [
        {
          "output_type": "stream",
          "name": "stdout",
          "text": [
            "Python loops\n",
            "Python loops\n",
            "Python loops\n",
            "Python loops\n",
            "Code block inside the else statement\n"
          ]
        }
      ]
    },
    {
      "cell_type": "markdown",
      "source": [
        " # continous:\n"
      ],
      "metadata": {
        "id": "goC8e8z95PqN"
      }
    },
    {
      "cell_type": "code",
      "source": [
        "for string in \"Python Loops\":\n",
        "  if string == \"o\" or string == \"p\" or string == \"t\":\n",
        "    continue\n",
        "\n",
        "  print('Current Letter: ',string)"
      ],
      "metadata": {
        "colab": {
          "base_uri": "https://localhost:8080/"
        },
        "id": "hjkGT8xf5SS3",
        "outputId": "b0c5ad7e-56e1-4dd4-952b-f6f59442361f"
      },
      "execution_count": null,
      "outputs": [
        {
          "output_type": "stream",
          "name": "stdout",
          "text": [
            "Current Letter:  P\n",
            "Current Letter:  y\n",
            "Current Letter:  h\n",
            "Current Letter:  n\n",
            "Current Letter:   \n",
            "Current Letter:  L\n",
            "Current Letter:  s\n"
          ]
        }
      ]
    },
    {
      "cell_type": "code",
      "source": [
        "for string in \"Python Loops\":\n",
        "  if string == \"o\" or string == \"p\" or string == \"t\":\n",
        "    break\n",
        "  print('Current Letter: ',string)"
      ],
      "metadata": {
        "colab": {
          "base_uri": "https://localhost:8080/"
        },
        "id": "tSyKTWrl6Dak",
        "outputId": "2118928b-f686-4f24-8905-0d3f74b8e5bb"
      },
      "execution_count": null,
      "outputs": [
        {
          "output_type": "stream",
          "name": "stdout",
          "text": [
            "Current Letter:  P\n",
            "Current Letter:  y\n"
          ]
        }
      ]
    }
  ]
}