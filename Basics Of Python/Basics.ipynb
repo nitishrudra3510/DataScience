{
 "cells": [
  {
   "cell_type": "code",
   "execution_count": 1,
   "id": "c87a6f84",
   "metadata": {},
   "outputs": [],
   "source": [
    "a = 10 # varibale a stores 10 which is an integer value"
   ]
  },
  {
   "cell_type": "code",
   "execution_count": 2,
   "id": "6fbea248",
   "metadata": {},
   "outputs": [
    {
     "data": {
      "text/plain": [
       "int"
      ]
     },
     "execution_count": 2,
     "metadata": {},
     "output_type": "execute_result"
    }
   ],
   "source": [
    "type(a) ## tells you the type of value stored in a"
   ]
  },
  {
   "cell_type": "markdown",
   "id": "9f534664",
   "metadata": {},
   "source": [
    "#### python is a dynamically typed language"
   ]
  },
  {
   "cell_type": "code",
   "execution_count": 2,
   "id": "4c3fb8e6",
   "metadata": {
    "tags": []
   },
   "outputs": [],
   "source": [
    "name = \"swayam\"\n",
    "value = 2.09\n",
    "boolean = True"
   ]
  },
  {
   "cell_type": "code",
   "execution_count": 3,
   "id": "8ea6a83a",
   "metadata": {
    "tags": []
   },
   "outputs": [
    {
     "name": "stdout",
     "output_type": "stream",
     "text": [
      "<class 'str'>\n",
      "<class 'float'>\n",
      "<class 'type'>\n",
      "<class 'type'>\n"
     ]
    }
   ],
   "source": [
    "print(type(name))\n",
    "print(type(value))\n",
    "print(type(bool))\n",
    "print(type(int))"
   ]
  },
  {
   "cell_type": "code",
   "execution_count": 9,
   "id": "9f16bcc3",
   "metadata": {},
   "outputs": [
    {
     "data": {
      "text/plain": [
       "1"
      ]
     },
     "execution_count": 9,
     "metadata": {},
     "output_type": "execute_result"
    }
   ],
   "source": [
    "True * True #True =1"
   ]
  },
  {
   "cell_type": "code",
   "execution_count": 10,
   "id": "97fd2aa7",
   "metadata": {},
   "outputs": [
    {
     "data": {
      "text/plain": [
       "0"
      ]
     },
     "execution_count": 10,
     "metadata": {},
     "output_type": "execute_result"
    }
   ],
   "source": [
    "True * False #False = 0"
   ]
  },
  {
   "cell_type": "code",
   "execution_count": 11,
   "id": "08701ad0",
   "metadata": {},
   "outputs": [
    {
     "data": {
      "text/plain": [
       "0.5"
      ]
     },
     "execution_count": 11,
     "metadata": {},
     "output_type": "execute_result"
    }
   ],
   "source": [
    "True /2"
   ]
  },
  {
   "cell_type": "markdown",
   "id": "304f4a41",
   "metadata": {},
   "source": [
    "#### True / False this shows ZeroDvisionError in core python but numpy gives you inf(infinty)"
   ]
  },
  {
   "cell_type": "code",
   "execution_count": 14,
   "id": "7fb2993e",
   "metadata": {},
   "outputs": [],
   "source": [
    "v = 5+8j"
   ]
  },
  {
   "cell_type": "code",
   "execution_count": 15,
   "id": "cfc3c1e3",
   "metadata": {},
   "outputs": [
    {
     "data": {
      "text/plain": [
       "complex"
      ]
     },
     "execution_count": 15,
     "metadata": {},
     "output_type": "execute_result"
    }
   ],
   "source": [
    "type(v)"
   ]
  },
  {
   "cell_type": "code",
   "execution_count": 16,
   "id": "204a8341",
   "metadata": {},
   "outputs": [
    {
     "data": {
      "text/plain": [
       "5.0"
      ]
     },
     "execution_count": 16,
     "metadata": {},
     "output_type": "execute_result"
    }
   ],
   "source": [
    "v.real ## real part"
   ]
  },
  {
   "cell_type": "code",
   "execution_count": 17,
   "id": "b748e3dd",
   "metadata": {},
   "outputs": [
    {
     "data": {
      "text/plain": [
       "8.0"
      ]
     },
     "execution_count": 17,
     "metadata": {},
     "output_type": "execute_result"
    }
   ],
   "source": [
    "v.imag ## imaginary part"
   ]
  },
  {
   "cell_type": "code",
   "execution_count": 23,
   "id": "3b072786",
   "metadata": {},
   "outputs": [
    {
     "data": {
      "text/plain": [
       "(5+8j)"
      ]
     },
     "execution_count": 23,
     "metadata": {},
     "output_type": "execute_result"
    }
   ],
   "source": [
    "v"
   ]
  },
  {
   "cell_type": "markdown",
   "id": "de7bc46f",
   "metadata": {},
   "source": [
    "### ----------------String formatting--------------"
   ]
  },
  {
   "cell_type": "markdown",
   "id": "2d8e254f-9449-44a0-86e1-b36eac806cb1",
   "metadata": {},
   "source": [
    "### string can have index  and can also be sliced"
   ]
  },
  {
   "cell_type": "code",
   "execution_count": 1,
   "id": "534973ea",
   "metadata": {
    "tags": []
   },
   "outputs": [],
   "source": [
    "name = \"swayam\""
   ]
  },
  {
   "cell_type": "code",
   "execution_count": null,
   "id": "5aa4e1d4",
   "metadata": {},
   "outputs": [
    {
     "ename": "",
     "evalue": "",
     "output_type": "error",
     "traceback": [
      "\u001b[1;31mRunning cells with '/usr/local/bin/python3' requires the ipykernel package.\n",
      "\u001b[1;31mRun the following command to install 'ipykernel' into the Python environment. \n",
      "\u001b[1;31mCommand: '/usr/local/bin/python3 -m pip install ipykernel -U --user --force-reinstall'"
     ]
    }
   ],
   "source": [
    "name[0]"
   ]
  },
  {
   "cell_type": "code",
   "execution_count": 6,
   "id": "278f2622",
   "metadata": {},
   "outputs": [
    {
     "data": {
      "text/plain": [
       "'m'"
      ]
     },
     "execution_count": 6,
     "metadata": {},
     "output_type": "execute_result"
    }
   ],
   "source": [
    "name[-1]"
   ]
  },
  {
   "cell_type": "code",
   "execution_count": 7,
   "id": "14de22c9",
   "metadata": {},
   "outputs": [
    {
     "data": {
      "text/plain": [
       "'a'"
      ]
     },
     "execution_count": 7,
     "metadata": {},
     "output_type": "execute_result"
    }
   ],
   "source": [
    "name[2]"
   ]
  },
  {
   "cell_type": "code",
   "execution_count": 8,
   "id": "6d5f58b5",
   "metadata": {},
   "outputs": [
    {
     "data": {
      "text/plain": [
       "'y'"
      ]
     },
     "execution_count": 8,
     "metadata": {},
     "output_type": "execute_result"
    }
   ],
   "source": [
    "name[-3]"
   ]
  },
  {
   "cell_type": "code",
   "execution_count": 9,
   "id": "5e6ddb47",
   "metadata": {},
   "outputs": [
    {
     "data": {
      "text/plain": [
       "''"
      ]
     },
     "execution_count": 9,
     "metadata": {},
     "output_type": "execute_result"
    }
   ],
   "source": [
    "name[2:1]   #Get the characters from position 2 to position 1 (not included):"
   ]
  },
  {
   "cell_type": "code",
   "execution_count": 10,
   "id": "86092ae2",
   "metadata": {},
   "outputs": [
    {
     "data": {
      "text/plain": [
       "'way'"
      ]
     },
     "execution_count": 10,
     "metadata": {},
     "output_type": "execute_result"
    }
   ],
   "source": [
    "name[1:4]#n-1"
   ]
  },
  {
   "cell_type": "code",
   "execution_count": 20,
   "id": "1f75389b",
   "metadata": {
    "tags": []
   },
   "outputs": [
    {
     "ename": "ValueError",
     "evalue": "slice step cannot be zero",
     "output_type": "error",
     "traceback": [
      "\u001b[1;31m---------------------------------------------------------------------------\u001b[0m",
      "\u001b[1;31mValueError\u001b[0m                                Traceback (most recent call last)",
      "Cell \u001b[1;32mIn[20], line 1\u001b[0m\n\u001b[1;32m----> 1\u001b[0m name[\u001b[38;5;241m2\u001b[39m::\u001b[38;5;241m0\u001b[39m]\n",
      "\u001b[1;31mValueError\u001b[0m: slice step cannot be zero"
     ]
    }
   ],
   "source": [
    "name[2::0]"
   ]
  },
  {
   "cell_type": "code",
   "execution_count": 30,
   "id": "d913e393",
   "metadata": {},
   "outputs": [
    {
     "data": {
      "text/plain": [
       "'sw'"
      ]
     },
     "execution_count": 30,
     "metadata": {},
     "output_type": "execute_result"
    }
   ],
   "source": [
    "name[0:2]"
   ]
  },
  {
   "cell_type": "code",
   "execution_count": 37,
   "id": "e40bda71",
   "metadata": {},
   "outputs": [
    {
     "data": {
      "text/plain": [
       "'wym'"
      ]
     },
     "execution_count": 37,
     "metadata": {},
     "output_type": "execute_result"
    }
   ],
   "source": [
    "name[1::2] ## [start : stop : steps]"
   ]
  },
  {
   "cell_type": "code",
   "execution_count": 38,
   "id": "b55c56de",
   "metadata": {},
   "outputs": [
    {
     "data": {
      "text/plain": [
       "'saa'"
      ]
     },
     "execution_count": 38,
     "metadata": {},
     "output_type": "execute_result"
    }
   ],
   "source": [
    "name[::2]"
   ]
  },
  {
   "cell_type": "code",
   "execution_count": 40,
   "id": "9c4b0ec7",
   "metadata": {},
   "outputs": [
    {
     "data": {
      "text/plain": [
       "6"
      ]
     },
     "execution_count": 40,
     "metadata": {},
     "output_type": "execute_result"
    }
   ],
   "source": [
    "len(name)"
   ]
  },
  {
   "cell_type": "markdown",
   "id": "d2456e18",
   "metadata": {},
   "source": [
    "#### the slice steps can never be zero"
   ]
  },
  {
   "cell_type": "markdown",
   "id": "f3a28eb8",
   "metadata": {},
   "source": [
    "#### -----------------Reversing a string-----------------"
   ]
  },
  {
   "cell_type": "code",
   "execution_count": 42,
   "id": "800685ea",
   "metadata": {},
   "outputs": [
    {
     "data": {
      "text/plain": [
       "'mayaws'"
      ]
     },
     "execution_count": 42,
     "metadata": {},
     "output_type": "execute_result"
    }
   ],
   "source": [
    "name[::-1]"
   ]
  },
  {
   "cell_type": "code",
   "execution_count": 44,
   "id": "cb19a12f",
   "metadata": {},
   "outputs": [
    {
     "data": {
      "text/plain": [
       "'ma'"
      ]
     },
     "execution_count": 44,
     "metadata": {},
     "output_type": "execute_result"
    }
   ],
   "source": [
    "name[-1:-3:-1]"
   ]
  },
  {
   "cell_type": "code",
   "execution_count": 45,
   "id": "780b210b",
   "metadata": {},
   "outputs": [
    {
     "data": {
      "text/plain": [
       "''"
      ]
     },
     "execution_count": 45,
     "metadata": {},
     "output_type": "execute_result"
    }
   ],
   "source": [
    "name[2:7:-1]"
   ]
  },
  {
   "cell_type": "code",
   "execution_count": 47,
   "id": "e0255a4b",
   "metadata": {},
   "outputs": [
    {
     "data": {
      "text/plain": [
       "'mayaw'"
      ]
     },
     "execution_count": 47,
     "metadata": {},
     "output_type": "execute_result"
    }
   ],
   "source": [
    " name[6:0:-1]"
   ]
  },
  {
   "cell_type": "code",
   "execution_count": 48,
   "id": "6b8d1c3a",
   "metadata": {},
   "outputs": [
    {
     "data": {
      "text/plain": [
       "'swayam'"
      ]
     },
     "execution_count": 48,
     "metadata": {},
     "output_type": "execute_result"
    }
   ],
   "source": [
    "name[::]"
   ]
  },
  {
   "cell_type": "code",
   "execution_count": 49,
   "id": "1e998b98",
   "metadata": {},
   "outputs": [
    {
     "data": {
      "text/plain": [
       "'myw'"
      ]
     },
     "execution_count": 49,
     "metadata": {},
     "output_type": "execute_result"
    }
   ],
   "source": [
    "name[::-2]"
   ]
  },
  {
   "cell_type": "code",
   "execution_count": 21,
   "id": "8b10ea6d-ff00-46c5-a2fa-4f3dfef985df",
   "metadata": {
    "tags": []
   },
   "outputs": [],
   "source": [
    "name=\" sadfsfd \""
   ]
  },
  {
   "cell_type": "code",
   "execution_count": 25,
   "id": "b3779ba0-193a-4544-aa1d-fedc174f7477",
   "metadata": {
    "tags": []
   },
   "outputs": [
    {
     "data": {
      "text/plain": [
       "'sadfsfd'"
      ]
     },
     "execution_count": 25,
     "metadata": {},
     "output_type": "execute_result"
    }
   ],
   "source": [
    "name.strip()"
   ]
  },
  {
   "cell_type": "code",
   "execution_count": null,
   "id": "15d4194c-3515-4e5c-bd0a-acadc03bb632",
   "metadata": {},
   "outputs": [],
   "source": []
  },
  {
   "cell_type": "code",
   "execution_count": 50,
   "id": "9e3750a6",
   "metadata": {},
   "outputs": [
    {
     "data": {
      "text/plain": [
       "'mayaws'"
      ]
     },
     "execution_count": 50,
     "metadata": {},
     "output_type": "execute_result"
    }
   ],
   "source": [
    "name[::-1]"
   ]
  },
  {
   "cell_type": "code",
   "execution_count": 52,
   "id": "74a93e05",
   "metadata": {},
   "outputs": [
    {
     "data": {
      "text/plain": [
       "0"
      ]
     },
     "execution_count": 52,
     "metadata": {},
     "output_type": "execute_result"
    }
   ],
   "source": [
    "name.find('s') #it returns the index value"
   ]
  },
  {
   "cell_type": "code",
   "execution_count": 54,
   "id": "9c33def1",
   "metadata": {},
   "outputs": [
    {
     "data": {
      "text/plain": [
       "3"
      ]
     },
     "execution_count": 54,
     "metadata": {},
     "output_type": "execute_result"
    }
   ],
   "source": [
    "name.find(\"ya\")"
   ]
  },
  {
   "cell_type": "code",
   "execution_count": 57,
   "id": "496c0bcf",
   "metadata": {},
   "outputs": [
    {
     "data": {
      "text/plain": [
       "-1"
      ]
     },
     "execution_count": 57,
     "metadata": {},
     "output_type": "execute_result"
    }
   ],
   "source": [
    "name.find(\"S\") ## because python is case sensitive and if ti doesnot find anything then is gives default value -1"
   ]
  },
  {
   "cell_type": "code",
   "execution_count": 58,
   "id": "a709a495",
   "metadata": {},
   "outputs": [
    {
     "data": {
      "text/plain": [
       "2"
      ]
     },
     "execution_count": 58,
     "metadata": {},
     "output_type": "execute_result"
    }
   ],
   "source": [
    "name.count(\"a\")"
   ]
  },
  {
   "cell_type": "code",
   "execution_count": 59,
   "id": "0ae1e24b",
   "metadata": {},
   "outputs": [
    {
     "data": {
      "text/plain": [
       "'SWAYAM'"
      ]
     },
     "execution_count": 59,
     "metadata": {},
     "output_type": "execute_result"
    }
   ],
   "source": [
    "name.upper()"
   ]
  },
  {
   "cell_type": "code",
   "execution_count": 60,
   "id": "7566cdf1",
   "metadata": {},
   "outputs": [
    {
     "data": {
      "text/plain": [
       "'swayam'"
      ]
     },
     "execution_count": 60,
     "metadata": {},
     "output_type": "execute_result"
    }
   ],
   "source": [
    "name"
   ]
  },
  {
   "cell_type": "code",
   "execution_count": 62,
   "id": "e2791a50",
   "metadata": {},
   "outputs": [
    {
     "data": {
      "text/plain": [
       "'SWAYAM'"
      ]
     },
     "execution_count": 62,
     "metadata": {},
     "output_type": "execute_result"
    }
   ],
   "source": [
    "name.swapcase()"
   ]
  },
  {
   "cell_type": "code",
   "execution_count": 63,
   "id": "446729f7",
   "metadata": {},
   "outputs": [
    {
     "data": {
      "text/plain": [
       "'Swayam'"
      ]
     },
     "execution_count": 63,
     "metadata": {},
     "output_type": "execute_result"
    }
   ],
   "source": [
    "name.title()"
   ]
  },
  {
   "cell_type": "code",
   "execution_count": 64,
   "id": "3b5866c4",
   "metadata": {},
   "outputs": [],
   "source": [
    "name = \"My name is swayam\""
   ]
  },
  {
   "cell_type": "code",
   "execution_count": 65,
   "id": "0de4811d",
   "metadata": {},
   "outputs": [
    {
     "data": {
      "text/plain": [
       "'My name is swayam'"
      ]
     },
     "execution_count": 65,
     "metadata": {},
     "output_type": "execute_result"
    }
   ],
   "source": [
    "name.capitalize()"
   ]
  },
  {
   "cell_type": "code",
   "execution_count": 66,
   "id": "827673b0",
   "metadata": {},
   "outputs": [
    {
     "data": {
      "text/plain": [
       "'My name is swayam1'"
      ]
     },
     "execution_count": 66,
     "metadata": {},
     "output_type": "execute_result"
    }
   ],
   "source": [
    "name + \"1\""
   ]
  },
  {
   "cell_type": "code",
   "execution_count": 1,
   "id": "9cec8a06",
   "metadata": {
    "tags": []
   },
   "outputs": [
    {
     "data": {
      "text/plain": [
       "'swayam swayam swayam swayam '"
      ]
     },
     "execution_count": 1,
     "metadata": {},
     "output_type": "execute_result"
    }
   ],
   "source": [
    "\"swayam \" *4"
   ]
  },
  {
   "cell_type": "code",
   "execution_count": 69,
   "id": "01ad8972",
   "metadata": {},
   "outputs": [
    {
     "data": {
      "text/plain": [
       "'My name is swayamMy name is swayamMy name is swayamMy name is swayam'"
      ]
     },
     "execution_count": 69,
     "metadata": {},
     "output_type": "execute_result"
    }
   ],
   "source": [
    "name*4"
   ]
  },
  {
   "cell_type": "code",
   "execution_count": 71,
   "id": "00ed9046",
   "metadata": {},
   "outputs": [
    {
     "data": {
      "text/plain": [
       "\"don't copy anything\""
      ]
     },
     "execution_count": 71,
     "metadata": {},
     "output_type": "execute_result"
    }
   ],
   "source": [
    "'don\\'t copy anything' #w/o the backslash this string will give error"
   ]
  },
  {
   "cell_type": "markdown",
   "id": "71e3ef29-1f13-4434-b1ba-e4f85755e0a4",
   "metadata": {
    "tags": []
   },
   "source": []
  },
  {
   "cell_type": "code",
   "execution_count": 3,
   "id": "5d46e77b-aa5f-4e5f-8827-56aeecf4327d",
   "metadata": {
    "tags": []
   },
   "outputs": [],
   "source": [
    "a=1000"
   ]
  },
  {
   "cell_type": "code",
   "execution_count": 4,
   "id": "fdaba159-37cd-44b4-a24d-c3e881940c8b",
   "metadata": {
    "tags": []
   },
   "outputs": [
    {
     "data": {
      "text/plain": [
       "int"
      ]
     },
     "execution_count": 4,
     "metadata": {},
     "output_type": "execute_result"
    }
   ],
   "source": [
    "type(a)"
   ]
  },
  {
   "cell_type": "code",
   "execution_count": 5,
   "id": "3765e029-f490-4113-894b-e26cad4c2169",
   "metadata": {
    "tags": []
   },
   "outputs": [
    {
     "name": "stdout",
     "output_type": "stream",
     "text": [
      "<class 'int'>\n"
     ]
    }
   ],
   "source": [
    "print(type(a))"
   ]
  },
  {
   "cell_type": "code",
   "execution_count": 6,
   "id": "dd39acce-47f9-47c7-a1d9-633681a09687",
   "metadata": {
    "tags": []
   },
   "outputs": [
    {
     "name": "stdout",
     "output_type": "stream",
     "text": [
      "1000\n"
     ]
    }
   ],
   "source": [
    "print(a)"
   ]
  },
  {
   "cell_type": "code",
   "execution_count": 7,
   "id": "def389a5-8997-4a4e-98be-1ea7784b889e",
   "metadata": {
    "tags": []
   },
   "outputs": [
    {
     "data": {
      "text/plain": [
       "1000"
      ]
     },
     "execution_count": 7,
     "metadata": {},
     "output_type": "execute_result"
    }
   ],
   "source": [
    "a"
   ]
  },
  {
   "cell_type": "code",
   "execution_count": 8,
   "id": "478d94ee-4b9b-4e31-b577-e1b436d70aab",
   "metadata": {
    "tags": []
   },
   "outputs": [],
   "source": [
    "var=\"swayam\""
   ]
  },
  {
   "cell_type": "code",
   "execution_count": 9,
   "id": "7769d25b-030e-41e6-a4f8-34d3530d8a34",
   "metadata": {
    "tags": []
   },
   "outputs": [
    {
     "data": {
      "text/plain": [
       "'swayam'"
      ]
     },
     "execution_count": 9,
     "metadata": {},
     "output_type": "execute_result"
    }
   ],
   "source": [
    "var"
   ]
  },
  {
   "cell_type": "code",
   "execution_count": 12,
   "id": "1bea372c-99da-44df-817e-e9a5e5cbe489",
   "metadata": {
    "tags": []
   },
   "outputs": [
    {
     "ename": "ZeroDivisionError",
     "evalue": "division by zero",
     "output_type": "error",
     "traceback": [
      "\u001b[1;31m---------------------------------------------------------------------------\u001b[0m",
      "\u001b[1;31mZeroDivisionError\u001b[0m                         Traceback (most recent call last)",
      "Cell \u001b[1;32mIn[12], line 1\u001b[0m\n\u001b[1;32m----> 1\u001b[0m \u001b[38;5;28;01mTrue\u001b[39;00m\u001b[38;5;241m/\u001b[39m\u001b[38;5;28;01mFalse\u001b[39;00m\n",
      "\u001b[1;31mZeroDivisionError\u001b[0m: division by zero"
     ]
    }
   ],
   "source": [
    "True/False"
   ]
  },
  {
   "cell_type": "code",
   "execution_count": 13,
   "id": "fca9bdef-013a-4bfd-89a1-6a0448dd0539",
   "metadata": {
    "tags": []
   },
   "outputs": [],
   "source": [
    "v=6+8j"
   ]
  },
  {
   "cell_type": "code",
   "execution_count": 14,
   "id": "31f7b0d6-4a86-4a82-98bf-47aae1f24f3c",
   "metadata": {
    "tags": []
   },
   "outputs": [
    {
     "data": {
      "text/plain": [
       "complex"
      ]
     },
     "execution_count": 14,
     "metadata": {},
     "output_type": "execute_result"
    }
   ],
   "source": [
    "type(v)"
   ]
  },
  {
   "cell_type": "code",
   "execution_count": 15,
   "id": "e5dd2f89-51bb-473e-a339-a445777af952",
   "metadata": {
    "tags": []
   },
   "outputs": [
    {
     "name": "stdout",
     "output_type": "stream",
     "text": [
      "<class 'complex'>\n"
     ]
    }
   ],
   "source": [
    "print(type(v))"
   ]
  },
  {
   "cell_type": "code",
   "execution_count": 17,
   "id": "650ba0f1-c9de-4831-8a9e-440844dfb9ea",
   "metadata": {
    "tags": []
   },
   "outputs": [
    {
     "data": {
      "text/plain": [
       "6.0"
      ]
     },
     "execution_count": 17,
     "metadata": {},
     "output_type": "execute_result"
    }
   ],
   "source": [
    "v.real"
   ]
  },
  {
   "cell_type": "code",
   "execution_count": 18,
   "id": "6e1ca7e7-36c6-4240-914c-ace2ffe85a21",
   "metadata": {
    "tags": []
   },
   "outputs": [
    {
     "data": {
      "text/plain": [
       "8.0"
      ]
     },
     "execution_count": 18,
     "metadata": {},
     "output_type": "execute_result"
    }
   ],
   "source": [
    "v.imag"
   ]
  },
  {
   "cell_type": "code",
   "execution_count": null,
   "id": "bc36ecb9-8ae4-4867-ba09-73ada4b4105b",
   "metadata": {},
   "outputs": [],
   "source": []
  }
 ],
 "metadata": {
  "kernelspec": {
   "display_name": "Python 3 (ipykernel)",
   "language": "python",
   "name": "python3"
  },
  "language_info": {
   "codemirror_mode": {
    "name": "ipython",
    "version": 3
   },
   "file_extension": ".py",
   "mimetype": "text/x-python",
   "name": "python",
   "nbconvert_exporter": "python",
   "pygments_lexer": "ipython3",
   "version": "3.12.0"
  }
 },
 "nbformat": 4,
 "nbformat_minor": 5
}
