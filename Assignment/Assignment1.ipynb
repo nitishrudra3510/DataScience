{
  "nbformat": 4,
  "nbformat_minor": 0,
  "metadata": {
    "colab": {
      "provenance": []
    },
    "kernelspec": {
      "name": "python3",
      "display_name": "Python 3"
    },
    "language_info": {
      "name": "python"
    }
  },
  "cells": [
    {
      "cell_type": "markdown",
      "source": [
        "# Q1. Create a base class Shape with methods area and perimeter. Then create two derived classes Rectangle and Circle. Override the methods to calculate the area and perimeter for each shape. Demonstrate polymorphism by creating a list of shapes and computing their area and perimeter.\n",
        "# Requirements:\n",
        "# 1. Implement the Shape base class with methods area and perimeter.\n",
        "# 2. Implement the Rectangle and Circle classes with overridden methods.\n",
        "# 3. Create a list containing both Rectangle and Circle objects and demonstrate polymorphism by iterating through the list and printing the area and perimeter of each shape."
      ],
      "metadata": {
        "id": "znpeFr4gw_ez"
      }
    },
    {
      "cell_type": "code",
      "source": [
        "import math\n",
        "\n",
        "class Shape:\n",
        "  def area(self):\n",
        "    pass\n",
        "\n",
        "  def perimeter(self):\n",
        "    pass\n",
        "\n",
        "\n",
        "# Derived class: Rectangle\n",
        "class Rectangle(Shape):\n",
        "  def __init__(self, breadth, length):\n",
        "    self.breadth = breadth\n",
        "    self.length=length\n",
        "\n",
        "  def area(self):\n",
        "    return self.breadth*self.length\n",
        "\n",
        "  def perimeter(self):\n",
        "    return 2*(self.breadth+self.length)\n",
        "\n",
        "# derived class : Circle\n",
        "class Circle(Shape):\n",
        "  def __init__(self, radius):\n",
        "    self.radius = radius\n",
        "\n",
        "  def area(self):\n",
        "    return math.pi*self.radius*self.radius\n",
        "\n",
        "  def perimeter(self):\n",
        "    return 2 * math.pi*self.radius\n",
        "\n",
        "\n",
        "# craete objects of rectangle and circle..\n",
        "rect1 = Rectangle(2,3)\n",
        "circle1 = Circle(1)\n",
        "rect2 = Rectangle(5, 10)\n",
        "circle2 = Circle(2)\n",
        "\n",
        "# list of shape objects\n",
        "shapes = [rect1, circle1, rect2, circle2]\n",
        "\n",
        "\n",
        "# demostrate polymorphsim\n",
        "\n",
        "for x in shapes:\n",
        "  print(f\"Shape : {x.__class__.__name__}\") #it runs the class name of the current object\n",
        "  print(f\"Area : {x.area()}\")\n",
        "  print(f\"Perimeter : {x.perimeter()}\")\n",
        "  print()"
      ],
      "metadata": {
        "colab": {
          "base_uri": "https://localhost:8080/"
        },
        "id": "c65ctkFbxMs2",
        "outputId": "f7cf19f5-3315-4262-bffa-aa2927146f49"
      },
      "execution_count": null,
      "outputs": [
        {
          "output_type": "stream",
          "name": "stdout",
          "text": [
            "Shape : Rectangle\n",
            "Area : 6\n",
            "Perimeter : 10\n",
            "\n",
            "Shape : Circle\n",
            "Area : 3.141592653589793\n",
            "Perimeter : 6.283185307179586\n",
            "\n",
            "Shape : Rectangle\n",
            "Area : 50\n",
            "Perimeter : 30\n",
            "\n",
            "Shape : Circle\n",
            "Area : 12.566370614359172\n",
            "Perimeter : 12.566370614359172\n",
            "\n"
          ]
        }
      ]
    },
    {
      "cell_type": "code",
      "source": [],
      "metadata": {
        "id": "-QpRIF_RyzmH"
      },
      "execution_count": null,
      "outputs": []
    },
    {
      "cell_type": "markdown",
      "source": [
        "# Q2. You are given a list of tuples where each tuple contains the name of a student and their scores in three subjects. Implement a function rank_students to calculate the total score for each student, sort the students based on their total score in descending order, and return a ranked list.\n",
        "# Requirements:\n",
        "# 1. Define the list of tuples with at least 5 students.\n",
        "# 2. Implement the rank_students function.\n",
        "# 3. Sort the students based on their total score. 4. Print the ranked list."
      ],
      "metadata": {
        "id": "DRpKThElyz-2"
      }
    },
    {
      "cell_type": "code",
      "source": [
        "# List of tuples containing student names and their scores in three subjects\n",
        "students = [\n",
        "    (\"Alice\", 85, 90, 88),\n",
        "    (\"Bob\", 78, 82, 80),\n",
        "    (\"Charlie\", 92, 88, 94),\n",
        "    (\"David\", 70, 75, 72),\n",
        "    (\"Eva\", 88, 91, 85)\n",
        "]\n",
        "\n",
        "# Function to rank students based on their total score\n",
        "def rank_students(students):\n",
        "    # store the total_marks of students\n",
        "    students_with_total = []\n",
        "\n",
        "    # calculate the total_marks of students\n",
        "    for student in students:\n",
        "        name = student[0]\n",
        "        total_score = student[1] + student[2] + student[3]\n",
        "        students_with_total.append((name, total_score))\n",
        "\n",
        "    # Sort the students based on their total score\n",
        "    for i in range(len(students_with_total)):\n",
        "        for j in range(i + 1, len(students_with_total)):\n",
        "            if students_with_total[i][1] < students_with_total[j][1]:\n",
        "                students_with_total[i], students_with_total[j] = students_with_total[j], students_with_total[i]\n",
        "\n",
        "    return students_with_total\n",
        "\n",
        "# Rank the students\n",
        "ranked_students = rank_students(students)\n",
        "\n",
        "# Print the ranked list\n",
        "print(\"Ranked students based on their total scores:\")\n",
        "for rank, (name, total_score) in enumerate(ranked_students, start=1):\n",
        "    print(f\"{rank}. {name}: {total_score}\")\n",
        "\n"
      ],
      "metadata": {
        "colab": {
          "base_uri": "https://localhost:8080/"
        },
        "id": "w1e602nPy-Ik",
        "outputId": "8615101a-b9fa-4682-c11e-6257d017aed4"
      },
      "execution_count": null,
      "outputs": [
        {
          "output_type": "stream",
          "name": "stdout",
          "text": [
            "Ranked students based on their total scores:\n",
            "1. Charlie: 274\n",
            "2. Eva: 264\n",
            "3. Alice: 263\n",
            "4. Bob: 240\n",
            "5. David: 217\n"
          ]
        }
      ]
    },
    {
      "cell_type": "code",
      "source": [],
      "metadata": {
        "id": "J5JldHYS9p2F"
      },
      "execution_count": null,
      "outputs": []
    },
    {
      "cell_type": "markdown",
      "source": [
        "# Q3. Create a class Employee with the following specifications:\n",
        "# • Attributes: name, employee_id, and salary.\n",
        "# Methods:\n",
        "# 1. __init__ to initialize the attributes.\n",
        "# 2. display_employee_info to print the employee details.\n",
        "# 3. give_raise to increase the salary by a given percentage.\n",
        "# Requirements:\n",
        "# 1. Create an Employee object with name \"Alice\", employee_id \"E123\", and salary 50000.\n",
        "# 2. Display the employee information.\n",
        "#  3. Give a 10% raise to the employee and display the updated information."
      ],
      "metadata": {
        "id": "XxpcJOlI9qlu"
      }
    },
    {
      "cell_type": "code",
      "source": [
        "class Employee:\n",
        "  def __init__(self, Name, Emp_Id, Salary):\n",
        "    self.Name = Name\n",
        "    self.Emp_Id = Emp_Id\n",
        "    self.Salary = Salary\n",
        "\n",
        "  def display_employee_info(self):\n",
        "    print(\"Name : \",self.Name)\n",
        "    print(\"Emp Id : \", self.Emp_Id)\n",
        "    print(\"Salary : \", self.Salary)\n",
        "\n",
        "  def give_raise(self):\n",
        "    self.Salary *= 1.1 # increased the salary by 10%.\n",
        "\n",
        "Emp = Employee(\"Alice\", \"E123\", 50000)\n",
        "\n",
        "print(\"Before Updating Salary : \")\n",
        "Emp.display_employee_info()\n",
        "\n",
        "# update the salary\n",
        "Emp.give_raise()\n",
        "print()\n",
        "\n",
        "print(\"After Updating the Salary : \")\n",
        "Emp.display_employee_info()"
      ],
      "metadata": {
        "colab": {
          "base_uri": "https://localhost:8080/"
        },
        "id": "wlyfd3IA9poG",
        "outputId": "af3fce57-7f0a-45ec-921f-fd6c788425f7"
      },
      "execution_count": null,
      "outputs": [
        {
          "output_type": "stream",
          "name": "stdout",
          "text": [
            "Before Updating Salary : \n",
            "Name :  Alice\n",
            "Emp Id :  E123\n",
            "Salary :  50000\n",
            "\n",
            "After Updating the Salary : \n",
            "Name :  Alice\n",
            "Emp Id :  E123\n",
            "Salary :  55000.00000000001\n"
          ]
        }
      ]
    },
    {
      "cell_type": "markdown",
      "source": [],
      "metadata": {
        "id": "v2hk5YiVDtyN"
      }
    },
    {
      "cell_type": "markdown",
      "source": [
        "# Q4. Write a Python calculator program that incorporates fundamental concepts like user input handling, arithmetic operations, check invalid inputs, and a loop structure to allow continuous calculations until the user chooses to exit. Make it more interactive and use maths library for scientific calculations."
      ],
      "metadata": {
        "id": "3mfoxW9eDqLd"
      }
    },
    {
      "cell_type": "code",
      "source": [
        "# Python program for simple calculator\n",
        "\n",
        "# Function to add two numbers\n",
        "def add(num1, num2):\n",
        "    return num1 + num2\n",
        "\n",
        "# Function to subtract two numbers\n",
        "def subtract(num1, num2):\n",
        "    return num1 - num2\n",
        "\n",
        "# Function to multiply two numbers\n",
        "def multiply(num1, num2):\n",
        "    return num1 * num2\n",
        "\n",
        "# Function to divide two numbers\n",
        "def divide(num1, num2):\n",
        "    return num1 / num2\n",
        "\n",
        "while True:\n",
        "    print(\"Please select operation -\\n\" \\\n",
        "          \"1. Add\\n\" \\\n",
        "          \"2. Subtract\\n\" \\\n",
        "          \"3. Multiply\\n\" \\\n",
        "          \"4. Divide\\n\" \\\n",
        "          \"5. Exit\\n\")\n",
        "\n",
        "    # Take input from the user\n",
        "    select = int(input(\"Select operations from 1, 2, 3, 4, 5: \"))\n",
        "\n",
        "    if select == 5:\n",
        "        print(\"Exiting the program.\")\n",
        "        break\n",
        "\n",
        "    number_1 = int(input(\"Enter first number: \"))\n",
        "    number_2 = int(input(\"Enter second number: \"))\n",
        "\n",
        "    if select == 1:\n",
        "        print(number_1, \"+\", number_2, \"=\", add(number_1, number_2))\n",
        "\n",
        "    elif select == 2:\n",
        "        print(number_1, \"-\", number_2, \"=\", subtract(number_1, number_2))\n",
        "\n",
        "    elif select == 3:\n",
        "        print(number_1, \"*\", number_2, \"=\", multiply(number_1, number_2))\n",
        "\n",
        "    elif select == 4:\n",
        "        print(number_1, \"/\", number_2, \"=\", divide(number_1, number_2))\n",
        "\n",
        "    else:\n",
        "        print(\"Invalid input\")\n",
        "\n",
        "    more_operations = input(\"Do you want to perform another operation? (yes/no): \").strip().lower()\n",
        "    if more_operations != 'yes':\n",
        "        print(\"Exiting the program.\")\n",
        "        break\n"
      ],
      "metadata": {
        "colab": {
          "base_uri": "https://localhost:8080/"
        },
        "id": "H8IXIiskDsLU",
        "outputId": "f801a66d-69b5-45ba-aef1-d87dfa74c0a2"
      },
      "execution_count": null,
      "outputs": [
        {
          "output_type": "stream",
          "name": "stdout",
          "text": [
            "Please select operation -\n",
            "1. Add\n",
            "2. Subtract\n",
            "3. Multiply\n",
            "4. Divide\n",
            "5. Exit\n",
            "\n",
            "Select operations from 1, 2, 3, 4, 5: 1\n",
            "Enter first number: 12\n",
            "Enter second number: 23\n",
            "12 + 23 = 35\n",
            "Do you want to perform another operation? (yes/no): yes\n",
            "Please select operation -\n",
            "1. Add\n",
            "2. Subtract\n",
            "3. Multiply\n",
            "4. Divide\n",
            "5. Exit\n",
            "\n",
            "Select operations from 1, 2, 3, 4, 5: 3\n",
            "Enter first number: 23\n",
            "Enter second number: 23\n",
            "23 * 23 = 529\n",
            "Do you want to perform another operation? (yes/no): no\n",
            "Exiting the program.\n"
          ]
        }
      ]
    }
  ]
}