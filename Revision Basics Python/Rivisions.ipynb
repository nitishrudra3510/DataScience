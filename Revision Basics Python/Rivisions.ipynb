{
 "cells": [
  {
   "cell_type": "markdown",
   "metadata": {},
   "source": [
    "# DATA TYPES:\n"
   ]
  },
  {
   "cell_type": "code",
   "execution_count": 3,
   "metadata": {},
   "outputs": [
    {
     "name": "stdout",
     "output_type": "stream",
     "text": [
      "x: 10, type: <class 'int'>\n",
      "y: 3.14, type: <class 'float'>\n",
      "z: Hello, type: <class 'str'>\n",
      "is_active: True, type: <class 'bool'>\n",
      "data: [1, 2, 3], type : <class 'list'>\n",
      "info: {'key': 'value'}, type: <class 'dict'>\n"
     ]
    }
   ],
   "source": [
    "# Data type exploration\n",
    "x = 10             # Integer\n",
    "y = 3.14           # Float\n",
    "z = \"Hello\"        # String\n",
    "is_active = True   # Boolean\n",
    "data = [1, 2, 3]   # List\n",
    "info = {\"key\": \"value\"}  # Dictionary\n",
    "\n",
    "# Printing with type\n",
    "print(f\"x: {x}, type: {type(x)}\")\n",
    "print(f\"y: {y}, type: {type(y)}\")\n",
    "print(f\"z: {z}, type: {type(z)}\")\n",
    "print(f\"is_active: {is_active}, type: {type(is_active)}\")\n",
    "print(f\"data: {data}, type : {type(data)}\")\n",
    "print(f\"info: {info}, type: {type(info)}\")"
   ]
  },
  {
   "cell_type": "markdown",
   "metadata": {},
   "source": [
    "# Control Flow"
   ]
  },
  {
   "cell_type": "code",
   "execution_count": 11,
   "metadata": {},
   "outputs": [
    {
     "name": "stdout",
     "output_type": "stream",
     "text": [
      "5 is positive\n",
      "*\n",
      "**\n",
      "***\n",
      "****\n",
      "*****\n",
      "5\n",
      "4\n",
      "3\n",
      "2\n",
      "1\n"
     ]
    }
   ],
   "source": [
    "# Number classification using control flow\n",
    "number = int(input(\"Enter a number : \"))\n",
    "if number > 0:\n",
    "    print(f\"{number} is positive\")\n",
    "elif number < 0:\n",
    "    print(f\"{number} is positive..\")\n",
    "else:\n",
    "    print(f\"{number} is zero.\")\n",
    "    \n",
    "    \n",
    "#Nested loop for creating a pattern\n",
    "rows = 5\n",
    "for i in range(1, rows+1):\n",
    "    for j in range(1, i+1):\n",
    "        print(\"*\", end=\"\")\n",
    "    print(\"\")\n",
    "    \n",
    "    \n",
    "# while loop\n",
    "count = 5\n",
    "while count>0:\n",
    "    print(count)\n",
    "    count-=1"
   ]
  },
  {
   "cell_type": "markdown",
   "metadata": {},
   "source": [
    "# Function\n"
   ]
  },
  {
   "cell_type": "code",
   "execution_count": 10,
   "metadata": {},
   "outputs": [
    {
     "name": "stdout",
     "output_type": "stream",
     "text": [
      "120\n",
      "180.0\n"
     ]
    }
   ],
   "source": [
    "# function defintion\n",
    "def greet(name):\n",
    "    return f\"hello, {name}!\"\n",
    "\n",
    "# function with defaults arguments\n",
    "def add_numbers(a, b=5):\n",
    "    return a+b\n",
    "\n",
    "print(greet(\"Alice\")) # \n",
    "print(add_numbers(10)) # \n",
    "\n",
    "\n",
    "# Function to calculate factorial using recursion\n",
    "\n",
    "def factorial(n):\n",
    "    if n == 0 or n == 1:\n",
    "        return 1\n",
    "    return n * factorial(n - 1)\n",
    "\n",
    "print(factorial(5))  # Output: 120\n",
    "\n",
    "# Function with both default and keyword arguments\n",
    "def calculate_total(price, quantity=1, discount=0):\n",
    "    total = price * quantity\n",
    "    total -= total * (discount / 100)\n",
    "    return total\n",
    "\n",
    "print(calculate_total(100, quantity=2, discount=10))  # Output: 180.0\n",
    "\n",
    "\n"
   ]
  },
  {
   "cell_type": "code",
   "execution_count": 6,
   "metadata": {},
   "outputs": [
    {
     "name": "stdout",
     "output_type": "stream",
     "text": [
      "    *    \n",
      "   ***   \n",
      "  *****  \n",
      " ******* \n",
      "*********\n"
     ]
    }
   ],
   "source": [
    "# for loop\n",
    "\n",
    "n = int(input(\"Enter a num : \"))\n",
    "for i in range(n):\n",
    "    # space\n",
    "    for j in range(n-i-1):\n",
    "        print(\" \",end='')\n",
    "    # star\n",
    "    for k in range(2*i+1):\n",
    "        print(\"*\", end = \"\")\n",
    "    # space \n",
    "    for l in range(n-i-1):\n",
    "        print(\" \", end = \"\")\n",
    "    print()    "
   ]
  },
  {
   "cell_type": "code",
   "execution_count": 8,
   "metadata": {},
   "outputs": [
    {
     "name": "stdout",
     "output_type": "stream",
     "text": [
      "\n",
      "\n",
      "* \n",
      "* * \n",
      "* * * \n",
      "* * * \n",
      "* * \n",
      "* \n",
      "\n"
     ]
    }
   ],
   "source": [
    "# while loop : \n",
    "n = int(input(\"Num : \"))\n",
    "i = 0\n",
    "\n",
    "while i<2 * n-1:\n",
    "    stars = i\n",
    "    if i>= n:\n",
    "        stars = 2*n-i-2\n",
    "    else:\n",
    "        stars -= 1\n",
    "        \n",
    "    j = 0\n",
    "    while j < stars:\n",
    "        print(\"*\", end = \" \")\n",
    "        j += 1\n",
    "    print()\n",
    "    i+=1"
   ]
  },
  {
   "cell_type": "code",
   "execution_count": null,
   "metadata": {},
   "outputs": [],
   "source": []
  }
 ],
 "metadata": {
  "kernelspec": {
   "display_name": "base",
   "language": "python",
   "name": "python3"
  },
  "language_info": {
   "codemirror_mode": {
    "name": "ipython",
    "version": 3
   },
   "file_extension": ".py",
   "mimetype": "text/x-python",
   "name": "python",
   "nbconvert_exporter": "python",
   "pygments_lexer": "ipython3",
   "version": "3.11.5"
  }
 },
 "nbformat": 4,
 "nbformat_minor": 2
}
