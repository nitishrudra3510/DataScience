{
  "cells": [
    {
      "cell_type": "code",
      "execution_count": null,
      "metadata": {
        "colab": {
          "base_uri": "https://localhost:8080/"
        },
        "id": "IUO0EHH96GQc",
        "outputId": "74d90f19-77dc-4d57-b7ea-90e8d7f1d1ab"
      },
      "outputs": [
        {
          "name": "stdout",
          "output_type": "stream",
          "text": [
            "Hello World!!!\n"
          ]
        }
      ],
      "source": [
        "print(\"Hello World!!!\")"
      ]
    },
    {
      "cell_type": "code",
      "execution_count": null,
      "metadata": {
        "id": "zthjhTedpYIa"
      },
      "outputs": [],
      "source": []
    },
    {
      "cell_type": "code",
      "execution_count": null,
      "metadata": {
        "id": "2g_1Ac9xTetx"
      },
      "outputs": [],
      "source": []
    },
    {
      "cell_type": "code",
      "execution_count": null,
      "metadata": {
        "id": "A__mlKPW6dt-"
      },
      "outputs": [],
      "source": [
        "A=10"
      ]
    },
    {
      "cell_type": "code",
      "execution_count": null,
      "metadata": {
        "colab": {
          "base_uri": "https://localhost:8080/"
        },
        "id": "ThhT5e9i7fj4",
        "outputId": "d1604193-39c3-4883-ea00-8207ffd70609"
      },
      "outputs": [
        {
          "name": "stdout",
          "output_type": "stream",
          "text": [
            "10\n"
          ]
        }
      ],
      "source": [
        "print(A)"
      ]
    },
    {
      "cell_type": "code",
      "execution_count": null,
      "metadata": {
        "id": "8UX2Hl0J8V1E"
      },
      "outputs": [],
      "source": [
        "a=7\n",
        "b=3.9\n",
        "c='a\"'\n",
        "d=\"Hel'lo\""
      ]
    },
    {
      "cell_type": "code",
      "execution_count": null,
      "metadata": {
        "colab": {
          "base_uri": "https://localhost:8080/"
        },
        "id": "SOg-3iUj9JK1",
        "outputId": "b92a3039-839d-4b92-d12e-7e8b5ca5bc71"
      },
      "outputs": [
        {
          "name": "stdout",
          "output_type": "stream",
          "text": [
            "7\n",
            "3.9\n",
            "a\"\n",
            "Hel'lo\n"
          ]
        }
      ],
      "source": [
        "print(a)\n",
        "print(b)\n",
        "print(c)\n",
        "print(d)"
      ]
    },
    {
      "cell_type": "code",
      "execution_count": null,
      "metadata": {
        "colab": {
          "base_uri": "https://localhost:8080/"
        },
        "id": "v7il8La29OzW",
        "outputId": "e471321c-55f5-450d-df05-4dba6453efe2"
      },
      "outputs": [
        {
          "name": "stdout",
          "output_type": "stream",
          "text": [
            "19\n",
            "-9\n",
            "70\n",
            "0.36\n",
            "5\n",
            "0\n"
          ]
        }
      ],
      "source": [
        "a=5\n",
        "b=14\n",
        "print(a+b)\n",
        "print(a-b)\n",
        "print(a*b)\n",
        "#c=a/b\n",
        "print(format(a/b,'.2f'))\n",
        "\n",
        "print(a%b)\n",
        "print(a//b)"
      ]
    },
    {
      "cell_type": "code",
      "execution_count": null,
      "metadata": {
        "colab": {
          "base_uri": "https://localhost:8080/"
        },
        "id": "cYDydq2R-Fcp",
        "outputId": "8dec30f3-515d-47bb-d079-42f5331c7c36"
      },
      "outputs": [
        {
          "name": "stdout",
          "output_type": "stream",
          "text": [
            "False\n"
          ]
        }
      ],
      "source": [
        "a=int(input(\"Enter a\"))\n",
        "b=int(input(\"Enter b\"))\n",
        "#print(a==b)\n",
        "print(a!=b)\n",
        "print(a<b)\n",
        "print(a>b)"
      ]
    },
    {
      "cell_type": "code",
      "execution_count": null,
      "metadata": {
        "id": "VUTwmRl5BO7F"
      },
      "outputs": [],
      "source": [
        "a=10\n",
        "b=-(a)\n",
        "\n"
      ]
    },
    {
      "cell_type": "markdown",
      "metadata": {
        "id": "HGeHQiAUEvOB"
      },
      "source": [
        "And                          \n",
        "1  1     1                   \n",
        "1  0     0\n",
        "0  1     0\n",
        "0  0     0\n",
        "\n",
        "OR\n",
        "1  1  1\n",
        "1  0  1\n",
        "0  1  1\n",
        "0  0  0\n",
        "\n",
        "Not\n",
        "\n",
        "1 0\n",
        "0 1\n"
      ]
    },
    {
      "cell_type": "code",
      "execution_count": null,
      "metadata": {
        "colab": {
          "base_uri": "https://localhost:8080/"
        },
        "id": "rDQBM5C5F_Kz",
        "outputId": "33e0751f-d9bb-4099-adf1-5b42a6745559"
      },
      "outputs": [
        {
          "name": "stdout",
          "output_type": "stream",
          "text": [
            "941630224\n",
            "1069480887\n",
            "-1010101011\n"
          ]
        }
      ],
      "source": [
        "a=1010101010\n",
        "b=1001010101\n",
        "print(a&b)\n",
        "print(a|b)\n",
        "print(~a)"
      ]
    },
    {
      "cell_type": "code",
      "execution_count": null,
      "metadata": {
        "colab": {
          "base_uri": "https://localhost:8080/",
          "height": 193
        },
        "id": "sVb2nbtZGrP5",
        "outputId": "16bd9c1b-1b5b-4615-e463-08a31dc5ddcb"
      },
      "outputs": [
        {
          "ename": "TypeError",
          "evalue": "unsupported operand type(s) for &: 'str' and 'str'",
          "output_type": "error",
          "traceback": [
            "\u001b[0;31m---------------------------------------------------------------------------\u001b[0m",
            "\u001b[0;31mTypeError\u001b[0m                                 Traceback (most recent call last)",
            "\u001b[0;32m<ipython-input-24-4a727a9ca644>\u001b[0m in \u001b[0;36m<cell line: 3>\u001b[0;34m()\u001b[0m\n\u001b[1;32m      1\u001b[0m \u001b[0ma\u001b[0m\u001b[0;34m=\u001b[0m\u001b[0mbin\u001b[0m\u001b[0;34m(\u001b[0m\u001b[0;36m10\u001b[0m\u001b[0;34m)\u001b[0m\u001b[0;34m\u001b[0m\u001b[0;34m\u001b[0m\u001b[0m\n\u001b[1;32m      2\u001b[0m \u001b[0mb\u001b[0m\u001b[0;34m=\u001b[0m\u001b[0mbin\u001b[0m\u001b[0;34m(\u001b[0m\u001b[0;36m20\u001b[0m\u001b[0;34m)\u001b[0m\u001b[0;34m\u001b[0m\u001b[0;34m\u001b[0m\u001b[0m\n\u001b[0;32m----> 3\u001b[0;31m \u001b[0mprint\u001b[0m\u001b[0;34m(\u001b[0m\u001b[0ma\u001b[0m\u001b[0;34m&\u001b[0m\u001b[0mb\u001b[0m\u001b[0;34m)\u001b[0m\u001b[0;34m\u001b[0m\u001b[0;34m\u001b[0m\u001b[0m\n\u001b[0m\u001b[1;32m      4\u001b[0m \u001b[0mprint\u001b[0m\u001b[0;34m(\u001b[0m\u001b[0ma\u001b[0m\u001b[0;34m|\u001b[0m\u001b[0mb\u001b[0m\u001b[0;34m)\u001b[0m\u001b[0;34m\u001b[0m\u001b[0;34m\u001b[0m\u001b[0m\n",
            "\u001b[0;31mTypeError\u001b[0m: unsupported operand type(s) for &: 'str' and 'str'"
          ]
        }
      ],
      "source": [
        "a=10\n",
        "b=20\n",
        "print(a&b)\n",
        "print(a|b)"
      ]
    },
    {
      "cell_type": "code",
      "execution_count": null,
      "metadata": {
        "colab": {
          "base_uri": "https://localhost:8080/"
        },
        "id": "Sc4g3lidIyqD",
        "outputId": "5a2257d8-2661-407b-dead-5f3810db7128"
      },
      "outputs": [
        {
          "name": "stdout",
          "output_type": "stream",
          "text": [
            "0b110110001111111010000\n"
          ]
        }
      ],
      "source": [
        "x= 111101 0 0 0 0\n",
        "\n",
        "print(bin(x<<4))"
      ]
    },
    {
      "cell_type": "code",
      "execution_count": null,
      "metadata": {
        "id": "c9sqKUEvJxDm"
      },
      "outputs": [],
      "source": [
        "a=10\n",
        "b=20\n",
        "c=30\n",
        "if((a>b) && (a<c)):\n",
        "  print('a')\n",
        "else:\n",
        "  print('b')"
      ]
    },
    {
      "cell_type": "markdown",
      "metadata": {
        "id": "mnbjS6DNqDXM"
      },
      "source": [
        "7 JUNE 2024"
      ]
    },
    {
      "cell_type": "code",
      "execution_count": null,
      "metadata": {
        "colab": {
          "base_uri": "https://localhost:8080/"
        },
        "id": "64MEDv2xKSTQ",
        "outputId": "59923023-b100-4818-a7c6-1737cb277310"
      },
      "outputs": [
        {
          "name": "stdout",
          "output_type": "stream",
          "text": [
            "Python Class\n",
            "Python Class\n",
            "Python Class\n",
            "Python Class\n",
            "Python Class\n",
            "Python Class\n",
            "Python Class\n",
            "Python Class\n",
            "Python Class\n",
            "Python Class\n",
            "\n"
          ]
        }
      ],
      "source": [
        "print(\"Python Class\\t\" *10)"
      ]
    },
    {
      "cell_type": "code",
      "execution_count": null,
      "metadata": {
        "colab": {
          "base_uri": "https://localhost:8080/"
        },
        "id": "QbfD1MorLs_Q",
        "outputId": "309f58a5-587e-4f20-d27b-cb4b0bee2702"
      },
      "outputs": [
        {
          "name": "stdout",
          "output_type": "stream",
          "text": [
            "Hello World\n",
            "H\n",
            "llo Wo\n",
            " World\n",
            "Hello\n",
            "dlroW olleH\n"
          ]
        }
      ],
      "source": [
        "a=\"Hello World\"\n",
        "print(a)\n",
        "print(a[0])\n",
        "print(a[2:8])\n",
        "print(a[5:])\n",
        "print(a[:5])\n",
        "print(a[::-1])\n"
      ]
    },
    {
      "cell_type": "code",
      "execution_count": null,
      "metadata": {
        "colab": {
          "base_uri": "https://localhost:8080/"
        },
        "id": "_HzetohlOaSC",
        "outputId": "f63c4c0d-85b5-4728-e9ab-221e956bc568"
      },
      "outputs": [
        {
          "name": "stdout",
          "output_type": "stream",
          "text": [
            "Enter Stringabc\n",
            "3\n",
            "abc\n"
          ]
        }
      ],
      "source": [
        "a=input(\"Enter String\")\n",
        "print(len(a))\n",
        "print(a)\n"
      ]
    },
    {
      "cell_type": "code",
      "execution_count": null,
      "metadata": {
        "id": "OT0Yov2o1SMa"
      },
      "outputs": [],
      "source": []
    },
    {
      "cell_type": "code",
      "execution_count": null,
      "metadata": {
        "colab": {
          "base_uri": "https://localhost:8080/"
        },
        "id": "4corrx5F1TwI",
        "outputId": "b697d2f5-25a5-4e97-d50c-44a3c10e0af0"
      },
      "outputs": [
        {
          "name": "stdout",
          "output_type": "stream",
          "text": [
            "[1, 2, 3, 4, ['a', 'b']]\n",
            "1\n",
            "4\n",
            "b\n",
            "[1, 2, 3, 4, ['a', 'b', 'c']]\n",
            "[1, 2, 3, 4, ['a', 'b', 'c'], 'hello', 'dear']\n"
          ]
        }
      ],
      "source": [
        "\n",
        "l=[1,2,3,4,['a','b']]\n",
        "print(l)\n",
        "print(l[0])\n",
        "print(l[3])\n",
        "print(l[4][1])\n",
        "l.append('e')\n",
        "\n",
        "l = [1,2,3,4,['a','b','c']]\n",
        "print(l)\n",
        "l.extend(['hello','dear'])\n",
        "print(l)\n",
        "#extend()\n",
        "#append()\n",
        "#count()\n",
        "#pop()\n",
        "#remove()\n",
        "#reverse()\n",
        "#sort()'''\n",
        "\n",
        "\n",
        "\n",
        "\n",
        "\n",
        "\n"
      ]
    },
    {
      "cell_type": "code",
      "execution_count": null,
      "metadata": {
        "colab": {
          "base_uri": "https://localhost:8080/"
        },
        "id": "-ap2kxnc1Y38",
        "outputId": "c2beeca2-992f-4582-d9fa-d585fb38c684"
      },
      "outputs": [
        {
          "name": "stdout",
          "output_type": "stream",
          "text": [
            "[1, 2, 3, 4, 3, 3, 5]\n",
            "[1, 2, 3, 4, 3, 3, 5, 6, 7]\n",
            "3\n",
            "[1, 2, 3, 4, 3, 3, 5, 6]\n",
            "[1, 2, 3, 4, 3, 3, 6]\n",
            "[1, 2, 3, 3, 3, 4, 6]\n",
            "[6, 4, 3, 3, 3, 2, 1]\n",
            "[6, 4, 3, 3, 2, 1]\n",
            "[4, 3, 3]\n",
            "[6, 4, 3, 3, 2, 1, 6, 7]\n"
          ]
        }
      ],
      "source": [
        "l1=[1,2,3,4,3,3]\n",
        "l2=[6,7]\n",
        "l1.append(5)\n",
        "print(l1)\n",
        "l1.extend(l2)\n",
        "print(l1)\n",
        "print(l1.count(3))\n",
        "l1.pop()\n",
        "print(l1)\n",
        "l1.remove(5)\n",
        "print(l1)\n",
        "l1.sort()\n",
        "print(l1)\n",
        "l1.reverse()\n",
        "print(l1)\n",
        "del l1[3]\n",
        "print(l1)\n",
        "print(l1[1:4])\n",
        "print(l1+l2)"
      ]
    },
    {
      "cell_type": "code",
      "execution_count": null,
      "metadata": {
        "colab": {
          "base_uri": "https://localhost:8080/"
        },
        "id": "1ljd6amaEoOL",
        "outputId": "3fe81044-c11d-44d8-bacb-8f3ce474ad4b"
      },
      "outputs": [
        {
          "name": "stdout",
          "output_type": "stream",
          "text": [
            "('apple', ('grapes', 'mango'), 'cherry', 'litchi')\n",
            "('cherry',)\n",
            "(('grapes', 'mango'), 'cherry')\n",
            "('apple', ('grapes', 'mango'), 'cherry', 'litchi', 'apple', ('grapes', 'mango'), 'cherry', 'litchi', 'apple', ('grapes', 'mango'), 'cherry', 'litchi', 'apple', ('grapes', 'mango'), 'cherry', 'litchi', 'apple', ('grapes', 'mango'), 'cherry', 'litchi', 'apple', ('grapes', 'mango'), 'cherry', 'litchi', 'apple', ('grapes', 'mango'), 'cherry', 'litchi')\n",
            "('apple', ('grapes', 'mango'), 'cherry', 'litchi', 'cherry')\n",
            "no\n"
          ]
        }
      ],
      "source": [
        "#Tuples\n",
        "a=('apple',('grapes','mango'),'cherry','litchi')\n",
        "print(a)\n",
        "b=('cherry',)\n",
        "print(b)\n",
        "print(a[1:3])\n",
        "print(a*7)\n",
        "print(a+b)\n",
        "\n",
        "#membership\n",
        "#in\n",
        "#not in\n",
        "\n",
        "if 'pear' not in a:\n",
        "  print('no')\n",
        "else:\n",
        "  print('yes')\n",
        "\n"
      ]
    },
    {
      "cell_type": "code",
      "execution_count": null,
      "metadata": {
        "colab": {
          "base_uri": "https://localhost:8080/"
        },
        "id": "QPkGr40mHgsi",
        "outputId": "39dc69e5-c479-4295-a3a5-78d0b537d6b2"
      },
      "outputs": [
        {
          "name": "stdout",
          "output_type": "stream",
          "text": [
            "no\n",
            "135421200498928\n",
            "20\n",
            "20\n"
          ]
        }
      ],
      "source": [
        "  #identity operator\n",
        "  #is\n",
        "  #is not\n",
        "  a=1\n",
        "  b=2\n",
        "  if a is b:\n",
        "    print('yes')\n",
        "  else:\n",
        "    print('no')\n",
        "    print(id(a))\n",
        "\n",
        "\n",
        "\n",
        "\n",
        "    a=41\n",
        "    b=2\n",
        "    print(int(a/b))\n",
        "    print(a//b)"
      ]
    },
    {
      "cell_type": "code",
      "execution_count": null,
      "metadata": {
        "colab": {
          "base_uri": "https://localhost:8080/"
        },
        "id": "JgfTigN9Ks6K",
        "outputId": "6693a095-1082-415f-eeba-afebf3a75387"
      },
      "outputs": [
        {
          "name": "stdout",
          "output_type": "stream",
          "text": [
            "{'a': 1, 'b': 2, 'c': [1, 2, 3]}\n",
            "{'a': 1, 'b': 2, 'c': (1, 2, 3)}\n",
            "{'a': 1, 'b': 2, 'c': {1: 'aman', 2: 'ankit', 3: 'divya'}}\n",
            "{'city1': 'Amritsar'}\n",
            "{'city1': 'Amritsar', 'state1': 'Punjab'}\n",
            "dict_keys(['a', 'b', 'c'])\n",
            "dict_values([1, 2, (1, 2, 3)])\n",
            "dict_items([('a', 1), ('b', 2), ('c', (1, 2, 3))])\n",
            "{}\n",
            "{'a': 1, 'b': 2, 'c': [1, 2, 3]}\n",
            "{'a': 1, 'b': 2, 'c': [1, 2, 3]}\n",
            "both conditiona are false\n"
          ]
        }
      ],
      "source": [
        "#Dictionary\n",
        "a={}\n",
        "a={'a':1,'b':2,'c':[1,2,3]}\n",
        "print(a)\n",
        "b={'a':1,'b':2,'c':(1,2,3)}\n",
        "print(b)\n",
        "d={'a':1,'b':2,'c':{1:'aman',2:'ankit',3:'divya'}}\n",
        "print(d)\n",
        "\n",
        "city={}\n",
        "city.update({'city1':'Amritsar'})\n",
        "print(city)\n",
        "state={'state1':'Punjab'}\n",
        "city.update(state)\n",
        "print(city)\n",
        "\n",
        "print(b.keys())\n",
        "print(b.values())\n",
        "\n",
        "print(b.items())\n",
        "b.clear()\n",
        "print(b)\n",
        "b=a.copy()\n",
        "print(b)\n",
        "print(a)\n",
        "if 'a' not in b:\n",
        "  print('yes')\n",
        "elif 'z' in b:\n",
        "  print('yes a is in b')\n",
        "else:\n",
        "  print(\"both conditiona are false\")"
      ]
    },
    {
      "cell_type": "code",
      "execution_count": null,
      "metadata": {
        "id": "xnSErbcPS_n7"
      },
      "outputs": [],
      "source": [
        "a= 40\n",
        "if a>40:\n",
        "  print(20)\n",
        "elif a==40:\n",
        "  print(10)\n",
        "else:\n",
        "  print(30)"
      ]
    },
    {
      "cell_type": "code",
      "execution_count": null,
      "metadata": {
        "colab": {
          "base_uri": "https://localhost:8080/"
        },
        "id": "SKGpOpg9TwTP",
        "outputId": "b049342b-f3e6-4c80-f29c-aabc66a5e095"
      },
      "outputs": [
        {
          "name": "stdout",
          "output_type": "stream",
          "text": [
            "10\t9\t8\t7\t6\t5\t4\t3\t2\t1\t2\n",
            "loop ends\n"
          ]
        }
      ],
      "source": [
        "#while loop\n",
        "\n",
        "a=10\n",
        "while(a>0):\n",
        "  print(a, end='\\t')\n",
        "  a=a-1\n",
        "else:\n",
        "  print(a+2)\n",
        "  print(\"loop ends\")\n",
        "\n",
        "\n"
      ]
    },
    {
      "cell_type": "code",
      "execution_count": null,
      "metadata": {
        "colab": {
          "base_uri": "https://localhost:8080/"
        },
        "id": "EfpMRDg7U_2I",
        "outputId": "8a612430-2088-468a-c85c-b3f217d93b94"
      },
      "outputs": [
        {
          "name": "stdout",
          "output_type": "stream",
          "text": [
            "10\n",
            "13\n",
            "16\n",
            "19\n"
          ]
        }
      ],
      "source": [
        "#for loop\n",
        "\n",
        "for a in range(10,20,3):\n",
        "  print(a)\n"
      ]
    },
    {
      "cell_type": "code",
      "execution_count": null,
      "metadata": {
        "colab": {
          "base_uri": "https://localhost:8080/"
        },
        "id": "Oa5oKwL-X_dK",
        "outputId": "e14afcb2-cb32-4119-94a8-bb6599ea634a"
      },
      "outputs": [
        {
          "name": "stdout",
          "output_type": "stream",
          "text": [
            "Enter a number: 5\n",
            "3.5500000000000003\n"
          ]
        }
      ],
      "source": [
        "a=int(input(\"Enter a number: \"))\n",
        "sum=0.0\n",
        "for i in range(1,a+1):\n",
        "  sum+=float(i)/(i+1)\n",
        "print(sum)"
      ]
    },
    {
      "cell_type": "markdown",
      "metadata": {
        "id": "oov_R5Ygp2W7"
      },
      "source": [
        "#10th june 2024"
      ]
    },
    {
      "cell_type": "code",
      "execution_count": null,
      "metadata": {
        "colab": {
          "base_uri": "https://localhost:8080/"
        },
        "id": "tNDmXv82Tf9c",
        "outputId": "a9cbf349-076e-41ba-93d5-83a14d92e1dc"
      },
      "outputs": [
        {
          "name": "stdout",
          "output_type": "stream",
          "text": [
            "Enter the date: 10\n",
            "Enter the month number: 3\n",
            "The day on is  saturday\n"
          ]
        }
      ],
      "source": [
        "#10th june 2024\n",
        "#calender\n",
        "date=int(input(\"Enter the date: \"))\n",
        "days={0:\"sunday\",1:\"monday\",2:\"tuesday\",3:\"wednesday\",4:\"thursday\",5:\"friday\",6:\"saturday\",}\n",
        "total_days=0\n",
        "month=int(input(\"Enter the month number: \"))\n",
        "months={1:\"jan\",2:\"feb\",3:\"mar\",4:\"apr\",5:\"may\",6:\"jun\",7:\"jul\",8:\"aug\",9:\"sep\",10:\"oct\",11:\"nov\",12:\"dec\"}\n",
        "month_days={\"jan\":31,\"feb\":28,\"mar\":31,\"apr\":30,\"may\":31,\"jun\":30,\"jul\":31,\"aug\":31,\"sep\":30,\"oct\":31,\"nov\":30,\"dec\":31}\n",
        "for i in months:\n",
        "  if (i==month):\n",
        "    break\n",
        "  total_days+=month_days[months[i]]\n",
        "date+=total_days\n",
        "date%=7\n",
        "print(\"The day on is \",days[date])"
      ]
    },
    {
      "cell_type": "code",
      "execution_count": null,
      "metadata": {
        "colab": {
          "base_uri": "https://localhost:8080/"
        },
        "id": "iL3TKWJBd80N",
        "outputId": "dfbe07d7-4d79-404d-8a1a-6cfff1acfc8c"
      },
      "outputs": [
        {
          "name": "stdout",
          "output_type": "stream",
          "text": [
            "enter first day of the month (1-7)4\n",
            "enter number of days30\n",
            " Sun Mon Tues Wed Thurs Fri Sat\n",
            "---------------------------------------\n",
            "               1   2   3   4   \n",
            "5   6   7   8   9   10   11   \n",
            "12   13   14   15   16   17   18   \n",
            "19   20   21   22   23   24   25   \n",
            "26   27   28   29   30   "
          ]
        }
      ],
      "source": [
        "firstday=int(input(\"enter first day of the month (1-7)\"))\n",
        "n_of_days=int(input(\"enter number of days\"))\n",
        "print(\" Sun Mon Tues Wed Thurs Fri Sat\")\n",
        "print(\"---------------------------------------\")\n",
        "for i in range(firstday-1):\n",
        "  print(end=\"     \")\n",
        "i=firstday-1\n",
        "for j in range(1,n_of_days+1):\n",
        "  if(i>6):\n",
        "    print()\n",
        "    i=1\n",
        "  else:\n",
        "    i=i+1\n",
        "  print(str(j)+\"  \",end=\" \")\n"
      ]
    },
    {
      "cell_type": "code",
      "execution_count": null,
      "metadata": {
        "id": "47tNm_q7g0IS"
      },
      "outputs": [],
      "source": [
        "1\n",
        "12\n",
        "123\n",
        "1234\n",
        "12345\n",
        "\n",
        "\n"
      ]
    },
    {
      "cell_type": "code",
      "execution_count": null,
      "metadata": {
        "colab": {
          "base_uri": "https://localhost:8080/"
        },
        "id": "0VVdtbMHigUI",
        "outputId": "97c62ca5-f8cf-49cf-9a73-c5a839ef6d11"
      },
      "outputs": [
        {
          "name": "stdout",
          "output_type": "stream",
          "text": [
            "Enter the number of rows: 5\n",
            "1\n",
            "12\n",
            "123\n",
            "1234\n",
            "12345\n"
          ]
        }
      ],
      "source": [
        "rows = int(input(\"Enter the number of rows: \"))\n",
        "\n",
        "for i in range(1, rows + 1):\n",
        "  #print(\"i=\",i)\n",
        "  for j in range(1, i + 1):\n",
        "    print(j, end=\"\")\n",
        "  print()"
      ]
    },
    {
      "cell_type": "code",
      "execution_count": null,
      "metadata": {
        "colab": {
          "base_uri": "https://localhost:8080/"
        },
        "id": "JWFL8qWqjilj",
        "outputId": "a09e8b38-37b2-4953-c659-e0d448c2c1f6"
      },
      "outputs": [
        {
          "name": "stdout",
          "output_type": "stream",
          "text": [
            "Enter a number5\n",
            " 1\n",
            " 12\n",
            " 123\n",
            " 1234\n",
            " 12345\n"
          ]
        }
      ],
      "source": [
        "num = int(input(\"Enter a number\"))\n",
        "for i in range(1, num + 1):\n",
        "  output = \" \"\n",
        "  for j in range(1, i + 1):\n",
        "    output += str(j)\n",
        "  print(output)"
      ]
    },
    {
      "cell_type": "code",
      "execution_count": null,
      "metadata": {
        "colab": {
          "base_uri": "https://localhost:8080/"
        },
        "id": "YaQzdE3FkF71",
        "outputId": "3b99bd72-43bf-441b-9dce-5dc184c19af5"
      },
      "outputs": [
        {
          "name": "stdout",
          "output_type": "stream",
          "text": [
            "1\n",
            "2\n",
            "3\n",
            "4\n",
            "5\n"
          ]
        }
      ],
      "source": [
        "#break\n",
        "i=1\n",
        "while i<=10:\n",
        "  print(i)\n",
        "  if(i==5):\n",
        "    break\n",
        "  i=i+1\n"
      ]
    },
    {
      "cell_type": "code",
      "execution_count": null,
      "metadata": {
        "colab": {
          "base_uri": "https://localhost:8080/"
        },
        "id": "AYEvIT_dlQ9X",
        "outputId": "b8187868-d196-4e01-fb75-d43621ccf120"
      },
      "outputs": [
        {
          "name": "stdout",
          "output_type": "stream",
          "text": [
            "1\n",
            "2\n",
            "3\n",
            "4\n",
            "6\n",
            "7\n",
            "8\n",
            "9\n"
          ]
        }
      ],
      "source": [
        "for i in range(1,10):\n",
        "  if(i==5):\n",
        "    continue\n",
        "  print(i)"
      ]
    },
    {
      "cell_type": "code",
      "execution_count": null,
      "metadata": {
        "colab": {
          "base_uri": "https://localhost:8080/"
        },
        "id": "aAFtWT35mBaQ",
        "outputId": "f02e2965-df11-4377-d527-dab827250b4f"
      },
      "outputs": [
        {
          "name": "stdout",
          "output_type": "stream",
          "text": [
            "this is a pass\n"
          ]
        }
      ],
      "source": [
        "#pass\n",
        "#comment\n",
        "\n",
        "for i in \"hello\":\n",
        " pass\n",
        "print(\"this is a pass\")"
      ]
    },
    {
      "cell_type": "code",
      "execution_count": null,
      "metadata": {
        "colab": {
          "base_uri": "https://localhost:8080/"
        },
        "id": "rnu2k4FDnD20",
        "outputId": "6820ca62-2bd5-4469-bd83-896d7d4fb94c"
      },
      "outputs": [
        {
          "name": "stdout",
          "output_type": "stream",
          "text": [
            "h\n",
            "e\n",
            "l\n",
            "l\n",
            "o\n",
            "done\n"
          ]
        }
      ],
      "source": [
        "for i in \"hello\":\n",
        "  print(i)\n",
        "else:\n",
        "  print(\"done\")"
      ]
    },
    {
      "cell_type": "code",
      "execution_count": null,
      "metadata": {
        "colab": {
          "base_uri": "https://localhost:8080/"
        },
        "id": "ojw2hnUPnOTV",
        "outputId": "bcf06c6b-773f-4f72-84e3-3d9be063028c"
      },
      "outputs": [
        {
          "name": "stdout",
          "output_type": "stream",
          "text": [
            "1\n"
          ]
        }
      ],
      "source": [
        "i=1\n",
        "while(i<0):\n",
        "  print(i)\n",
        "  i=i-1\n",
        "else:\n",
        "  print(i)"
      ]
    },
    {
      "cell_type": "code",
      "execution_count": null,
      "metadata": {
        "colab": {
          "base_uri": "https://localhost:8080/"
        },
        "id": "XJqYzxR6qkZj",
        "outputId": "4fbad6e5-e444-43f1-b244-b2a441097674"
      },
      "outputs": [
        {
          "name": "stdout",
          "output_type": "stream",
          "text": [
            "8 7\n"
          ]
        }
      ],
      "source": [
        "#functions with positional arguments\n",
        "def display(b,a):\n",
        "  a=a+2\n",
        "  b=b+4\n",
        "  print(a,b)\n",
        "display(3,6)"
      ]
    },
    {
      "cell_type": "code",
      "execution_count": null,
      "metadata": {
        "colab": {
          "base_uri": "https://localhost:8080/"
        },
        "id": "taV0vrqkuD_6",
        "outputId": "f952b813-4dee-47d2-ad4a-3ffa5382bc4c"
      },
      "outputs": [
        {
          "name": "stdout",
          "output_type": "stream",
          "text": [
            "hello 11\n"
          ]
        }
      ],
      "source": [
        "#expression as argument\n",
        "def display(i):\n",
        "  print(\"hello\",i)\n",
        "display(5+2*3)"
      ]
    },
    {
      "cell_type": "code",
      "execution_count": null,
      "metadata": {
        "colab": {
          "base_uri": "https://localhost:8080/"
        },
        "id": "ZuVLyrKIuotO",
        "outputId": "7645a6f4-a633-4b09-e6e7-71d39fd7dbdf"
      },
      "outputs": [
        {
          "name": "stdout",
          "output_type": "stream",
          "text": [
            "3\n"
          ]
        }
      ],
      "source": [
        "#return statement\n",
        "#print statement\n",
        "\n",
        "def abc(a=3):\n",
        "  return a\n",
        "def xyz(a):\n",
        "  b=a\n",
        "  print(b)\n",
        "xyz(abc())"
      ]
    },
    {
      "cell_type": "code",
      "execution_count": null,
      "metadata": {
        "colab": {
          "base_uri": "https://localhost:8080/"
        },
        "id": "AoMqNutpwD08",
        "outputId": "f88b42f8-a3ea-44a6-f349-b4bc81a85bfa"
      },
      "outputs": [
        {
          "name": "stdout",
          "output_type": "stream",
          "text": [
            "100\n"
          ]
        }
      ],
      "source": [
        "#default argument\n",
        "def display(a=3):\n",
        "  print(a)\n",
        "display(100)"
      ]
    },
    {
      "cell_type": "code",
      "execution_count": null,
      "metadata": {
        "colab": {
          "base_uri": "https://localhost:8080/"
        },
        "id": "h0JK-F9_wtdb",
        "outputId": "9959817f-8b4f-4a5d-ab3c-01d006b3cdc0"
      },
      "outputs": [
        {
          "name": "stdout",
          "output_type": "stream",
          "text": [
            "ankit Akshat\n",
            "ankit akshat\n",
            "ankit akshat\n",
            "akshat ankit\n"
          ]
        }
      ],
      "source": [
        "#keyword argument or named arguments\n",
        "def display(a,b):\n",
        "  print(a,b)\n",
        "display(a='ankit',b='Akshat')\n",
        "display(b='akshat',a='ankit')\n",
        "display('ankit','akshat')\n",
        "display('akshat','ankit')"
      ]
    },
    {
      "cell_type": "code",
      "execution_count": null,
      "metadata": {
        "colab": {
          "base_uri": "https://localhost:8080/"
        },
        "id": "OpH5KnWxx2Nr",
        "outputId": "8ed7d3c1-de8b-4033-c267-f37836c7507a"
      },
      "outputs": [
        {
          "name": "stdout",
          "output_type": "stream",
          "text": [
            "ankit\n",
            "divya\n",
            "akshat\n",
            "laveen\n",
            "amit\n"
          ]
        }
      ],
      "source": [
        "#arbitrary keyword arguments (variable length arguments)\n",
        "#   first *args  (non keyword)    and second **kwargs (keyword)\n",
        "def display(*abc):\n",
        "  for a in abc:\n",
        "    print(a)\n",
        "display('ankit','divya','akshat','laveen','amit')"
      ]
    },
    {
      "cell_type": "code",
      "execution_count": null,
      "metadata": {
        "colab": {
          "base_uri": "https://localhost:8080/"
        },
        "id": "CzIsF8YhyzEh",
        "outputId": "d9026142-6a3a-4586-b349-87a9ccf08a99"
      },
      "outputs": [
        {
          "name": "stdout",
          "output_type": "stream",
          "text": [
            "name1 ankit\n",
            "name2 divya\n",
            "name3 akshat\n",
            "name4 laveen\n",
            "name5 amit\n",
            "name6 ankit\n"
          ]
        }
      ],
      "source": [
        "def display(**abc):\n",
        "  for a,b in abc.items():\n",
        "    print(a,b)\n",
        "display(name1='ankit',name2='divya',name3='akshat',name4='laveen',name5='amit',name6='ankit')"
      ]
    },
    {
      "cell_type": "code",
      "execution_count": null,
      "metadata": {
        "colab": {
          "base_uri": "https://localhost:8080/"
        },
        "id": "enCQJaGF0L2i",
        "outputId": "46fe3bc9-48f0-413b-8a5f-8e6c6d638b2b"
      },
      "outputs": [
        {
          "name": "stdout",
          "output_type": "stream",
          "text": [
            "odd\n",
            "function is defined to check if number is even or odd\n"
          ]
        }
      ],
      "source": [
        "def abc(a):\n",
        "  \"\"\"function is defined to check if number is even or odd\"\"\"\n",
        "  if(a%2==0):\n",
        "    print(\"even\")\n",
        "  else:\n",
        "    print(\"odd\")\n",
        "  \"\"\"function\"\"\"\n",
        "abc(19)\n",
        "\n",
        "print(abc.__doc__)"
      ]
    },
    {
      "cell_type": "code",
      "execution_count": null,
      "metadata": {
        "colab": {
          "base_uri": "https://localhost:8080/"
        },
        "id": "2YIBRJxK08xW",
        "outputId": "2b7b62a6-3a01-494c-b560-ac2abbfea6f3"
      },
      "outputs": [
        {
          "name": "stdout",
          "output_type": "stream",
          "text": [
            "print(value, ..., sep=' ', end='\\n', file=sys.stdout, flush=False)\n",
            "\n",
            "Prints the values to a stream, or to sys.stdout by default.\n",
            "Optional keyword arguments:\n",
            "file:  a file-like object (stream); defaults to the current sys.stdout.\n",
            "sep:   string inserted between values, default a space.\n",
            "end:   string appended after the last value, default a newline.\n",
            "flush: whether to forcibly flush the stream.\n"
          ]
        }
      ],
      "source": [
        "print(print.__doc__)"
      ]
    },
    {
      "cell_type": "markdown",
      "metadata": {
        "id": "tVezOYRYpuK9"
      },
      "source": [
        "#11th June\n",
        "\n",
        "```\n",
        "# This is formatted as code\n",
        "```\n",
        "\n"
      ]
    },
    {
      "cell_type": "code",
      "execution_count": null,
      "metadata": {
        "colab": {
          "base_uri": "https://localhost:8080/"
        },
        "id": "0AnqGcDGj1aM",
        "outputId": "331aa1da-9a5a-48a0-d963-078335317cd8"
      },
      "outputs": [
        {
          "name": "stdout",
          "output_type": "stream",
          "text": [
            "amit\n",
            "divya\n",
            "akshat\n"
          ]
        }
      ],
      "source": [
        "#11th June\n",
        "def abc(names):\n",
        "  for i in names:\n",
        "    print(i)\n",
        "abc(['amit','divya','akshat'])"
      ]
    },
    {
      "cell_type": "code",
      "execution_count": null,
      "metadata": {
        "colab": {
          "base_uri": "https://localhost:8080/"
        },
        "id": "vUkiyDsvouB2",
        "outputId": "d4174a5c-ca0b-4ae1-dbca-e2d9477dbfa4"
      },
      "outputs": [
        {
          "name": "stdout",
          "output_type": "stream",
          "text": [
            "7\n"
          ]
        }
      ],
      "source": [
        "def abc(a,b,/):\n",
        "  c=a+b\n",
        "  print(c)\n",
        "abc(3,4)"
      ]
    },
    {
      "cell_type": "code",
      "execution_count": null,
      "metadata": {
        "colab": {
          "base_uri": "https://localhost:8080/"
        },
        "id": "4opMjqsrpQd8",
        "outputId": "c7be0373-7883-4237-c2e6-a0daed7bed8d"
      },
      "outputs": [
        {
          "name": "stdout",
          "output_type": "stream",
          "text": [
            "7\n"
          ]
        }
      ],
      "source": [
        "def abc(*,a=4,b=6):\n",
        "  c=a+b\n",
        "  print(c)\n",
        "abc(a=3,b=4)"
      ]
    },
    {
      "cell_type": "code",
      "execution_count": null,
      "metadata": {
        "colab": {
          "base_uri": "https://localhost:8080/",
          "height": 106
        },
        "id": "ei_LxYWAoTA4",
        "outputId": "5ab8099b-90da-46e3-8e4f-7e4c5eccb58e"
      },
      "outputs": [
        {
          "ename": "SyntaxError",
          "evalue": "positional argument follows keyword argument (<ipython-input-18-fa7aa869f7c3>, line 3)",
          "output_type": "error",
          "traceback": [
            "\u001b[0;36m  File \u001b[0;32m\"<ipython-input-18-fa7aa869f7c3>\"\u001b[0;36m, line \u001b[0;32m3\u001b[0m\n\u001b[0;31m    abc(c=2,d=8,3,4)\u001b[0m\n\u001b[0m                   ^\u001b[0m\n\u001b[0;31mSyntaxError\u001b[0m\u001b[0;31m:\u001b[0m positional argument follows keyword argument\n"
          ]
        }
      ],
      "source": [
        "def abc(c,d,a,b):\n",
        "  print(a+b+c+d)\n",
        "abc(c=2,d=8,3,4)"
      ]
    },
    {
      "cell_type": "code",
      "execution_count": null,
      "metadata": {
        "colab": {
          "base_uri": "https://localhost:8080/"
        },
        "id": "h6-jQK8arOJK",
        "outputId": "15760747-8d15-4e78-d67e-bfd8a1084950"
      },
      "outputs": [
        {
          "name": "stdout",
          "output_type": "stream",
          "text": [
            "17\n"
          ]
        }
      ],
      "source": [
        "def abc(c,d,a,b):\n",
        "  print(a+b+c+d)\n",
        "abc(3,4,a=2,b=8)"
      ]
    },
    {
      "cell_type": "code",
      "execution_count": null,
      "metadata": {
        "colab": {
          "base_uri": "https://localhost:8080/"
        },
        "id": "wWMKUwPcqgua",
        "outputId": "f1f58ac4-6e75-4053-953a-b866332c59e2"
      },
      "outputs": [
        {
          "name": "stdout",
          "output_type": "stream",
          "text": [
            "8\n",
            "5\n"
          ]
        }
      ],
      "source": [
        "#Scope\n",
        "a=5\n",
        "def abc(a):\n",
        "  a=a+3\n",
        "  return a\n",
        "print(abc(a))\n",
        "def xyz(a):\n",
        "  print(a)\n",
        "xyz(a)"
      ]
    },
    {
      "cell_type": "code",
      "execution_count": null,
      "metadata": {
        "colab": {
          "base_uri": "https://localhost:8080/"
        },
        "id": "8dBlxuUUtFrt",
        "outputId": "2d8da420-f5e8-4969-9199-fd8aade8f0b9"
      },
      "outputs": [
        {
          "name": "stdout",
          "output_type": "stream",
          "text": [
            "8\n",
            "6\n"
          ]
        }
      ],
      "source": [
        "z=5\n",
        "def abc(z):\n",
        "  z=z+3\n",
        "  return z\n",
        "#abc(z)\n",
        "print(abc(z))\n",
        "z=z+4\n",
        "print(abc(3))"
      ]
    },
    {
      "cell_type": "code",
      "execution_count": null,
      "metadata": {
        "colab": {
          "base_uri": "https://localhost:8080/"
        },
        "id": "EK3TdxeEuVnm",
        "outputId": "ee9d942c-6429-4e30-bf91-d3a2c85a4508"
      },
      "outputs": [
        {
          "name": "stdout",
          "output_type": "stream",
          "text": [
            "6\n",
            "None\n",
            "3\n"
          ]
        }
      ],
      "source": [
        "a=3\n",
        "def lucky(a):\n",
        "  a=a+5\n",
        "  return a\n",
        "print(abc(a))\n",
        "def xyz(a):\n",
        "  print(a)\n",
        "xyz(a)"
      ]
    },
    {
      "cell_type": "code",
      "execution_count": null,
      "metadata": {
        "colab": {
          "base_uri": "https://localhost:8080/"
        },
        "id": "qSmELmtBvN2r",
        "outputId": "efa6d7e4-12f0-470b-8018-45989d8ce5e4"
      },
      "outputs": [
        {
          "name": "stdout",
          "output_type": "stream",
          "text": [
            "berries\n",
            "berries\n"
          ]
        }
      ],
      "source": [
        "fruit=\"apple\"\n",
        "def fruit_names():\n",
        "  global fruit1\n",
        "  fruit1=\"berries\"\n",
        "  print(fruit1)\n",
        "fruit_names()\n",
        "print(fruit1)"
      ]
    },
    {
      "cell_type": "code",
      "execution_count": null,
      "metadata": {
        "colab": {
          "base_uri": "https://localhost:8080/"
        },
        "id": "EArbp_LswBvp",
        "outputId": "011f859b-d973-4910-925f-5402bba4521e"
      },
      "outputs": [
        {
          "name": "stdout",
          "output_type": "stream",
          "text": [
            "I am from xyz function 20\n",
            "I am from abc function 10\n"
          ]
        }
      ],
      "source": [
        "def abc():\n",
        "  a=10\n",
        "  def xyz():\n",
        "    a=20\n",
        "    print(\"I am from xyz function\",a)\n",
        "  xyz()\n",
        "  print(\"I am from abc function\",a)\n",
        "abc()"
      ]
    },
    {
      "cell_type": "code",
      "execution_count": null,
      "metadata": {
        "colab": {
          "base_uri": "https://localhost:8080/",
          "height": 1000
        },
        "id": "ehdJtpnZwpLg",
        "outputId": "2867d5e1-18f5-458a-f99b-6d4053c1f8e7"
      },
      "outputs": [
        {
          "name": "stdout",
          "output_type": "stream",
          "text": [
            "Hello\n",
            "Hello\n",
            "Hello\n",
            "Hello\n",
            "Hello\n",
            "Hello\n",
            "Hello\n",
            "Hello\n",
            "Hello\n",
            "Hello\n",
            "Hello\n",
            "Hello\n",
            "Hello\n",
            "Hello\n",
            "Hello\n",
            "Hello\n",
            "Hello\n",
            "Hello\n",
            "Hello\n",
            "Hello\n",
            "Hello\n",
            "Hello\n",
            "Hello\n",
            "Hello\n",
            "Hello\n",
            "Hello\n",
            "Hello\n",
            "Hello\n",
            "Hello\n",
            "Hello\n",
            "Hello\n",
            "Hello\n",
            "Hello\n",
            "Hello\n",
            "Hello\n",
            "Hello\n",
            "Hello\n",
            "Hello\n",
            "Hello\n",
            "Hello\n",
            "Hello\n",
            "Hello\n",
            "Hello\n",
            "Hello\n",
            "Hello\n",
            "Hello\n",
            "Hello\n",
            "Hello\n",
            "Hello\n",
            "Hello\n",
            "Hello\n",
            "Hello\n",
            "Hello\n",
            "Hello\n",
            "Hello\n",
            "Hello\n",
            "Hello\n",
            "Hello\n",
            "Hello\n",
            "Hello\n",
            "Hello\n",
            "Hello\n",
            "Hello\n",
            "Hello\n",
            "Hello\n",
            "Hello\n",
            "Hello\n",
            "Hello\n",
            "Hello\n",
            "Hello\n",
            "Hello\n",
            "Hello\n",
            "Hello\n",
            "Hello\n",
            "Hello\n",
            "Hello\n",
            "Hello\n",
            "Hello\n",
            "Hello\n",
            "Hello\n",
            "Hello\n",
            "Hello\n",
            "Hello\n",
            "Hello\n",
            "Hello\n",
            "Hello\n",
            "Hello\n",
            "Hello\n",
            "Hello\n",
            "Hello\n",
            "Hello\n",
            "Hello\n",
            "Hello\n",
            "Hello\n",
            "Hello\n",
            "Hello\n",
            "Hello\n",
            "Hello\n",
            "Hello\n",
            "Hello\n",
            "Hello\n",
            "Hello\n",
            "Hello\n",
            "Hello\n",
            "Hello\n",
            "Hello\n",
            "Hello\n",
            "Hello\n",
            "Hello\n",
            "Hello\n",
            "Hello\n",
            "Hello\n",
            "Hello\n",
            "Hello\n",
            "Hello\n",
            "Hello\n",
            "Hello\n",
            "Hello\n",
            "Hello\n",
            "Hello\n",
            "Hello\n",
            "Hello\n",
            "Hello\n",
            "Hello\n",
            "Hello\n",
            "Hello\n",
            "Hello\n",
            "Hello\n",
            "Hello\n",
            "Hello\n",
            "Hello\n",
            "Hello\n",
            "Hello\n",
            "Hello\n",
            "Hello\n",
            "Hello\n",
            "Hello\n",
            "Hello\n",
            "Hello\n",
            "Hello\n",
            "Hello\n",
            "Hello\n",
            "Hello\n",
            "Hello\n",
            "Hello\n",
            "Hello\n",
            "Hello\n",
            "Hello\n",
            "Hello\n",
            "Hello\n",
            "Hello\n",
            "Hello\n",
            "Hello\n",
            "Hello\n",
            "Hello\n",
            "Hello\n",
            "Hello\n",
            "Hello\n",
            "Hello\n",
            "Hello\n",
            "Hello\n",
            "Hello\n",
            "Hello\n",
            "Hello\n",
            "Hello\n",
            "Hello\n",
            "Hello\n",
            "Hello\n",
            "Hello\n",
            "Hello\n",
            "Hello\n",
            "Hello\n",
            "Hello\n",
            "Hello\n",
            "Hello\n",
            "Hello\n",
            "Hello\n",
            "Hello\n",
            "Hello\n",
            "Hello\n",
            "Hello\n",
            "Hello\n",
            "Hello\n",
            "Hello\n",
            "Hello\n",
            "Hello\n",
            "Hello\n",
            "Hello\n",
            "Hello\n",
            "Hello\n",
            "Hello\n",
            "Hello\n",
            "Hello\n",
            "Hello\n",
            "Hello\n",
            "Hello\n",
            "Hello\n",
            "Hello\n",
            "Hello\n",
            "Hello\n",
            "Hello\n",
            "Hello\n",
            "Hello\n",
            "Hello\n",
            "Hello\n",
            "Hello\n",
            "Hello\n",
            "Hello\n",
            "Hello\n",
            "Hello\n",
            "Hello\n",
            "Hello\n",
            "Hello\n",
            "Hello\n",
            "Hello\n",
            "Hello\n",
            "Hello\n",
            "Hello\n",
            "Hello\n",
            "Hello\n",
            "Hello\n",
            "Hello\n",
            "Hello\n",
            "Hello\n",
            "Hello\n",
            "Hello\n",
            "Hello\n",
            "Hello\n",
            "Hello\n",
            "Hello\n",
            "Hello\n",
            "Hello\n",
            "Hello\n",
            "Hello\n",
            "Hello\n",
            "Hello\n",
            "Hello\n",
            "Hello\n",
            "Hello\n",
            "Hello\n",
            "Hello\n",
            "Hello\n",
            "Hello\n",
            "Hello\n",
            "Hello\n",
            "Hello\n",
            "Hello\n",
            "Hello\n",
            "Hello\n",
            "Hello\n",
            "Hello\n",
            "Hello\n",
            "Hello\n",
            "Hello\n",
            "Hello\n",
            "Hello\n",
            "Hello\n",
            "Hello\n",
            "Hello\n",
            "Hello\n",
            "Hello\n",
            "Hello\n",
            "Hello\n",
            "Hello\n",
            "Hello\n",
            "Hello\n",
            "Hello\n",
            "Hello\n",
            "Hello\n",
            "Hello\n",
            "Hello\n",
            "Hello\n",
            "Hello\n",
            "Hello\n",
            "Hello\n",
            "Hello\n",
            "Hello\n",
            "Hello\n",
            "Hello\n",
            "Hello\n",
            "Hello\n",
            "Hello\n",
            "Hello\n",
            "Hello\n",
            "Hello\n",
            "Hello\n",
            "Hello\n",
            "Hello\n",
            "Hello\n",
            "Hello\n",
            "Hello\n",
            "Hello\n",
            "Hello\n",
            "Hello\n",
            "Hello\n",
            "Hello\n",
            "Hello\n",
            "Hello\n",
            "Hello\n",
            "Hello\n",
            "Hello\n",
            "Hello\n",
            "Hello\n",
            "Hello\n",
            "Hello\n",
            "Hello\n",
            "Hello\n",
            "Hello\n",
            "Hello\n",
            "Hello\n",
            "Hello\n",
            "Hello\n",
            "Hello\n",
            "Hello\n",
            "Hello\n",
            "Hello\n",
            "Hello\n",
            "Hello\n",
            "Hello\n",
            "Hello\n",
            "Hello\n",
            "Hello\n",
            "Hello\n",
            "Hello\n",
            "Hello\n",
            "Hello\n",
            "Hello\n",
            "Hello\n",
            "Hello\n",
            "Hello\n",
            "Hello\n",
            "Hello\n",
            "Hello\n",
            "Hello\n",
            "Hello\n",
            "Hello\n",
            "Hello\n",
            "Hello\n",
            "Hello\n",
            "Hello\n",
            "Hello\n",
            "Hello\n",
            "Hello\n",
            "Hello\n",
            "Hello\n",
            "Hello\n",
            "Hello\n",
            "Hello\n",
            "Hello\n",
            "Hello\n",
            "Hello\n",
            "Hello\n",
            "Hello\n",
            "Hello\n",
            "Hello\n",
            "Hello\n",
            "Hello\n",
            "Hello\n",
            "Hello\n",
            "Hello\n",
            "Hello\n",
            "Hello\n",
            "Hello\n",
            "Hello\n",
            "Hello\n",
            "Hello\n",
            "Hello\n",
            "Hello\n",
            "Hello\n",
            "Hello\n",
            "Hello\n",
            "Hello\n",
            "Hello\n",
            "Hello\n",
            "Hello\n",
            "Hello\n",
            "Hello\n",
            "Hello\n",
            "Hello\n",
            "Hello\n",
            "Hello\n",
            "Hello\n",
            "Hello\n",
            "Hello\n",
            "Hello\n",
            "Hello\n",
            "Hello\n",
            "Hello\n",
            "Hello\n",
            "Hello\n",
            "Hello\n",
            "Hello\n",
            "Hello\n",
            "Hello\n",
            "Hello\n",
            "Hello\n",
            "Hello\n",
            "Hello\n",
            "Hello\n",
            "Hello\n",
            "Hello\n",
            "Hello\n",
            "Hello\n",
            "Hello\n",
            "Hello\n",
            "Hello\n",
            "Hello\n",
            "Hello\n",
            "Hello\n",
            "Hello\n",
            "Hello\n",
            "Hello\n",
            "Hello\n",
            "Hello\n",
            "Hello\n",
            "Hello\n",
            "Hello\n",
            "Hello\n",
            "Hello\n",
            "Hello\n",
            "Hello\n",
            "Hello\n",
            "Hello\n",
            "Hello\n",
            "Hello\n",
            "Hello\n",
            "Hello\n",
            "Hello\n",
            "Hello\n",
            "Hello\n",
            "Hello\n",
            "Hello\n",
            "Hello\n",
            "Hello\n",
            "Hello\n",
            "Hello\n",
            "Hello\n",
            "Hello\n",
            "Hello\n",
            "Hello\n",
            "Hello\n",
            "Hello\n",
            "Hello\n",
            "Hello\n",
            "Hello\n",
            "Hello\n",
            "Hello\n",
            "Hello\n",
            "Hello\n",
            "Hello\n",
            "Hello\n",
            "Hello\n",
            "Hello\n",
            "Hello\n",
            "Hello\n",
            "Hello\n",
            "Hello\n",
            "Hello\n",
            "Hello\n",
            "Hello\n",
            "Hello\n",
            "Hello\n",
            "Hello\n",
            "Hello\n",
            "Hello\n",
            "Hello\n",
            "Hello\n",
            "Hello\n",
            "Hello\n",
            "Hello\n",
            "Hello\n",
            "Hello\n",
            "Hello\n",
            "Hello\n",
            "Hello\n",
            "Hello\n",
            "Hello\n",
            "Hello\n",
            "Hello\n",
            "Hello\n",
            "Hello\n",
            "Hello\n",
            "Hello\n",
            "Hello\n",
            "Hello\n",
            "Hello\n",
            "Hello\n",
            "Hello\n",
            "Hello\n",
            "Hello\n",
            "Hello\n",
            "Hello\n",
            "Hello\n",
            "Hello\n",
            "Hello\n",
            "Hello\n",
            "Hello\n",
            "Hello\n",
            "Hello\n",
            "Hello\n",
            "Hello\n",
            "Hello\n",
            "Hello\n",
            "Hello\n",
            "Hello\n",
            "Hello\n",
            "Hello\n",
            "Hello\n",
            "Hello\n",
            "Hello\n",
            "Hello\n",
            "Hello\n",
            "Hello\n",
            "Hello\n",
            "Hello\n",
            "Hello\n",
            "Hello\n",
            "Hello\n",
            "Hello\n",
            "Hello\n",
            "Hello\n",
            "Hello\n",
            "Hello\n",
            "Hello\n",
            "Hello\n",
            "Hello\n",
            "Hello\n",
            "Hello\n",
            "Hello\n",
            "Hello\n",
            "Hello\n",
            "Hello\n",
            "Hello\n",
            "Hello\n",
            "Hello\n",
            "Hello\n",
            "Hello\n",
            "Hello\n",
            "Hello\n",
            "Hello\n",
            "Hello\n",
            "Hello\n",
            "Hello\n",
            "Hello\n",
            "Hello\n",
            "Hello\n",
            "Hello\n",
            "Hello\n",
            "Hello\n",
            "Hello\n",
            "Hello\n",
            "Hello\n",
            "Hello\n",
            "Hello\n",
            "Hello\n",
            "Hello\n",
            "Hello\n",
            "Hello\n",
            "Hello\n",
            "Hello\n",
            "Hello\n",
            "Hello\n",
            "Hello\n",
            "Hello\n",
            "Hello\n",
            "Hello\n",
            "Hello\n",
            "Hello\n",
            "Hello\n",
            "Hello\n",
            "Hello\n",
            "Hello\n",
            "Hello\n",
            "Hello\n",
            "Hello\n",
            "Hello\n",
            "Hello\n",
            "Hello\n",
            "Hello\n",
            "Hello\n",
            "Hello\n",
            "Hello\n",
            "Hello\n",
            "Hello\n",
            "Hello\n",
            "Hello\n",
            "Hello\n",
            "Hello\n",
            "Hello\n",
            "Hello\n",
            "Hello\n",
            "Hello\n",
            "Hello\n",
            "Hello\n",
            "Hello\n",
            "Hello\n",
            "Hello\n",
            "Hello\n",
            "Hello\n",
            "Hello\n",
            "Hello\n",
            "Hello\n",
            "Hello\n",
            "Hello\n",
            "Hello\n",
            "Hello\n",
            "Hello\n",
            "Hello\n",
            "Hello\n",
            "Hello\n",
            "Hello\n",
            "Hello\n",
            "Hello\n",
            "Hello\n",
            "Hello\n",
            "Hello\n",
            "Hello\n",
            "Hello\n",
            "Hello\n",
            "Hello\n",
            "Hello\n",
            "Hello\n",
            "Hello\n",
            "Hello\n",
            "Hello\n",
            "Hello\n",
            "Hello\n",
            "Hello\n",
            "Hello\n",
            "Hello\n",
            "Hello\n",
            "Hello\n",
            "Hello\n",
            "Hello\n",
            "Hello\n",
            "Hello\n",
            "Hello\n",
            "Hello\n",
            "Hello\n",
            "Hello\n",
            "Hello\n",
            "Hello\n",
            "Hello\n",
            "Hello\n",
            "Hello\n",
            "Hello\n",
            "Hello\n",
            "Hello\n",
            "Hello\n",
            "Hello\n",
            "Hello\n",
            "Hello\n",
            "Hello\n",
            "Hello\n",
            "Hello\n",
            "Hello\n",
            "Hello\n",
            "Hello\n",
            "Hello\n",
            "Hello\n",
            "Hello\n",
            "Hello\n",
            "Hello\n",
            "Hello\n",
            "Hello\n",
            "Hello\n",
            "Hello\n",
            "Hello\n",
            "Hello\n",
            "Hello\n",
            "Hello\n",
            "Hello\n",
            "Hello\n",
            "Hello\n",
            "Hello\n",
            "Hello\n",
            "Hello\n",
            "Hello\n",
            "Hello\n",
            "Hello\n",
            "Hello\n",
            "Hello\n",
            "Hello\n",
            "Hello\n",
            "Hello\n",
            "Hello\n",
            "Hello\n",
            "Hello\n",
            "Hello\n",
            "Hello\n",
            "Hello\n",
            "Hello\n",
            "Hello\n",
            "Hello\n",
            "Hello\n",
            "Hello\n",
            "Hello\n",
            "Hello\n",
            "Hello\n",
            "Hello\n",
            "Hello\n",
            "Hello\n",
            "Hello\n",
            "Hello\n",
            "Hello\n",
            "Hello\n",
            "Hello\n",
            "Hello\n",
            "Hello\n",
            "Hello\n",
            "Hello\n",
            "Hello\n",
            "Hello\n",
            "Hello\n",
            "Hello\n",
            "Hello\n",
            "Hello\n",
            "Hello\n",
            "Hello\n",
            "Hello\n",
            "Hello\n",
            "Hello\n",
            "Hello\n",
            "Hello\n",
            "Hello\n",
            "Hello\n",
            "Hello\n",
            "Hello\n",
            "Hello\n",
            "Hello\n",
            "Hello\n",
            "Hello\n",
            "Hello\n",
            "Hello\n",
            "Hello\n",
            "Hello\n",
            "Hello\n",
            "Hello\n",
            "Hello\n",
            "Hello\n",
            "Hello\n",
            "Hello\n",
            "Hello\n",
            "Hello\n",
            "Hello\n",
            "Hello\n",
            "Hello\n",
            "Hello\n",
            "Hello\n",
            "Hello\n",
            "Hello\n",
            "Hello\n",
            "Hello\n",
            "Hello\n",
            "Hello\n",
            "Hello\n",
            "Hello\n",
            "Hello\n",
            "Hello\n",
            "Hello\n",
            "Hello\n",
            "Hello\n",
            "Hello\n",
            "Hello\n",
            "Hello\n",
            "Hello\n",
            "Hello\n",
            "Hello\n",
            "Hello\n",
            "Hello\n",
            "Hello\n",
            "Hello\n",
            "Hello\n",
            "Hello\n",
            "Hello\n",
            "Hello\n",
            "Hello\n",
            "Hello\n",
            "Hello\n",
            "Hello\n",
            "Hello\n",
            "Hello\n",
            "Hello\n",
            "Hello\n",
            "Hello\n",
            "Hello\n",
            "Hello\n",
            "Hello\n",
            "Hello\n",
            "Hello\n",
            "Hello\n",
            "Hello\n",
            "Hello\n",
            "Hello\n",
            "Hello\n",
            "Hello\n",
            "Hello\n",
            "Hello\n",
            "Hello\n",
            "Hello\n",
            "Hello\n",
            "Hello\n",
            "Hello\n",
            "Hello\n",
            "Hello\n",
            "Hello\n",
            "Hello\n",
            "Hello\n",
            "Hello\n",
            "Hello\n",
            "Hello\n",
            "Hello\n",
            "Hello\n",
            "Hello\n",
            "Hello\n",
            "Hello\n",
            "Hello\n",
            "Hello\n",
            "Hello\n",
            "Hello\n",
            "Hello\n",
            "Hello\n",
            "Hello\n",
            "Hello\n",
            "Hello\n",
            "Hello\n",
            "Hello\n",
            "Hello\n",
            "Hello\n",
            "Hello\n",
            "Hello\n",
            "Hello\n",
            "Hello\n",
            "Hello\n",
            "Hello\n",
            "Hello\n",
            "Hello\n",
            "Hello\n",
            "Hello\n",
            "Hello\n",
            "Hello\n",
            "Hello\n",
            "Hello\n",
            "Hello\n",
            "Hello\n",
            "Hello\n",
            "Hello\n",
            "Hello\n",
            "Hello\n",
            "Hello\n",
            "Hello\n",
            "Hello\n",
            "Hello\n",
            "Hello\n",
            "Hello\n",
            "Hello\n",
            "Hello\n",
            "Hello\n",
            "Hello\n",
            "Hello\n",
            "Hello\n",
            "Hello\n",
            "Hello\n",
            "Hello\n",
            "Hello\n",
            "Hello\n",
            "Hello\n",
            "Hello\n",
            "Hello\n",
            "Hello\n",
            "Hello\n",
            "Hello\n",
            "Hello\n",
            "Hello\n",
            "Hello\n",
            "Hello\n",
            "Hello\n",
            "Hello\n",
            "Hello\n",
            "Hello\n",
            "Hello\n",
            "Hello\n",
            "Hello\n",
            "Hello\n",
            "Hello\n",
            "Hello\n",
            "Hello\n",
            "Hello\n",
            "Hello\n",
            "Hello\n",
            "Hello\n",
            "Hello\n",
            "Hello\n",
            "Hello\n",
            "Hello\n",
            "Hello\n",
            "Hello\n",
            "Hello\n",
            "Hello\n",
            "Hello\n",
            "Hello\n",
            "Hello\n",
            "Hello\n",
            "Hello\n",
            "Hello\n",
            "Hello\n",
            "Hello\n",
            "Hello\n",
            "Hello\n",
            "Hello\n",
            "Hello\n",
            "Hello\n",
            "Hello\n",
            "Hello\n",
            "Hello\n",
            "Hello\n",
            "Hello\n",
            "Hello\n",
            "Hello\n",
            "Hello\n",
            "Hello\n",
            "Hello\n",
            "Hello\n",
            "Hello\n",
            "Hello\n",
            "Hello\n",
            "Hello\n",
            "Hello\n",
            "Hello\n",
            "Hello\n",
            "Hello\n",
            "Hello\n",
            "Hello\n",
            "Hello\n",
            "Hello\n",
            "Hello\n",
            "Hello\n",
            "Hello\n",
            "Hello\n",
            "Hello\n",
            "Hello\n",
            "Hello\n",
            "Hello\n",
            "Hello\n",
            "Hello\n",
            "Hello\n",
            "Hello\n",
            "Hello\n",
            "Hello\n",
            "Hello\n",
            "Hello\n",
            "Hello\n",
            "Hello\n",
            "Hello\n"
          ]
        },
        {
          "name": "stderr",
          "output_type": "stream",
          "text": [
            "ERROR:root:Internal Python error in the inspect module.\n",
            "Below is the traceback from this internal error.\n",
            "\n"
          ]
        },
        {
          "name": "stdout",
          "output_type": "stream",
          "text": [
            "Traceback (most recent call last):\n",
            "  File \"/usr/lib/python3.10/threading.py\", line 1116, in _wait_for_tstate_lock\n",
            "    if lock.acquire(block, timeout):\n",
            "RecursionError: maximum recursion depth exceeded while calling a Python object\n",
            "\n",
            "During handling of the above exception, another exception occurred:\n",
            "\n",
            "Traceback (most recent call last):\n",
            "  File \"/usr/local/lib/python3.10/dist-packages/IPython/core/interactiveshell.py\", line 3553, in run_code\n",
            "    exec(code_obj, self.user_global_ns, self.user_ns)\n",
            "  File \"<ipython-input-41-72d32d33d829>\", line 6, in <cell line: 6>\n",
            "    hello()\n",
            "  File \"<ipython-input-41-72d32d33d829>\", line 4, in hello\n",
            "    hello()\n",
            "  File \"<ipython-input-41-72d32d33d829>\", line 4, in hello\n",
            "    hello()\n",
            "  File \"<ipython-input-41-72d32d33d829>\", line 4, in hello\n",
            "    hello()\n",
            "  [Previous line repeated 951 more times]\n",
            "  File \"<ipython-input-41-72d32d33d829>\", line 3, in hello\n",
            "    print(\"Hello\")\n",
            "  File \"/usr/local/lib/python3.10/dist-packages/ipykernel/iostream.py\", line 402, in write\n",
            "    self.pub_thread.schedule(lambda : self._buffer.write(string))\n",
            "  File \"/usr/local/lib/python3.10/dist-packages/ipykernel/iostream.py\", line 200, in schedule\n",
            "    if self.thread.is_alive():\n",
            "  File \"/usr/lib/python3.10/threading.py\", line 1180, in is_alive\n",
            "    self._wait_for_tstate_lock(False)\n",
            "  File \"/usr/lib/python3.10/threading.py\", line 1120, in _wait_for_tstate_lock\n",
            "    if lock.locked():\n",
            "RecursionError: maximum recursion depth exceeded while calling a Python object\n",
            "\n",
            "During handling of the above exception, another exception occurred:\n",
            "\n",
            "Traceback (most recent call last):\n",
            "  File \"/usr/local/lib/python3.10/dist-packages/IPython/core/interactiveshell.py\", line 2099, in showtraceback\n",
            "    stb = value._render_traceback_()\n",
            "AttributeError: 'RecursionError' object has no attribute '_render_traceback_'\n",
            "\n",
            "During handling of the above exception, another exception occurred:\n",
            "\n",
            "Traceback (most recent call last):\n",
            "  File \"/usr/local/lib/python3.10/dist-packages/IPython/core/ultratb.py\", line 1101, in get_records\n",
            "    return _fixed_getinnerframes(etb, number_of_lines_of_context, tb_offset)\n",
            "  File \"/usr/local/lib/python3.10/dist-packages/IPython/core/ultratb.py\", line 248, in wrapped\n",
            "    return f(*args, **kwargs)\n",
            "  File \"/usr/local/lib/python3.10/dist-packages/IPython/core/ultratb.py\", line 281, in _fixed_getinnerframes\n",
            "    records = fix_frame_records_filenames(inspect.getinnerframes(etb, context))\n",
            "  File \"/usr/lib/python3.10/inspect.py\", line 1662, in getinnerframes\n",
            "    frameinfo = (tb.tb_frame,) + getframeinfo(tb, context)\n",
            "  File \"/usr/lib/python3.10/inspect.py\", line 1620, in getframeinfo\n",
            "    filename = getsourcefile(frame) or getfile(frame)\n",
            "  File \"/usr/lib/python3.10/inspect.py\", line 829, in getsourcefile\n",
            "    module = getmodule(object, filename)\n",
            "  File \"/usr/lib/python3.10/inspect.py\", line 869, in getmodule\n",
            "    if ismodule(module) and hasattr(module, '__file__'):\n",
            "  File \"/usr/lib/python3.10/inspect.py\", line 182, in ismodule\n",
            "    def ismodule(object):\n",
            "KeyboardInterrupt\n"
          ]
        },
        {
          "ename": "TypeError",
          "evalue": "object of type 'NoneType' has no len()",
          "output_type": "error",
          "traceback": [
            "\u001b[0;31m---------------------------------------------------------------------------\u001b[0m",
            "\u001b[0;31mRecursionError\u001b[0m                            Traceback (most recent call last)",
            "\u001b[0;32m/usr/lib/python3.10/threading.py\u001b[0m in \u001b[0;36m_wait_for_tstate_lock\u001b[0;34m(self, block, timeout)\u001b[0m\n\u001b[1;32m   1115\u001b[0m         \u001b[0;32mtry\u001b[0m\u001b[0;34m:\u001b[0m\u001b[0;34m\u001b[0m\u001b[0;34m\u001b[0m\u001b[0m\n\u001b[0;32m-> 1116\u001b[0;31m             \u001b[0;32mif\u001b[0m \u001b[0mlock\u001b[0m\u001b[0;34m.\u001b[0m\u001b[0macquire\u001b[0m\u001b[0;34m(\u001b[0m\u001b[0mblock\u001b[0m\u001b[0;34m,\u001b[0m \u001b[0mtimeout\u001b[0m\u001b[0;34m)\u001b[0m\u001b[0;34m:\u001b[0m\u001b[0;34m\u001b[0m\u001b[0;34m\u001b[0m\u001b[0m\n\u001b[0m\u001b[1;32m   1117\u001b[0m                 \u001b[0mlock\u001b[0m\u001b[0;34m.\u001b[0m\u001b[0mrelease\u001b[0m\u001b[0;34m(\u001b[0m\u001b[0;34m)\u001b[0m\u001b[0;34m\u001b[0m\u001b[0;34m\u001b[0m\u001b[0m\n",
            "\u001b[0;31mRecursionError\u001b[0m: maximum recursion depth exceeded while calling a Python object",
            "\nDuring handling of the above exception, another exception occurred:\n",
            "\u001b[0;31mRecursionError\u001b[0m                            Traceback (most recent call last)",
            "    \u001b[0;31m[... skipping hidden 1 frame]\u001b[0m\n",
            "\u001b[0;32m<ipython-input-41-72d32d33d829>\u001b[0m in \u001b[0;36m<cell line: 6>\u001b[0;34m()\u001b[0m\n\u001b[1;32m      5\u001b[0m \u001b[0;34m\u001b[0m\u001b[0m\n\u001b[0;32m----> 6\u001b[0;31m \u001b[0mhello\u001b[0m\u001b[0;34m(\u001b[0m\u001b[0;34m)\u001b[0m\u001b[0;34m\u001b[0m\u001b[0;34m\u001b[0m\u001b[0m\n\u001b[0m",
            "\u001b[0;32m<ipython-input-41-72d32d33d829>\u001b[0m in \u001b[0;36mhello\u001b[0;34m()\u001b[0m\n\u001b[1;32m      3\u001b[0m   \u001b[0mprint\u001b[0m\u001b[0;34m(\u001b[0m\u001b[0;34m\"Hello\"\u001b[0m\u001b[0;34m)\u001b[0m\u001b[0;34m\u001b[0m\u001b[0;34m\u001b[0m\u001b[0m\n\u001b[0;32m----> 4\u001b[0;31m   \u001b[0mhello\u001b[0m\u001b[0;34m(\u001b[0m\u001b[0;34m)\u001b[0m\u001b[0;34m\u001b[0m\u001b[0;34m\u001b[0m\u001b[0m\n\u001b[0m\u001b[1;32m      5\u001b[0m \u001b[0;34m\u001b[0m\u001b[0m\n",
            "... last 1 frames repeated, from the frame below ...\n",
            "\u001b[0;32m<ipython-input-41-72d32d33d829>\u001b[0m in \u001b[0;36mhello\u001b[0;34m()\u001b[0m\n\u001b[1;32m      3\u001b[0m   \u001b[0mprint\u001b[0m\u001b[0;34m(\u001b[0m\u001b[0;34m\"Hello\"\u001b[0m\u001b[0;34m)\u001b[0m\u001b[0;34m\u001b[0m\u001b[0;34m\u001b[0m\u001b[0m\n\u001b[0;32m----> 4\u001b[0;31m   \u001b[0mhello\u001b[0m\u001b[0;34m(\u001b[0m\u001b[0;34m)\u001b[0m\u001b[0;34m\u001b[0m\u001b[0;34m\u001b[0m\u001b[0m\n\u001b[0m\u001b[1;32m      5\u001b[0m \u001b[0;34m\u001b[0m\u001b[0m\n",
            "\u001b[0;31mRecursionError\u001b[0m: maximum recursion depth exceeded while calling a Python object",
            "\nDuring handling of the above exception, another exception occurred:\n",
            "\u001b[0;31mAttributeError\u001b[0m                            Traceback (most recent call last)",
            "\u001b[0;32m/usr/local/lib/python3.10/dist-packages/IPython/core/interactiveshell.py\u001b[0m in \u001b[0;36mshowtraceback\u001b[0;34m(self, exc_tuple, filename, tb_offset, exception_only, running_compiled_code)\u001b[0m\n\u001b[1;32m   2098\u001b[0m                         \u001b[0;31m# in the engines. This should return a list of strings.\u001b[0m\u001b[0;34m\u001b[0m\u001b[0;34m\u001b[0m\u001b[0m\n\u001b[0;32m-> 2099\u001b[0;31m                         \u001b[0mstb\u001b[0m \u001b[0;34m=\u001b[0m \u001b[0mvalue\u001b[0m\u001b[0;34m.\u001b[0m\u001b[0m_render_traceback_\u001b[0m\u001b[0;34m(\u001b[0m\u001b[0;34m)\u001b[0m\u001b[0;34m\u001b[0m\u001b[0;34m\u001b[0m\u001b[0m\n\u001b[0m\u001b[1;32m   2100\u001b[0m                     \u001b[0;32mexcept\u001b[0m \u001b[0mException\u001b[0m\u001b[0;34m:\u001b[0m\u001b[0;34m\u001b[0m\u001b[0;34m\u001b[0m\u001b[0m\n",
            "\u001b[0;31mAttributeError\u001b[0m: 'RecursionError' object has no attribute '_render_traceback_'",
            "\nDuring handling of the above exception, another exception occurred:\n",
            "\u001b[0;31mTypeError\u001b[0m                                 Traceback (most recent call last)",
            "    \u001b[0;31m[... skipping hidden 1 frame]\u001b[0m\n",
            "\u001b[0;32m/usr/local/lib/python3.10/dist-packages/IPython/core/interactiveshell.py\u001b[0m in \u001b[0;36mshowtraceback\u001b[0;34m(self, exc_tuple, filename, tb_offset, exception_only, running_compiled_code)\u001b[0m\n\u001b[1;32m   2099\u001b[0m                         \u001b[0mstb\u001b[0m \u001b[0;34m=\u001b[0m \u001b[0mvalue\u001b[0m\u001b[0;34m.\u001b[0m\u001b[0m_render_traceback_\u001b[0m\u001b[0;34m(\u001b[0m\u001b[0;34m)\u001b[0m\u001b[0;34m\u001b[0m\u001b[0;34m\u001b[0m\u001b[0m\n\u001b[1;32m   2100\u001b[0m                     \u001b[0;32mexcept\u001b[0m \u001b[0mException\u001b[0m\u001b[0;34m:\u001b[0m\u001b[0;34m\u001b[0m\u001b[0;34m\u001b[0m\u001b[0m\n\u001b[0;32m-> 2101\u001b[0;31m                         stb = self.InteractiveTB.structured_traceback(etype,\n\u001b[0m\u001b[1;32m   2102\u001b[0m                                             value, tb, tb_offset=tb_offset)\n\u001b[1;32m   2103\u001b[0m \u001b[0;34m\u001b[0m\u001b[0m\n",
            "\u001b[0;32m/usr/local/lib/python3.10/dist-packages/IPython/core/ultratb.py\u001b[0m in \u001b[0;36mstructured_traceback\u001b[0;34m(self, etype, value, tb, tb_offset, number_of_lines_of_context)\u001b[0m\n\u001b[1;32m   1365\u001b[0m         \u001b[0;32melse\u001b[0m\u001b[0;34m:\u001b[0m\u001b[0;34m\u001b[0m\u001b[0;34m\u001b[0m\u001b[0m\n\u001b[1;32m   1366\u001b[0m             \u001b[0mself\u001b[0m\u001b[0;34m.\u001b[0m\u001b[0mtb\u001b[0m \u001b[0;34m=\u001b[0m \u001b[0mtb\u001b[0m\u001b[0;34m\u001b[0m\u001b[0;34m\u001b[0m\u001b[0m\n\u001b[0;32m-> 1367\u001b[0;31m         return FormattedTB.structured_traceback(\n\u001b[0m\u001b[1;32m   1368\u001b[0m             self, etype, value, tb, tb_offset, number_of_lines_of_context)\n\u001b[1;32m   1369\u001b[0m \u001b[0;34m\u001b[0m\u001b[0m\n",
            "\u001b[0;32m/usr/local/lib/python3.10/dist-packages/IPython/core/ultratb.py\u001b[0m in \u001b[0;36mstructured_traceback\u001b[0;34m(self, etype, value, tb, tb_offset, number_of_lines_of_context)\u001b[0m\n\u001b[1;32m   1265\u001b[0m         \u001b[0;32mif\u001b[0m \u001b[0mmode\u001b[0m \u001b[0;32min\u001b[0m \u001b[0mself\u001b[0m\u001b[0;34m.\u001b[0m\u001b[0mverbose_modes\u001b[0m\u001b[0;34m:\u001b[0m\u001b[0;34m\u001b[0m\u001b[0;34m\u001b[0m\u001b[0m\n\u001b[1;32m   1266\u001b[0m             \u001b[0;31m# Verbose modes need a full traceback\u001b[0m\u001b[0;34m\u001b[0m\u001b[0;34m\u001b[0m\u001b[0m\n\u001b[0;32m-> 1267\u001b[0;31m             return VerboseTB.structured_traceback(\n\u001b[0m\u001b[1;32m   1268\u001b[0m                 \u001b[0mself\u001b[0m\u001b[0;34m,\u001b[0m \u001b[0metype\u001b[0m\u001b[0;34m,\u001b[0m \u001b[0mvalue\u001b[0m\u001b[0;34m,\u001b[0m \u001b[0mtb\u001b[0m\u001b[0;34m,\u001b[0m \u001b[0mtb_offset\u001b[0m\u001b[0;34m,\u001b[0m \u001b[0mnumber_of_lines_of_context\u001b[0m\u001b[0;34m\u001b[0m\u001b[0;34m\u001b[0m\u001b[0m\n\u001b[1;32m   1269\u001b[0m             )\n",
            "\u001b[0;32m/usr/local/lib/python3.10/dist-packages/IPython/core/ultratb.py\u001b[0m in \u001b[0;36mstructured_traceback\u001b[0;34m(self, etype, evalue, etb, tb_offset, number_of_lines_of_context)\u001b[0m\n\u001b[1;32m   1122\u001b[0m         \u001b[0;34m\"\"\"Return a nice text document describing the traceback.\"\"\"\u001b[0m\u001b[0;34m\u001b[0m\u001b[0;34m\u001b[0m\u001b[0m\n\u001b[1;32m   1123\u001b[0m \u001b[0;34m\u001b[0m\u001b[0m\n\u001b[0;32m-> 1124\u001b[0;31m         formatted_exception = self.format_exception_as_a_whole(etype, evalue, etb, number_of_lines_of_context,\n\u001b[0m\u001b[1;32m   1125\u001b[0m                                                                tb_offset)\n\u001b[1;32m   1126\u001b[0m \u001b[0;34m\u001b[0m\u001b[0m\n",
            "\u001b[0;32m/usr/local/lib/python3.10/dist-packages/IPython/core/ultratb.py\u001b[0m in \u001b[0;36mformat_exception_as_a_whole\u001b[0;34m(self, etype, evalue, etb, number_of_lines_of_context, tb_offset)\u001b[0m\n\u001b[1;32m   1080\u001b[0m \u001b[0;34m\u001b[0m\u001b[0m\n\u001b[1;32m   1081\u001b[0m \u001b[0;34m\u001b[0m\u001b[0m\n\u001b[0;32m-> 1082\u001b[0;31m         \u001b[0mlast_unique\u001b[0m\u001b[0;34m,\u001b[0m \u001b[0mrecursion_repeat\u001b[0m \u001b[0;34m=\u001b[0m \u001b[0mfind_recursion\u001b[0m\u001b[0;34m(\u001b[0m\u001b[0morig_etype\u001b[0m\u001b[0;34m,\u001b[0m \u001b[0mevalue\u001b[0m\u001b[0;34m,\u001b[0m \u001b[0mrecords\u001b[0m\u001b[0;34m)\u001b[0m\u001b[0;34m\u001b[0m\u001b[0;34m\u001b[0m\u001b[0m\n\u001b[0m\u001b[1;32m   1083\u001b[0m \u001b[0;34m\u001b[0m\u001b[0m\n\u001b[1;32m   1084\u001b[0m         \u001b[0mframes\u001b[0m \u001b[0;34m=\u001b[0m \u001b[0mself\u001b[0m\u001b[0;34m.\u001b[0m\u001b[0mformat_records\u001b[0m\u001b[0;34m(\u001b[0m\u001b[0mrecords\u001b[0m\u001b[0;34m,\u001b[0m \u001b[0mlast_unique\u001b[0m\u001b[0;34m,\u001b[0m \u001b[0mrecursion_repeat\u001b[0m\u001b[0;34m)\u001b[0m\u001b[0;34m\u001b[0m\u001b[0;34m\u001b[0m\u001b[0m\n",
            "\u001b[0;32m/usr/local/lib/python3.10/dist-packages/IPython/core/ultratb.py\u001b[0m in \u001b[0;36mfind_recursion\u001b[0;34m(etype, value, records)\u001b[0m\n\u001b[1;32m    379\u001b[0m     \u001b[0;31m# quarter of the traceback (250 frames by default) is repeats, and find the\u001b[0m\u001b[0;34m\u001b[0m\u001b[0;34m\u001b[0m\u001b[0m\n\u001b[1;32m    380\u001b[0m     \u001b[0;31m# first frame (from in to out) that looks different.\u001b[0m\u001b[0;34m\u001b[0m\u001b[0;34m\u001b[0m\u001b[0m\n\u001b[0;32m--> 381\u001b[0;31m     \u001b[0;32mif\u001b[0m \u001b[0;32mnot\u001b[0m \u001b[0mis_recursion_error\u001b[0m\u001b[0;34m(\u001b[0m\u001b[0metype\u001b[0m\u001b[0;34m,\u001b[0m \u001b[0mvalue\u001b[0m\u001b[0;34m,\u001b[0m \u001b[0mrecords\u001b[0m\u001b[0;34m)\u001b[0m\u001b[0;34m:\u001b[0m\u001b[0;34m\u001b[0m\u001b[0;34m\u001b[0m\u001b[0m\n\u001b[0m\u001b[1;32m    382\u001b[0m         \u001b[0;32mreturn\u001b[0m \u001b[0mlen\u001b[0m\u001b[0;34m(\u001b[0m\u001b[0mrecords\u001b[0m\u001b[0;34m)\u001b[0m\u001b[0;34m,\u001b[0m \u001b[0;36m0\u001b[0m\u001b[0;34m\u001b[0m\u001b[0;34m\u001b[0m\u001b[0m\n\u001b[1;32m    383\u001b[0m \u001b[0;34m\u001b[0m\u001b[0m\n",
            "\u001b[0;32m/usr/local/lib/python3.10/dist-packages/IPython/core/ultratb.py\u001b[0m in \u001b[0;36mis_recursion_error\u001b[0;34m(etype, value, records)\u001b[0m\n\u001b[1;32m    366\u001b[0m     \u001b[0;32mreturn\u001b[0m \u001b[0;34m(\u001b[0m\u001b[0metype\u001b[0m \u001b[0;32mis\u001b[0m \u001b[0mrecursion_error_type\u001b[0m\u001b[0;34m)\u001b[0m\u001b[0;31m \u001b[0m\u001b[0;31m\\\u001b[0m\u001b[0;34m\u001b[0m\u001b[0;34m\u001b[0m\u001b[0m\n\u001b[1;32m    367\u001b[0m            \u001b[0;32mand\u001b[0m \u001b[0;34m\"recursion\"\u001b[0m \u001b[0;32min\u001b[0m \u001b[0mstr\u001b[0m\u001b[0;34m(\u001b[0m\u001b[0mvalue\u001b[0m\u001b[0;34m)\u001b[0m\u001b[0;34m.\u001b[0m\u001b[0mlower\u001b[0m\u001b[0;34m(\u001b[0m\u001b[0;34m)\u001b[0m\u001b[0;31m \u001b[0m\u001b[0;31m\\\u001b[0m\u001b[0;34m\u001b[0m\u001b[0;34m\u001b[0m\u001b[0m\n\u001b[0;32m--> 368\u001b[0;31m            \u001b[0;32mand\u001b[0m \u001b[0mlen\u001b[0m\u001b[0;34m(\u001b[0m\u001b[0mrecords\u001b[0m\u001b[0;34m)\u001b[0m \u001b[0;34m>\u001b[0m \u001b[0m_FRAME_RECURSION_LIMIT\u001b[0m\u001b[0;34m\u001b[0m\u001b[0;34m\u001b[0m\u001b[0m\n\u001b[0m\u001b[1;32m    369\u001b[0m \u001b[0;34m\u001b[0m\u001b[0m\n\u001b[1;32m    370\u001b[0m \u001b[0;32mdef\u001b[0m \u001b[0mfind_recursion\u001b[0m\u001b[0;34m(\u001b[0m\u001b[0metype\u001b[0m\u001b[0;34m,\u001b[0m \u001b[0mvalue\u001b[0m\u001b[0;34m,\u001b[0m \u001b[0mrecords\u001b[0m\u001b[0;34m)\u001b[0m\u001b[0;34m:\u001b[0m\u001b[0;34m\u001b[0m\u001b[0;34m\u001b[0m\u001b[0m\n",
            "\u001b[0;31mTypeError\u001b[0m: object of type 'NoneType' has no len()"
          ]
        }
      ],
      "source": [
        "#Recursion\n",
        "def hello():\n",
        "  print(\"Hello\")\n",
        "  hello()\n",
        "\n",
        "hello()"
      ]
    },
    {
      "cell_type": "code",
      "execution_count": null,
      "metadata": {
        "colab": {
          "base_uri": "https://localhost:8080/"
        },
        "id": "RYUXNdAUxDKf",
        "outputId": "5b71da7b-6d85-42fd-e319-f13d7184872b"
      },
      "outputs": [
        {
          "name": "stdout",
          "output_type": "stream",
          "text": [
            "24\n"
          ]
        }
      ],
      "source": [
        "a=lambda y,z,u:z+y+u\n",
        "print(a(7,8,9))"
      ]
    },
    {
      "cell_type": "code",
      "execution_count": null,
      "metadata": {
        "colab": {
          "base_uri": "https://localhost:8080/"
        },
        "id": "dQJ50tmk1nhn",
        "outputId": "84f817e7-ceee-4b60-dd0e-a498f0f3613a"
      },
      "outputs": [
        {
          "name": "stdout",
          "output_type": "stream",
          "text": [
            "-1\n"
          ]
        }
      ],
      "source": [
        "def abc(a):\n",
        "  return lambda z:z-a\n",
        "a=abc(4)\n",
        "print(a(3))"
      ]
    },
    {
      "cell_type": "code",
      "execution_count": null,
      "metadata": {
        "colab": {
          "base_uri": "https://localhost:8080/"
        },
        "id": "l9nhhp_Q2inh",
        "outputId": "003c71d4-ca45-4dcb-857d-98c0c7756c6e"
      },
      "outputs": [
        {
          "name": "stdout",
          "output_type": "stream",
          "text": [
            "16\n"
          ]
        }
      ],
      "source": [
        "print((lambda z:z*2) (8))"
      ]
    },
    {
      "cell_type": "code",
      "execution_count": null,
      "metadata": {
        "colab": {
          "base_uri": "https://localhost:8080/"
        },
        "id": "SNru2p-H249r",
        "outputId": "71b26f08-25f4-4d50-a33f-77cb4d1f4e1a"
      },
      "outputs": [
        {
          "name": "stdout",
          "output_type": "stream",
          "text": [
            "45\n"
          ]
        }
      ],
      "source": [
        "x=lambda : sum(range(1,10))\n",
        "print(x())"
      ]
    },
    {
      "cell_type": "code",
      "execution_count": null,
      "metadata": {
        "colab": {
          "base_uri": "https://localhost:8080/"
        },
        "id": "wQPEWISt30dY",
        "outputId": "76d4a811-8ccc-40a2-c630-efa1bae6b2c7"
      },
      "outputs": [
        {
          "name": "stdout",
          "output_type": "stream",
          "text": [
            "c\n",
            "d\n",
            "a\n",
            "b\n"
          ]
        }
      ],
      "source": [
        "def display():\n",
        "  print('a')\n",
        "  print('b')\n",
        "  return\n",
        "print('c')\n",
        "print('d')\n",
        "display()"
      ]
    },
    {
      "cell_type": "code",
      "execution_count": null,
      "metadata": {
        "colab": {
          "base_uri": "https://localhost:8080/"
        },
        "id": "W_b6TCLC4YYX",
        "outputId": "f5e17eb6-c019-47a4-ffc5-a53f9a91084b"
      },
      "outputs": [
        {
          "name": "stdout",
          "output_type": "stream",
          "text": [
            "0\n",
            "1\n",
            "2\n",
            "3\n",
            "4\n",
            "5\n",
            "6\n",
            "7\n",
            "8\n",
            "9\n"
          ]
        }
      ],
      "source": [
        "def display(x):\n",
        "  for i in range(x):\n",
        "    print(i)\n",
        "display(10)"
      ]
    },
    {
      "cell_type": "code",
      "execution_count": null,
      "metadata": {
        "colab": {
          "base_uri": "https://localhost:8080/"
        },
        "id": "LY55eDvi45km",
        "outputId": "61369c0c-88aa-44c3-fa9a-b64092c15ef9"
      },
      "outputs": [
        {
          "name": "stdout",
          "output_type": "stream",
          "text": [
            "10\n",
            "10\n"
          ]
        }
      ],
      "source": [
        "num=10\n",
        "def show():\n",
        "  var=20\n",
        "  print(num)\n",
        "show()\n",
        "print(num)"
      ]
    },
    {
      "cell_type": "code",
      "execution_count": null,
      "metadata": {
        "colab": {
          "base_uri": "https://localhost:8080/"
        },
        "id": "52m0nuIu5OQp",
        "outputId": "b846a4f5-74bb-437c-c971-99de898fff81"
      },
      "outputs": [
        {
          "name": "stdout",
          "output_type": "stream",
          "text": [
            "Hello world\n",
            "Welcome\n"
          ]
        }
      ],
      "source": [
        "def f():\n",
        "  s=\"Hello world\"\n",
        "  print(s)\n",
        "s=\"Welcome\"\n",
        "f()\n",
        "print(s)"
      ]
    },
    {
      "cell_type": "code",
      "execution_count": null,
      "metadata": {
        "colab": {
          "base_uri": "https://localhost:8080/"
        },
        "id": "0QDeFyWU5w9j",
        "outputId": "5f821a2a-c403-4735-bbf4-54824da0b2c9"
      },
      "outputs": [
        {
          "name": "stdout",
          "output_type": "stream",
          "text": [
            "100\n",
            "10\n"
          ]
        }
      ],
      "source": [
        "def f():\n",
        "  global var\n",
        "  print(var)\n",
        "  var=10\n",
        "  print(var)\n",
        "var=100\n",
        "f()"
      ]
    },
    {
      "cell_type": "code",
      "execution_count": null,
      "metadata": {
        "colab": {
          "base_uri": "https://localhost:8080/"
        },
        "id": "DkwCsEiL6UCx",
        "outputId": "5f569ee2-d647-4fc6-ef3c-4f562a85812c"
      },
      "outputs": [
        {
          "name": "stdout",
          "output_type": "stream",
          "text": [
            "Hello WOrld!\n"
          ]
        }
      ],
      "source": [
        "def display(str):\n",
        "  print(str+\"!\")\n",
        "display(\"Hello WOrld\")"
      ]
    },
    {
      "cell_type": "code",
      "execution_count": null,
      "metadata": {
        "colab": {
          "base_uri": "https://localhost:8080/"
        },
        "id": "fwM4NMSz7JBV",
        "outputId": "7b16e723-3389-46d2-83a8-0661f22e73b5"
      },
      "outputs": [
        {
          "name": "stdout",
          "output_type": "stream",
          "text": [
            "50\n",
            "50\n"
          ]
        }
      ],
      "source": [
        "def mul_twice(x,y):\n",
        "  print(x*y)\n",
        "  print(x*y)\n",
        "mul_twice(5,10)"
      ]
    },
    {
      "cell_type": "code",
      "execution_count": null,
      "metadata": {
        "colab": {
          "base_uri": "https://localhost:8080/"
        },
        "id": "rWGKgr177_LY",
        "outputId": "61983b43-6779-494e-d095-cd8e2df91264"
      },
      "outputs": [
        {
          "name": "stdout",
          "output_type": "stream",
          "text": [
            "x= 10\n",
            "x is now= 100\n",
            "x= 100\n"
          ]
        }
      ],
      "source": [
        "def func():\n",
        "  global x_1\n",
        "  print(\"x=\",x_1)\n",
        "  x_1=100\n",
        "  print('x is now=',x_1)\n",
        "x_1=10\n",
        "func()\n",
        "print('x=',x_1)"
      ]
    },
    {
      "cell_type": "code",
      "execution_count": null,
      "metadata": {
        "colab": {
          "base_uri": "https://localhost:8080/"
        },
        "id": "Hdfg50lk9ulr",
        "outputId": "1dc4dce4-e8b3-4689-e75f-8566d490cfeb"
      },
      "outputs": [
        {
          "name": "stdout",
          "output_type": "stream",
          "text": [
            "False\n"
          ]
        }
      ],
      "source": [
        "def is_even(x):\n",
        "  if x==0:\n",
        "    return True\n",
        "  else:\n",
        "    return is_odd(x-1)\n",
        "def is_odd(x):\n",
        "  return not is_even(x)\n",
        "print(is_even(21))"
      ]
    },
    {
      "cell_type": "markdown",
      "metadata": {
        "id": "bmeATtXuqOJy"
      },
      "source": [
        "#12th june 2024"
      ]
    },
    {
      "cell_type": "code",
      "execution_count": null,
      "metadata": {
        "colab": {
          "base_uri": "https://localhost:8080/"
        },
        "id": "zOwcrt4nqRwu",
        "outputId": "bca6a730-a75b-490b-defd-67c6b43d58a8"
      },
      "outputs": [
        {
          "name": "stdout",
          "output_type": "stream",
          "text": [
            "1\n"
          ]
        }
      ],
      "source": [
        "x = 1\n",
        "while True:\n",
        "  print(x)\n",
        "  break\n"
      ]
    },
    {
      "cell_type": "code",
      "execution_count": null,
      "metadata": {
        "colab": {
          "base_uri": "https://localhost:8080/"
        },
        "id": "Dybi2iEM04Ol",
        "outputId": "d8eca29a-45a1-4010-9839-aad454c330cf"
      },
      "outputs": [
        {
          "name": "stdout",
          "output_type": "stream",
          "text": [
            "circle\n",
            "circle\n",
            "smooth\n",
            "rough\n"
          ]
        }
      ],
      "source": [
        "# classes/Objects\n",
        "class first:\n",
        "  shape=\"circle\"\n",
        "  texture=\"smooth\"\n",
        "b1=first()\n",
        "b2=first()\n",
        "b3=first()\n",
        "print(b1.shape)\n",
        "print(b2.shape)\n",
        "b3.texture=\"rough\"\n",
        "print(b2.texture)\n",
        "print(b3.texture)"
      ]
    },
    {
      "cell_type": "code",
      "execution_count": null,
      "metadata": {
        "colab": {
          "base_uri": "https://localhost:8080/"
        },
        "id": "02v5MWsY2o0d",
        "outputId": "7ecff2fd-e20f-4d6e-b814-4c61f512e8d1"
      },
      "outputs": [
        {
          "name": "stdout",
          "output_type": "stream",
          "text": [
            "I am an object small\n",
            "I am an object big\n"
          ]
        }
      ],
      "source": [
        "class shapes:\n",
        "  def __init__(self, texture, size):\n",
        "    self.texture=texture\n",
        "    self.size=size\n",
        "  def display(self):\n",
        "    print(\"I am an object\",self.size)\n",
        "o1=shapes(\"rough\",\"small\")\n",
        "o2=shapes(\"smooth\",\"big\")\n",
        "o1.display()\n",
        "o2.display()\n",
        "\n"
      ]
    },
    {
      "cell_type": "code",
      "execution_count": null,
      "metadata": {
        "colab": {
          "base_uri": "https://localhost:8080/",
          "height": 228
        },
        "id": "y0NvZb4N525K",
        "outputId": "a01b71cb-5ceb-408c-db55-d7dbd145c25d"
      },
      "outputs": [
        {
          "name": "stdout",
          "output_type": "stream",
          "text": [
            "6\n",
            "18\n",
            "6\n"
          ]
        },
        {
          "ename": "NameError",
          "evalue": "name 'h2' is not defined",
          "output_type": "error",
          "traceback": [
            "\u001b[0;31m---------------------------------------------------------------------------\u001b[0m",
            "\u001b[0;31mNameError\u001b[0m                                 Traceback (most recent call last)",
            "\u001b[0;32m<ipython-input-30-4f80667358ec>\u001b[0m in \u001b[0;36m<cell line: 14>\u001b[0;34m()\u001b[0m\n\u001b[1;32m     12\u001b[0m \u001b[0mprint\u001b[0m\u001b[0;34m(\u001b[0m\u001b[0mh2\u001b[0m\u001b[0;34m.\u001b[0m\u001b[0mh\u001b[0m\u001b[0;34m)\u001b[0m\u001b[0;34m\u001b[0m\u001b[0;34m\u001b[0m\u001b[0m\n\u001b[1;32m     13\u001b[0m \u001b[0;32mdel\u001b[0m \u001b[0mh2\u001b[0m\u001b[0;34m\u001b[0m\u001b[0;34m\u001b[0m\u001b[0m\n\u001b[0;32m---> 14\u001b[0;31m \u001b[0mprint\u001b[0m\u001b[0;34m(\u001b[0m\u001b[0mh2\u001b[0m\u001b[0;34m.\u001b[0m\u001b[0ma\u001b[0m\u001b[0;34m)\u001b[0m\u001b[0;34m\u001b[0m\u001b[0;34m\u001b[0m\u001b[0m\n\u001b[0m",
            "\u001b[0;31mNameError\u001b[0m: name 'h2' is not defined"
          ]
        }
      ],
      "source": [
        "class Human:\n",
        "  def __init__(self,name,age,height,weight):\n",
        "    self.n=name\n",
        "    self.a=age\n",
        "    self.h=height\n",
        "    self.w=weight\n",
        "h1=Human(\"Nitish\",18,6,60)\n",
        "h2=Human(\"Nitika\",18,6,60)\n",
        "h3=Human(\"Isha\",18,6,60)\n",
        "print(h1.h)\n",
        "print(h1.a)\n",
        "print(h2.h)\n",
        "del h2\n",
        "print(h2.a)"
      ]
    },
    {
      "cell_type": "code",
      "execution_count": null,
      "metadata": {
        "colab": {
          "base_uri": "https://localhost:8080/",
          "height": 356
        },
        "id": "N-7_qxde-_13",
        "outputId": "151f9063-58b6-4342-bef3-5340cec6c706"
      },
      "outputs": [
        {
          "ename": "KeyboardInterrupt",
          "evalue": "Interrupted by user",
          "output_type": "error",
          "traceback": [
            "\u001b[0;31m---------------------------------------------------------------------------\u001b[0m",
            "\u001b[0;31mKeyboardInterrupt\u001b[0m                         Traceback (most recent call last)",
            "\u001b[0;32m<ipython-input-26-5c4fa2a5965d>\u001b[0m in \u001b[0;36m<cell line: 7>\u001b[0;34m()\u001b[0m\n\u001b[1;32m      6\u001b[0m \u001b[0mstudents\u001b[0m\u001b[0;34m=\u001b[0m\u001b[0;34m[\u001b[0m\u001b[0;34m]\u001b[0m\u001b[0;34m\u001b[0m\u001b[0;34m\u001b[0m\u001b[0m\n\u001b[1;32m      7\u001b[0m \u001b[0;32mfor\u001b[0m \u001b[0mi\u001b[0m \u001b[0;32min\u001b[0m \u001b[0mrange\u001b[0m\u001b[0;34m(\u001b[0m\u001b[0;36m1\u001b[0m\u001b[0;34m,\u001b[0m\u001b[0;36m3\u001b[0m\u001b[0;34m)\u001b[0m\u001b[0;34m:\u001b[0m\u001b[0;34m\u001b[0m\u001b[0;34m\u001b[0m\u001b[0m\n\u001b[0;32m----> 8\u001b[0;31m   \u001b[0mn\u001b[0m\u001b[0;34m=\u001b[0m\u001b[0minput\u001b[0m\u001b[0;34m(\u001b[0m\u001b[0;34m\"enter name of student\"\u001b[0m\u001b[0;34m)\u001b[0m\u001b[0;34m\u001b[0m\u001b[0;34m\u001b[0m\u001b[0m\n\u001b[0m\u001b[1;32m      9\u001b[0m   \u001b[0ma\u001b[0m\u001b[0;34m=\u001b[0m\u001b[0mint\u001b[0m\u001b[0;34m(\u001b[0m\u001b[0minput\u001b[0m\u001b[0;34m(\u001b[0m\u001b[0;34m\"enter age of stduent\"\u001b[0m\u001b[0;34m)\u001b[0m\u001b[0;34m)\u001b[0m\u001b[0;34m\u001b[0m\u001b[0;34m\u001b[0m\u001b[0m\n\u001b[1;32m     10\u001b[0m   \u001b[0mstudents\u001b[0m\u001b[0;34m.\u001b[0m\u001b[0mappend\u001b[0m\u001b[0;34m(\u001b[0m\u001b[0mstudent\u001b[0m\u001b[0;34m(\u001b[0m\u001b[0mn\u001b[0m\u001b[0;34m,\u001b[0m\u001b[0ma\u001b[0m\u001b[0;34m)\u001b[0m\u001b[0;34m)\u001b[0m\u001b[0;34m\u001b[0m\u001b[0;34m\u001b[0m\u001b[0m\n",
            "\u001b[0;32m/usr/local/lib/python3.10/dist-packages/ipykernel/kernelbase.py\u001b[0m in \u001b[0;36mraw_input\u001b[0;34m(self, prompt)\u001b[0m\n\u001b[1;32m    849\u001b[0m                 \u001b[0;34m\"raw_input was called, but this frontend does not support input requests.\"\u001b[0m\u001b[0;34m\u001b[0m\u001b[0;34m\u001b[0m\u001b[0m\n\u001b[1;32m    850\u001b[0m             )\n\u001b[0;32m--> 851\u001b[0;31m         return self._input_request(str(prompt),\n\u001b[0m\u001b[1;32m    852\u001b[0m             \u001b[0mself\u001b[0m\u001b[0;34m.\u001b[0m\u001b[0m_parent_ident\u001b[0m\u001b[0;34m,\u001b[0m\u001b[0;34m\u001b[0m\u001b[0;34m\u001b[0m\u001b[0m\n\u001b[1;32m    853\u001b[0m             \u001b[0mself\u001b[0m\u001b[0;34m.\u001b[0m\u001b[0m_parent_header\u001b[0m\u001b[0;34m,\u001b[0m\u001b[0;34m\u001b[0m\u001b[0;34m\u001b[0m\u001b[0m\n",
            "\u001b[0;32m/usr/local/lib/python3.10/dist-packages/ipykernel/kernelbase.py\u001b[0m in \u001b[0;36m_input_request\u001b[0;34m(self, prompt, ident, parent, password)\u001b[0m\n\u001b[1;32m    893\u001b[0m             \u001b[0;32mexcept\u001b[0m \u001b[0mKeyboardInterrupt\u001b[0m\u001b[0;34m:\u001b[0m\u001b[0;34m\u001b[0m\u001b[0;34m\u001b[0m\u001b[0m\n\u001b[1;32m    894\u001b[0m                 \u001b[0;31m# re-raise KeyboardInterrupt, to truncate traceback\u001b[0m\u001b[0;34m\u001b[0m\u001b[0;34m\u001b[0m\u001b[0m\n\u001b[0;32m--> 895\u001b[0;31m                 \u001b[0;32mraise\u001b[0m \u001b[0mKeyboardInterrupt\u001b[0m\u001b[0;34m(\u001b[0m\u001b[0;34m\"Interrupted by user\"\u001b[0m\u001b[0;34m)\u001b[0m \u001b[0;32mfrom\u001b[0m \u001b[0;32mNone\u001b[0m\u001b[0;34m\u001b[0m\u001b[0;34m\u001b[0m\u001b[0m\n\u001b[0m\u001b[1;32m    896\u001b[0m             \u001b[0;32mexcept\u001b[0m \u001b[0mException\u001b[0m \u001b[0;32mas\u001b[0m \u001b[0me\u001b[0m\u001b[0;34m:\u001b[0m\u001b[0;34m\u001b[0m\u001b[0;34m\u001b[0m\u001b[0m\n\u001b[1;32m    897\u001b[0m                 \u001b[0mself\u001b[0m\u001b[0;34m.\u001b[0m\u001b[0mlog\u001b[0m\u001b[0;34m.\u001b[0m\u001b[0mwarning\u001b[0m\u001b[0;34m(\u001b[0m\u001b[0;34m\"Invalid Message:\"\u001b[0m\u001b[0;34m,\u001b[0m \u001b[0mexc_info\u001b[0m\u001b[0;34m=\u001b[0m\u001b[0;32mTrue\u001b[0m\u001b[0;34m)\u001b[0m\u001b[0;34m\u001b[0m\u001b[0;34m\u001b[0m\u001b[0m\n",
            "\u001b[0;31mKeyboardInterrupt\u001b[0m: Interrupted by user"
          ]
        }
      ],
      "source": [
        "class student:\n",
        "  section=\"K22FG\" #class variable\n",
        "  def __init__(self,name,reg):\n",
        "    self.n=name\n",
        "    self.r=reg\n",
        "students=[]\n",
        "for i in range(1,3):\n",
        "  n=input(\"enter name of student\")\n",
        "  a=int(input(\"enter age of stduent\"))\n",
        "  students.append(student(n,a))\n",
        "\n",
        "#print(students)\n",
        "for i in students:\n",
        "  print(i.n)\n",
        "  print(i.r)\n",
        "  print(i.section)"
      ]
    },
    {
      "cell_type": "code",
      "execution_count": null,
      "metadata": {
        "colab": {
          "base_uri": "https://localhost:8080/",
          "height": 228
        },
        "id": "-MOYX1KRAPM2",
        "outputId": "cd811ec7-fbed-4410-c803-37d55bb03ebd"
      },
      "outputs": [
        {
          "name": "stdout",
          "output_type": "stream",
          "text": [
            "Enter the name:ankit\n",
            "Enter the section:k\n",
            "Enter the registration number:12\n"
          ]
        },
        {
          "ename": "IndexError",
          "evalue": "list assignment index out of range",
          "output_type": "error",
          "traceback": [
            "\u001b[0;31m---------------------------------------------------------------------------\u001b[0m",
            "\u001b[0;31mIndexError\u001b[0m                                Traceback (most recent call last)",
            "\u001b[0;32m<ipython-input-16-96a51563d652>\u001b[0m in \u001b[0;36m<cell line: 7>\u001b[0;34m()\u001b[0m\n\u001b[1;32m      9\u001b[0m   \u001b[0msec\u001b[0m\u001b[0;34m=\u001b[0m\u001b[0minput\u001b[0m\u001b[0;34m(\u001b[0m\u001b[0;34m\"Enter the section:\"\u001b[0m\u001b[0;34m)\u001b[0m\u001b[0;34m\u001b[0m\u001b[0;34m\u001b[0m\u001b[0m\n\u001b[1;32m     10\u001b[0m   \u001b[0mreg\u001b[0m\u001b[0;34m=\u001b[0m\u001b[0mint\u001b[0m\u001b[0;34m(\u001b[0m\u001b[0minput\u001b[0m\u001b[0;34m(\u001b[0m\u001b[0;34m\"Enter the registration number:\"\u001b[0m\u001b[0;34m)\u001b[0m\u001b[0;34m)\u001b[0m\u001b[0;34m\u001b[0m\u001b[0;34m\u001b[0m\u001b[0m\n\u001b[0;32m---> 11\u001b[0;31m   \u001b[0ml1\u001b[0m\u001b[0;34m[\u001b[0m\u001b[0mi\u001b[0m\u001b[0;34m]\u001b[0m\u001b[0;34m=\u001b[0m\u001b[0minfo\u001b[0m\u001b[0;34m(\u001b[0m\u001b[0mname\u001b[0m\u001b[0;34m,\u001b[0m\u001b[0msec\u001b[0m\u001b[0;34m,\u001b[0m\u001b[0mreg\u001b[0m\u001b[0;34m)\u001b[0m\u001b[0;34m\u001b[0m\u001b[0;34m\u001b[0m\u001b[0m\n\u001b[0m",
            "\u001b[0;31mIndexError\u001b[0m: list assignment index out of range"
          ]
        }
      ],
      "source": [
        "class info:\n",
        "  def __init__(self,name,sec_name,reg_no):\n",
        "    self.name=name\n",
        "    self.sec_name=sec_name\n",
        "    self.reg_no=reg_no\n",
        "l1=[]\n",
        "for i in range(20):\n",
        "  name=input(\"Enter the name:\")\n",
        "  sec=input(\"Enter the section:\")\n",
        "  reg=int(input(\"Enter the registration number:\"))\n",
        "  l1[i]=info(name,sec,reg)"
      ]
    },
    {
      "cell_type": "code",
      "execution_count": null,
      "metadata": {
        "colab": {
          "base_uri": "https://localhost:8080/"
        },
        "id": "TmCsKQ0QDRYH",
        "outputId": "578337c7-b453-4093-fbb1-ac9adc29225d"
      },
      "outputs": [
        {
          "name": "stdout",
          "output_type": "stream",
          "text": [
            "5\n",
            "15\n",
            "I am from f1\n",
            "15 I am from f2 function\n",
            "I am from f2\n",
            "5\n"
          ]
        }
      ],
      "source": [
        "class abc:\n",
        "  a=1 #class varaiable\n",
        "  def f1(self):\n",
        "    global b\n",
        "    b=15\n",
        "    print(\"I am from f1\")\n",
        "  def f2(self):\n",
        "    print(b,\"I am from f2 function\")\n",
        "    print(\"I am from f2\")\n",
        "  a=5\n",
        "  print(a)\n",
        "  print(b)\n",
        "a1=abc()\n",
        "a1.f1()\n",
        "a1.f2()\n",
        "a2=abc()\n",
        "print(a2.a)\n"
      ]
    },
    {
      "cell_type": "code",
      "execution_count": null,
      "metadata": {
        "colab": {
          "base_uri": "https://localhost:8080/"
        },
        "id": "-CHDfueAaOA8",
        "outputId": "424dc9b0-2f5e-4b8a-db66-26e0078cc607"
      },
      "outputs": [
        {
          "name": "stdout",
          "output_type": "stream",
          "text": [
            "5\n",
            "15\n",
            "15\n",
            "I am from f1\n"
          ]
        }
      ],
      "source": [
        "#13th June\n",
        "class abc:\n",
        "  a=1 #class variable\n",
        "  def f1(self):\n",
        "    global c\n",
        "    c=15\n",
        "    print(\"I am from f1\")\n",
        "  def f2(self):\n",
        "    print(c,\"I am from f2 function\")\n",
        "    print(\"I am from f2\")\n",
        "  a=5\n",
        "a1=abc()\n",
        "print(c)\n",
        "a1.f1()\n",
        "\n",
        "\n"
      ]
    },
    {
      "cell_type": "code",
      "execution_count": null,
      "metadata": {
        "colab": {
          "base_uri": "https://localhost:8080/"
        },
        "id": "ud6oPVOo1Ufa",
        "outputId": "3a1473be-3a05-4084-a4b9-e21373bdf480"
      },
      "outputs": [
        {
          "name": "stdout",
          "output_type": "stream",
          "text": [
            "amit 23\n",
            "namit 30\n",
            "Jalandhar\n",
            "Jalandhar\n",
            "Jalandhar\n"
          ]
        }
      ],
      "source": [
        "#13th June\n",
        "class person:\n",
        "  addr=\"Jalandhar\" #class variable\n",
        "  def __init__(self,name,age):\n",
        "    self.n=name   #instance/object variables\n",
        "    self.a=age\n",
        "    print(self.n,self.a)\n",
        "p1=person(\"amit\",23)\n",
        "p2=person(\"namit\",30)\n",
        "print(p1.addr)\n",
        "print(p2.addr)\n",
        "print(person.addr)\n"
      ]
    },
    {
      "cell_type": "code",
      "execution_count": null,
      "metadata": {
        "colab": {
          "base_uri": "https://localhost:8080/"
        },
        "id": "FM9bXjZJ8V3d",
        "outputId": "35fd6b0f-cffb-4295-e8e7-8c4750dfb763"
      },
      "outputs": [
        {
          "name": "stdout",
          "output_type": "stream",
          "text": [
            "amit 23\n"
          ]
        }
      ],
      "source": [
        "#public variables/private vaiables\n",
        "class person:\n",
        "  def __init__(self,name,age):\n",
        "    self.n=name   #public variable\n",
        "    self.__a=age    #private variable\n",
        "    #print(self.__a) #accessible within program\n",
        "p1=person(\"amit\",23)\n",
        "p2=person(\"namit\",30)\n",
        "#print(p1.__a) not accessible because it is private\n",
        "print(p1.n,p1._person__a) #to access private variable outside the class defininition\n"
      ]
    },
    {
      "cell_type": "code",
      "execution_count": null,
      "metadata": {
        "colab": {
          "base_uri": "https://localhost:8080/"
        },
        "id": "eUxKtEaw99k_",
        "outputId": "585a39c5-d224-45b5-8734-64d383d87d10"
      },
      "outputs": [
        {
          "name": "stdout",
          "output_type": "stream",
          "text": [
            "I am initialized\n",
            "I am a public method\n",
            "I am private method\n"
          ]
        }
      ],
      "source": [
        "#private methods\n",
        "class A:\n",
        "  def __init__(self):\n",
        "    print(\"I am initialized\")\n",
        "  def display(self):    #public method\n",
        "    print(\"I am a public method\")\n",
        "  def __show(self):     #private method\n",
        "    print(\"I am private method\")\n",
        "\n",
        "a1=A()\n",
        "a1.display() #private method is called\n",
        "a1._A__show() #public method is called outside the class definition\n"
      ]
    },
    {
      "cell_type": "code",
      "execution_count": null,
      "metadata": {
        "colab": {
          "base_uri": "https://localhost:8080/"
        },
        "id": "1v7bqbVVASRQ",
        "outputId": "646eb199-70f0-4d23-ab0f-eebaa2bc2432"
      },
      "outputs": [
        {
          "name": "stdout",
          "output_type": "stream",
          "text": [
            "enter name of studentamit\n",
            "enter age of stduent12\n",
            "enter name of studentanh\n",
            "enter age of stduent23\n",
            "total objects 2\n",
            "amit\n",
            "12\n",
            "K22FG\n",
            "anh\n",
            "23\n",
            "K22FG\n"
          ]
        }
      ],
      "source": [
        "#To display total number of objects created\n",
        "class student:\n",
        "  k=0\n",
        "  section=\"K22FG\" #class variable\n",
        "  def __init__(self,name,reg):\n",
        "    self.n=name\n",
        "    self.r=reg\n",
        "    student.k=student.k+1\n",
        "students=[]\n",
        "for i in range(1,3):\n",
        "  n=input(\"enter name of student\")\n",
        "  a=int(input(\"enter age of stduent\"))\n",
        "  students.append(student(n,a))\n",
        "print(\"total objects\",student.k)\n",
        "#print(students)\n",
        "for i in students:\n",
        "  print(i.n)\n",
        "  print(i.r)\n",
        "  print(i.section)"
      ]
    },
    {
      "cell_type": "code",
      "execution_count": null,
      "metadata": {
        "colab": {
          "base_uri": "https://localhost:8080/"
        },
        "id": "QHU0EntsBML5",
        "outputId": "79ac70e4-d689-454c-fc9b-5252f1a55cd1"
      },
      "outputs": [
        {
          "name": "stdout",
          "output_type": "stream",
          "text": [
            "10\n"
          ]
        }
      ],
      "source": [
        "class one:\n",
        "  counter=0\n",
        "  def __init__(self):\n",
        "    one.counter+=1\n",
        "l1=[]\n",
        "for i in range(10):\n",
        "  l1.append(one())\n",
        "print(one.counter)"
      ]
    },
    {
      "cell_type": "code",
      "execution_count": null,
      "metadata": {
        "colab": {
          "base_uri": "https://localhost:8080/"
        },
        "id": "0E854EM9DyDY",
        "outputId": "8335c288-bbae-43c2-9559-c941bb126dd8"
      },
      "outputs": [
        {
          "name": "stdout",
          "output_type": "stream",
          "text": [
            "full name is Ankit Rangra\n"
          ]
        }
      ],
      "source": [
        "#Same methods in class definition\n",
        "class two:\n",
        "  def ankit(self):\n",
        "    print(\"first name is Ankit\")\n",
        "  def ankit(self):\n",
        "    print(\"last name is Rangra\")\n",
        "  def ankit(self):\n",
        "    print(\"full name is Ankit Rangra\")\n",
        "a=two()\n",
        "a.ankit()"
      ]
    },
    {
      "cell_type": "code",
      "execution_count": null,
      "metadata": {
        "colab": {
          "base_uri": "https://localhost:8080/"
        },
        "id": "Ws8FaYNYFz3m",
        "outputId": "5482386c-4ab6-4c91-dc18-b26b6fc9c82d"
      },
      "outputs": [
        {
          "name": "stdout",
          "output_type": "stream",
          "text": [
            "Square =  144\n"
          ]
        }
      ],
      "source": [
        "#function call inside definition of another function\n",
        "\n",
        "class Three:\n",
        "  def __init__(self, num):\n",
        "    self.num = num\n",
        "\n",
        "  def show_square(self):\n",
        "    square = self.area_square(self.num)\n",
        "    print(\"Square = \",square)\n",
        "\n",
        "  def area_square(self, a):\n",
        "    return a * a\n",
        "practice = Three(12)\n",
        "practice.show_square()"
      ]
    },
    {
      "cell_type": "code",
      "execution_count": null,
      "metadata": {
        "colab": {
          "base_uri": "https://localhost:8080/"
        },
        "id": "Zevw4fOdI45E",
        "outputId": "93cb726a-0946-4774-a985-f253645e2d7c"
      },
      "outputs": [
        {
          "name": "stdout",
          "output_type": "stream",
          "text": [
            "I am from function first 3\n"
          ]
        }
      ],
      "source": [
        "class three:\n",
        "  def __init__(self):\n",
        "    self.a=1\n",
        "  def first(self):\n",
        "    self.b=3\n",
        "    print(\"I am from function first\",self.b)\n",
        "  def second(self):\n",
        "    #print(self.a+self.b)\n",
        "    self.first()\n",
        "\n",
        "a=three()\n",
        "#a.first()\n",
        "a.second()"
      ]
    },
    {
      "cell_type": "code",
      "execution_count": null,
      "metadata": {
        "colab": {
          "base_uri": "https://localhost:8080/"
        },
        "id": "QwX42raNKHAu",
        "outputId": "9840df7b-1146-4f1c-ff39-b25dfcb22e36"
      },
      "outputs": [
        {
          "name": "stdout",
          "output_type": "stream",
          "text": [
            "I am initialized\n",
            "I am defined outside\n",
            "I am insider but being called from outsider\n"
          ]
        }
      ],
      "source": [
        "#call function inside the class but defined outside the class\n",
        "\n",
        "def outsider():\n",
        "  print(\"I am defined outside\")\n",
        "class check:\n",
        "  def __init__(self):\n",
        "    print(\"I am initialized\")\n",
        "  def insider(self):\n",
        "    outsider()\n",
        "    print(\"I am insider but being called from outsider\")\n",
        "c=check()\n",
        "c.insider()"
      ]
    },
    {
      "cell_type": "code",
      "execution_count": null,
      "metadata": {
        "colab": {
          "base_uri": "https://localhost:8080/"
        },
        "id": "y1RZHB8SLKHS",
        "outputId": "91510dc4-a875-41b7-cb9b-516af2e235b1"
      },
      "outputs": [
        {
          "name": "stdout",
          "output_type": "stream",
          "text": [
            "Square =  144\n"
          ]
        }
      ],
      "source": [
        "def area_square(a):\n",
        "  return a * a\n",
        "class Three:\n",
        "  def __init__(self, num):\n",
        "    self.num = num\n",
        "  def show_square(self):\n",
        "    self.square = area_square(self.num)\n",
        "    print(\"Square = \",self.square)\n",
        "practice = Three(12)\n",
        "practice.show_square()"
      ]
    },
    {
      "cell_type": "code",
      "execution_count": null,
      "metadata": {
        "colab": {
          "base_uri": "https://localhost:8080/"
        },
        "id": "PlAUlkKTM-Xv",
        "outputId": "d9d61368-6096-42a0-8569-16186d3b3f7f"
      },
      "outputs": [
        {
          "name": "stdout",
          "output_type": "stream",
          "text": [
            "the object is created\n",
            "the object is created\n",
            "the object is created\n",
            "<__main__.three object at 0x79c21a54cdc0> <__main__.three object at 0x79c21a54e7d0> <__main__.three object at 0x79c21a54eb30>\n"
          ]
        }
      ],
      "source": [
        "class three:\n",
        "  def __init__(self):\n",
        "    print(\"the object is created\")\n",
        "a1=three()\n",
        "a2=three()\n",
        "a3=three()\n",
        "#del a\n",
        "print(a1,a2,a3)\n",
        "\n"
      ]
    },
    {
      "cell_type": "code",
      "execution_count": null,
      "metadata": {
        "colab": {
          "base_uri": "https://localhost:8080/"
        },
        "id": "PJZxgFvwNafg",
        "outputId": "6c971282-95eb-430d-933d-e717e114a6f6"
      },
      "outputs": [
        {
          "name": "stdout",
          "output_type": "stream",
          "text": [
            "value of first variable 1\n",
            "True\n",
            "True\n"
          ]
        }
      ],
      "source": [
        "class abc():\n",
        "  def __init__(self,first):\n",
        "    self.f=first\n",
        "  def display(self):\n",
        "    print(\"value of first variable\",self.f)\n",
        "obj1=abc(1)\n",
        "obj1.display()\n",
        "print(hasattr(obj1,'f'))\n",
        "getattr(obj1,'f')\n",
        "setattr(obj1,'f',10)\n",
        "getattr(obj1,'f')\n",
        "#delattr(obj1,'f')\n",
        "print(hasattr(obj1,'f'))"
      ]
    },
    {
      "cell_type": "code",
      "execution_count": null,
      "metadata": {
        "colab": {
          "base_uri": "https://localhost:8080/"
        },
        "id": "RBSekXzgPdey",
        "outputId": "252de39f-87e8-412c-a1d1-629324590d1f"
      },
      "outputs": [
        {
          "name": "stdout",
          "output_type": "stream",
          "text": [
            "the object is created\n",
            "the object is created\n",
            "the object is created\n",
            "1 2\n",
            "{'var1': 1, 'var2': 2}\n",
            "hello This is class definition\n",
            "__main__\n",
            "(<class 'object'>,)\n"
          ]
        }
      ],
      "source": [
        "#Built -In class attributes\n",
        "class three:\n",
        "  '''hello This is class definition'''\n",
        "  def __init__(self,x,y):\n",
        "    print(\"the object is created\")\n",
        "    self.var1=x\n",
        "    self.var2=y\n",
        "  def display(self):\n",
        "    print(self.var1,self.var2)\n",
        "a1=three(1,2)\n",
        "a2=three(3,4)\n",
        "a3=three(4,5)\n",
        "a1.display()\n",
        "print(a1.__dict__)\n",
        "print(a1.__doc__)\n",
        "print(a1.__module__)\n",
        "print(abc.__bases__)\n"
      ]
    },
    {
      "cell_type": "code",
      "execution_count": null,
      "metadata": {
        "colab": {
          "base_uri": "https://localhost:8080/",
          "height": 176
        },
        "id": "an6NGyVSBwpf",
        "outputId": "65011a6d-2f63-4120-f265-feaa59de0bd4"
      },
      "outputs": [
        {
          "ename": "TypeError",
          "evalue": "sequence item 0: expected str instance, int found",
          "output_type": "error",
          "traceback": [
            "\u001b[0;31m---------------------------------------------------------------------------\u001b[0m",
            "\u001b[0;31mTypeError\u001b[0m                                 Traceback (most recent call last)",
            "\u001b[0;32m<ipython-input-10-0a55f4ad93e0>\u001b[0m in \u001b[0;36m<cell line: 3>\u001b[0;34m()\u001b[0m\n\u001b[1;32m      1\u001b[0m \u001b[0;31m#14th June\u001b[0m\u001b[0;34m\u001b[0m\u001b[0;34m\u001b[0m\u001b[0m\n\u001b[1;32m      2\u001b[0m \u001b[0ml\u001b[0m\u001b[0;34m=\u001b[0m\u001b[0;34m[\u001b[0m\u001b[0;36m1\u001b[0m\u001b[0;34m,\u001b[0m\u001b[0;36m2\u001b[0m\u001b[0;34m,\u001b[0m\u001b[0;36m3\u001b[0m\u001b[0;34m,\u001b[0m\u001b[0;36m3\u001b[0m\u001b[0;34m,\u001b[0m\u001b[0;36m4\u001b[0m\u001b[0;34m]\u001b[0m\u001b[0;34m\u001b[0m\u001b[0;34m\u001b[0m\u001b[0m\n\u001b[0;32m----> 3\u001b[0;31m \u001b[0mprint\u001b[0m\u001b[0;34m(\u001b[0m\u001b[0;34m'&'\u001b[0m\u001b[0;34m.\u001b[0m\u001b[0mjoin\u001b[0m\u001b[0;34m(\u001b[0m\u001b[0ml\u001b[0m\u001b[0;34m)\u001b[0m\u001b[0;34m)\u001b[0m\u001b[0;34m\u001b[0m\u001b[0;34m\u001b[0m\u001b[0m\n\u001b[0m",
            "\u001b[0;31mTypeError\u001b[0m: sequence item 0: expected str instance, int found"
          ]
        }
      ],
      "source": [
        "#14th June\n",
        "l=['abc','def','g','hrf','23','45','gth']\n",
        "print('&'.join(l))"
      ]
    },
    {
      "cell_type": "code",
      "execution_count": null,
      "metadata": {
        "colab": {
          "base_uri": "https://localhost:8080/"
        },
        "id": "URjBru1WEaLF",
        "outputId": "ad45ff64-1578-4057-d6ea-4204f913ccbc"
      },
      "outputs": [
        {
          "name": "stdout",
          "output_type": "stream",
          "text": [
            "Hello\n",
            "dear\n",
            "all\n"
          ]
        }
      ],
      "source": [
        "s=\"Hello dear all\"\n",
        "r,d,f=s.split()\n",
        "print(r)\n",
        "print(d)\n",
        "print(f)\n"
      ]
    },
    {
      "cell_type": "code",
      "execution_count": null,
      "metadata": {
        "id": "kCxY_DWzFLRx"
      },
      "outputs": [],
      "source": []
    },
    {
      "cell_type": "code",
      "execution_count": null,
      "metadata": {
        "colab": {
          "base_uri": "https://localhost:8080/"
        },
        "id": "OWlKNQmqF_jY",
        "outputId": "821645e7-9b33-4529-9a55-55094cc24cfe"
      },
      "outputs": [
        {
          "name": "stdout",
          "output_type": "stream",
          "text": [
            "['a', 'b', 'c', 'd', 'e', 'f', 'g']\n",
            "['a', 'b', 'c', 'd', 'e', 'f', 'g']\n",
            "str(object='') -> str\n",
            "str(bytes_or_buffer[, encoding[, errors]]) -> str\n",
            "\n",
            "Create a new string object from the given object. If encoding or\n",
            "errors is specified, then the object must expose a data buffer\n",
            "that will be decoded using the given encoding and error handler.\n",
            "Otherwise, returns the result of object.__str__() (if defined)\n",
            "or repr(object).\n",
            "encoding defaults to sys.getdefaultencoding().\n",
            "errors defaults to 'strict'.\n"
          ]
        }
      ],
      "source": [
        "listOne  =  ['a', 'b', 'c', 'd']\n",
        "listTwo =  ['e', 'f', 'g']\n",
        "#newList = listOne + listTwo\n",
        "#newList = extend(listOne, listTwo)\n",
        "listOne.extend(listTwo)\n",
        "newList=listOne\n",
        "#newList.extend(listOne, listTwo)\n",
        "print(listOne)\n",
        "print(newList)\n",
        "print('extend'.__doc__)\n"
      ]
    },
    {
      "cell_type": "code",
      "execution_count": null,
      "metadata": {
        "colab": {
          "base_uri": "https://localhost:8080/"
        },
        "id": "mAGj_nWXKGQT",
        "outputId": "8ede97ee-672e-4304-f7d9-126dd8e9b1c3"
      },
      "outputs": [
        {
          "name": "stdout",
          "output_type": "stream",
          "text": [
            "['%', 'abc', 'def']\n"
          ]
        }
      ],
      "source": [
        "l=[\"abc\",\"def\",\"abc\",\"%\"]\n",
        "print(list(set(l)))"
      ]
    },
    {
      "cell_type": "code",
      "execution_count": null,
      "metadata": {
        "colab": {
          "base_uri": "https://localhost:8080/"
        },
        "id": "mDmkvjAiMJYS",
        "outputId": "297b8438-1d4f-42c2-8b16-cd25f4b7e435"
      },
      "outputs": [
        {
          "name": "stdout",
          "output_type": "stream",
          "text": [
            "[10, 20, 40]\n"
          ]
        }
      ],
      "source": [
        "l=[10,20,30,40]\n",
        "l.pop(2)\n",
        "print(l)"
      ]
    },
    {
      "cell_type": "code",
      "execution_count": null,
      "metadata": {
        "colab": {
          "base_uri": "https://localhost:8080/",
          "height": 297
        },
        "id": "5K5EkFwDNZY6",
        "outputId": "6ea44ca4-3cfc-481d-927c-134197e1b4bf"
      },
      "outputs": [
        {
          "name": "stdout",
          "output_type": "stream",
          "text": [
            "0\n",
            "1\n",
            "2\n",
            "3\n",
            "4\n",
            "5\n"
          ]
        },
        {
          "ename": "IndexError",
          "evalue": "pop from empty list",
          "output_type": "error",
          "traceback": [
            "\u001b[0;31m---------------------------------------------------------------------------\u001b[0m",
            "\u001b[0;31mIndexError\u001b[0m                                Traceback (most recent call last)",
            "\u001b[0;32m<ipython-input-45-4b5acdbcc386>\u001b[0m in \u001b[0;36m<cell line: 3>\u001b[0;34m()\u001b[0m\n\u001b[1;32m      3\u001b[0m \u001b[0;32mfor\u001b[0m \u001b[0mi\u001b[0m \u001b[0;32min\u001b[0m \u001b[0mrange\u001b[0m\u001b[0;34m(\u001b[0m\u001b[0;36m11\u001b[0m\u001b[0;34m)\u001b[0m\u001b[0;34m:\u001b[0m\u001b[0;34m\u001b[0m\u001b[0;34m\u001b[0m\u001b[0m\n\u001b[1;32m      4\u001b[0m   \u001b[0mprint\u001b[0m\u001b[0;34m(\u001b[0m\u001b[0mi\u001b[0m\u001b[0;34m)\u001b[0m\u001b[0;34m\u001b[0m\u001b[0;34m\u001b[0m\u001b[0m\n\u001b[0;32m----> 5\u001b[0;31m   \u001b[0ml1\u001b[0m\u001b[0;34m.\u001b[0m\u001b[0mpop\u001b[0m\u001b[0;34m(\u001b[0m\u001b[0;34m)\u001b[0m\u001b[0;34m\u001b[0m\u001b[0;34m\u001b[0m\u001b[0m\n\u001b[0m\u001b[1;32m      6\u001b[0m \u001b[0mprint\u001b[0m\u001b[0;34m(\u001b[0m\u001b[0ml1\u001b[0m\u001b[0;34m)\u001b[0m\u001b[0;34m\u001b[0m\u001b[0;34m\u001b[0m\u001b[0m\n",
            "\u001b[0;31mIndexError\u001b[0m: pop from empty list"
          ]
        }
      ],
      "source": [
        "l1=[1,2,3,4,5]\n",
        "#print(l1[7])\n",
        "for i in range(11):\n",
        "  print(i)\n",
        "  l1.pop()\n",
        "print(l1)"
      ]
    },
    {
      "cell_type": "code",
      "execution_count": null,
      "metadata": {
        "colab": {
          "base_uri": "https://localhost:8080/"
        },
        "id": "47wRqtAoUvAy",
        "outputId": "a3a3b415-a916-4d8d-8de7-593bb1310eca"
      },
      "outputs": [
        {
          "name": "stdout",
          "output_type": "stream",
          "text": [
            "I am defined inside parent class\n",
            "I am defined inside parent class\n"
          ]
        }
      ],
      "source": [
        "#single inheritance\n",
        "class p:\n",
        "  def pf(self):\n",
        "    print(\"I am defined inside parent class\")\n",
        "\n",
        "class c(p):\n",
        "  pass\n",
        "\n",
        "p1=p()\n",
        "c1=c()\n",
        "p1.pf()\n",
        "c1.pf()"
      ]
    },
    {
      "cell_type": "code",
      "execution_count": null,
      "metadata": {
        "colab": {
          "base_uri": "https://localhost:8080/"
        },
        "id": "9FCDslQmVhmm",
        "outputId": "27fb1d7f-b489-4d1c-bac4-6d7a5b80ba07"
      },
      "outputs": [
        {
          "name": "stdout",
          "output_type": "stream",
          "text": [
            "I am defined inside parent class\n",
            "I am defined inside parent class\n",
            "1\n",
            "1\n"
          ]
        }
      ],
      "source": [
        "class p:\n",
        "  check=1\n",
        "  def pf(self):\n",
        "    print(\"I am defined inside parent class\")\n",
        "\n",
        "class c(p):\n",
        "  def cf(Self):\n",
        "    print(\"I am from child class\")\n",
        "\n",
        "p1=p()\n",
        "c1=c()\n",
        "p1.pf()\n",
        "c1.pf()\n",
        "print(p.check)\n",
        "print(c.check)\n"
      ]
    },
    {
      "cell_type": "code",
      "execution_count": null,
      "metadata": {
        "colab": {
          "base_uri": "https://localhost:8080/"
        },
        "id": "QDTcT_NHWYrV",
        "outputId": "9b55d653-1942-4bd2-bae4-f7042d8b666c"
      },
      "outputs": [
        {
          "name": "stdout",
          "output_type": "stream",
          "text": [
            "I am a public method defined inside parent class\n",
            "I am a public method defined inside parent class\n",
            "1\n",
            "1\n"
          ]
        }
      ],
      "source": [
        "class p:\n",
        "  check=1\n",
        "  def pf(self):\n",
        "    print(\"I am a public method defined inside parent class\")\n",
        "  def __prf(self):\n",
        "    print(\"I am a public method defined inside parent class\")\n",
        "\n",
        "class c(p):\n",
        "  def cf(Self):\n",
        "    print(\"I am from child class\")\n",
        "\n",
        "p1=p()\n",
        "c1=c()\n",
        "p1.pf()\n",
        "c1.pf()\n",
        "#c1.__prf()\n",
        "print(p.check)\n",
        "print(c.check)"
      ]
    },
    {
      "cell_type": "code",
      "execution_count": null,
      "metadata": {
        "colab": {
          "base_uri": "https://localhost:8080/"
        },
        "id": "R6DQObcSWxDw",
        "outputId": "495fc730-3c72-4230-d52a-dab4d44c1fb2"
      },
      "outputs": [
        {
          "name": "stdout",
          "output_type": "stream",
          "text": [
            "7\n",
            "4\n",
            "I am from child class\n",
            "2\n",
            "I am a public method defined inside parent class\n"
          ]
        }
      ],
      "source": [
        "class p:\n",
        "  check=1\n",
        "  def __init__(self,v):\n",
        "    self.v=v\n",
        "  def pf(self):\n",
        "    print(self.v)\n",
        "    print(\"I am a public method defined inside parent class\")\n",
        "  def __prf(self):\n",
        "    print(\"I am a public method defined inside parent class\")\n",
        "\n",
        "class c(p):\n",
        "  def __init__(self,a):\n",
        "    self.a=a\n",
        "  def __init__(self,a,b):\n",
        "    self.a=a\n",
        "    self.b=b\n",
        "  def cf(self):\n",
        "    print(self.a)\n",
        "    print(self.b)\n",
        "    print(\"I am from child class\")\n",
        "\n",
        "p1=p(2)\n",
        "c1=c(7,4)\n",
        "c1.cf()\n",
        "p1.pf()\n",
        "#print(p.check)\n",
        "#print(c.check)"
      ]
    },
    {
      "cell_type": "code",
      "execution_count": null,
      "metadata": {
        "id": "vKva8dzmpa-j"
      },
      "outputs": [],
      "source": [
        "#single inheritance\n",
        "#multiple inheritance\n",
        "#multilevel inherical\n",
        "#hierarchical inheritance\n",
        "#hybrid\n",
        "\n"
      ]
    },
    {
      "cell_type": "code",
      "execution_count": null,
      "metadata": {
        "colab": {
          "base_uri": "https://localhost:8080/"
        },
        "id": "gH_kAaC5xxoS",
        "outputId": "4a55d6ec-de32-4752-8e24-e6ab9936dc0d"
      },
      "outputs": [
        {
          "name": "stdout",
          "output_type": "stream",
          "text": [
            "I am third parent\n",
            "Hi this is from parent2\n",
            "Hi this is from parent1\n"
          ]
        }
      ],
      "source": [
        "#multiple inheritance\n",
        "\n",
        "class parent1:\n",
        "  def __init__(self):\n",
        "    print(\"Hi this is from parent1\")\n",
        "    super(parent1,self).__init__()\n",
        "\n",
        "class parent2:\n",
        "  def __init__(self):\n",
        "    print(\"Hi this is from parent2\")\n",
        "    super(parent2,self).__init__()\n",
        "\n",
        "class parent3:\n",
        "  def __init__(self):\n",
        "    print(\"I am third parent\")\n",
        "    super(parent3,self).__init__()\n",
        "\n",
        "class child(parent3,parent2,parent1):\n",
        "  pass\n",
        "\n",
        "c1=child()\n"
      ]
    },
    {
      "cell_type": "code",
      "execution_count": null,
      "metadata": {
        "colab": {
          "base_uri": "https://localhost:8080/"
        },
        "id": "aHGm9p5r3GKZ",
        "outputId": "c7670761-89e5-4028-cbb1-d089f061a75d"
      },
      "outputs": [
        {
          "name": "stdout",
          "output_type": "stream",
          "text": [
            "this is parent 2\n",
            "this is parent 3\n",
            "hi this is from parent 1\n",
            "i am found\n"
          ]
        }
      ],
      "source": [
        "class parent1:\n",
        "  def __init__(self):\n",
        "    print(\"hi this is from parent 1\")\n",
        "    #super(parent1,self).__init__()\n",
        "class parent2:\n",
        "  def __init__(self):\n",
        "    print(\"this is parent 2\")\n",
        "    super(parent2,self).__init__()\n",
        "class parent3:\n",
        "  def __init__(self):\n",
        "    print(\"this is parent 3\")\n",
        "    super(parent3,self).__init__()\n",
        "class child(parent2,parent3,parent1):\n",
        "  def __init__(self):\n",
        "    super(child,self).__init__()\n",
        "    print(\"i am found\")\n",
        "c1=child()"
      ]
    },
    {
      "cell_type": "code",
      "execution_count": null,
      "metadata": {
        "colab": {
          "base_uri": "https://localhost:8080/"
        },
        "id": "-u4S26gJ1Gl5",
        "outputId": "940d27a0-1780-472c-dac4-81864b840f10"
      },
      "outputs": [
        {
          "name": "stdout",
          "output_type": "stream",
          "text": [
            "Hi this is from parent1\n",
            "Hi this is from parent2\n",
            "I am third parent\n",
            "I am from parent 4\n",
            "I am from child class\n"
          ]
        }
      ],
      "source": [
        "\n",
        "class Parent1:\n",
        "    def __init__(self):\n",
        "        print(\"Hi this is from parent1\")\n",
        "\n",
        "\n",
        "class Parent2(Parent1):  # Inherit from Parent1\n",
        "    def __init__(self):\n",
        "        super().__init__()  # Call Parent1 constructor first\n",
        "        print(\"Hi this is from parent2\")\n",
        "\n",
        "\n",
        "class Parent3(Parent2):  # Inherit from Parent2 (indirectly from Parent1)\n",
        "    def __init__(self):\n",
        "        super().__init__()  # Call Parent2 constructor first (which calls Parent1)\n",
        "        print(\"I am third parent\")\n",
        "\n",
        "\n",
        "class Parent4(Parent3):  # Inherit from Parent3 (indirectly from Parent1 and Parent2)\n",
        "    def __init__(self):\n",
        "        super().__init__()  # Call Parent3 constructor first (which calls Parent2 and Parent1)\n",
        "        print(\"I am from parent 4\")\n",
        "\n",
        "\n",
        "class Child(Parent4):  # Inherit the combined functionality\n",
        "    def __init__(self):\n",
        "        super().__init__()  # Call Parent4 constructor first (which calls Parent3, Parent2, and Parent1)\n",
        "        print(\"I am from child class\")\n",
        "\n",
        "\n",
        "c1 = Child()\n"
      ]
    },
    {
      "cell_type": "code",
      "execution_count": null,
      "metadata": {
        "colab": {
          "base_uri": "https://localhost:8080/"
        },
        "id": "LWCnHwSu5Eg-",
        "outputId": "4762edee-0a6f-4284-c500-60fbf62cc76d"
      },
      "outputs": [
        {
          "name": "stdout",
          "output_type": "stream",
          "text": [
            "shape is square\n",
            "Parent1\n",
            "texture is smooth\n",
            "I am from parent2\n",
            "colour is red\n"
          ]
        }
      ],
      "source": [
        "class parent1(object):\n",
        "  colour=\"red\"\n",
        "  def __init__(self,shape):\n",
        "    self.s=shape\n",
        "    print(\"shape is\",self.s)\n",
        "    print(\"Parent1\")\n",
        "class parent2:\n",
        "  def __init__(self,texture):\n",
        "    self.t=texture\n",
        "    print(\"texture is\",self.t)\n",
        "    print(\"I am from parent2\")\n",
        "\n",
        "class child(parent1,parent2):\n",
        "  def __init__(self,shape,texture):\n",
        "    parent1.__init__(self, shape)\n",
        "    parent2.__init__(self, texture)\n",
        "    print(\"colour is\",parent1.colour)\n",
        "\n",
        "c1=child(\"square\",\"smooth\")"
      ]
    },
    {
      "cell_type": "code",
      "execution_count": null,
      "metadata": {
        "colab": {
          "base_uri": "https://localhost:8080/"
        },
        "id": "Xym7w2a6so60",
        "outputId": "d232e35a-9b89-43de-9036-d2087ce73999"
      },
      "outputs": [
        {
          "name": "stdout",
          "output_type": "stream",
          "text": [
            "Hi this is from parent1\n",
            "Hi this is from parent2\n"
          ]
        }
      ],
      "source": [
        "class Parent1:\n",
        "  def __init__(self):\n",
        "    print(\"Hi this is from parent1\")\n",
        "\n",
        "class Parent2:\n",
        "  def __init__(self):\n",
        "    super().__init__()\n",
        "    print(\"Hi this is from parent2\")\n",
        "\n",
        "class Child(Parent2, Parent1):\n",
        "  def __init__(self):\n",
        "    super().__init__()  # Call parent constructors with super()\n",
        "\n",
        "# Create an object\n",
        "c = Child()"
      ]
    },
    {
      "cell_type": "code",
      "execution_count": null,
      "metadata": {
        "colab": {
          "base_uri": "https://localhost:8080/"
        },
        "id": "3fww_JMZ-smE",
        "outputId": "23458de5-7e07-4a2c-8c24-d5dd3757e4fb"
      },
      "outputs": [
        {
          "name": "stdout",
          "output_type": "stream",
          "text": [
            "Parent1\n",
            "parent3\n",
            "Parent2\n",
            "child\n"
          ]
        }
      ],
      "source": [
        "#multiple inheritance\n",
        "class parent1:\n",
        "  def __init__(self):\n",
        "    print(\"Parent1\")\n",
        "\n",
        "class parent2:\n",
        "  def __init__(self):\n",
        "    super().__init__()\n",
        "    print(\"Parent2\")\n",
        "\n",
        "class parent3:\n",
        "  def __init__(self):\n",
        "    super().__init__()\n",
        "    print(\"parent3\")\n",
        "\n",
        "class child(parent2,parent3,parent1):\n",
        "  def __init__(self):\n",
        "    super().__init__()\n",
        "    print(\"child\")\n",
        "\n",
        "c=child()"
      ]
    },
    {
      "cell_type": "code",
      "execution_count": null,
      "metadata": {
        "colab": {
          "base_uri": "https://localhost:8080/"
        },
        "id": "J9TgfnMU0U4m",
        "outputId": "a290cf8f-62d7-4b19-cfac-a7d25d0ef8e9"
      },
      "outputs": [
        {
          "name": "stdout",
          "output_type": "stream",
          "text": [
            "parent1 \n",
            "parent3\n",
            "parent2\n",
            "child\n"
          ]
        }
      ],
      "source": [
        "class parent1:\n",
        "  def __init__(self):\n",
        "    print(\"parent1 \")\n",
        "class parent2:\n",
        "  def __init__(self):\n",
        "    super().__init__()\n",
        "    print(\"parent2\")\n",
        "class parent3:\n",
        "  def __init__(self):\n",
        "    super().__init__()\n",
        "    print(\"parent3\")\n",
        "class child(parent2,parent3,parent1):\n",
        "  def __init__(self):\n",
        "    super().__init__()\n",
        "    print(\"child\")\n",
        "c=child()"
      ]
    },
    {
      "cell_type": "code",
      "execution_count": null,
      "metadata": {
        "colab": {
          "base_uri": "https://localhost:8080/"
        },
        "id": "y4dKKQBM2gQO",
        "outputId": "64bddb65-1763-4269-afae-0cba768cb720"
      },
      "outputs": [
        {
          "name": "stdout",
          "output_type": "stream",
          "text": [
            "child\n",
            "parent1\n",
            "parent2\n"
          ]
        }
      ],
      "source": [
        "#use of super function #MRO\n",
        "\n",
        "class parent1:\n",
        "  def __init__(self):\n",
        "    print(\"parent1\")\n",
        "    #super().__init__()\n",
        "\n",
        "\n",
        "class parent2:\n",
        "  def __init__(self):\n",
        "    super().__init__()\n",
        "    print(\"parent2\")\n",
        "\n",
        "class child(parent2,parent1):\n",
        "  def __init__(self):\n",
        "    print(\"child\")\n",
        "    super().__init__()\n",
        "\n",
        "c=child()"
      ]
    },
    {
      "cell_type": "code",
      "execution_count": null,
      "metadata": {
        "colab": {
          "base_uri": "https://localhost:8080/"
        },
        "id": "zOOip15u7HHx",
        "outputId": "4f0f9ad8-77c0-4505-8571-b745cfdd009c"
      },
      "outputs": [
        {
          "name": "stdout",
          "output_type": "stream",
          "text": [
            "Value1: 10\n",
            "Value2: 20\n",
            "Value3: 30\n"
          ]
        }
      ],
      "source": [
        "class Parent1:\n",
        "  def __init__(self, a,b):\n",
        "    self.a = a\n",
        "    super().__init__(a,b)\n",
        "\n",
        "class Parent2:\n",
        "  def __init__(self,a,b):\n",
        "    self.b = b\n",
        "\n",
        "class Child(Parent1, Parent2):\n",
        "  def __init__(self, a, b, c):\n",
        "    super().__init__(a,b)\n",
        "    self.c = c\n",
        "  def display(self):\n",
        "    print(f\"Value1: {self.a}\")\n",
        "    print(f\"Value2: {self.b}\")\n",
        "    print(f\"Value3: {self.c}\")\n",
        "\n",
        "c1 = Child(10,20,30)\n",
        "c1.display()"
      ]
    },
    {
      "cell_type": "code",
      "execution_count": null,
      "metadata": {
        "colab": {
          "base_uri": "https://localhost:8080/"
        },
        "id": "WV_7-4Mx_fDV",
        "outputId": "7dde31da-d2b6-4970-971d-bae0687bdfd9"
      },
      "outputs": [
        {
          "name": "stdout",
          "output_type": "stream",
          "text": [
            "this is child class function called\n",
            "this is p1 class function called.\n",
            "first name is: Ankit\n",
            "this is p2 class function called.\n",
            "Full name is: Ankit Rangra\n"
          ]
        }
      ],
      "source": [
        "class p1:\n",
        "  def name(self,a):\n",
        "    self.a=a\n",
        "    print(\"this is p1 class function called.\")\n",
        "    print(\"first name is:\",self.a)\n",
        "\n",
        "class p2:\n",
        "  def name(self,a,b):\n",
        "    self.a=a\n",
        "    self.b=b\n",
        "    print(\"this is p2 class function called.\")\n",
        "    print(\"Full name is:\",self.a,self.b)\n",
        "\n",
        "class c(p1,p2):\n",
        "  def name(self):\n",
        "    print(\"this is child class function called\")\n",
        "\n",
        "c1=c()\n",
        "c1.name()\n",
        "p=p1()\n",
        "p.name(\"Ankit\")\n",
        "op2=p2()\n",
        "op2.name(\"Ankit\",\"Rangra\")"
      ]
    },
    {
      "cell_type": "code",
      "execution_count": null,
      "metadata": {
        "colab": {
          "base_uri": "https://localhost:8080/"
        },
        "id": "Wu5bh47cAg1Y",
        "outputId": "a9f9c8ce-781d-4f85-93f3-27a00f5bd95c"
      },
      "outputs": [
        {
          "name": "stdout",
          "output_type": "stream",
          "text": [
            "This is ParentA\n",
            "This is ParentB\n",
            "This is ParentC\n"
          ]
        }
      ],
      "source": [
        "class ParentA:\n",
        "  def method():\n",
        "    print(\"This is ParentA\")\n",
        "\n",
        "class ParentB:\n",
        "  def method():\n",
        "    print(\"This is ParentB\")\n",
        "\n",
        "class ParentC:\n",
        "  def method():\n",
        "    print(\"This is ParentC\")\n",
        "\n",
        "class Child(ParentA, ParentB, ParentC):\n",
        "  def method():\n",
        "    print(\"This is Child\")\n",
        "\n",
        "ParentA.method()\n",
        "ParentB.method()\n",
        "ParentC.method()\n",
        "\n",
        "#c = Child()\n",
        "#c.method()"
      ]
    },
    {
      "cell_type": "code",
      "execution_count": null,
      "metadata": {
        "colab": {
          "base_uri": "https://localhost:8080/"
        },
        "id": "Dkas52Sa_KkG",
        "outputId": "9686240d-cc85-4b9a-b530-50103d5e41a4"
      },
      "outputs": [
        {
          "name": "stdout",
          "output_type": "stream",
          "text": [
            "I am from child constructor\n",
            "I am from child constructor\n",
            "I am from child constructor\n",
            "I am from parent class method\n",
            "I am from parent class method\n",
            "I am from parent class method\n"
          ]
        }
      ],
      "source": [
        "#Hierarchical Inheritance\n",
        "\n",
        "class parent:\n",
        "  def __init__(self):\n",
        "    print(\"I am from parent constructor\")\n",
        "  def method1(self):\n",
        "    print(\"I am from parent class method\")\n",
        "\n",
        "class child1(parent):\n",
        "  def __init__(self):\n",
        "    print(\"I am from child constructor\")\n",
        "\n",
        "class child2(parent):\n",
        "  def __init__(self):\n",
        "    print(\"I am from child constructor\")\n",
        "\n",
        "class child3(parent):\n",
        "  def __init__(self):\n",
        "    print(\"I am from child constructor\")\n",
        "\n",
        "c1=child1()\n",
        "c2=child2()\n",
        "c3=child3()\n",
        "c1.method1()\n",
        "c2.method1()\n",
        "c3.method1()\n"
      ]
    },
    {
      "cell_type": "code",
      "execution_count": null,
      "metadata": {
        "colab": {
          "base_uri": "https://localhost:8080/"
        },
        "id": "WD61_EbTKflp",
        "outputId": "328fa9e7-dc5c-47ee-dadb-66c2039fd607"
      },
      "outputs": [
        {
          "name": "stdout",
          "output_type": "stream",
          "text": [
            "department\n",
            "cse\n",
            "hos\n",
            "hod1\n",
            "hod2\n",
            "hod3\n",
            "sib1\n",
            "\n",
            "\n",
            "department\n",
            "cse\n",
            "hos\n",
            "hod1\n",
            "hod2\n",
            "hod3\n",
            "sib2\n"
          ]
        }
      ],
      "source": [
        "#ankit\n",
        "class department:\n",
        "  def __init__(self):\n",
        "    print(\"department\")\n",
        "class cse(department):\n",
        "  def __init__(self):\n",
        "    super().__init__()\n",
        "    print(\"cse\")\n",
        "class hos(cse):\n",
        "  def __init__(self):\n",
        "    super().__init__()\n",
        "    print(\"hos\")\n",
        "class hod1(hos):\n",
        "  def __init__(self):\n",
        "    super().__init__()\n",
        "    print(\"hod1\")\n",
        "class hod2(hos):\n",
        "  def __init__(self):\n",
        "    super().__init__()\n",
        "    print(\"hod2\")\n",
        "class hod3(hos):\n",
        "  def __init__(self):\n",
        "    super().__init__()\n",
        "    print(\"hod3\")\n",
        "class sib1(hod2):\n",
        "  def __init__(self):\n",
        "    super().__init__()\n",
        "    print(\"sib1\")\n",
        "class sib2(hod2):\n",
        "  def __init__(self):\n",
        "    super().__init__()\n",
        "    print(\"sib2\")\n",
        "C=sib1()\n",
        "print(\"\\n\")\n",
        "c=sib2()"
      ]
    },
    {
      "cell_type": "code",
      "execution_count": null,
      "metadata": {
        "colab": {
          "base_uri": "https://localhost:8080/"
        },
        "id": "iMNF34pOMFWK",
        "outputId": "23088547-8f39-4f53-d87d-002ebfdfe952"
      },
      "outputs": [
        {
          "name": "stdout",
          "output_type": "stream",
          "text": [
            "CSE Head of School Networks Fifth Year\n"
          ]
        }
      ],
      "source": [
        "class CSE_HOS:\n",
        "  def __init__(self):\n",
        "    self.name = \"CSE Head of School\"\n",
        "\n",
        "class HOD1_Networks(CSE_HOS):\n",
        "  def __init__(self):\n",
        "    super().__init__()\n",
        "    self.branch_name = \"Networks\"\n",
        "\n",
        "class HOD2_Prog(CSE_HOS):\n",
        "  def __init__(self):\n",
        "    super().__init__()\n",
        "    self.branch_name = \"Programming\"\n",
        "\n",
        "class HOD3_Cloud(CSE_HOS):\n",
        "  def __init__(self):\n",
        "    super().__init__()\n",
        "    self.branch_name = \"Cloud Computing\"\n",
        "\n",
        "class F5(HOD1_Networks):\n",
        "  def __init__(self):\n",
        "    super().__init__()\n",
        "    self.level = \"Fifth Year\"\n",
        "\n",
        "class BT(HOD1_Networks):\n",
        "  def __init__(self):\n",
        "    super().__init__()\n",
        "    self.level = \"B.Tech\"\n",
        "\n",
        "class Four(HOD2_Prog):\n",
        "  def __init__(self):\n",
        "    super().__init__()\n",
        "    self.level = \"Fourth Year\"\n",
        "\n",
        "class MT(HOD3_Cloud):\n",
        "  def __init__(self):\n",
        "    super().__init__()\n",
        "    self.level = \"M.Tech\"\n",
        "\n",
        "networks = F5()\n",
        "print(networks.name, networks.branch_name, networks.level)"
      ]
    },
    {
      "cell_type": "code",
      "execution_count": null,
      "metadata": {
        "colab": {
          "base_uri": "https://localhost:8080/"
        },
        "id": "opIgubBfIrkZ",
        "outputId": "814c94d9-7ae3-4d81-bd8e-97ac9d53af87"
      },
      "outputs": [
        {
          "name": "stdout",
          "output_type": "stream",
          "text": [
            "I'm from class P\n",
            "I'm from class C1\n",
            "I'm from class C2\n",
            "I'm from class C3\n"
          ]
        }
      ],
      "source": [
        "#21 june\n",
        "\n",
        "class P:\n",
        "  def a(self):\n",
        "    print(\"I'm from class P\")\n",
        "\n",
        "class C1(P):\n",
        "  def b(self):\n",
        "    print(\"I'm from class C1\")\n",
        "\n",
        "class C2(P):\n",
        "  def c(self):\n",
        "    print(\"I'm from class C2\")\n",
        "\n",
        "class C3(C2, C1):\n",
        "  def d(self):\n",
        "    print(\"I'm from class C3\")\n",
        "\n",
        "d = C3()\n",
        "\n",
        "d.a()\n",
        "d.b()\n",
        "d.c()\n",
        "d.d()\n"
      ]
    },
    {
      "cell_type": "code",
      "execution_count": null,
      "metadata": {
        "colab": {
          "base_uri": "https://localhost:8080/"
        },
        "id": "qceKf9dGT8rZ",
        "outputId": "fe0921d2-2762-4803-8ca7-257c7b9d2f1f"
      },
      "outputs": [
        {
          "name": "stdout",
          "output_type": "stream",
          "text": [
            "Class P\n",
            "Class C1\n",
            "Class C2\n",
            "class c3\n"
          ]
        }
      ],
      "source": [
        "class P:\n",
        "  def show(self):\n",
        "    print(\"Class P\")\n",
        "\n",
        "class C1(P):\n",
        "  def display_c1(self):\n",
        "    print(\"Class C1\")\n",
        "\n",
        "class C2(P):\n",
        "  def display_c2(self):\n",
        "    print(\"Class C2\")\n",
        "\n",
        "class C3(C1, C2):\n",
        "  def display_c3(self):\n",
        "    print(\"class c3\")\n",
        "\n",
        "obj = C3()\n",
        "obj.show()\n",
        "obj.display_c1()\n",
        "obj.display_c2()\n",
        "obj.display_c3()"
      ]
    },
    {
      "cell_type": "code",
      "execution_count": null,
      "metadata": {
        "colab": {
          "base_uri": "https://localhost:8080/"
        },
        "id": "KiwdHVdwUbdv",
        "outputId": "6a9ecc3c-e2c5-49bb-c583-12224d2c439e"
      },
      "outputs": [
        {
          "name": "stdout",
          "output_type": "stream",
          "text": [
            "I am from C1\n",
            "This is Alice\n",
            "I am from C2\n",
            "This is Bob\n"
          ]
        },
        {
          "data": {
            "text/plain": [
              "12"
            ]
          },
          "execution_count": 46,
          "metadata": {},
          "output_type": "execute_result"
        }
      ],
      "source": [
        "class P:\n",
        "  def __init__(self, name):\n",
        "    self.name = name\n",
        "  def speak(self):\n",
        "    pass\n",
        "\n",
        "class C1(P):\n",
        "  def speak(self):\n",
        "    print(\"I am from C1\")\n",
        "    return f\"This is {self.name}\"\n",
        "\n",
        "class C2(P):\n",
        "  def speak(self):\n",
        "    print(\"I am from C2\")\n",
        "    return f\"This is {self.name}\"\n",
        "\n",
        "a = C1(\"Alice\")\n",
        "b = C2(\"Bob\")\n",
        "print(a.speak())\n",
        "print(b.speak())\n",
        "\n",
        "12"
      ]
    },
    {
      "cell_type": "code",
      "execution_count": null,
      "metadata": {
        "colab": {
          "base_uri": "https://localhost:8080/"
        },
        "id": "E-YeyX-OVQHy",
        "outputId": "3d82c229-d877-4544-8ced-58e29ee5914f"
      },
      "outputs": [
        {
          "name": "stdout",
          "output_type": "stream",
          "text": [
            "This is the first child\n",
            "This is the first child\n",
            "This is the second child\n",
            "Enter name 0: vishu\n",
            "Enter name 1: Yunesh\n",
            "Enter name 2: Akshat\n",
            "0 name is: vishu\n",
            "1 name is: Yunesh\n",
            "2 name is: Akshat\n"
          ]
        }
      ],
      "source": [
        "class m:\n",
        "  a = 10\n",
        "  b = [None] * 3\n",
        "\n",
        "class c1(m):\n",
        "  def __init__(self):\n",
        "    print(\"This is the first child\")\n",
        "\n",
        "  def sca(self):\n",
        "    for i in range(3):\n",
        "      self.b[i] = input(f\"Enter name {i}: \")\n",
        "\n",
        "class c2(m):\n",
        "  def __init__(self):\n",
        "    print(\"This is the second child\")\n",
        "\n",
        "  def disp(self):\n",
        "    for j in range(3):\n",
        "      print(f'{j} name is: {self.b[j]}')\n",
        "\n",
        "class c3(c1, c2):\n",
        "  def __init__(self):\n",
        "    super().__init__()\n",
        "    self.obj1 = c1()\n",
        "    self.obj2 = c2()\n",
        "    self.obj1.sca()\n",
        "    self.obj2.disp()\n",
        "\n",
        "\n",
        "c3_instance = c3()"
      ]
    },
    {
      "cell_type": "code",
      "execution_count": null,
      "metadata": {
        "colab": {
          "background_save": true,
          "base_uri": "https://localhost:8080/",
          "height": 384
        },
        "id": "0-z39YUyYa-9",
        "outputId": "f0b8c235-03d2-47ac-f37c-4f183e30547e"
      },
      "outputs": [
        {
          "name": "stdout",
          "output_type": "stream",
          "text": [
            "this is the child3 class and tomorrow's temp will be 23\n",
            "this is the parent class and yesterday's temp was 21*C\n",
            "this is the child1 class and today's morning temp is 19*C\n",
            "this is the child2 class and today's evening temp will be 24*C\n",
            "this is the parent class and yesterday's temp was 21*C\n",
            "Temperature record: \n",
            "Yesterday's temp:  21\n"
          ]
        }
      ],
      "source": [
        "class p:\n",
        "  def __init__(self,y_temp):\n",
        "    self.y_temp=y_temp\n",
        "    print(\"this is the parent class and yesterday's temp was \",y_temp,\"*C\",sep=\"\")\n",
        "\n",
        "class c1(p):\n",
        "  def __init__(self,tm_temp,):\n",
        "    self.tm_temp=tm_temp\n",
        "    print(\"this is the child1 class and today's morning temp is \",tm_temp,\"*C\",sep=\"\")\n",
        "\n",
        "class c2(p):\n",
        "  def __init__(self,te_temp):\n",
        "    self.te_temp=te_temp\n",
        "    print(\"this is the child2 class and today's evening temp will be \",te_temp,\"*C\",sep=\"\")\n",
        "\n",
        "class c3(c1,c2):\n",
        "  def __init__(self,tom_temp):\n",
        "    self.tom_temp=tom_temp\n",
        "    print(\"this is the child3 class and tomorrow's temp will be\",tom_temp)\n",
        "\n",
        "\n",
        "c=c3(23)\n",
        "p(21)\n",
        "c1(19)\n",
        "c2(24)\n",
        "print(\"Temperature record: \\nYesterday's temp: \",p(2).y_temp)\n",
        "print(\"today morning: \",self.tm_temp,\" and today evening: \",self.te_temp,\"\\ntomorrow's temp: \",self.tom_temp)\n",
        "\n"
      ]
    },
    {
      "cell_type": "code",
      "execution_count": null,
      "metadata": {
        "id": "0YGyvkLPPRAU",
        "colab": {
          "base_uri": "https://localhost:8080/"
        },
        "outputId": "dcf36496-bf46-4529-e417-5598fbab53e6"
      },
      "outputs": [
        {
          "name": "stdout",
          "output_type": "stream",
          "text": [
            "Enter the total amount: 200\n",
            "Enter amount of 5 rupees coins: 10\n",
            "Enter amount of 1 rupee coins: 2\n"
          ]
        },
        {
          "output_type": "execute_result",
          "data": {
            "text/plain": [
              "-1"
            ]
          },
          "metadata": {},
          "execution_count": 11
        }
      ],
      "source": [
        "#24th June\n",
        "\n",
        "def mincoin(z,a,b):\n",
        "  if((5*a)+b<z):\n",
        "    return -1\n",
        "  elif(5*a+b==z):\n",
        "    print(\"Minimum number of 5 coins: \",a)\n",
        "    print(\"Minimum number of 1 rupee coins: \",b)\n",
        "  else:\n",
        "    coin5=z//5\n",
        "    coin1=z%5\n",
        "    if (coin1<b):\n",
        "      return -1\n",
        "    else:\n",
        "      print(\"Minimum number of 5 coins: \",coin5)\n",
        "      print(\"Minimum number of 1 rupee coins: \",coin1)\n",
        "\n",
        "a=int(input(\"Enter the total amount: \"))\n",
        "b=int(input(\"Enter amount of 5 rupees coins: \"))\n",
        "c=int(input(\"Enter amount of 1 rupee coins: \"))\n",
        "mincoin(a,b,c)"
      ]
    },
    {
      "cell_type": "code",
      "source": [
        "def coins(x, y, z):\n",
        "  for k in range(min(z // 5, x), -1, -1):\n",
        "    remaining_amount = z - 5 * k\n",
        "    if remaining_amount <= y:\n",
        "      return k, remaining_amount\n",
        "  return -1\n",
        "x = 20\n",
        "y = 5\n",
        "z = 7\n",
        "result = coins(x, y, z)\n",
        "print(result)"
      ],
      "metadata": {
        "colab": {
          "base_uri": "https://localhost:8080/"
        },
        "id": "TYYzAOAipWwR",
        "outputId": "69d4d221-6e08-4b28-f4dd-36e4e1570dec"
      },
      "execution_count": null,
      "outputs": [
        {
          "output_type": "stream",
          "name": "stdout",
          "text": [
            "(1, 2)\n"
          ]
        }
      ]
    },
    {
      "cell_type": "code",
      "source": [
        "x = int(input(\"Enter the number of 5 rupee coins: \"))\n",
        "y = int(input(\"Enter the number of 1 rupee coins: \"))\n",
        "z = int(input(\"Enter the total amount: \"))\n",
        "\n",
        "def check(x, y, z):\n",
        "  if z > x * 5 + y:\n",
        "    print(\"-1\")\n",
        "    return\n",
        "  c5 = min(z//5,x)\n",
        "  c1 = z - c5 * 5\n",
        "\n",
        "  if c1 <= y:\n",
        "    print(f\"Number of 1 rupee coins: {c1}\")\n",
        "    print(f\"Number of 5 rupee coins: {c5}\")\n",
        "  else:\n",
        "    print(\"-1\")\n",
        "\n",
        "check(x, y, z)"
      ],
      "metadata": {
        "colab": {
          "base_uri": "https://localhost:8080/"
        },
        "id": "ckZl4mv1rKxD",
        "outputId": "c9e10c25-7d82-4ffc-a467-725a26f63bdf"
      },
      "execution_count": null,
      "outputs": [
        {
          "output_type": "stream",
          "name": "stdout",
          "text": [
            "Enter the number of 5 rupee coins: 8\n",
            "Enter the number of 1 rupee coins: 5\n",
            "Enter the total amount: 45\n",
            "Number of 1 rupee coins: 5\n",
            "Number of 5 rupee coins: 8\n"
          ]
        }
      ]
    },
    {
      "cell_type": "code",
      "source": [
        "def total_coins(x, y, z):\n",
        "\n",
        "  five_coins = min(z // 5, x)\n",
        "\n",
        "  for i in range(five_coins, -1, -1):\n",
        "    final = z - i * 5\n",
        "    if final <= y:\n",
        "      j = final\n",
        "    return i, j\n",
        "\n",
        "  return -1\n",
        "\n",
        "x = int(input(\"enter the 5 rupee coin:\"))\n",
        "y = int(input(\"enter the 1 rupee coin:\"))\n",
        "z = int(input(\"final amount:\"))\n",
        "\n",
        "result = total_coins(x, y, z)\n",
        "print(result)"
      ],
      "metadata": {
        "colab": {
          "base_uri": "https://localhost:8080/"
        },
        "id": "_vRBtWnGtzOS",
        "outputId": "8b0357c6-fe75-4dee-e344-ace84a466d3d"
      },
      "execution_count": null,
      "outputs": [
        {
          "output_type": "stream",
          "name": "stdout",
          "text": [
            "enter the 5 rupee coin:8\n",
            "enter the 1 rupee coin:5\n",
            "final amount:45\n",
            "(8, 5)\n"
          ]
        }
      ]
    },
    {
      "cell_type": "code",
      "source": [
        "def calculate_coins(amount, five_rupee, one_rupee):\n",
        "  five_rupee = min(amount // 5, five_rupee)\n",
        "  remaining = amount - five_rupee * 5\n",
        "\n",
        "  required_one_rupee = remaining\n",
        "  one_rupee = min(required_one_rupee, one_rupee)\n",
        "\n",
        "  if remaining - one_rupee != 0:\n",
        "    return None\n",
        "\n",
        "  return five_rupee, one_rupee\n",
        "\n",
        "amount = int(input(\"Enter the amount to be paid (in rupees): \"))\n",
        "five_rupee = int(input(\"Enter the number of five rupee coins: \"))\n",
        "one_rupee = int(input(\"Enter the number of one rupee coins: \"))\n",
        "\n",
        "five_rupee, one_rupee = calculate_coins(amount, five_rupee, one_rupee)\n",
        "\n",
        "if five_rupee is None:\n",
        "  print(\"Exact change is not possible with your available coins.\")\n",
        "else:\n",
        "  total_coins = five_rupee + one_rupee\n",
        "print(f\"Minimum number of coins to give: {total_coins}\")\n",
        "print(f\"Number of 5 rupee coins: {five_rupee}\")\n",
        "print(f\"Number of 1 rupee coins: {one_rupee}\")"
      ],
      "metadata": {
        "colab": {
          "base_uri": "https://localhost:8080/"
        },
        "id": "a2O4pC2EuLTa",
        "outputId": "aa9c0803-ac56-4419-e1a7-7a09d410b43d"
      },
      "execution_count": null,
      "outputs": [
        {
          "output_type": "stream",
          "name": "stdout",
          "text": [
            "Enter the amount to be paid (in rupees): 23\n",
            "Enter the number of five rupee coins: 10\n",
            "Enter the number of one rupee coins: 5\n",
            "Minimum number of coins to give: 7\n",
            "Number of 5 rupee coins: 4\n",
            "Number of 1 rupee coins: 3\n"
          ]
        }
      ]
    },
    {
      "cell_type": "code",
      "source": [
        "def exact_price(total_amount):\n",
        "five_rupee_coins = int(input(\"Enter the number of five rupee coins you have: \"))\n",
        "one_rupee_coins = int(input(\"Enter the number of one rupee coins you have: \"))\n",
        "max_five_rupee_coins = min(total_amount // 5, five_rupee_coins)\n",
        "\n",
        "for five_rupee_coins_used in range(max_five_rupee_coins, -1, -1):\n",
        "one_rupee_coins_needed = total_amount - (five_rupee_coins_used * 5)\n",
        "if one_rupee_coins_needed <= one_rupee_coins:\n",
        "return five_rupee_coins_used, one_rupee_coins_needed\n",
        "\n",
        "return -1\n",
        "\n",
        "total_amount = int(input(\"Enter the price of the item: \"))\n",
        "\n",
        "result = exact_price(total_amount)\n",
        "if result != -1:\n",
        "five_rupee_coins_used, one_rupee_coins_needed = result\n",
        "print(\"The five rupee coins required are:\", five_rupee_coins_used, \", The one rupee coins required are:\", one_rupee_coins_needed)\n",
        "else:\n",
        "print(\"Enough change is not available\")"
      ],
      "metadata": {
        "id": "VNzJ3hotvEdL"
      },
      "execution_count": null,
      "outputs": []
    },
    {
      "cell_type": "code",
      "source": [
        "def minCoins(x, y, z):\n",
        "\n",
        "  max_5_coins = x\n",
        "\n",
        "  remaining_amount = z - (5 * max_5_coins)\n",
        "\n",
        "  min_1_coins = remaining_amount\n",
        "\n",
        "  total_coins = max_5_coins + min_1_coins\n",
        "\n",
        "  if total_coins <= x + y:\n",
        "    return [max_5_coins, min_1_coins]\n",
        "  else:\n",
        "    return [-1]\n",
        "\n",
        "x = 2\n",
        "y = 5\n",
        "z = 12\n",
        "print(minCoins(x, y, z))\n",
        "\n",
        "x = 4\n",
        "y = 3\n",
        "z = 21\n",
        "print(minCoins(x, y, z))\n",
        "\n",
        "x = 2\n",
        "y = 3\n",
        "z = 18\n",
        "print(minCoins(x, y, z))"
      ],
      "metadata": {
        "colab": {
          "base_uri": "https://localhost:8080/"
        },
        "id": "9E3yqh2BvOXN",
        "outputId": "2004808c-ef1a-49ab-9218-0b38440b679b"
      },
      "execution_count": null,
      "outputs": [
        {
          "output_type": "stream",
          "name": "stdout",
          "text": [
            "[2, 2]\n",
            "[4, 1]\n",
            "[-1]\n"
          ]
        }
      ]
    },
    {
      "cell_type": "code",
      "source": [
        "#comprehension\n",
        "#list, sets,dictionary\n",
        "\n",
        "l=[1,2,3,4,5,6,7,8,9]\n",
        "ml=[i*3 for i in range(0,10) if i>=5]\n",
        "\n",
        "#for i in l:\n",
        "#  if(i%2==0):\n",
        "#    ml.append(i)\n",
        "print(ml)\n",
        "\n",
        "\n"
      ],
      "metadata": {
        "colab": {
          "base_uri": "https://localhost:8080/"
        },
        "id": "PBgHikHKyLzx",
        "outputId": "737216b3-1ced-4f9a-ed77-96b813c203f8"
      },
      "execution_count": null,
      "outputs": [
        {
          "output_type": "stream",
          "name": "stdout",
          "text": [
            "[15, 18, 21, 24, 27]\n"
          ]
        }
      ]
    },
    {
      "cell_type": "code",
      "source": [
        "s={1,2,3,1,2,3,1,2,3,'apple','def'}\n",
        "print(s)\n",
        "e=set()\n",
        "e.add('dfcgvbhj')\n",
        "print(e)\n",
        "\n",
        "\n",
        "ns={i*3 for i in range(0,10) if i>=5}\n",
        "print(ns)\n"
      ],
      "metadata": {
        "colab": {
          "base_uri": "https://localhost:8080/"
        },
        "id": "hJLhtlAR0PlM",
        "outputId": "f1a71556-9c04-44df-bfe0-44851b5c974a"
      },
      "execution_count": null,
      "outputs": [
        {
          "output_type": "stream",
          "name": "stdout",
          "text": [
            "{1, 2, 'def', 3, 'apple'}\n",
            "{'dfcgvbhj'}\n",
            "{15, 18, 21, 24, 27}\n"
          ]
        }
      ]
    },
    {
      "cell_type": "code",
      "source": [],
      "metadata": {
        "id": "sH9gEmIG2LeR"
      },
      "execution_count": null,
      "outputs": []
    },
    {
      "cell_type": "code",
      "source": [
        "s={1,2,3,1,2,3,1,2,3,'apple','def'}\n",
        "print(s)"
      ],
      "metadata": {
        "colab": {
          "base_uri": "https://localhost:8080/"
        },
        "id": "iAjRc_tF1uY8",
        "outputId": "b69b8322-a558-4955-92a0-f854567bfdd7"
      },
      "execution_count": null,
      "outputs": [
        {
          "output_type": "stream",
          "name": "stdout",
          "text": [
            "{1, 2, 'def', 3, 'apple'}\n"
          ]
        }
      ]
    },
    {
      "cell_type": "code",
      "source": [
        "l=['ankit','abhi','yunesh','amit','akshat']\n",
        "d={i:i*2 for i in range(0,10)}\n",
        "print(d)"
      ],
      "metadata": {
        "colab": {
          "base_uri": "https://localhost:8080/"
        },
        "id": "Gp4LXnMg2Mln",
        "outputId": "3acb5d6d-b36f-4fc2-8f2e-880480eab53a"
      },
      "execution_count": null,
      "outputs": [
        {
          "output_type": "stream",
          "name": "stdout",
          "text": [
            "{0: 0, 1: 2, 2: 4, 3: 6, 4: 8, 5: 10, 6: 12, 7: 14, 8: 16, 9: 18}\n"
          ]
        }
      ]
    },
    {
      "cell_type": "code",
      "source": [
        "l=[\"Ankit\",\"Abhi\",\"Yunesh\",\"Abhi\",\"Akshat\"]\n",
        "d={i:l[i] for i in range(len(l))}\n",
        "print(d)"
      ],
      "metadata": {
        "colab": {
          "base_uri": "https://localhost:8080/"
        },
        "id": "XanIm3il3wC4",
        "outputId": "03bb3c3f-48c5-44b6-8e6e-98f7d1443909"
      },
      "execution_count": null,
      "outputs": [
        {
          "output_type": "stream",
          "name": "stdout",
          "text": [
            "{0: 'Ankit', 1: 'Abhi', 2: 'Yunesh', 3: 'Abhi', 4: 'Akshat'}\n"
          ]
        }
      ]
    },
    {
      "cell_type": "code",
      "source": [
        "nl=[[i for i in range(2)] for j in range(7)]\n",
        "print(nl)"
      ],
      "metadata": {
        "colab": {
          "base_uri": "https://localhost:8080/"
        },
        "id": "DgruPMK44MDm",
        "outputId": "8b341aa3-5ad5-4fe1-9271-b1edd2936862"
      },
      "execution_count": null,
      "outputs": [
        {
          "output_type": "stream",
          "name": "stdout",
          "text": [
            "[[0, 1], [0, 1], [0, 1], [0, 1], [0, 1], [0, 1], [0, 1]]\n"
          ]
        }
      ]
    },
    {
      "cell_type": "code",
      "source": [
        "#lamda function\n",
        "g=lambda a,b:a*b\n",
        "print(g(10,2))"
      ],
      "metadata": {
        "colab": {
          "base_uri": "https://localhost:8080/"
        },
        "id": "CvlI6bbm5LH-",
        "outputId": "9318e471-5538-4069-9340-0815fc68e095"
      },
      "execution_count": null,
      "outputs": [
        {
          "output_type": "stream",
          "name": "stdout",
          "text": [
            "20\n"
          ]
        }
      ]
    },
    {
      "cell_type": "code",
      "source": [
        "list1=[('Ankit', 89, 95, 94), ('Krishna', 90, 93, 92), ('Prashant', 88, 91, 93), ('Chaman', 89, 91, 90), ('Her', 89, 96, 93)]\n",
        "list1.sort(key=lambda x:x[2])\n",
        "\n",
        "print(list1)"
      ],
      "metadata": {
        "colab": {
          "base_uri": "https://localhost:8080/"
        },
        "id": "vvZ-7zbA5m6P",
        "outputId": "351ff884-eb2c-4fa1-bf9c-174fca0e42f9"
      },
      "execution_count": 26,
      "outputs": [
        {
          "output_type": "stream",
          "name": "stdout",
          "text": [
            "[('Prashant', 88, 91, 93), ('Chaman', 89, 91, 90), ('Krishna', 90, 93, 92), ('Ankit', 89, 95, 94), ('Her', 89, 96, 93)]\n"
          ]
        }
      ]
    },
    {
      "cell_type": "code",
      "source": [
        "l=[4,2,1,-6,-3,-9,0]\n",
        "print(max(l))\n",
        "\n",
        "#l.sort(key=lambda x:x*2)\n",
        "#print(l)"
      ],
      "metadata": {
        "colab": {
          "base_uri": "https://localhost:8080/"
        },
        "id": "TsWUAZzq7yR6",
        "outputId": "4a695aec-7ac5-401d-cef3-9a1720e597aa"
      },
      "execution_count": 30,
      "outputs": [
        {
          "output_type": "stream",
          "name": "stdout",
          "text": [
            "4\n"
          ]
        }
      ]
    },
    {
      "cell_type": "code",
      "source": [
        "l=['abc','de','ghikjgh','w','we']\n",
        "l.sort(key=len)\n",
        "print(l)"
      ],
      "metadata": {
        "colab": {
          "base_uri": "https://localhost:8080/"
        },
        "id": "gb5p54mbleFf",
        "outputId": "39f1ebcd-0b9f-4494-ad3e-c362024c907e"
      },
      "execution_count": 18,
      "outputs": [
        {
          "output_type": "stream",
          "name": "stdout",
          "text": [
            "['w', 'de', 'we', 'abc', 'ghikjgh']\n"
          ]
        }
      ]
    },
    {
      "cell_type": "code",
      "source": [
        "print('20'+34)"
      ],
      "metadata": {
        "colab": {
          "base_uri": "https://localhost:8080/",
          "height": 141
        },
        "id": "vMacAStF7WGf",
        "outputId": "5ba91a00-ed6b-42e8-b608-b8d99a74bae9"
      },
      "execution_count": 36,
      "outputs": [
        {
          "output_type": "error",
          "ename": "TypeError",
          "evalue": "can only concatenate str (not \"int\") to str",
          "traceback": [
            "\u001b[0;31m---------------------------------------------------------------------------\u001b[0m",
            "\u001b[0;31mTypeError\u001b[0m                                 Traceback (most recent call last)",
            "\u001b[0;32m<ipython-input-36-fd6acc39c4af>\u001b[0m in \u001b[0;36m<cell line: 1>\u001b[0;34m()\u001b[0m\n\u001b[0;32m----> 1\u001b[0;31m \u001b[0mprint\u001b[0m\u001b[0;34m(\u001b[0m\u001b[0;34m'20'\u001b[0m\u001b[0;34m+\u001b[0m\u001b[0;36m34\u001b[0m\u001b[0;34m)\u001b[0m\u001b[0;34m\u001b[0m\u001b[0;34m\u001b[0m\u001b[0m\n\u001b[0m",
            "\u001b[0;31mTypeError\u001b[0m: can only concatenate str (not \"int\") to str"
          ]
        }
      ]
    },
    {
      "cell_type": "code",
      "source": [
        "print(x)"
      ],
      "metadata": {
        "colab": {
          "base_uri": "https://localhost:8080/",
          "height": 141
        },
        "id": "_f0NmuHG9IVa",
        "outputId": "3c9227ae-9338-4c88-e689-d5df230181a4"
      },
      "execution_count": 37,
      "outputs": [
        {
          "output_type": "error",
          "ename": "NameError",
          "evalue": "name 'x' is not defined",
          "traceback": [
            "\u001b[0;31m---------------------------------------------------------------------------\u001b[0m",
            "\u001b[0;31mNameError\u001b[0m                                 Traceback (most recent call last)",
            "\u001b[0;32m<ipython-input-37-fc17d851ef81>\u001b[0m in \u001b[0;36m<cell line: 1>\u001b[0;34m()\u001b[0m\n\u001b[0;32m----> 1\u001b[0;31m \u001b[0mprint\u001b[0m\u001b[0;34m(\u001b[0m\u001b[0mx\u001b[0m\u001b[0;34m)\u001b[0m\u001b[0;34m\u001b[0m\u001b[0;34m\u001b[0m\u001b[0m\n\u001b[0m",
            "\u001b[0;31mNameError\u001b[0m: name 'x' is not defined"
          ]
        }
      ]
    },
    {
      "cell_type": "code",
      "source": [
        "try :\n",
        "  x=6\n",
        "  print(x)\n",
        "  print(22+34)\n",
        "except (NameError,TypeError):\n",
        "  print(\"you are giving wrong statements\")\n",
        "else:\n",
        "  print(\"SUCESS\")\n"
      ],
      "metadata": {
        "colab": {
          "base_uri": "https://localhost:8080/"
        },
        "id": "wxwSGitV872_",
        "outputId": "49d18221-3606-444e-c7f9-0344efcf2f87"
      },
      "execution_count": 44,
      "outputs": [
        {
          "output_type": "stream",
          "name": "stdout",
          "text": [
            "6\n",
            "56\n",
            "SUCESS\n"
          ]
        }
      ]
    },
    {
      "cell_type": "code",
      "source": [
        "try:\n",
        "  a=10\n",
        "  print(a)\n",
        "  raise ValueError\n",
        "except:\n",
        "  print(\"there is an exception\")\n",
        "  raise"
      ],
      "metadata": {
        "colab": {
          "base_uri": "https://localhost:8080/",
          "height": 245
        },
        "id": "tMjPDTBR_bq8",
        "outputId": "bab013d4-b45e-4c66-aa87-1e72f67067e1"
      },
      "execution_count": 46,
      "outputs": [
        {
          "output_type": "stream",
          "name": "stdout",
          "text": [
            "10\n",
            "there is an exception\n"
          ]
        },
        {
          "output_type": "error",
          "ename": "ValueError",
          "evalue": "",
          "traceback": [
            "\u001b[0;31m---------------------------------------------------------------------------\u001b[0m",
            "\u001b[0;31mValueError\u001b[0m                                Traceback (most recent call last)",
            "\u001b[0;32m<ipython-input-46-7e83251ff16b>\u001b[0m in \u001b[0;36m<cell line: 1>\u001b[0;34m()\u001b[0m\n\u001b[1;32m      2\u001b[0m   \u001b[0ma\u001b[0m\u001b[0;34m=\u001b[0m\u001b[0;36m10\u001b[0m\u001b[0;34m\u001b[0m\u001b[0;34m\u001b[0m\u001b[0m\n\u001b[1;32m      3\u001b[0m   \u001b[0mprint\u001b[0m\u001b[0;34m(\u001b[0m\u001b[0ma\u001b[0m\u001b[0;34m)\u001b[0m\u001b[0;34m\u001b[0m\u001b[0;34m\u001b[0m\u001b[0m\n\u001b[0;32m----> 4\u001b[0;31m   \u001b[0;32mraise\u001b[0m \u001b[0mValueError\u001b[0m\u001b[0;34m\u001b[0m\u001b[0;34m\u001b[0m\u001b[0m\n\u001b[0m\u001b[1;32m      5\u001b[0m \u001b[0;32mexcept\u001b[0m\u001b[0;34m:\u001b[0m\u001b[0;34m\u001b[0m\u001b[0;34m\u001b[0m\u001b[0m\n\u001b[1;32m      6\u001b[0m   \u001b[0mprint\u001b[0m\u001b[0;34m(\u001b[0m\u001b[0;34m\"there is an exception\"\u001b[0m\u001b[0;34m)\u001b[0m\u001b[0;34m\u001b[0m\u001b[0;34m\u001b[0m\u001b[0m\n",
            "\u001b[0;31mValueError\u001b[0m: "
          ]
        }
      ]
    },
    {
      "cell_type": "code",
      "source": [
        "class pythonError(Exception):\n",
        "  def __init__(self,z):\n",
        "    self.z=z\n",
        "  def __str__(self):\n",
        "    return repr(self.z)\n",
        "try:\n",
        "  raise pythonError(2)\n",
        "except pythonError:\n",
        "  print(\"You are done\")"
      ],
      "metadata": {
        "colab": {
          "base_uri": "https://localhost:8080/"
        },
        "id": "4P6sjv4AAChf",
        "outputId": "36c213b0-4f00-4e1e-985a-81f6edd6ba77"
      },
      "execution_count": 48,
      "outputs": [
        {
          "output_type": "stream",
          "name": "stdout",
          "text": [
            "You are done\n"
          ]
        }
      ]
    },
    {
      "cell_type": "code",
      "source": [
        "try :\n",
        "  print(\"hello\")\n",
        "  raise ValueError\n",
        "finally:\n",
        "  print(\"It is done\")"
      ],
      "metadata": {
        "colab": {
          "base_uri": "https://localhost:8080/",
          "height": 245
        },
        "id": "q6iS468oAp4I",
        "outputId": "1195ae99-0343-4101-ab2f-dd291e227868"
      },
      "execution_count": 49,
      "outputs": [
        {
          "output_type": "stream",
          "name": "stdout",
          "text": [
            "hello\n",
            "It is done\n"
          ]
        },
        {
          "output_type": "error",
          "ename": "ValueError",
          "evalue": "",
          "traceback": [
            "\u001b[0;31m---------------------------------------------------------------------------\u001b[0m",
            "\u001b[0;31mValueError\u001b[0m                                Traceback (most recent call last)",
            "\u001b[0;32m<ipython-input-49-441367e1d11f>\u001b[0m in \u001b[0;36m<cell line: 1>\u001b[0;34m()\u001b[0m\n\u001b[1;32m      1\u001b[0m \u001b[0;32mtry\u001b[0m \u001b[0;34m:\u001b[0m\u001b[0;34m\u001b[0m\u001b[0;34m\u001b[0m\u001b[0m\n\u001b[1;32m      2\u001b[0m   \u001b[0mprint\u001b[0m\u001b[0;34m(\u001b[0m\u001b[0;34m\"hello\"\u001b[0m\u001b[0;34m)\u001b[0m\u001b[0;34m\u001b[0m\u001b[0;34m\u001b[0m\u001b[0m\n\u001b[0;32m----> 3\u001b[0;31m   \u001b[0;32mraise\u001b[0m \u001b[0mValueError\u001b[0m\u001b[0;34m\u001b[0m\u001b[0;34m\u001b[0m\u001b[0m\n\u001b[0m\u001b[1;32m      4\u001b[0m \u001b[0;32mfinally\u001b[0m\u001b[0;34m:\u001b[0m\u001b[0;34m\u001b[0m\u001b[0;34m\u001b[0m\u001b[0m\n\u001b[1;32m      5\u001b[0m   \u001b[0mprint\u001b[0m\u001b[0;34m(\u001b[0m\u001b[0;34m\"It is done\"\u001b[0m\u001b[0;34m)\u001b[0m\u001b[0;34m\u001b[0m\u001b[0;34m\u001b[0m\u001b[0m\n",
            "\u001b[0;31mValueError\u001b[0m: "
          ]
        }
      ]
    },
    {
      "cell_type": "code",
      "source": [
        "try :\n",
        "  print(\"hello\")\n",
        "  raise ValueError\n",
        "except:\n",
        "  print(\"exception is there\")\n",
        "finally:\n",
        "  print(\"It is done\")"
      ],
      "metadata": {
        "colab": {
          "base_uri": "https://localhost:8080/"
        },
        "id": "Q6EHvm2eBAW0",
        "outputId": "1f446e32-b879-4147-96e8-bc16c34cd75c"
      },
      "execution_count": 50,
      "outputs": [
        {
          "output_type": "stream",
          "name": "stdout",
          "text": [
            "hello\n",
            "exception is there\n",
            "It is done\n"
          ]
        }
      ]
    },
    {
      "cell_type": "code",
      "source": [],
      "metadata": {
        "id": "UgPZ-EUkEABM"
      },
      "execution_count": null,
      "outputs": []
    }
  ],
  "metadata": {
    "colab": {
      "provenance": []
    },
    "kernelspec": {
      "display_name": "Python 3",
      "name": "python3"
    },
    "language_info": {
      "name": "python"
    }
  },
  "nbformat": 4,
  "nbformat_minor": 0
}