{
 "cells": [
  {
   "cell_type": "code",
   "execution_count": 7,
   "id": "d145938e-e5f9-4529-8c21-d032f580ad10",
   "metadata": {},
   "outputs": [
    {
     "name": "stdout",
     "output_type": "stream",
     "text": [
      "10\n"
     ]
    }
   ],
   "source": [
    "print(A) "
   ]
  },
  {
   "cell_type": "code",
   "execution_count": null,
   "id": "366af39b-1d0c-42e0-a3f6-c9ef186f3645",
   "metadata": {},
   "outputs": [],
   "source": []
  },
  {
   "cell_type": "code",
   "execution_count": null,
   "id": "e4d3e6c8-40a3-442f-9341-e04b4877f470",
   "metadata": {},
   "outputs": [],
   "source": []
  },
  {
   "cell_type": "code",
   "execution_count": 13,
   "id": "8f0a7ccf-c10c-4798-97ef-62c427873751",
   "metadata": {},
   "outputs": [],
   "source": [
    "a=7\n",
    "b=3.9\n",
    "c='a'\n",
    "d = \"hell'o\""
   ]
  },
  {
   "cell_type": "code",
   "execution_count": null,
   "id": "3d5f306d-531d-4c12-a1f7-aeb257845648",
   "metadata": {},
   "outputs": [],
   "source": []
  },
  {
   "cell_type": "code",
   "execution_count": 15,
   "id": "142ae02b-cab4-45f0-9382-9219fdce9384",
   "metadata": {},
   "outputs": [
    {
     "name": "stdout",
     "output_type": "stream",
     "text": [
      "7 3.9 a hell'o\n"
     ]
    }
   ],
   "source": [
    "print(a,b,c,d)"
   ]
  },
  {
   "cell_type": "code",
   "execution_count": 2,
   "id": "5b3eb77c-c630-4338-b5d6-26e5dd88559b",
   "metadata": {},
   "outputs": [
    {
     "name": "stdin",
     "output_type": "stream",
     "text": [
      "Enter a 5\n",
      "Enter b 6\n"
     ]
    },
    {
     "name": "stdout",
     "output_type": "stream",
     "text": [
      "True\n"
     ]
    },
    {
     "ename": "NameError",
     "evalue": "name 'ab' is not defined",
     "output_type": "error",
     "traceback": [
      "\u001b[0;31m---------------------------------------------------------------------------\u001b[0m",
      "\u001b[0;31mNameError\u001b[0m                                 Traceback (most recent call last)",
      "Cell \u001b[0;32mIn[2], line 5\u001b[0m\n\u001b[1;32m      3\u001b[0m \u001b[38;5;66;03m#print(a==b)\u001b[39;00m\n\u001b[1;32m      4\u001b[0m \u001b[38;5;28mprint\u001b[39m(a\u001b[38;5;241m!=\u001b[39mb)\n\u001b[0;32m----> 5\u001b[0m \u001b[38;5;28mprint\u001b[39m(ab)\n",
      "\u001b[0;31mNameError\u001b[0m: name 'ab' is not defined"
     ]
    }
   ],
   "source": [
    "\n",
    "a=int(input(\"Enter a\"))\n",
    "b=int(input(\"Enter b\"))\n",
    "#print(a==b)\n",
    "print(a!=b)\n",
    "print(ab)\n"
   ]
  },
  {
   "cell_type": "code",
   "execution_count": 6,
   "id": "c8e1ce84-2561-486c-83b2-8e8facac671e",
   "metadata": {},
   "outputs": [],
   "source": [
    "a=10\n",
    "b=-(a)"
   ]
  },
  {
   "cell_type": "code",
   "execution_count": 10,
   "id": "df2cb4cc-85fe-4f1b-8451-9534117abc8f",
   "metadata": {},
   "outputs": [
    {
     "name": "stdout",
     "output_type": "stream",
     "text": [
      "10\n"
     ]
    }
   ],
   "source": [
    "print(a)"
   ]
  },
  {
   "cell_type": "code",
   "execution_count": 14,
   "id": "54692abf-bd6b-401b-b52d-3437eb838544",
   "metadata": {},
   "outputs": [
    {
     "name": "stdout",
     "output_type": "stream",
     "text": [
      "-10\n"
     ]
    }
   ],
   "source": [
    "print(b)"
   ]
  },
  {
   "cell_type": "code",
   "execution_count": 18,
   "id": "dcb833a8-af0e-46da-88e4-3c2de3f63607",
   "metadata": {},
   "outputs": [
    {
     "name": "stdout",
     "output_type": "stream",
     "text": [
      "-10\n"
     ]
    }
   ],
   "source": [
    "print(b)"
   ]
  },
  {
   "cell_type": "markdown",
   "id": "df431b25-9dc6-4cd5-93b7-826a06c8ac08",
   "metadata": {},
   "source": [
    "And\n",
    "1 1 1\n",
    "1 0 0 0 1 0 0 0 0\n",
    "\n",
    "OR 1 1 1 1 0 1 0 1 1 0 0 0\n",
    "\n",
    "Not\n",
    "\n",
    "1 0 0 1"
   ]
  },
  {
   "cell_type": "code",
   "execution_count": 21,
   "id": "158d53c9-0b0a-447b-a37a-21df2373b643",
   "metadata": {},
   "outputs": [
    {
     "name": "stdout",
     "output_type": "stream",
     "text": [
      "941630224\n",
      "1069480887\n",
      "-1010101011\n"
     ]
    }
   ],
   "source": [
    "a=1010101010\n",
    "b=1001010101\n",
    "print(a&b)\n",
    "print(a|b)\n",
    "print(~a)"
   ]
  },
  {
   "cell_type": "code",
   "execution_count": 30,
   "id": "6197c882-1632-4dc8-9c27-8ce87f0afe62",
   "metadata": {},
   "outputs": [
    {
     "name": "stdout",
     "output_type": "stream",
     "text": [
      "0\n",
      "30\n"
     ]
    }
   ],
   "source": [
    "a=10\n",
    "b=20\n",
    "print(a&b)\n",
    "print(a|b"
   ]
  },
  {
   "cell_type": "code",
   "execution_count": 32,
   "id": "1a0238fc-b8cc-4965-a178-b834dc5194ea",
   "metadata": {},
   "outputs": [
    {
     "name": "stdout",
     "output_type": "stream",
     "text": [
      "0\n",
      "30\n"
     ]
    }
   ],
   "source": [
    "a=10\n",
    "b=20\n",
    "print(a&b)\n",
    "print(a|b)"
   ]
  },
  {
   "cell_type": "code",
   "execution_count": 38,
   "id": "cfe864d8-9fb6-45f6-90d5-7c6187d19bfd",
   "metadata": {},
   "outputs": [
    {
     "name": "stdout",
     "output_type": "stream",
     "text": [
      "0b10000100011100010101010110100000000\n"
     ]
    }
   ],
   "source": [
    "\n",
    "x= 1111010000\n",
    "\n",
    "print(bin(x<<4))"
   ]
  },
  {
   "cell_type": "code",
   "execution_count": 42,
   "id": "3c4012f5-c033-4184-89c1-ed0475f31abe",
   "metadata": {},
   "outputs": [
    {
     "name": "stdout",
     "output_type": "stream",
     "text": [
      "python class\tpython class\tpython class\tpython class\tpython class\tpython class\tpython class\tpython class\tpython class\tpython class\t\n"
     ]
    }
   ],
   "source": [
    "print(\"python class\\t\"*10)"
   ]
  },
  {
   "cell_type": "code",
   "execution_count": 59,
   "id": "6ebe91ee-7d39-4278-aa43-41cb82b354d2",
   "metadata": {},
   "outputs": [
    {
     "name": "stdout",
     "output_type": "stream",
     "text": [
      "Hello World\n",
      "H\n",
      "llo Wo\n",
      " World\n",
      "Hello\n",
      "dlroW olleH\n"
     ]
    }
   ],
   "source": [
    "a=\"Hello World\"\n",
    "print(a)\n",
    "print(a[0])\n",
    "print(a[2:8])\n",
    "print(a[5:])\n",
    "print(a[:5])\n",
    "print(a[::-1])"
   ]
  },
  {
   "cell_type": "markdown",
   "id": "bfd03cb4-d041-4350-b2e7-f3761de27edd",
   "metadata": {},
   "source": [
    "#extend()\n",
    "#append()\n",
    "#count()\n",
    "#pop()\n",
    "#remove()\n",
    "#reverse()\n",
    "#sort()'''"
   ]
  },
  {
   "cell_type": "code",
   "execution_count": 65,
   "id": "fa73798d-6001-432b-a02e-da7dbc8ebe7a",
   "metadata": {},
   "outputs": [
    {
     "name": "stdout",
     "output_type": "stream",
     "text": [
      "[1, 2, 3, 4, ['a', 'b']]\n",
      "1\n",
      "4\n",
      "b\n",
      "[1, 2, 3, 4, ['a', 'b'], 'e']\n",
      "[1, 2, 3, 4, ['a', 'b', 'c']]\n",
      "[1, 2, 3, 4, ['a', 'b', 'c'], 'hello', 'dear']\n"
     ]
    }
   ],
   "source": [
    "l=[1,2,3,4,['a','b']]\n",
    "print(l)\n",
    "print(l[0])\n",
    "print(l[3])\n",
    "print(l[4][1])\n",
    "l.append('e')\n",
    "print(l)\n",
    "\n",
    "l = [1,2,3,4,['a','b','c']]\n",
    "print(l)\n",
    "l.extend(['hello','dear'])\n",
    "print(l)"
   ]
  },
  {
   "cell_type": "markdown",
   "id": "cdaaa057-c411-4cdd-b3a2-cfdb92530b45",
   "metadata": {},
   "source": [
    "# in bulit function in the list\n",
    "Mutability: Lists are mutable, meaning elements can be added, removed, or changed after the list is created.\n",
    "\n",
    "Order is Preserved: Lists maintain the order of elements, and elements can be accessed using indexing.\n",
    "\n",
    "Allows Heterogeneous Data: Lists can store elements of different data types, such as integers, strings, floats, or even other lists.\n",
    "\n",
    "Dynamic Size: Lists can grow or shrink as elements are added or removed.\n",
    "\n",
    "Common Methods:\n",
    "\n",
    "append(): Adds an element to the end.\n",
    "\n",
    "extend(): Adds elements from another iterable (e.g., another list).\n",
    "\n",
    "insert(): Inserts an element at a specific position.\n",
    "\n",
    "remove(): Removes the first occurrence of a value.\n",
    "\n",
    "pop(): Removes an element at a given position (or the last by default).\n",
    "\n",
    "sort(): Sorts the list in place.\n",
    "\n",
    "reverse(): Reverses the list in place.\n",
    "\n",
    "\n",
    "Supports Slicing: Lists support slicing to access a subset of elements.\n",
    "\n",
    "\n"
   ]
  },
  {
   "cell_type": "markdown",
   "id": "d50d3591-ef35-4d14-92d8-320820562d74",
   "metadata": {},
   "source": [
    "use these function"
   ]
  },
  {
   "cell_type": "code",
   "execution_count": 57,
   "id": "f7a60b80-603f-4960-934b-86b93370feca",
   "metadata": {},
   "outputs": [
    {
     "name": "stdout",
     "output_type": "stream",
     "text": [
      "[1, 2, 3, 4, 3, 3, 5]\n",
      "[1, 2, 3, 4, 3, 3, 5, 6, 7]\n",
      "3\n",
      "[1, 2, 3, 4, 3, 3, 5, 6]\n",
      "[1, 2, 3, 4, 3, 3, 6]\n",
      "[1, 2, 3, 3, 3, 4, 6]\n",
      "[6, 4, 3, 3, 3, 2, 1]\n",
      "[6, 4, 3, 3, 2, 1]\n",
      "[4, 3, 3]\n",
      "[6, 4, 3, 3, 2, 1, 6, 7]\n"
     ]
    }
   ],
   "source": [
    "l1=[1,2,3,4,3,3]\n",
    "l2=[6,7]\n",
    "l1.append(5)\n",
    "print(l1)\n",
    "l1.extend(l2)\n",
    "print(l1)\n",
    "print(l1.count(3))\n",
    "l1.pop()\n",
    "print(l1)\n",
    "l1.remove(5)\n",
    "print(l1)\n",
    "l1.sort()\n",
    "print(l1)\n",
    "l1.reverse()\n",
    "print(l1)\n",
    "del l1[3]\n",
    "print(l1)\n",
    "print(l1[1:4])\n",
    "print(l1+l2)"
   ]
  },
  {
   "cell_type": "markdown",
   "id": "d7322e89-7fea-429d-aca7-b74e765c79bc",
   "metadata": {},
   "source": [
    "# Tuples:\n",
    "Immutability: Tuples are immutable, meaning their elements cannot be changed after creation.\n",
    "\n",
    "Order is Preserved: Tuples maintain the order of elements and allow indexing.\n",
    "\n",
    "Allows Heterogeneous Data: Tuples can contain elements of different data types.\n",
    "\n",
    "Faster than Lists: Operations on tuples are generally faster than on lists due to immutability.\n",
    "\n",
    "Supports Nested Structures: Tuples can contain other tuples or data structures.\n",
    "\n",
    "Hashable: Tuples can be used as keys in dictionaries, unlike lists.\n",
    "\n",
    "Parentheses Optional: Tuples can be created with or without parentheses."
   ]
  },
  {
   "cell_type": "code",
   "execution_count": 82,
   "id": "90cb1ca2-a0c3-4e4c-8661-75c6636db982",
   "metadata": {},
   "outputs": [
    {
     "data": {
      "text/plain": [
       "(1, 2, 3)"
      ]
     },
     "execution_count": 82,
     "metadata": {},
     "output_type": "execute_result"
    }
   ],
   "source": [
    "my_tuple = 1, 2, 3  # Valid tuple without parentheses\n",
    "my_tuple"
   ]
  },
  {
   "cell_type": "code",
   "execution_count": 88,
   "id": "23e7696a-1f99-4ab9-934b-d8c388ff61f8",
   "metadata": {},
   "outputs": [
    {
     "data": {
      "text/plain": [
       "[0, 1, 4, 9, 16]"
      ]
     },
     "execution_count": 88,
     "metadata": {},
     "output_type": "execute_result"
    }
   ],
   "source": [
    "squares = [x**2 for x in range(5)]  # Output: [0, 1, 4, 9, 16]\n",
    "squares"
   ]
  },
  {
   "cell_type": "code",
   "execution_count": 92,
   "id": "f77b6d24-000c-4912-9966-36450c1764af",
   "metadata": {},
   "outputs": [],
   "source": [
    "# nested list;\n",
    "matrix = [[1, 2], [3, 4]]"
   ]
  },
  {
   "cell_type": "code",
   "execution_count": 94,
   "id": "817afbc4-c68d-4c0d-aeac-e97103ebad8f",
   "metadata": {},
   "outputs": [
    {
     "name": "stdout",
     "output_type": "stream",
     "text": [
      "('apple', ('grapes', 'mango'), 'cherry', 'litchi')\n",
      "('cherry',)\n",
      "(('grapes', 'mango'), 'cherry')\n",
      "('apple', ('grapes', 'mango'), 'cherry', 'litchi', 'apple', ('grapes', 'mango'), 'cherry', 'litchi', 'apple', ('grapes', 'mango'), 'cherry', 'litchi', 'apple', ('grapes', 'mango'), 'cherry', 'litchi', 'apple', ('grapes', 'mango'), 'cherry', 'litchi', 'apple', ('grapes', 'mango'), 'cherry', 'litchi', 'apple', ('grapes', 'mango'), 'cherry', 'litchi')\n",
      "('apple', ('grapes', 'mango'), 'cherry', 'litchi', 'cherry')\n",
      "no\n"
     ]
    }
   ],
   "source": [
    "#Tuples\n",
    "a=('apple',('grapes','mango'),'cherry','litchi')\n",
    "print(a)\n",
    "b=('cherry',)\n",
    "print(b)\n",
    "print(a[1:3])\n",
    "print(a*7)\n",
    "print(a+b)\n",
    "\n",
    "#membership\n",
    "#in\n",
    "#not in\n",
    "\n",
    "if 'pear' not in a:\n",
    "  print('no')\n",
    "else:\n",
    "  print('yes')\n"
   ]
  },
  {
   "cell_type": "markdown",
   "id": "6acabce7-7482-4802-b4b8-fe284967aa87",
   "metadata": {},
   "source": [
    "# String\n",
    "Immutability: Strings are immutable, meaning once created, they cannot be changed. Any modification creates a new string.\n",
    "\n"
   ]
  },
  {
   "cell_type": "code",
   "execution_count": 97,
   "id": "45722cfb-f47d-4861-8a52-224b2fb701a7",
   "metadata": {},
   "outputs": [],
   "source": [
    "s = \"hello\"\n",
    "# s[0] = 'H'  # Raises an error\n"
   ]
  },
  {
   "cell_type": "markdown",
   "id": "5f508ac1-dc5c-499f-9521-3547500c3f6b",
   "metadata": {},
   "source": [
    "Order is Preserved: Strings maintain the order of characters, and individual characters can be accessed via indexing or slicing."
   ]
  },
  {
   "cell_type": "markdown",
   "id": "2e30832d-0a65-4e7f-88b8-4d2b97e9c038",
   "metadata": {},
   "source": [
    "Supports Slicing: You can extract substrings using slicing."
   ]
  },
  {
   "cell_type": "code",
   "execution_count": 104,
   "id": "19e20af7-fa30-4795-a9b9-f0e3ab832caf",
   "metadata": {},
   "outputs": [
    {
     "name": "stdout",
     "output_type": "stream",
     "text": [
      "ell\n"
     ]
    }
   ],
   "source": [
    "s = \"hello\"\n",
    "print(s[1:4])  # Output: \"ell\"\n"
   ]
  },
  {
   "cell_type": "markdown",
   "id": "a207ab9d-eb8c-477f-9516-e22d1763f0c8",
   "metadata": {},
   "source": [
    "Concatenation and Repetition: Strings can be concatenated using + and repeated using *.\n",
    "\n"
   ]
  },
  {
   "cell_type": "code",
   "execution_count": 107,
   "id": "c9a841ae-7f7c-433f-825a-79e2ac930a90",
   "metadata": {},
   "outputs": [
    {
     "name": "stdout",
     "output_type": "stream",
     "text": [
      "hello world\n",
      "hellohellohello\n"
     ]
    }
   ],
   "source": [
    "s1 = \"hello\"\n",
    "s2 = \" world\"\n",
    "print(s1 + s2)  # Output: \"hello world\"\n",
    "print(s1 * 3)   # Output: \"hellohellohello\"\n"
   ]
  },
  {
   "cell_type": "markdown",
   "id": "81f7e6ba-1e0c-481f-8ad2-c1519831beae",
   "metadata": {},
   "source": [
    "String Methods:\n",
    "\n",
    "upper(): Converts to uppercase.\n",
    "lower(): Converts to lowercase.\n",
    "strip(): Removes leading and trailing whitespace.\n",
    "split(): Splits a string into a list based on a delimiter.\n",
    "join(): Joins elements of a list into a string.\n",
    "replace(): Replaces substrings.\n",
    "\n",
    "Searching and Finding:\n",
    "\n",
    "find(): Returns the index of the first occurrence of a substring or -1 if not found.\n",
    "count(): Returns the number of occurrences of a substring.\n",
    "startswith() / endswith(): Check if a string starts or ends with a given substring.\n",
    "\n",
    "\n",
    "Escape Characters: Special characters like newline (\\n), tab (\\t), and others are represented using escape sequences."
   ]
  },
  {
   "cell_type": "code",
   "execution_count": 111,
   "id": "3cae323a-0b7d-494f-a79f-ed9d39468328",
   "metadata": {},
   "outputs": [
    {
     "name": "stdout",
     "output_type": "stream",
     "text": [
      "Hello\n",
      "World\n"
     ]
    }
   ],
   "source": [
    "print(\"Hello\\nWorld\")  # Output: Hello\n",
    "                        #         World\n"
   ]
  },
  {
   "cell_type": "markdown",
   "id": "65faabed-16fe-4a07-8980-b9af849c4c1c",
   "metadata": {},
   "source": [
    "# string formatting\n",
    "F-string\n",
    "\n",
    "format()"
   ]
  },
  {
   "cell_type": "code",
   "execution_count": 123,
   "id": "357a9d35-68d5-49db-aad4-c6cfed8a49c1",
   "metadata": {},
   "outputs": [
    {
     "name": "stdout",
     "output_type": "stream",
     "text": [
      "My name is Nitish and I'm 22 years old.\n",
      "My age is 22\n"
     ]
    }
   ],
   "source": [
    "#1.\n",
    "name = \"Nitish\"\n",
    "age = 22\n",
    "print(f\"My name is {name} and I'm {age} years old.\")\n",
    "print(f\"My age is {age}\")"
   ]
  },
  {
   "cell_type": "code",
   "execution_count": 119,
   "id": "2771844f-5338-4132-98c9-b2529ad56028",
   "metadata": {},
   "outputs": [
    {
     "name": "stdout",
     "output_type": "stream",
     "text": [
      "My name is Nitish and I'm 22 years old.\n"
     ]
    }
   ],
   "source": [
    "# 2.\n",
    "print(\"My name is {} and I'm {} years old.\".format(name, age))\n"
   ]
  },
  {
   "cell_type": "markdown",
   "id": "83230188-32db-49ac-8269-f756c3beddf6",
   "metadata": {},
   "source": [
    "Multiline Strings: Use triple quotes (''' or \"\"\") to define strings that span multiple lines.\n",
    "\n"
   ]
  },
  {
   "cell_type": "code",
   "execution_count": 128,
   "id": "c1e12690-1a0d-4b12-baee-55bd14d9bb1b",
   "metadata": {},
   "outputs": [
    {
     "name": "stdout",
     "output_type": "stream",
     "text": [
      "This is\n",
      "a multiline\n",
      "string.\n"
     ]
    }
   ],
   "source": [
    "s = \"\"\"This is\n",
    "a multiline\n",
    "string.\"\"\"\n",
    "print(s)"
   ]
  },
  {
   "cell_type": "markdown",
   "id": "004df582-1115-4965-a219-eff3418b72e6",
   "metadata": {},
   "source": [
    "String Iteration: Strings can be iterated over character by character.\n"
   ]
  },
  {
   "cell_type": "code",
   "execution_count": 131,
   "id": "ffa83345-d0b1-447c-b96f-3cceaba203ad",
   "metadata": {},
   "outputs": [
    {
     "name": "stdout",
     "output_type": "stream",
     "text": [
      "h\n",
      "e\n",
      "l\n",
      "l\n",
      "o\n"
     ]
    }
   ],
   "source": [
    "s = \"hello\"\n",
    "for char in s:\n",
    "    print(char)\n"
   ]
  },
  {
   "cell_type": "markdown",
   "id": "9cb2f341-718f-4475-9a07-cf101fbfba5c",
   "metadata": {},
   "source": [
    " # Dictionary\n",
    " Key-Value Pairs: Dictionaries store data in key-value pairs.\n",
    "\n"
   ]
  },
  {
   "cell_type": "code",
   "execution_count": 137,
   "id": "00d284e4-699a-43bd-9306-cf7aa22d0ba0",
   "metadata": {},
   "outputs": [
    {
     "data": {
      "text/plain": [
       "{'name': 'Nitish', 'age': 22}"
      ]
     },
     "execution_count": 137,
     "metadata": {},
     "output_type": "execute_result"
    }
   ],
   "source": [
    "my_dict = {\"name\": \"Nitish\", \"age\": 22}\n",
    "my_dict"
   ]
  },
  {
   "cell_type": "code",
   "execution_count": 139,
   "id": "2b86847e-b4a2-4ac8-b449-9cf71c780f6e",
   "metadata": {},
   "outputs": [
    {
     "data": {
      "text/plain": [
       "'Nitish'"
      ]
     },
     "execution_count": 139,
     "metadata": {},
     "output_type": "execute_result"
    }
   ],
   "source": [
    "# accessing the values to the corresponding value.\n",
    "my_dict['name']"
   ]
  },
  {
   "cell_type": "markdown",
   "id": "bc0515e9-9557-4c9a-87b3-238ad9ed40a1",
   "metadata": {},
   "source": [
    "Mutable: You can modify, add, or remove key-value pairs.\n",
    "\n"
   ]
  },
  {
   "cell_type": "code",
   "execution_count": 142,
   "id": "b6db302a-81dc-49f5-8e56-294a0105ab50",
   "metadata": {},
   "outputs": [],
   "source": [
    "my_dict[\"age\"] = 23  # Modifying\n",
    "my_dict[\"city\"] = \"Delhi\"  # Adding\n",
    "del my_dict[\"age\"]  # Removing\n"
   ]
  },
  {
   "cell_type": "code",
   "execution_count": 144,
   "id": "97fa3b13-4713-438f-91eb-99cb54df5545",
   "metadata": {},
   "outputs": [
    {
     "data": {
      "text/plain": [
       "{'name': 'Nitish', 'city': 'Delhi'}"
      ]
     },
     "execution_count": 144,
     "metadata": {},
     "output_type": "execute_result"
    }
   ],
   "source": [
    "my_dict"
   ]
  },
  {
   "cell_type": "markdown",
   "id": "89b67e37-e879-4092-9515-79a54fd0ac83",
   "metadata": {},
   "source": [
    "Keys Must Be Unique: Dictionary keys must be unique, while values can be duplicated.\n",
    "\n"
   ]
  },
  {
   "cell_type": "code",
   "execution_count": 147,
   "id": "fb9a2a79-a3c8-46aa-99bc-2e9cff440bdb",
   "metadata": {},
   "outputs": [],
   "source": [
    "my_dict = {\"name\": \"Nitish\", \"age\": 22, \"age\": 23}  # Last 'age' will overwrite the first\n"
   ]
  },
  {
   "cell_type": "code",
   "execution_count": 149,
   "id": "5292eed0-55bd-45aa-a27f-7746b68b6770",
   "metadata": {},
   "outputs": [
    {
     "data": {
      "text/plain": [
       "{'name': 'Nitish', 'age': 23}"
      ]
     },
     "execution_count": 149,
     "metadata": {},
     "output_type": "execute_result"
    }
   ],
   "source": [
    "my_dict"
   ]
  },
  {
   "cell_type": "code",
   "execution_count": 151,
   "id": "cba7cb9d-6c2b-4d39-88d6-487be94ab160",
   "metadata": {},
   "outputs": [
    {
     "name": "stdout",
     "output_type": "stream",
     "text": [
      "23\n"
     ]
    }
   ],
   "source": [
    "# Dictionary Methods;\n",
    "# get(): Safely access values without causing an error if the key doesn't exist.\n",
    "print(my_dict.get(\"age\", \"Not Found\"))  # Output: 23\n"
   ]
  },
  {
   "cell_type": "code",
   "execution_count": 155,
   "id": "5b2ae328-1039-4465-87df-f64b15cb715e",
   "metadata": {},
   "outputs": [
    {
     "name": "stdout",
     "output_type": "stream",
     "text": [
      "name Nitish\n",
      "age 23\n"
     ]
    }
   ],
   "source": [
    "# Looping Through a Dictionary: Iterate over keys, values, or both.\n",
    "\n",
    "for key, value in my_dict.items():\n",
    "    print(key, value)\n"
   ]
  },
  {
   "cell_type": "code",
   "execution_count": 168,
   "id": "43cc1784-9573-4b46-bccb-9196c9bf38c0",
   "metadata": {},
   "outputs": [
    {
     "data": {
      "text/plain": [
       "{0: 0, 1: 1, 2: 4, 3: 9, 4: 16}"
      ]
     },
     "execution_count": 168,
     "metadata": {},
     "output_type": "execute_result"
    }
   ],
   "source": [
    "# create a dictionary using expressions\n",
    "\n",
    "squares = {x: x**2 for x in range(5)}  # Output: {0: 0, 1: 1, 2: 4, 3: 9, 4: 16}\n",
    "\n",
    "squares"
   ]
  },
  {
   "cell_type": "markdown",
   "id": "d3b78a74-aef9-4808-8e85-0a17a6b2c9af",
   "metadata": {},
   "source": [
    "Keys are Immutable: Dictionary keys must be of immutable data types like strings, numbers, or tuples.\n",
    "\n"
   ]
  },
  {
   "cell_type": "code",
   "execution_count": 164,
   "id": "eb866fdd-a78d-43dc-8d95-c4b46e73a62d",
   "metadata": {},
   "outputs": [],
   "source": [
    "my_dict = {(1, 2): \"tuple_key\"}  # Valid\n"
   ]
  },
  {
   "cell_type": "code",
   "execution_count": 166,
   "id": "9a78702c-a970-4813-8405-212a126700dc",
   "metadata": {},
   "outputs": [
    {
     "data": {
      "text/plain": [
       "{(1, 2): 'tuple_key'}"
      ]
     },
     "execution_count": 166,
     "metadata": {},
     "output_type": "execute_result"
    }
   ],
   "source": [
    "my_dict"
   ]
  },
  {
   "cell_type": "markdown",
   "id": "d4622207-4952-409f-bb3e-32ec143efea8",
   "metadata": {},
   "source": [
    "# Sets\n",
    "Definition: A set is an unordered collection of unique elements, meaning it cannot have duplicate values.\n",
    "\n",
    "Creation:\n",
    "\n",
    "You can create a set using curly braces {} or the set() function."
   ]
  },
  {
   "cell_type": "code",
   "execution_count": 173,
   "id": "eb7769b1-88de-463b-b378-75b73a02483b",
   "metadata": {},
   "outputs": [],
   "source": [
    "my_set = {1, 2, 3}\n",
    "empty_set = set()  # Create empty sets"
   ]
  },
  {
   "cell_type": "code",
   "execution_count": 175,
   "id": "bbe9d46a-7f6e-4fa8-9185-9d678c63370c",
   "metadata": {},
   "outputs": [
    {
     "data": {
      "text/plain": [
       "{1, 2, 3}"
      ]
     },
     "execution_count": 175,
     "metadata": {},
     "output_type": "execute_result"
    }
   ],
   "source": [
    "my_set"
   ]
  },
  {
   "cell_type": "code",
   "execution_count": 183,
   "id": "47ff5ef9-47bd-4d42-88d0-7096f051f9e3",
   "metadata": {},
   "outputs": [
    {
     "name": "stdout",
     "output_type": "stream",
     "text": [
      "{1, 2, 3, 45}\n"
     ]
    }
   ],
   "source": [
    "# No Duplicates: If you add duplicate elements to a set, only one instance is kept.\n",
    "\n",
    "my_set = {1,2,3,45,2}\n",
    "print(my_set)\n"
   ]
  },
  {
   "cell_type": "code",
   "execution_count": 185,
   "id": "e8547144-dd96-495f-9ead-c448af6ae02b",
   "metadata": {},
   "outputs": [
    {
     "data": {
      "text/plain": [
       "{1, 2, 3}"
      ]
     },
     "execution_count": 185,
     "metadata": {},
     "output_type": "execute_result"
    }
   ],
   "source": [
    "# Unordered: Sets do not maintain any order of elements.\n",
    "my_set = {1, 2, 3}\n",
    "my_set"
   ]
  },
  {
   "cell_type": "markdown",
   "id": "09e5dc73-961b-4af9-857d-be1f2b3ef3e1",
   "metadata": {},
   "source": [
    "Set Operations: Sets support standard mathematical operations like:\n",
    "\n"
   ]
  },
  {
   "cell_type": "code",
   "execution_count": 205,
   "id": "b4e45410-96e5-4cc9-92eb-9ecba293f643",
   "metadata": {},
   "outputs": [
    {
     "name": "stdout",
     "output_type": "stream",
     "text": [
      "{1, 2, 3}\n"
     ]
    }
   ],
   "source": [
    "# union(| or set1.union(set2))\n",
    "\n",
    "set = {1,2}\n",
    "set2={2,3}\n",
    "print(set|set2)"
   ]
  },
  {
   "cell_type": "code",
   "execution_count": 207,
   "id": "22145d31-3c0b-4f80-94b8-eed6e71d386a",
   "metadata": {},
   "outputs": [
    {
     "name": "stdout",
     "output_type": "stream",
     "text": [
      "{1, 2, 3}\n"
     ]
    }
   ],
   "source": [
    "print(set.union(set2))"
   ]
  },
  {
   "cell_type": "code",
   "execution_count": 209,
   "id": "24e762a1-a4d2-4560-b2b1-1f496e3108b9",
   "metadata": {},
   "outputs": [
    {
     "name": "stdout",
     "output_type": "stream",
     "text": [
      "{2}\n"
     ]
    }
   ],
   "source": [
    "# intersection (& or set1.intersection(set2)): find the common elements.\n",
    "print(set&set2)"
   ]
  },
  {
   "cell_type": "code",
   "execution_count": 214,
   "id": "ad9445ed-135b-46b7-8944-bfac0c3abfd5",
   "metadata": {},
   "outputs": [
    {
     "name": "stdout",
     "output_type": "stream",
     "text": [
      "{1}\n"
     ]
    }
   ],
   "source": [
    "# difference (-- or set1.difference(set2))\n",
    "\n",
    "print(set-set2)"
   ]
  },
  {
   "cell_type": "code",
   "execution_count": 218,
   "id": "f872cb8c-c22a-4521-bd38-b8624920b0ae",
   "metadata": {},
   "outputs": [
    {
     "name": "stdout",
     "output_type": "stream",
     "text": [
      "{1, 3}\n"
     ]
    }
   ],
   "source": [
    "# Symmetric Difference (^ or set1.symmetric_difference(set2)): Elements in either set but not both.\n",
    "print(set^set2)"
   ]
  },
  {
   "cell_type": "code",
   "execution_count": null,
   "id": "1946e496-e543-401a-af96-b9640d58cd28",
   "metadata": {},
   "outputs": [],
   "source": [
    "Mutable: Sets are mutable, allowing elements to be added or removed:\n",
    "\n",
    "Add an element: my_set.add(element)\n",
    "Remove an element: my_set.remove(element) or my_set.discard(element)"
   ]
  },
  {
   "cell_type": "code",
   "execution_count": 222,
   "id": "349b8cb6-0615-4460-afd7-55045eb6ea7f",
   "metadata": {},
   "outputs": [
    {
     "name": "stdout",
     "output_type": "stream",
     "text": [
      "True\n"
     ]
    }
   ],
   "source": [
    "# Membership Test: You can check if an element exists in a set using the in keyword:\n",
    "\n",
    "print(2 in my_set)"
   ]
  },
  {
   "cell_type": "code",
   "execution_count": 224,
   "id": "c09e58b1-52f4-4c69-98e7-81843ad6a4b9",
   "metadata": {},
   "outputs": [],
   "source": [
    "# Immutability with frozensets: While sets are mutable, Python also provides frozensets, which are immutable:\n",
    "\n",
    "frozen = frozenset([1,2,3])"
   ]
  },
  {
   "cell_type": "code",
   "execution_count": 226,
   "id": "9b266456-7dd3-4988-89c4-15595d37f271",
   "metadata": {},
   "outputs": [
    {
     "data": {
      "text/plain": [
       "frozenset({1, 2, 3})"
      ]
     },
     "execution_count": 226,
     "metadata": {},
     "output_type": "execute_result"
    }
   ],
   "source": [
    "frozen"
   ]
  },
  {
   "cell_type": "code",
   "execution_count": 232,
   "id": "92be84b2-8cb1-45fb-b9db-a65115b4824e",
   "metadata": {},
   "outputs": [],
   "source": [
    "my_set = {1,3}\n",
    "my_set.add(4)       # Add an element\n",
    "my_set.remove(1)    # Remove an element\n"
   ]
  },
  {
   "cell_type": "code",
   "execution_count": 234,
   "id": "f2ed5da6-d4c8-47ac-902c-870fa9875dd5",
   "metadata": {},
   "outputs": [
    {
     "data": {
      "text/plain": [
       "{3, 4}"
      ]
     },
     "execution_count": 234,
     "metadata": {},
     "output_type": "execute_result"
    }
   ],
   "source": [
    "my_set"
   ]
  },
  {
   "cell_type": "markdown",
   "id": "6956cd10-2d62-40dc-b62d-ecf2bc910957",
   "metadata": {},
   "source": [
    "# 5. Accessing and Manipulating Elements\n"
   ]
  },
  {
   "cell_type": "code",
   "execution_count": 239,
   "id": "34fa637f-da50-4ef4-8456-fab7fadff08c",
   "metadata": {},
   "outputs": [],
   "source": [
    "# Lists: Use indices to access or modify.\n",
    "\n",
    "# Dictionaries: Use keys to access values.\n",
    "\n",
    "# Tuples: Immutable; you can access via indices but cannot modify.\n",
    "\n",
    "#Sets: No indexing; can add or remove elements, but duplicates are ignored.\n",
    "\n"
   ]
  },
  {
   "cell_type": "markdown",
   "id": "c4d385ce-0176-42a6-b186-4011b1d91d4d",
   "metadata": {},
   "source": [
    "# 6. Sorting Data Using Built-in Functions\n"
   ]
  },
  {
   "cell_type": "code",
   "execution_count": 254,
   "id": "90b9948f-62ac-4452-a7c3-8f78ae4b3d40",
   "metadata": {},
   "outputs": [],
   "source": [
    "# Sorting a List: Lists can be sorted using the sort() method (in-place) or the sorted() function (returns a new sorted list).\n",
    "\n",
    "my_list = [3, 1, 2]\n",
    "my_list.sort()             # In-place sorting\n",
    "sorted_list = sorted(my_list)  # New sorted list\n"
   ]
  },
  {
   "cell_type": "code",
   "execution_count": 256,
   "id": "0ab1cab1-bd5e-4068-be57-2e1d1a35bb8f",
   "metadata": {},
   "outputs": [
    {
     "data": {
      "text/plain": [
       "[1, 2, 3]"
      ]
     },
     "execution_count": 256,
     "metadata": {},
     "output_type": "execute_result"
    }
   ],
   "source": [
    "my_list"
   ]
  },
  {
   "cell_type": "code",
   "execution_count": null,
   "id": "1c9036cd-9282-46ba-a8fb-27b61cd7e82e",
   "metadata": {},
   "outputs": [],
   "source": []
  },
  {
   "cell_type": "code",
   "execution_count": 267,
   "id": "4c9ab05d-044a-44f5-a0cc-a2a168eecb88",
   "metadata": {},
   "outputs": [],
   "source": [
    "# Sorting a Dictionary by Keys or Values: You can sort a dictionary by keys or values using the sorted() function.\n",
    "my_dict = {\"name\": \"Alice\", \"age\": 25}\n",
    "\n",
    "sorted_dict = dict(sorted(my_dict.items()))  # Sort by keys\n"
   ]
  },
  {
   "cell_type": "code",
   "execution_count": 269,
   "id": "1de7b758-d6ad-4654-80ca-400a46be3d92",
   "metadata": {},
   "outputs": [
    {
     "data": {
      "text/plain": [
       "{'age': 25, 'name': 'Alice'}"
      ]
     },
     "execution_count": 269,
     "metadata": {},
     "output_type": "execute_result"
    }
   ],
   "source": [
    "sorted_dict"
   ]
  },
  {
   "cell_type": "code",
   "execution_count": 271,
   "id": "368c83ca-5117-432d-9884-ce7359aa7409",
   "metadata": {},
   "outputs": [],
   "source": [
    "# Sorting Tuples: Since tuples are immutable, you can use sorted() to return a sorted list of the tuple's elements.\n",
    "\n",
    "my_tuple = (3, 1, 2)\n",
    "sorted_tuple = sorted(my_tuple)  # Output: [1, 2, 3]\n"
   ]
  },
  {
   "cell_type": "code",
   "execution_count": 278,
   "id": "238767be-4da6-4df6-84c6-fa6bd800ec5f",
   "metadata": {},
   "outputs": [
    {
     "data": {
      "text/plain": [
       "[1, 2, 3]"
      ]
     },
     "execution_count": 278,
     "metadata": {},
     "output_type": "execute_result"
    }
   ],
   "source": [
    "sorted_tuple"
   ]
  },
  {
   "cell_type": "code",
   "execution_count": 282,
   "id": "3772b1de-9d1d-49b9-a257-113ae44e651d",
   "metadata": {},
   "outputs": [],
   "source": [
    "# Sorting with Custom Criteria: You can pass a custom key function to sorted() or sort() to define sorting criteria.\n",
    "\n",
    "my_list = [\"apple\", \"banana\", \"cherry\"]\n",
    "sorted_by_length = sorted(my_list, key = len)"
   ]
  },
  {
   "cell_type": "code",
   "execution_count": 284,
   "id": "d22b2dff-1606-4ccd-9f21-f8bd1c233107",
   "metadata": {},
   "outputs": [
    {
     "data": {
      "text/plain": [
       "['apple', 'banana', 'cherry']"
      ]
     },
     "execution_count": 284,
     "metadata": {},
     "output_type": "execute_result"
    }
   ],
   "source": [
    "sorted_by_length"
   ]
  },
  {
   "cell_type": "markdown",
   "id": "80883293-c4a4-4e7e-8ca9-09c2c9f9d53f",
   "metadata": {},
   "source": [
    "# 7. Hands-on Exercises to Solve Problems Using Core Data Structures\n",
    "# List Operations:\n",
    "\n",
    "Create a list of numbers and find the maximum, minimum, and sum.\n",
    "Remove duplicates from a list while maintaining order.\n"
   ]
  },
  {
   "cell_type": "code",
   "execution_count": 293,
   "id": "7d60df30-0e78-44ae-9aa2-5283b4764500",
   "metadata": {},
   "outputs": [
    {
     "name": "stdout",
     "output_type": "stream",
     "text": [
      "<class 'list'>\n"
     ]
    }
   ],
   "source": [
    "a = [3,2,1,3,55,0, 100]\n",
    "print(type(a))\n",
    "maximum = max(a)"
   ]
  },
  {
   "cell_type": "code",
   "execution_count": 295,
   "id": "2532113d-f68c-4f6d-8ab0-9b4d4a381310",
   "metadata": {},
   "outputs": [
    {
     "data": {
      "text/plain": [
       "100"
      ]
     },
     "execution_count": 295,
     "metadata": {},
     "output_type": "execute_result"
    }
   ],
   "source": [
    "maximum"
   ]
  },
  {
   "cell_type": "code",
   "execution_count": 297,
   "id": "7e376ba9-8a2b-43be-8280-559cb0117a61",
   "metadata": {},
   "outputs": [
    {
     "data": {
      "text/plain": [
       "0"
      ]
     },
     "execution_count": 297,
     "metadata": {},
     "output_type": "execute_result"
    }
   ],
   "source": [
    "minimum = min(a)\n",
    "minimum"
   ]
  },
  {
   "cell_type": "code",
   "execution_count": 299,
   "id": "386e4c3f-7a79-4c39-a17f-4ff3a82dbaa0",
   "metadata": {},
   "outputs": [
    {
     "data": {
      "text/plain": [
       "164"
      ]
     },
     "execution_count": 299,
     "metadata": {},
     "output_type": "execute_result"
    }
   ],
   "source": [
    "sums = sum(a)\n",
    "sums"
   ]
  },
  {
   "cell_type": "code",
   "execution_count": 303,
   "id": "961f2d78-a832-4e2f-af3d-72f34fb82428",
   "metadata": {},
   "outputs": [
    {
     "name": "stdout",
     "output_type": "stream",
     "text": [
      "Maximum: 100\n",
      "Minimum : 0\n",
      "Sum : 164\n"
     ]
    }
   ],
   "source": [
    "print(f\"Maximum: {maximum}\")\n",
    "print(f\"Minimum : {minimum}\")\n",
    "print(f\"Sum : {sums}\")"
   ]
  },
  {
   "cell_type": "markdown",
   "id": "2f37b5ad-1529-4a76-b683-a17d5e529eb6",
   "metadata": {},
   "source": [
    "# Dictionary Operations:\n",
    "\n",
    "Count the frequency of characters in a string using a dictionary.\n",
    "Merge two dictionaries and resolve conflicts.\n"
   ]
  },
  {
   "cell_type": "code",
   "execution_count": 308,
   "id": "27f480bd-530a-429a-8fe7-ea2f6d935c0c",
   "metadata": {},
   "outputs": [
    {
     "name": "stdout",
     "output_type": "stream",
     "text": [
      "Character Frequency: {'h': 1, 'e': 1, 'l': 3, 'o': 2, ' ': 1, 'w': 1, 'r': 1, 'd': 1}\n"
     ]
    }
   ],
   "source": [
    "text = \"hello world\"\n",
    "\n",
    "char_count = {}\n",
    "\n",
    "for char in text:\n",
    "    if char in char_count:\n",
    "        char_count[char] += 1\n",
    "    else:\n",
    "        char_count[char] = 1\n",
    "print(f\"Character Frequency: {char_count}\")"
   ]
  },
  {
   "cell_type": "code",
   "execution_count": null,
   "id": "b325a73e-bd5d-420a-b762-ba1a4d6cfe5d",
   "metadata": {},
   "outputs": [],
   "source": [
    "# # explanation:\n",
    "\n",
    "# Example Walkthrough:\n",
    "# Let’s go through the iterations for the string \"hello world\":\n",
    "\n",
    "# First character 'h':\n",
    "\n",
    "# 'h' is not in char_count, so we add it: char_count = {'h': 1}.\n",
    "# Second character 'e':\n",
    "\n",
    "# 'e' is not in char_count, so we add it: char_count = {'h': 1, 'e': 1}.\n",
    "# Third character 'l':\n",
    "\n",
    "# 'l' is not in char_count, so we add it: char_count = {'h': 1, 'e': 1, 'l': 1}.\n",
    "# Fourth character 'l':\n",
    "\n",
    "# 'l' is already in char_count, so we increment its count: char_count = {'h': 1, 'e': 1, 'l': 2}.\n",
    "# Fifth character 'o':\n",
    "\n",
    "# 'o' is not in char_count, so we add it: char_count = {'h': 1, 'e': 1, 'l': 2, 'o': 1}.\n",
    "# Sixth character ' ':\n",
    "\n",
    "# The space character ' ' is not in char_count, so we add it: char_count = {'h': 1, 'e': 1, 'l': 2, 'o': 1, ' ': 1}.\n",
    "# Seventh character 'w':\n",
    "\n",
    "# 'w' is not in char_count, so we add it: char_count = {'h': 1, 'e': 1, 'l': 2, 'o': 1, ' ': 1, 'w': 1}.\n",
    "# Eighth character 'o':\n",
    "\n",
    "# 'o' is already in char_count, so we increment its count: char_count = {'h': 1, 'e': 1, 'l': 2, 'o': 2, ' ': 1, 'w': 1}.\n",
    "# Ninth character 'r':\n",
    "\n",
    "# 'r' is not in char_count, so we add it: char_count = {'h': 1, 'e': 1, 'l': 2, 'o': 2, ' ': 1, 'w': 1, 'r': 1}.\n",
    "# Tenth character 'l':\n",
    "\n",
    "# 'l' is already in char_count, so we increment its count: char_count = {'h': 1, 'e': 1, 'l': 3, 'o': 2, ' ': 1, 'w': 1, 'r': 1}.\n",
    "# Eleventh character 'd':\n",
    "\n",
    "# 'd' is not in char_count, so we add it: char_count = {'h': 1, 'e': 1, 'l': 3, 'o': 2, ' ': 1, 'w': 1, 'r': 1, 'd': 1}.\n"
   ]
  },
  {
   "cell_type": "code",
   "execution_count": 317,
   "id": "226aeffb-9d55-48ad-978c-8969f89ca2fb",
   "metadata": {},
   "outputs": [
    {
     "name": "stdout",
     "output_type": "stream",
     "text": [
      "Merged Dictionary: {'a': 1, 'b': 20, 'c': 30, 'd': 4}\n"
     ]
    }
   ],
   "source": [
    "# merging two dictionary and resolving conflicts.\n",
    "\n",
    "# Two dictionaries to merge\n",
    "dict1 = {\"a\": 1, \"b\": 2, \"c\": 3}\n",
    "dict2 = {\"b\": 20, \"c\": 30, \"d\": 4}\n",
    "\n",
    "# If there are conflicts (same key), dict2's value will override dict1's value\n",
    "merged_dict = {**dict1, **dict2}\n",
    "\n",
    "print(f\"Merged Dictionary: {merged_dict}\")"
   ]
  },
  {
   "cell_type": "code",
   "execution_count": 319,
   "id": "08c7ece0-8af3-4f0c-ba52-b71c65072a57",
   "metadata": {},
   "outputs": [],
   "source": [
    "# explanation:\n",
    "# We use Python’s unpacking syntax {**dict1, **dict2} to merge two dictionaries.\n",
    "# In the merged dictionary, dict2's values will override dict1's values if the same key exists in both dictionaries."
   ]
  },
  {
   "cell_type": "markdown",
   "id": "30448524-f6aa-40c8-bf70-1a715bd03b8d",
   "metadata": {},
   "source": [
    "#Alternative: Handling Conflicts with Custom Logic\n"
   ]
  },
  {
   "cell_type": "code",
   "execution_count": 322,
   "id": "46bbaf4a-151d-4ffa-b14c-092ae2cc0d86",
   "metadata": {},
   "outputs": [
    {
     "name": "stdout",
     "output_type": "stream",
     "text": [
      "Merged Dictionary with Summed Values: {'a': 1, 'b': 40, 'c': 60, 'd': 8}\n"
     ]
    }
   ],
   "source": [
    "my_dict = dict1.copy()\n",
    "\n",
    "for key, value in dict2.items():\n",
    "    if key in merged_dict:\n",
    "        merged_dict[key] += value\n",
    "    else:\n",
    "        merged_dict[key] = value\n",
    "\n",
    "print(f\"Merged Dictionary with Summed Values: {merged_dict}\")\n"
   ]
  },
  {
   "cell_type": "markdown",
   "id": "485a0558-d315-4f2f-ba21-eb59403b2935",
   "metadata": {},
   "source": [
    "# Basics Python\n"
   ]
  },
  {
   "cell_type": "markdown",
   "id": "25be8b29-7724-4bfa-9ee3-beb035d8e18e",
   "metadata": {},
   "source": [
    "# Data Types\n",
    "Common data types in Python:\n",
    "\n",
    "int (integer)\n",
    "\n",
    "float (floating-point number)\n",
    "\n",
    "str (string)\n",
    "\n",
    "bool (boolean)\n"
   ]
  },
  {
   "cell_type": "markdown",
   "id": "51f5591f-5a57-4ed2-8e95-48876f993867",
   "metadata": {},
   "source": [
    "# Operators\n",
    "\n",
    "Python supports various operators:\n",
    "\n",
    "Arithmetic Operators: +, -, *, /, %, //, **\n",
    "\n",
    "Comparison Operators: ==, !=, >, <, >=, <=\n",
    "\n",
    "Logical Operators: and, or, not\n"
   ]
  },
  {
   "cell_type": "markdown",
   "id": "1c3fd32a-fd38-47d2-a941-fa777583fa41",
   "metadata": {},
   "source": [
    "# Control Statements: if, else, elif\n"
   ]
  },
  {
   "cell_type": "code",
   "execution_count": 58,
   "id": "4462d7db-8da8-46fb-ada7-dcf8aaba1b80",
   "metadata": {},
   "outputs": [
    {
     "name": "stdout",
     "output_type": "stream",
     "text": [
      "Positive\n"
     ]
    }
   ],
   "source": [
    "# if-elif-else\n",
    "\n",
    "num = 10\n",
    "if num>0:\n",
    "    print(\"Positive\")\n",
    "elif num==0:\n",
    "    print(\"Zero\")\n",
    "else:\n",
    "    print(\"negative\")"
   ]
  },
  {
   "cell_type": "markdown",
   "id": "5b1fb321-7968-40bf-b0b2-fe7f9d206e7a",
   "metadata": {},
   "source": [
    "# loops: for loop and while loop\n",
    "\n",
    "A for loop is used to iterate over a sequence (like a list, tuple, string).\n",
    "\n",
    "A while loop continues to execute as long as the condition is True.\n",
    "\n",
    "\n"
   ]
  },
  {
   "cell_type": "markdown",
   "id": "c68b4583-9ef6-4a29-b4c5-3c56123d54e7",
   "metadata": {},
   "source": [
    "<!-- fruits = [\"apple\", \"banana\", \"cherry\"]\n",
    "\n",
    "for fruit in fruits:\n",
    "    print(fruit)\n",
    " -->"
   ]
  },
  {
   "cell_type": "code",
   "execution_count": 44,
   "id": "8bbd9853-add5-4b4b-922b-5cc70fbc59ee",
   "metadata": {
    "scrolled": true
   },
   "outputs": [
    {
     "name": "stdout",
     "output_type": "stream",
     "text": [
      "0\n",
      "1\n",
      "2\n",
      "3\n",
      "4\n",
      "5\n"
     ]
    }
   ],
   "source": [
    "# while loop\n",
    "count = 0\n",
    "while count<=5:\n",
    "    print(count)\n",
    "    count+=1"
   ]
  },
  {
   "cell_type": "markdown",
   "id": "1c0af701-02c5-4c72-9d4b-d3b85916b173",
   "metadata": {},
   "source": []
  },
  {
   "cell_type": "markdown",
   "id": "cb0ec011-85e9-4439-bb51-6d39a0b1cb32",
   "metadata": {},
   "source": [
    "# For Loop Pattern Questions:\n",
    "# Rule:\n",
    "\n",
    "->  for the oter loop, count the no of lines.\n",
    "\n",
    "-> for the inner loop, focus on the columns & connect them somehow to the rows\n",
    "\n",
    "-> print then \"n\" insside the inner loop\n",
    "\n",
    "-> observe symmetry [Optional]\n",
    "\n",
    "\n"
   ]
  },
  {
   "attachments": {
    "405b17ed-4cdf-409d-869f-0492b867e1c1.png": {
     "image/png": "[encoded data removed]"
    }
   },
   "cell_type": "markdown",
   "id": "a058ad63-730c-4374-bdc3-e0ccaf814827",
   "metadata": {},
   "source": [
    "![image.png](attachment:405b17ed-4cdf-409d-869f-0492b867e1c1.png)"
   ]
  },
  {
   "cell_type": "code",
   "execution_count": 49,
   "id": "716d3b9b-e8ca-4e8a-8072-5604b846cf70",
   "metadata": {},
   "outputs": [
    {
     "name": "stdout",
     "output_type": "stream",
     "text": [
      "*\n",
      "**\n",
      "***\n",
      "****\n",
      "*****\n"
     ]
    }
   ],
   "source": [
    "n = 5\n",
    "for i in range(1, n+1):\n",
    "    for j in range(i):\n",
    "        print(\"*\", end='')\n",
    "    print()"
   ]
  },
  {
   "cell_type": "code",
   "execution_count": null,
   "id": "d2abbfa2-34a2-4a41-85b1-a43be212b86a",
   "metadata": {},
   "outputs": [],
   "source": []
  },
  {
   "attachments": {
    "aa9989a7-5ff8-41d0-ade3-ca8b87c0918a.png": {
     "image/png": "[encoded data removed]"
    }
   },
   "cell_type": "markdown",
   "id": "6b2f0a89-1179-4528-bcff-f41fdf6ee764",
   "metadata": {},
   "source": [
    "![image.png](attachment:aa9989a7-5ff8-41d0-ade3-ca8b87c0918a.png)"
   ]
  },
  {
   "cell_type": "code",
   "execution_count": 53,
   "id": "58a2dc29-e5a3-4613-91df-ef1a4e2785f0",
   "metadata": {},
   "outputs": [
    {
     "name": "stdout",
     "output_type": "stream",
     "text": [
      "*****\n",
      "****\n",
      "***\n",
      "**\n",
      "*\n"
     ]
    }
   ],
   "source": [
    "n = 5\n",
    "for i in range(n):\n",
    "    for j in range(n-i):\n",
    "        print(\"*\", end='')\n",
    "    print()"
   ]
  },
  {
   "attachments": {
    "703bf55a-0d41-431b-a83a-fae610900ea3.png": {
     "image/png": "[encoded data removed]"
    }
   },
   "cell_type": "markdown",
   "id": "9cef7328-336a-4df6-bddb-37f15af1a7cc",
   "metadata": {},
   "source": [
    "![image.png](attachment:703bf55a-0d41-431b-a83a-fae610900ea3.png)"
   ]
  },
  {
   "cell_type": "code",
   "execution_count": 56,
   "id": "95b8d2e7-2f14-4bc5-868d-a0ca787cee04",
   "metadata": {},
   "outputs": [
    {
     "name": "stdout",
     "output_type": "stream",
     "text": [
      "*****\n",
      "*****\n",
      "*****\n",
      "*****\n",
      "*****\n"
     ]
    }
   ],
   "source": [
    "num = 5\n",
    "for i in range(5):\n",
    "    for j in range(num):\n",
    "        print(\"*\", end=\"\")\n",
    "    print()"
   ]
  },
  {
   "attachments": {
    "34a38b07-b5b4-47c0-9add-2120c2080e62.png": {
     "image/png": "[encoded data removed]"
    }
   },
   "cell_type": "markdown",
   "id": "526d7dae-248f-4bb5-8e7d-2ffb7be8726c",
   "metadata": {},
   "source": [
    "Print a pyramid pattern.\n",
    "\n",
    "![image.png](attachment:34a38b07-b5b4-47c0-9add-2120c2080e62.png)"
   ]
  },
  {
   "cell_type": "code",
   "execution_count": 30,
   "id": "0cf95acb-8d67-4fd9-9a38-5da145e286c9",
   "metadata": {},
   "outputs": [
    {
     "name": "stdin",
     "output_type": "stream",
     "text": [
      "Num:  5\n"
     ]
    },
    {
     "name": "stdout",
     "output_type": "stream",
     "text": [
      "    *    \n",
      "   ***   \n",
      "  *****  \n",
      " ******* \n",
      "*********\n"
     ]
    }
   ],
   "source": [
    "# 4 rows\n",
    "# 7 columns\n",
    "n = int(input(\"Num: \"))\n",
    "for i in range(n):\n",
    "    # space\n",
    "    for j in range(n-i-1):\n",
    "        print(\" \", end='')\n",
    "    # star\n",
    "    for k in range(2*i+1):\n",
    "        print(\"*\", end='')\n",
    "    # sapce\n",
    "    for l in range(n-i-1):\n",
    "        print(\" \", end='');\n",
    "    print()"
   ]
  },
  {
   "attachments": {
    "b4a86f2d-720b-4d2a-a556-d5600f9942d0.png": {
     "image/png": "[encoded data removed]"
    }
   },
   "cell_type": "markdown",
   "id": "25be6b70-57ca-4ba2-b107-13d86e826c99",
   "metadata": {},
   "source": [
    "![image.png](attachment:b4a86f2d-720b-4d2a-a556-d5600f9942d0.png)"
   ]
  },
  {
   "cell_type": "code",
   "execution_count": 3,
   "id": "fd360636-fefc-4233-9479-caad433e6d46",
   "metadata": {},
   "outputs": [
    {
     "name": "stdin",
     "output_type": "stream",
     "text": [
      "Enter a nunmber:  5\n"
     ]
    },
    {
     "name": "stdout",
     "output_type": "stream",
     "text": [
      "*********\n",
      " ******* \n",
      "  *****  \n",
      "   ***   \n",
      "    *    \n"
     ]
    }
   ],
   "source": [
    "# 5 rows\n",
    "# 9 columns\n",
    "# print(space, stars, space)\n",
    "n = int(input(\"Enter a nunmber: \"))\n",
    "for i in range(n):\n",
    "    for j in range(i):\n",
    "        print(\" \", end='')\n",
    "    for j in range(2*n-(2*i+1)):\n",
    "        print(\"*\", end='')\n",
    "    for j in range(i):\n",
    "        print(\" \", end='')\n",
    "    print()"
   ]
  },
  {
   "cell_type": "code",
   "execution_count": 5,
   "id": "729f1b7a-d456-4a52-98c0-f7c706d4a396",
   "metadata": {},
   "outputs": [
    {
     "name": "stdin",
     "output_type": "stream",
     "text": [
      "Num:  5\n"
     ]
    },
    {
     "name": "stdout",
     "output_type": "stream",
     "text": [
      "    *    \n",
      "   ***   \n",
      "  *****  \n",
      " ******* \n",
      "*********\n",
      "*********\n",
      " ******* \n",
      "  *****  \n",
      "   ***   \n",
      "    *    \n"
     ]
    }
   ],
   "source": [
    "n = int(input(\"Num: \"))\n",
    "for i in range(n):\n",
    "    # space\n",
    "    for j in range(n-i-1):\n",
    "        print(\" \", end='')\n",
    "    # star\n",
    "    for k in range(2*i+1):\n",
    "        print(\"*\", end='')\n",
    "    # sapce\n",
    "    for l in range(n-i-1):\n",
    "        print(\" \", end='');\n",
    "    print()\n",
    "for i in range(n):\n",
    "    for j in range(i):\n",
    "        print(\" \", end='')\n",
    "    for j in range(2*n-(2*i+1)):\n",
    "        print(\"*\", end='')\n",
    "    for j in range(i):\n",
    "        print(\" \", end='')\n",
    "    print()"
   ]
  },
  {
   "cell_type": "code",
   "execution_count": 21,
   "id": "10f5b646-2299-4ddd-b147-10739d2ad774",
   "metadata": {},
   "outputs": [
    {
     "name": "stdin",
     "output_type": "stream",
     "text": [
      "Num:  5\n"
     ]
    },
    {
     "name": "stdout",
     "output_type": "stream",
     "text": [
      "\n",
      "\n",
      "*\n",
      "**\n",
      "***\n",
      "****\n",
      "***\n",
      "**\n",
      "*\n"
     ]
    }
   ],
   "source": [
    "n = int(input(\"Num: \"))\n",
    "for i in range(2*n-1):\n",
    "    stars = i;\n",
    "    if i>n:\n",
    "        stars = 2*n-i\n",
    "    for j in range(stars-1):\n",
    "        print(\"*\", end='')\n",
    "    print()\n",
    "    "
   ]
  },
  {
   "cell_type": "code",
   "execution_count": 2,
   "id": "f0fcb835-8018-46a9-94d2-9a93dbad90e8",
   "metadata": {},
   "outputs": [
    {
     "name": "stdin",
     "output_type": "stream",
     "text": [
      "Num:  5\n"
     ]
    },
    {
     "name": "stdout",
     "output_type": "stream",
     "text": [
      "\n",
      "\n",
      "*\n",
      "**\n",
      "***\n",
      "***\n",
      "**\n",
      "*\n",
      "\n"
     ]
    }
   ],
   "source": [
    "# while loop:\n",
    "n = int(input(\"Num: \"))\n",
    "i = 0\n",
    "\n",
    "while i < 2 * n - 1:\n",
    "    stars = i\n",
    "    if i >= n:\n",
    "        stars = 2 * n - i - 2\n",
    "    else:\n",
    "        stars -= 1\n",
    "\n",
    "    j = 0\n",
    "    while j < stars:\n",
    "        print(\"*\", end='')\n",
    "        j += 1\n",
    "    print()\n",
    "    i += 1\n"
   ]
  },
  {
   "cell_type": "code",
   "execution_count": 8,
   "id": "31eadcac-1432-43de-84c1-400641e348e2",
   "metadata": {},
   "outputs": [
    {
     "name": "stdin",
     "output_type": "stream",
     "text": [
      "Enter the date:  6\n",
      "Enter the month number:  8\n"
     ]
    },
    {
     "name": "stdout",
     "output_type": "stream",
     "text": [
      "The day on is  monday\n"
     ]
    }
   ],
   "source": [
    "#10th june 2024\n",
    "#calender\n",
    "date=int(input(\"Enter the date: \"))\n",
    "days={0:\"sunday\",1:\"monday\",2:\"tuesday\",3:\"wednesday\",4:\"thursday\",5:\"friday\",6:\"saturday\",}\n",
    "total_days=0\n",
    "month=int(input(\"Enter the month number: \"))\n",
    "months={1:\"jan\",2:\"feb\",3:\"mar\",4:\"apr\",5:\"may\",6:\"jun\",7:\"jul\",8:\"aug\",9:\"sep\",10:\"oct\",11:\"nov\",12:\"dec\"}\n",
    "month_days={\"jan\":31,\"feb\":28,\"mar\":31,\"apr\":30,\"may\":31,\"jun\":30,\"jul\":31,\"aug\":31,\"sep\":30,\"oct\":31,\"nov\":30,\"dec\":31}\n",
    "for i in months:\n",
    "  if (i==month):\n",
    "    break\n",
    "  total_days+=month_days[months[i]]\n",
    "date+=total_days\n",
    "date%=7\n",
    "print(\"The day on is \",days[date])"
   ]
  },
  {
   "cell_type": "code",
   "execution_count": 16,
   "id": "123f2125-29e9-42c6-898f-16c0b88b9e32",
   "metadata": {},
   "outputs": [
    {
     "name": "stdin",
     "output_type": "stream",
     "text": [
      "enter first day of the month (1-7) 4\n",
      "enter number of days 25\n"
     ]
    },
    {
     "name": "stdout",
     "output_type": "stream",
     "text": [
      " Sun Mon Tues Wed Thurs Fri Sat\n",
      "---------------------------------------\n",
      "               1   2   3   4   \n",
      "5   6   7   8   9   10   11   \n",
      "12   13   14   15   16   17   18   \n",
      "19   20   21   22   23   24   25   "
     ]
    }
   ],
   "source": [
    "firstday=int(input(\"enter first day of the month (1-7)\"))\n",
    "n_of_days=int(input(\"enter number of days\"))\n",
    "print(\" Sun Mon Tues Wed Thurs Fri Sat\")\n",
    "print(\"---------------------------------------\")\n",
    "for i in range(firstday-1):\n",
    "  print(end=\"     \")\n",
    "i=firstday-1\n",
    "for j in range(1,n_of_days+1):\n",
    "  if(i>6):\n",
    "    print()\n",
    "    i=1\n",
    "  else:\n",
    "    i=i+1\n",
    "  print(str(j)+\"  \",end=\" \")\n"
   ]
  },
  {
   "cell_type": "markdown",
   "id": "0958b147-6c2c-43f4-91c3-a056891c3e91",
   "metadata": {},
   "source": [
    "# function:\n",
    "Important Points:\n",
    "Function Definition: Functions are defined using the def keyword followed by the function name and parentheses. Inside the parentheses, you can specify parameters.\n",
    "\n",
    "Function Call: A function is executed by calling it with parentheses, optionally passing arguments.\n",
    "\n",
    "Parameters and Arguments:\n",
    "\n",
    "Parameters are variables defined in the function definition.\n",
    "Arguments are values passed to the function when it is called.\n",
    "Return Statement: Functions can return values using the return keyword. If no return is used, the function returns None.\n",
    "\n",
    "Docstring: You can add a description (docstring) to your function using triple quotes, which can help explain what the function does.\n",
    "\n",
    "\n",
    "Default Parameters: You can specify default values for parameters, which are used if no arguments are provided for those parameters when the function is called.\n",
    "\n",
    "Variable Scope: Variables defined inside a function have local scope, meaning they can only be accessed inside that function.\n",
    "\n",
    "Lambda Functions: For simple functions, you can use lambda expressions to define anonymous functions."
   ]
  },
  {
   "cell_type": "code",
   "execution_count": 24,
   "id": "26267f80-9093-48f1-98ed-a92b39427dfd",
   "metadata": {},
   "outputs": [
    {
     "name": "stdout",
     "output_type": "stream",
     "text": [
      "6 6\n",
      "Nitish is 21 years old and lives in Delhi.\n"
     ]
    }
   ],
   "source": [
    "#functions with positional arguments\n",
    "def display(b,a):\n",
    "    a=a+2\n",
    "    b=b+4\n",
    "    print(a,b)\n",
    "display(2,4)\n",
    "\n",
    "def describe_person(name, age, city):\n",
    "    \"\"\"\n",
    "    This function takes positional arguments and prints a description of a person.\n",
    "    \"\"\"\n",
    "    print(f\"{name} is {age} years old and lives in {city}.\")\n",
    "\n",
    "# Positional arguments passed in order\n",
    "describe_person(\"Nitish\", 21, \"Delhi\")\n",
    "\n",
    "# Output: Nitish is 21 years old and lives in Delhi.\n"
   ]
  },
  {
   "cell_type": "code",
   "execution_count": 20,
   "id": "5494a8f1-91a7-497d-9a12-6313800a581c",
   "metadata": {},
   "outputs": [
    {
     "name": "stdout",
     "output_type": "stream",
     "text": [
      "Hello, Nitish!\n",
      "Sum: 30\n",
      "Hello, User!\n",
      "Hello, Nitish!\n",
      "Multiplication: 20\n"
     ]
    }
   ],
   "source": [
    "# 1. Function Definition\n",
    "def greet(name):\n",
    "    \"\"\"\n",
    "    This function greets the person whose name is passed as an argument.\n",
    "    \"\"\"\n",
    "    print(f\"Hello, {name}!\")\n",
    "\n",
    "# 2. Function Call\n",
    "greet(\"Nitish\")  # Output: Hello, Nitish!\n",
    "\n",
    "# 3. Function with Return Statement\n",
    "def add(a, b):\n",
    "    \"\"\"\n",
    "    This function adds two numbers and returns the result.\n",
    "    \"\"\"\n",
    "    return a + b\n",
    "\n",
    "result = add(10, 20)\n",
    "print(f\"Sum: {result}\")  # Output: Sum: 30\n",
    "\n",
    "# 4. Function with Default Parameter\n",
    "def greet_with_default(name=\"User\"):\n",
    "    \"\"\"\n",
    "    This function greets the person by name or uses a default value if no name is provided.\n",
    "    \"\"\"\n",
    "    print(f\"Hello, {name}!\")\n",
    "\n",
    "greet_with_default()  # Output: Hello, User!\n",
    "greet_with_default(\"Nitish\")  # Output: Hello, Nitish!\n",
    "\n",
    "# 5. Lambda Function (Anonymous Function)\n",
    "multiply = lambda x, y: x * y\n",
    "print(f\"Multiplication: {multiply(5, 4)}\")  # Output: Multiplication: 20\n"
   ]
  },
  {
   "cell_type": "code",
   "execution_count": 40,
   "id": "e8272543-b9d2-4ee2-bfa0-41f0211361ad",
   "metadata": {},
   "outputs": [],
   "source": [
    "# expression as an arguments\n",
    "def display1(i):\n",
    "    print(\"Hello\",i) \n"
   ]
  },
  {
   "cell_type": "code",
   "execution_count": 60,
   "id": "d57f711c-5df8-4653-95c4-25d3f8357f85",
   "metadata": {},
   "outputs": [
    {
     "name": "stdout",
     "output_type": "stream",
     "text": [
      "Hello 255392\n"
     ]
    }
   ],
   "source": [
    "display1(347*32*23)"
   ]
  },
  {
   "cell_type": "code",
   "execution_count": 64,
   "id": "b6576559-f08a-4253-b3a0-9c49b44b6230",
   "metadata": {},
   "outputs": [
    {
     "name": "stdout",
     "output_type": "stream",
     "text": [
      "100\n"
     ]
    }
   ],
   "source": [
    "\n",
    "#default argument\n",
    "def display(a=3):\n",
    "  print(a)\n",
    "display(100)\n",
    "     "
   ]
  },
  {
   "cell_type": "code",
   "execution_count": 68,
   "id": "02b74f2c-12ad-48ad-8830-bf94b90828c4",
   "metadata": {},
   "outputs": [
    {
     "name": "stdout",
     "output_type": "stream",
     "text": [
      "ankit Akshat\n",
      "ankit akshat\n",
      "ankit akshat\n",
      "akshat ankit\n"
     ]
    }
   ],
   "source": [
    "#keyword argument or named arguments\n",
    "def display(a,b):\n",
    "  print(a,b)\n",
    "display(a='ankit',b='Akshat')\n",
    "display(b='akshat',a='ankit')\n",
    "display('ankit','akshat')\n",
    "display('akshat','ankit')"
   ]
  },
  {
   "cell_type": "code",
   "execution_count": 70,
   "id": "e8091e65-594f-4cb3-aa21-96be018175f5",
   "metadata": {},
   "outputs": [
    {
     "name": "stdout",
     "output_type": "stream",
     "text": [
      "ankit\n",
      "divya\n",
      "akshat\n",
      "laveen\n",
      "amit\n"
     ]
    }
   ],
   "source": [
    "\n",
    "#arbitrary keyword arguments (variable length arguments)\n",
    "#   first *args  (non keyword)    and second **kwargs (keyword)\n",
    "def display(*abc):\n",
    "  for a in abc:\n",
    "    print(a)\n",
    "display('ankit','divya','akshat','laveen','amit')"
   ]
  },
  {
   "cell_type": "code",
   "execution_count": 74,
   "id": "9ebf27c6-5e1a-44a6-b1f4-3dadc30e44cc",
   "metadata": {},
   "outputs": [
    {
     "name": "stdout",
     "output_type": "stream",
     "text": [
      "name1 ankit\n",
      "name2 divya\n",
      "name3 akshat\n",
      "name4 laveen\n",
      "name5 amit\n",
      "name6 ankit\n"
     ]
    }
   ],
   "source": [
    "def display(**abc):\n",
    "  for a,b in abc.items():\n",
    "    print(a,b)\n",
    "display(name1='ankit',name2='divya',name3='akshat',name4='laveen',name5='amit',name6='ankit')\n",
    "     "
   ]
  },
  {
   "cell_type": "code",
   "execution_count": 76,
   "id": "4f2a4454-1ee6-4715-89a3-de49003fcc6c",
   "metadata": {},
   "outputs": [
    {
     "name": "stdout",
     "output_type": "stream",
     "text": [
      "odd\n",
      "function is defined to check if number is even or odd\n"
     ]
    }
   ],
   "source": [
    "\n",
    "def abc(a):\n",
    "  \"\"\"function is defined to check if number is even or odd\"\"\"\n",
    "  if(a%2==0):\n",
    "    print(\"even\")\n",
    "  else:\n",
    "    print(\"odd\")\n",
    "  \"\"\"function\"\"\"\n",
    "abc(19)\n",
    "\n",
    "print(abc.__doc__) # to write in the output which has written in the \"\"\"  \"\"\""
   ]
  },
  {
   "cell_type": "code",
   "execution_count": 78,
   "id": "d5074e55-7aed-4280-acae-39313cd80a29",
   "metadata": {},
   "outputs": [
    {
     "name": "stdout",
     "output_type": "stream",
     "text": [
      "amit\n",
      "divya\n",
      "akshat\n"
     ]
    }
   ],
   "source": [
    "#11th June\n",
    "def abc(names):\n",
    "  for i in names:\n",
    "    print(i)\n",
    "abc(['amit','divya','akshat'])"
   ]
  },
  {
   "cell_type": "code",
   "execution_count": 80,
   "id": "b4dbdbd8-94ee-4715-ae40-05d091904b86",
   "metadata": {},
   "outputs": [
    {
     "name": "stdout",
     "output_type": "stream",
     "text": [
      "7\n"
     ]
    }
   ],
   "source": [
    "\n",
    "def abc(a,b,/):\n",
    "  c=a+b\n",
    "  print(c)\n",
    "abc(3,4)"
   ]
  },
  {
   "cell_type": "code",
   "execution_count": null,
   "id": "8f91ecc3-bf1c-4cbc-adf0-0c56876afafc",
   "metadata": {},
   "outputs": [],
   "source": [
    "# # Positional-only Parameters (/)\n",
    "# Definition: These parameters must be passed by position and cannot be passed by keyword.\n",
    "# Syntax: The / symbol in the function signature indicates that all the parameters before it are positional-only.\n",
    "# Use Case: It is used when you want to enforce that arguments must be passed in a specific order."
   ]
  },
  {
   "cell_type": "code",
   "execution_count": 82,
   "id": "925d714b-451e-4c82-9b10-3e0630245abb",
   "metadata": {},
   "outputs": [
    {
     "ename": "TypeError",
     "evalue": "func() got some positional-only arguments passed as keyword arguments: 'a, b'",
     "output_type": "error",
     "traceback": [
      "\u001b[0;31m---------------------------------------------------------------------------\u001b[0m",
      "\u001b[0;31mTypeError\u001b[0m                                 Traceback (most recent call last)",
      "Cell \u001b[0;32mIn[82], line 7\u001b[0m\n\u001b[1;32m      5\u001b[0m func(\u001b[38;5;241m1\u001b[39m, \u001b[38;5;241m2\u001b[39m)        \u001b[38;5;66;03m# Works\u001b[39;00m\n\u001b[1;32m      6\u001b[0m \u001b[38;5;66;03m# Invalid call:\u001b[39;00m\n\u001b[0;32m----> 7\u001b[0m func(a\u001b[38;5;241m=\u001b[39m\u001b[38;5;241m1\u001b[39m, b\u001b[38;5;241m=\u001b[39m\u001b[38;5;241m2\u001b[39m)\n",
      "\u001b[0;31mTypeError\u001b[0m: func() got some positional-only arguments passed as keyword arguments: 'a, b'"
     ]
    }
   ],
   "source": [
    "def func(a, b, /):\n",
    "    return a + b\n",
    "\n",
    "# Valid calls:\n",
    "func(1, 2)        # Works\n",
    "# Invalid call:\n",
    "func(a=1, b=2)    # TypeError: func() got some positional-only arguments\n"
   ]
  },
  {
   "cell_type": "code",
   "execution_count": 84,
   "id": "d62ad3dd-63ac-4dcb-95ce-e8df20c7f9dd",
   "metadata": {},
   "outputs": [
    {
     "name": "stdout",
     "output_type": "stream",
     "text": [
      "7\n"
     ]
    }
   ],
   "source": [
    "\n",
    "def abc(a,b):\n",
    "  c=a+b\n",
    "  print(c)\n",
    "abc(3,4)"
   ]
  },
  {
   "cell_type": "code",
   "execution_count": 86,
   "id": "4d9fb69b-685e-47b1-8564-58ef682c134c",
   "metadata": {},
   "outputs": [
    {
     "name": "stdout",
     "output_type": "stream",
     "text": [
      "8\n",
      "5\n"
     ]
    }
   ],
   "source": [
    "\n",
    "#Scope\n",
    "a=5\n",
    "def abc(a):\n",
    "  a=a+3\n",
    "  return a\n",
    "print(abc(a))\n",
    "def xyz(a):\n",
    "  print(a)\n",
    "xyz(a)\n",
    "     "
   ]
  },
  {
   "cell_type": "code",
   "execution_count": 88,
   "id": "e25bfda5-b51e-4c9c-a336-de9753d9fb87",
   "metadata": {},
   "outputs": [
    {
     "name": "stdout",
     "output_type": "stream",
     "text": [
      "berries\n",
      "berries\n"
     ]
    }
   ],
   "source": []
  },
  {
   "cell_type": "markdown",
   "id": "7738c3df-42f2-46c3-9cc3-0a77e0be8b5d",
   "metadata": {},
   "source": [
    "# OOPs"
   ]
  },
  {
   "cell_type": "code",
   "execution_count": 95,
   "id": "2c1b006d-98de-462e-b0f3-2f2329819cec",
   "metadata": {},
   "outputs": [
    {
     "name": "stdout",
     "output_type": "stream",
     "text": [
      "nitish\n"
     ]
    }
   ],
   "source": [
    "# creating a class\n",
    "class student:\n",
    "    name = \"nitish\"\n",
    "\n",
    "s1 = student()\n",
    "print(s1.name)"
   ]
  },
  {
   "cell_type": "code",
   "execution_count": 99,
   "id": "f7d6377e-3550-4a40-9d3f-f8b887def71d",
   "metadata": {},
   "outputs": [
    {
     "name": "stdout",
     "output_type": "stream",
     "text": [
      "<__main__.student object at 0x127ac41a0>\n",
      "I am from the constructor\n",
      "nitish kumar\n"
     ]
    }
   ],
   "source": [
    "class student:\n",
    "    name = \"nitish kumar\"\n",
    "    def __init__(self):\n",
    "        print(self)\n",
    "        print(\"I am from the constructor\")\n",
    "\n",
    "s1 = student()\n",
    "print(s1.name)"
   ]
  },
  {
   "cell_type": "code",
   "execution_count": null,
   "id": "ce486132-309a-4c65-a686-11442544bb72",
   "metadata": {},
   "outputs": [],
   "source": []
  },
  {
   "cell_type": "code",
   "execution_count": 90,
   "id": "e7e7fbc5-a364-4b4a-9bb7-a367cca71d48",
   "metadata": {},
   "outputs": [
    {
     "name": "stdout",
     "output_type": "stream",
     "text": [
      "circle\n",
      "circle\n",
      "smooth\n",
      "rough\n"
     ]
    }
   ],
   "source": [
    "# \n",
    "# classes/Objects\n",
    "class first:\n",
    "  shape=\"circle\"\n",
    "  texture=\"smooth\"\n",
    "b1=first()\n",
    "b2=first()\n",
    "b3=first()\n",
    "print(b1.shape)\n",
    "print(b2.shape)\n",
    "b3.texture=\"rough\"\n",
    "print(b2.texture)\n",
    "print(b3.texture)\n",
    "     "
   ]
  },
  {
   "cell_type": "code",
   "execution_count": 105,
   "id": "9ff6f0d0-2ca6-429d-9256-ab572fc468de",
   "metadata": {},
   "outputs": [
    {
     "name": "stdout",
     "output_type": "stream",
     "text": [
      "<__main__.student object at 0x127ac41a0>\n",
      "I am from the constructor\n",
      "Karan\n",
      "93\n",
      "<__main__.student object at 0x127cebc80>\n",
      "I am from the constructor\n",
      "434\n"
     ]
    }
   ],
   "source": [
    "class student:\n",
    "    def __init__(self, fullname, marks):\n",
    "        self.name = fullname\n",
    "        self.marks = marks\n",
    "        print(self)\n",
    "        print(\"I am from the constructor\")\n",
    "s1 = student(\"Karan\", 93)\n",
    "print(s1.name)\n",
    "print(s1.marks)\n",
    "\n",
    "# we can create many obecjt of the class and pass the values many time.\n",
    "s2 = student(\"dgregsd\", 434)\n",
    "print(s2.marks)"
   ]
  },
  {
   "cell_type": "code",
   "execution_count": 107,
   "id": "7e2f6e2a-4968-4fee-bc51-fdca54bfc68b",
   "metadata": {},
   "outputs": [],
   "source": [
    "# we can use oops for increase reusabilty and drcrease the redudancy but we can use function also but m"
   ]
  },
  {
   "cell_type": "code",
   "execution_count": 109,
   "id": "18c5caee-a807-490d-b524-dfad9c42d5a5",
   "metadata": {},
   "outputs": [
    {
     "name": "stdout",
     "output_type": "stream",
     "text": [
      "<__main__.student object at 0x1268566f0>\n",
      "I am from the constructor\n",
      "Karan\n",
      "93\n",
      "<__main__.student object at 0x1173bc320>\n",
      "I am from the constructor\n",
      "434\n"
     ]
    }
   ],
   "source": [
    "class student:\n",
    "\n",
    "    # defaullt constructor\n",
    "    def __init__(self): # it is not need to create.\n",
    "        pass\n",
    "\n",
    "    # parameter const.\n",
    "    def __init__(self, fullname, marks):\n",
    "        self.name = fullname\n",
    "        self.marks = marks\n",
    "        print(self)\n",
    "        print(\"I am from the constructor\")\n",
    "s1 = student(\"Karan\", 93)\n",
    "print(s1.name)\n",
    "print(s1.marks)\n",
    "\n",
    "# we can create many obecjt of the class and pass the values many time.\n",
    "s2 = student(\"dgregsd\", 434)\n",
    "print(s2.marks)\n",
    "\n",
    "# jo constructor parameter se match karega wo function call hoga..\n",
    "# we have not created any defalut constructor, it create by fefault contructors.\n",
    "\n"
   ]
  },
  {
   "cell_type": "code",
   "execution_count": 111,
   "id": "33949d91-d020-4e37-b316-4c1c1c87c2b3",
   "metadata": {},
   "outputs": [
    {
     "name": "stdout",
     "output_type": "stream",
     "text": [
      "<__main__.student object at 0x1173beb10>\n",
      "I am from the constructor\n",
      "Karan\n",
      "93\n",
      "<__main__.student object at 0x1268566f0>\n",
      "I am from the constructor\n",
      "434\n",
      "lpu\n"
     ]
    }
   ],
   "source": [
    "# class attributes : sabhi name alag hote hai objects ka tb instance attr. yani not common of every objects\n",
    "# instance attributes  jo common hoti hai harek object ke liye(ek hi bar store hota hai)\n",
    "\n",
    "\n",
    "class student:\n",
    "    college_name = \"lpu\"  # class attr\n",
    "    # parameter const.\n",
    "    def __init__(self, fullname, marks):\n",
    "        self.name = fullname #object / instance attr.\n",
    "        self.marks = marks\n",
    "        print(self)\n",
    "        print(\"I am from the constructor\")\n",
    "s1 = student(\"Karan\", 93)\n",
    "print(s1.name)\n",
    "print(s1.marks)\n",
    "\n",
    "# we can create many obecjt of the class and pass the values many time.\n",
    "s2 = student(\"dgregsd\", 434)\n",
    "print(s2.marks)\n",
    "\n",
    "print(s2.college_name)  # class attr."
   ]
  },
  {
   "cell_type": "code",
   "execution_count": 113,
   "id": "4a903edc-2dae-4f88-b6cf-19f5ce1a6d8a",
   "metadata": {},
   "outputs": [
    {
     "name": "stdout",
     "output_type": "stream",
     "text": [
      "<__main__.student object at 0x127ceba70>\n",
      "I am from the constructor\n",
      "Karan\n"
     ]
    }
   ],
   "source": [
    "\n",
    "class student:\n",
    "    college_name = \"lpu\" \n",
    "    name = \"nitish\"\n",
    "    # parameter const.\n",
    "    def __init__(self, fullname, marks):\n",
    "        self.name = fullname # instance attr.\n",
    "        self.marks = marks\n",
    "        print(self)\n",
    "        print(\"I am from the constructor\")\n",
    "s1 = student(\"Karan\", 93)\n",
    "\n",
    "print(s1.name) # tb bhi class ki atrributes ki values same rahti hai tb object attributes ko jade prefereces milti hai as compare to class attr."
   ]
  },
  {
   "cell_type": "code",
   "execution_count": 129,
   "id": "484da65c-9137-4e16-a4b2-405270a39ec8",
   "metadata": {},
   "outputs": [
    {
     "name": "stdout",
     "output_type": "stream",
     "text": [
      "Welcome nitsh 34\n"
     ]
    }
   ],
   "source": [
    "# methods: like car kaise start hoti hai, engine kaise hota hai..\n",
    "# attributes: color, model, car. no\n",
    "\n",
    "class Student:\n",
    "    def __init__(self, name, marks):\n",
    "        self.name = name\n",
    "        self.marks = marks\n",
    "    def Welcome(self):\n",
    "        print(\"Welcome\", self.name, self.marks)\n",
    "\n",
    "s1 = Student(\"nitsh\", 34)\n",
    "s1.Welcome()\n"
   ]
  },
  {
   "cell_type": "code",
   "execution_count": 137,
   "id": "396528ad-822e-4509-9a42-e8894c76e6b9",
   "metadata": {},
   "outputs": [
    {
     "name": "stdout",
     "output_type": "stream",
     "text": [
      "Hi Tony start you are score is 98.0\n"
     ]
    }
   ],
   "source": [
    "# create student class that takes name and marks of 3 subjects as arguments in cosntructors.. then create a method to print the average..\n",
    "\n",
    "class Students:\n",
    "    def __init__(self, name, marks):\n",
    "        self.name = name\n",
    "        self.marks = marks\n",
    "    def average(self): # method me self rahega tabhi run karega, nahi to error shows kar dega.\n",
    "        sum=0\n",
    "        for i in self.marks:\n",
    "            sum+=i\n",
    "        print(\"Hi\", self.name, \"you are score is\", sum/3)\n",
    "            \n",
    "s1 = Students(\"Tony start\", [99, 97, 98])\n",
    "s1.average()"
   ]
  },
  {
   "cell_type": "code",
   "execution_count": 145,
   "id": "24a01c8a-bfd2-4639-bb49-0e2e3b4cc527",
   "metadata": {},
   "outputs": [
    {
     "name": "stdout",
     "output_type": "stream",
     "text": [
      "Hi Tony start you are score is 98.0\n",
      "hello\n",
      "Hi rudra you are score is 98.0\n"
     ]
    }
   ],
   "source": [
    "# static method: Methods that don't use the parameter (work at the class level)\n",
    "# class abc:\n",
    "  #staticmethod # decorators\n",
    "  # def hello():\n",
    "  #   print(\"hello\")\n",
    "\n",
    "# *Decorators allow us to wrap another function in order to extend the behaviour of the wrapped function, without permanently modifying it\n",
    "\n",
    "\n",
    "# create student class that takes name and marks of 3 subjects as arguments in cosntructors.. then create a method to print the average..\n",
    "\n",
    "\n",
    "class Students:\n",
    "    def __init__(self, name, marks):\n",
    "        self.name = name\n",
    "        self.marks = marks\n",
    "        \n",
    "    @staticmethod  # to remove the error, because we have not used self function here that it is giving errors.\n",
    "    def hello():\n",
    "        print(\"hello\")\n",
    "        \n",
    "    def average(self): # method me self rahega tabhi run karega, nahi to error shows kar dega.\n",
    "        sum=0\n",
    "        for i in self.marks:\n",
    "            sum+=i\n",
    "        print(\"Hi\", self.name, \"you are score is\", sum/3)\n",
    "            \n",
    "s1 = Students(\"Tony start\", [99, 97, 98])\n",
    "s1.average()\n",
    "\n",
    "s1.hello() # to use @staticmethod\n",
    "\n",
    "\n",
    "# change the name of the object attr\n",
    "s1.name = \"rudra\"\n",
    "s1.average()\n",
    "\n"
   ]
  },
  {
   "cell_type": "code",
   "execution_count": 147,
   "id": "e98bda0b-a05e-4e22-8393-877e056f0145",
   "metadata": {},
   "outputs": [
    {
     "name": "stdout",
     "output_type": "stream",
     "text": [
      "Car started..\n"
     ]
    }
   ],
   "source": [
    "# abstraction: hinding implementtaion of details of a class.\n",
    "class Car:\n",
    "    def __init__(self):\n",
    "        self.acc = False\n",
    "        self.brk = False\n",
    "        self.clutch = False\n",
    "    def start(self):\n",
    "        self.cluth = True\n",
    "        self.acc = True\n",
    "        print(\"Car started..\")\n",
    "\n",
    "car1 = Car()\n",
    "car1.start()"
   ]
  },
  {
   "cell_type": "code",
   "execution_count": null,
   "id": "edd3f06b-6cf4-435d-b47b-286185517884",
   "metadata": {},
   "outputs": [],
   "source": [
    "# encapsulation : Wrapping data and functions into a single unit (object);\n",
    "# ex = create a capsule box and in the box (data + function)\n",
    "\n"
   ]
  }
 ],
 "metadata": {
  "kernelspec": {
   "display_name": "Python 3 (ipykernel)",
   "language": "python",
   "name": "python3"
  },
  "language_info": {
   "codemirror_mode": {
    "name": "ipython",
    "version": 3
   },
   "file_extension": ".py",
   "mimetype": "text/x-python",
   "name": "python",
   "nbconvert_exporter": "python",
   "pygments_lexer": "ipython3",
   "version": "3.12.4"
  }
 },
 "nbformat": 4,
 "nbformat_minor": 5
}
