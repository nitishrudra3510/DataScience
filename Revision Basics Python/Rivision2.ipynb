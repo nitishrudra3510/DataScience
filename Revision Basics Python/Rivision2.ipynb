{
 "cells": [
  {
   "cell_type": "code",
   "execution_count": 2,
   "id": "d9c22fca-58e1-4b69-aab6-db6b18ef02de",
   "metadata": {},
   "outputs": [
    {
     "name": "stdout",
     "output_type": "stream",
     "text": [
      "Hello world\n"
     ]
    }
   ],
   "source": [
    "print(\"Hello world\")"
   ]
  },
  {
   "cell_type": "code",
   "execution_count": 4,
   "id": "8423ff3e-525f-41e0-90a4-3f811fa0e2e2",
   "metadata": {},
   "outputs": [],
   "source": [
    "A=10"
   ]
  },
  {
   "cell_type": "code",
   "execution_count": 7,
   "id": "d145938e-e5f9-4529-8c21-d032f580ad10",
   "metadata": {},
   "outputs": [
    {
     "name": "stdout",
     "output_type": "stream",
     "text": [
      "10\n"
     ]
    }
   ],
   "source": [
    "print(A) "
   ]
  },
  {
   "cell_type": "code",
   "execution_count": 13,
   "id": "8f0a7ccf-c10c-4798-97ef-62c427873751",
   "metadata": {},
   "outputs": [],
   "source": [
    "a=7\n",
    "b=3.9\n",
    "c='a'\n",
    "d = \"hell'o\""
   ]
  },
  {
   "cell_type": "code",
   "execution_count": 15,
   "id": "142ae02b-cab4-45f0-9382-9219fdce9384",
   "metadata": {},
   "outputs": [
    {
     "name": "stdout",
     "output_type": "stream",
     "text": [
      "7 3.9 a hell'o\n"
     ]
    }
   ],
   "source": [
    "print(a,b,c,d)"
   ]
  },
  {
   "cell_type": "code",
   "execution_count": 2,
   "id": "5b3eb77c-c630-4338-b5d6-26e5dd88559b",
   "metadata": {},
   "outputs": [
    {
     "name": "stdin",
     "output_type": "stream",
     "text": [
      "Enter a 5\n",
      "Enter b 6\n"
     ]
    },
    {
     "name": "stdout",
     "output_type": "stream",
     "text": [
      "True\n"
     ]
    },
    {
     "ename": "NameError",
     "evalue": "name 'ab' is not defined",
     "output_type": "error",
     "traceback": [
      "\u001b[0;31m---------------------------------------------------------------------------\u001b[0m",
      "\u001b[0;31mNameError\u001b[0m                                 Traceback (most recent call last)",
      "Cell \u001b[0;32mIn[2], line 5\u001b[0m\n\u001b[1;32m      3\u001b[0m \u001b[38;5;66;03m#print(a==b)\u001b[39;00m\n\u001b[1;32m      4\u001b[0m \u001b[38;5;28mprint\u001b[39m(a\u001b[38;5;241m!=\u001b[39mb)\n\u001b[0;32m----> 5\u001b[0m \u001b[38;5;28mprint\u001b[39m(ab)\n",
      "\u001b[0;31mNameError\u001b[0m: name 'ab' is not defined"
     ]
    }
   ],
   "source": [
    "\n",
    "a=int(input(\"Enter a\"))\n",
    "b=int(input(\"Enter b\"))\n",
    "#print(a==b)\n",
    "print(a!=b)\n",
    "print(ab)\n"
   ]
  },
  {
   "cell_type": "code",
   "execution_count": 6,
   "id": "c8e1ce84-2561-486c-83b2-8e8facac671e",
   "metadata": {},
   "outputs": [],
   "source": [
    "a=10\n",
    "b=-(a)"
   ]
  },
  {
   "cell_type": "code",
   "execution_count": 10,
   "id": "df2cb4cc-85fe-4f1b-8451-9534117abc8f",
   "metadata": {},
   "outputs": [
    {
     "name": "stdout",
     "output_type": "stream",
     "text": [
      "10\n"
     ]
    }
   ],
   "source": [
    "print(a)"
   ]
  },
  {
   "cell_type": "code",
   "execution_count": 14,
   "id": "54692abf-bd6b-401b-b52d-3437eb838544",
   "metadata": {},
   "outputs": [
    {
     "name": "stdout",
     "output_type": "stream",
     "text": [
      "-10\n"
     ]
    }
   ],
   "source": [
    "print(b)"
   ]
  },
  {
   "cell_type": "code",
   "execution_count": 18,
   "id": "dcb833a8-af0e-46da-88e4-3c2de3f63607",
   "metadata": {},
   "outputs": [
    {
     "name": "stdout",
     "output_type": "stream",
     "text": [
      "-10\n"
     ]
    }
   ],
   "source": [
    "print(b)"
   ]
  },
  {
   "cell_type": "markdown",
   "id": "df431b25-9dc6-4cd5-93b7-826a06c8ac08",
   "metadata": {},
   "source": [
    "And\n",
    "1 1 1\n",
    "1 0 0 0 1 0 0 0 0\n",
    "\n",
    "OR 1 1 1 1 0 1 0 1 1 0 0 0\n",
    "\n",
    "Not\n",
    "\n",
    "1 0 0 1"
   ]
  },
  {
   "cell_type": "code",
   "execution_count": 21,
   "id": "158d53c9-0b0a-447b-a37a-21df2373b643",
   "metadata": {},
   "outputs": [
    {
     "name": "stdout",
     "output_type": "stream",
     "text": [
      "941630224\n",
      "1069480887\n",
      "-1010101011\n"
     ]
    }
   ],
   "source": [
    "a=1010101010\n",
    "b=1001010101\n",
    "print(a&b)\n",
    "print(a|b)\n",
    "print(~a)"
   ]
  },
  {
   "cell_type": "code",
   "execution_count": 30,
   "id": "6197c882-1632-4dc8-9c27-8ce87f0afe62",
   "metadata": {},
   "outputs": [
    {
     "name": "stdout",
     "output_type": "stream",
     "text": [
      "0\n",
      "30\n"
     ]
    }
   ],
   "source": [
    "a=10\n",
    "b=20\n",
    "print(a&b)\n",
    "print(a|b"
   ]
  },
  {
   "cell_type": "code",
   "execution_count": 32,
   "id": "1a0238fc-b8cc-4965-a178-b834dc5194ea",
   "metadata": {},
   "outputs": [
    {
     "name": "stdout",
     "output_type": "stream",
     "text": [
      "0\n",
      "30\n"
     ]
    }
   ],
   "source": [
    "a=10\n",
    "b=20\n",
    "print(a&b)\n",
    "print(a|b)"
   ]
  },
  {
   "cell_type": "code",
   "execution_count": 38,
   "id": "cfe864d8-9fb6-45f6-90d5-7c6187d19bfd",
   "metadata": {},
   "outputs": [
    {
     "name": "stdout",
     "output_type": "stream",
     "text": [
      "0b10000100011100010101010110100000000\n"
     ]
    }
   ],
   "source": [
    "\n",
    "x= 1111010000\n",
    "\n",
    "print(bin(x<<4))"
   ]
  },
  {
   "cell_type": "code",
   "execution_count": 42,
   "id": "3c4012f5-c033-4184-89c1-ed0475f31abe",
   "metadata": {},
   "outputs": [
    {
     "name": "stdout",
     "output_type": "stream",
     "text": [
      "python class\tpython class\tpython class\tpython class\tpython class\tpython class\tpython class\tpython class\tpython class\tpython class\t\n"
     ]
    }
   ],
   "source": [
    "print(\"python class\\t\"*10)"
   ]
  },
  {
   "cell_type": "code",
   "execution_count": 44,
   "id": "6ebe91ee-7d39-4278-aa43-41cb82b354d2",
   "metadata": {},
   "outputs": [
    {
     "name": "stdout",
     "output_type": "stream",
     "text": [
      "Hello World\n",
      "H\n",
      "llo Wo\n",
      " World\n",
      "Hello\n",
      "dlroW olleH\n"
     ]
    }
   ],
   "source": [
    "a=\"Hello World\"\n",
    "print(a)\n",
    "print(a[0])\n",
    "print(a[2:8])\n",
    "print(a[5:])\n",
    "print(a[:5])\n",
    "print(a[::-1])"
   ]
  },
  {
   "cell_type": "code",
   "execution_count": 52,
   "id": "fa73798d-6001-432b-a02e-da7dbc8ebe7a",
   "metadata": {},
   "outputs": [
    {
     "name": "stdout",
     "output_type": "stream",
     "text": [
      "[1, 2, 3, 4, ['a', 'b']]\n",
      "1\n",
      "4\n",
      "b\n",
      "[1, 2, 3, 4, ['a', 'b'], 'e']\n",
      "[1, 2, 3, 4, ['a', 'b', 'c']]\n",
      "[1, 2, 3, 4, ['a', 'b', 'c'], 'hello', 'dear']\n"
     ]
    }
   ],
   "source": [
    "l=[1,2,3,4,['a','b']]\n",
    "print(l)\n",
    "print(l[0])\n",
    "print(l[3])\n",
    "print(l[4][1])\n",
    "l.append('e')\n",
    "print(l)\n",
    "\n",
    "l = [1,2,3,4,['a','b','c']]\n",
    "print(l)\n",
    "l.extend(['hello','dear'])\n",
    "print(l)"
   ]
  },
  {
   "cell_type": "markdown",
   "id": "bfd03cb4-d041-4350-b2e7-f3761de27edd",
   "metadata": {},
   "source": [
    "#extend()\n",
    "#append()\n",
    "#count()\n",
    "#pop()\n",
    "#remove()\n",
    "#reverse()\n",
    "#sort()'''"
   ]
  },
  {
   "cell_type": "markdown",
   "id": "d50d3591-ef35-4d14-92d8-320820562d74",
   "metadata": {},
   "source": [
    "use these function"
   ]
  },
  {
   "cell_type": "code",
   "execution_count": 57,
   "id": "f7a60b80-603f-4960-934b-86b93370feca",
   "metadata": {},
   "outputs": [
    {
     "name": "stdout",
     "output_type": "stream",
     "text": [
      "[1, 2, 3, 4, 3, 3, 5]\n",
      "[1, 2, 3, 4, 3, 3, 5, 6, 7]\n",
      "3\n",
      "[1, 2, 3, 4, 3, 3, 5, 6]\n",
      "[1, 2, 3, 4, 3, 3, 6]\n",
      "[1, 2, 3, 3, 3, 4, 6]\n",
      "[6, 4, 3, 3, 3, 2, 1]\n",
      "[6, 4, 3, 3, 2, 1]\n",
      "[4, 3, 3]\n",
      "[6, 4, 3, 3, 2, 1, 6, 7]\n"
     ]
    }
   ],
   "source": [
    "l1=[1,2,3,4,3,3]\n",
    "l2=[6,7]\n",
    "l1.append(5)\n",
    "print(l1)\n",
    "l1.extend(l2)\n",
    "print(l1)\n",
    "print(l1.count(3))\n",
    "l1.pop()\n",
    "print(l1)\n",
    "l1.remove(5)\n",
    "print(l1)\n",
    "l1.sort()\n",
    "print(l1)\n",
    "l1.reverse()\n",
    "print(l1)\n",
    "del l1[3]\n",
    "print(l1)\n",
    "print(l1[1:4])\n",
    "print(l1+l2)"
   ]
  },
  {
   "cell_type": "code",
   "execution_count": null,
   "id": "817afbc4-c68d-4c0d-aeac-e97103ebad8f",
   "metadata": {},
   "outputs": [],
   "source": []
  }
 ],
 "metadata": {
  "kernelspec": {
   "display_name": "Python 3 (ipykernel)",
   "language": "python",
   "name": "python3"
  },
  "language_info": {
   "codemirror_mode": {
    "name": "ipython",
    "version": 3
   },
   "file_extension": ".py",
   "mimetype": "text/x-python",
   "name": "python",
   "nbconvert_exporter": "python",
   "pygments_lexer": "ipython3",
   "version": "3.12.4"
  }
 },
 "nbformat": 4,
 "nbformat_minor": 5
}
