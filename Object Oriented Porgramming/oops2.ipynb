{
  "cells": [
    {
      "cell_type": "code",
      "execution_count": 5,
      "metadata": {
        "colab": {
          "base_uri": "https://localhost:8080/"
        },
        "id": "DtQINDDSo2Zv",
        "outputId": "2c02de74-2b57-4107-a5e5-d0b04f6b13d7"
      },
      "outputs": [
        {
          "name": "stdout",
          "output_type": "stream",
          "text": [
            "nitish kuamr\n"
          ]
        }
      ],
      "source": [
        "##OOps:\n",
        "\n",
        "# to map with real world scenerios, we started using objects in code;\n",
        "# this is called object oriented programming..\n",
        "\n",
        "# function ki wajah se reduncdancy (decrese) and resuability(increse)\n",
        "\n",
        "# oops: reusability ko badhayega..\n",
        "\n",
        "# object : real world entity.-> list, tuple, set\n",
        "# class -> blue print for creating an objects\n",
        "\n",
        "# creating class:\n",
        "class student:\n",
        "  name = \"nitish kuamr\"\n",
        "\n",
        "# creating object(instance/ instance of classes)\n",
        "s1 = student()\n",
        "print(s1.name)\n",
        "\n"
      ]
    },
    {
      "cell_type": "code",
      "execution_count": null,
      "metadata": {
        "colab": {
          "base_uri": "https://localhost:8080/"
        },
        "id": "Rap0SVD1q-OB",
        "outputId": "8cc2aa5c-bdb5-4e83-a5ad-13c34a10e046"
      },
      "outputs": [
        {
          "name": "stdout",
          "output_type": "stream",
          "text": [
            "blue\n",
            "mercedes\n"
          ]
        }
      ],
      "source": [
        "class car:\n",
        "  color = \"blue\"\n",
        "  brand = \"mercedes\"\n",
        "car1 = car()\n",
        "print(car1.color)\n",
        "print(car1.brand)"
      ]
    },
    {
      "cell_type": "code",
      "execution_count": null,
      "metadata": {
        "colab": {
          "base_uri": "https://localhost:8080/"
        },
        "id": "uHBDGr_grWQB",
        "outputId": "4e4ef41b-2289-414d-dfbb-02262aedd258"
      },
      "outputs": [
        {
          "name": "stdout",
          "output_type": "stream",
          "text": [
            "<__main__.student object at 0x78cd0e48d660>\n",
            "I am from the constructor..\n",
            "nitish kuamr\n"
          ]
        }
      ],
      "source": [
        "# constructor/__init__ Function;\n",
        "# All the classes have a function called __init__(), which is always executed when the object is being initiated..\n",
        "\n",
        "# creating class:\n",
        "\n",
        "# class abc:\n",
        "#   def __init__(self, fullname):\n",
        "#.     self.name = fullname\n",
        "\n",
        "# self object ka reference hota hai..\n",
        "# ** self:- the self paarameter is a reference to the current instance of the class, and is used to access variables that belongs to the class.\n",
        "# attributes -> data stores in the class.. and in the varibles.\n",
        "\n",
        "\n",
        "class student:\n",
        "  name = \"nitish kuamr\"\n",
        "  def __init__(self):\n",
        "    print(self)\n",
        "    print(\"I am from the constructor..\")\n",
        "\n",
        "s1 = student()\n",
        "print(s1.name)\n"
      ]
    },
    {
      "cell_type": "code",
      "execution_count": null,
      "metadata": {
        "colab": {
          "base_uri": "https://localhost:8080/"
        },
        "id": "VnHYCK4EskNW",
        "outputId": "56286b2c-1009-4121-973d-e77b9667cd84"
      },
      "outputs": [
        {
          "name": "stdout",
          "output_type": "stream",
          "text": [
            "<__main__.student object at 0x78cd4113bf40>\n",
            "I am from the constructor..\n",
            "karan\n",
            "93\n",
            "<__main__.student object at 0x78cd0f8ec400>\n",
            "I am from the constructor..\n",
            "sdjn\n"
          ]
        }
      ],
      "source": [
        "\n",
        "class student:\n",
        "  def __init__(self, fullname, marks):\n",
        "    self.name = fullname\n",
        "    self.marks = marks\n",
        "    print(self)\n",
        "    print(\"I am from the constructor..\")\n",
        "\n",
        "s1 = student(\"karan\", 93)\n",
        "print(s1.name)\n",
        "print(s1.marks)\n",
        "\n",
        "s2 = student(\"sdjn\", 39)\n",
        "print(s2.name)\n"
      ]
    },
    {
      "cell_type": "code",
      "execution_count": 6,
      "metadata": {
        "colab": {
          "base_uri": "https://localhost:8080/"
        },
        "id": "YIqt8ZaSt4XA",
        "outputId": "a1cd07b7-e187-462c-d7b6-58bb4f9b2039"
      },
      "outputs": [
        {
          "name": "stdout",
          "output_type": "stream",
          "text": [
            "<__main__.student object at 0x106653690>\n",
            "I am from the constructor..\n",
            "karan\n",
            "93\n",
            "<__main__.student object at 0x106653b10>\n",
            "I am from the constructor..\n",
            "sdjn\n"
          ]
        }
      ],
      "source": [
        "\n",
        "class student:\n",
        "\n",
        "  # dfault constructor\n",
        "  def __init__(self):\n",
        "    pass\n",
        "\n",
        "# parameter constructor;\n",
        "  def __init__(self, name, marks):\n",
        "    self.name = name;\n",
        "    print(\"I am from the parameterized contructors..\")\n",
        "\n",
        "  def __init__(self, fullname, marks):\n",
        "    self.name = fullname\n",
        "    self.marks = marks\n",
        "    print(self)\n",
        "    print(\"I am from the constructor..\")\n",
        "\n",
        "s1 = student(\"karan\", 93)\n",
        "print(s1.name)\n",
        "print(s1.marks)\n",
        "\n",
        "s2 = student(\"sdjn\", 39)\n",
        "print(s2.name)\n"
      ]
    },
    {
      "cell_type": "code",
      "execution_count": null,
      "metadata": {
        "colab": {
          "base_uri": "https://localhost:8080/"
        },
        "id": "R0VCY1gKu68d",
        "outputId": "85d1ba16-3692-4010-882a-f40638d74cf8"
      },
      "outputs": [
        {
          "name": "stdout",
          "output_type": "stream",
          "text": [
            "<__main__.student object at 0x78cd0e48d270>\n",
            "I am from the constructor..\n",
            "karan\n",
            "93\n",
            "Lovely university\n"
          ]
        }
      ],
      "source": [
        "# class & instance Atrributes;\n",
        "\n",
        "# class.attr = jo bhi common hoti hai class me use hm class attributes bolte hai.. and acees karte hai class_name.atrribute_name;\n",
        "\n",
        "# obj.attr\n",
        "\n",
        "\n",
        "class student:\n",
        "  college_name = \"Lovely university\"\n",
        "  def __init__(self, fullname, marks):\n",
        "    self.name = fullname\n",
        "    self.marks = marks\n",
        "    print(self)\n",
        "    print(\"I am from the constructor..\")\n",
        "\n",
        "s1 = student(\"karan\", 93)\n",
        "print(s1.name)\n",
        "print(s1.marks)\n",
        "\n",
        "# call the class Atrributes;\n",
        "print(student.college_name)"
      ]
    },
    {
      "cell_type": "code",
      "execution_count": null,
      "metadata": {
        "colab": {
          "base_uri": "https://localhost:8080/"
        },
        "id": "uMuGxQ9QwwOL",
        "outputId": "171e524f-2d4f-4b51-bc10-c58de02aac49"
      },
      "outputs": [
        {
          "name": "stdout",
          "output_type": "stream",
          "text": [
            "adding the new student in the database\n",
            "karan\n",
            "93\n"
          ]
        }
      ],
      "source": [
        "# obj atrr > class atrr\n",
        "\n",
        "class student:\n",
        "  college_name = \"Lovely university\"\n",
        "  name = \"anonymous\" # class attr\n",
        "  def __init__(self, name, marks):\n",
        "    self.name = name # obj attr > class attr\n",
        "    self.marks = marks\n",
        "    print(\"adding the new student in the database\")\n",
        "\n",
        "s1 = student(\"karan\", 93)\n",
        "print(s1.name)\n",
        "print(s1.marks)\n",
        "\n"
      ]
    },
    {
      "cell_type": "code",
      "execution_count": null,
      "metadata": {
        "colab": {
          "base_uri": "https://localhost:8080/"
        },
        "id": "Al4VEH9yxPY8",
        "outputId": "47689293-8dc0-48c7-bb91-1e6837cf6406"
      },
      "outputs": [
        {
          "name": "stdout",
          "output_type": "stream",
          "text": [
            "hello karan\n",
            "97\n"
          ]
        }
      ],
      "source": [
        "# Methods:  it is function that belongs to objects\n",
        "\n",
        " # class-> i) data atrributes(tell abouts the color, tire, brands, engine of cars) and ii) methods(how to run the engine how to start the caar and stops..)\n",
        "\n",
        "# creating the class\n",
        "\n",
        "class student:\n",
        "  def __init__(self, name, mark):\n",
        "    self.name = name\n",
        "    self.mark=mark\n",
        "\n",
        "  def hello(self): # method\n",
        "    print(\"hello\", self.name)\n",
        "\n",
        "  def marks(self):\n",
        "    return self.mark\n",
        "\n",
        "s1 = student(\"karan\", 97)\n",
        "s1.hello()\n",
        "\n",
        "print(s1.marks())\n"
      ]
    },
    {
      "cell_type": "code",
      "execution_count": null,
      "metadata": {
        "id": "McakD3oi35Bz"
      },
      "outputs": [],
      "source": []
    },
    {
      "cell_type": "code",
      "execution_count": null,
      "metadata": {
        "colab": {
          "base_uri": "https://localhost:8080/"
        },
        "id": "iZAHHfNmznJL",
        "outputId": "aa55af05-7590-41e5-c128-704c43f4cbc7"
      },
      "outputs": [
        {
          "name": "stdout",
          "output_type": "stream",
          "text": [
            "Hi  karan Mohan  average marks :  79.0\n",
            "Hi  nitissh kuamr rudra average marks :  79.0\n"
          ]
        }
      ],
      "source": [
        "# create student class that takes name and marks of 3 subjects as arguments in cosntructors.. then create a method to print the average..\n",
        "\n",
        "class Student:\n",
        "  def __init__(self, name, marks):\n",
        "    self.name = name\n",
        "    self.marks = marks\n",
        "\n",
        "  def get_average_marks(self):\n",
        "    sum=0\n",
        "    for val in self.marks:\n",
        "      sum+=val\n",
        "    print(\"Hi \", self.name, \"average marks : \", sum/3)\n",
        "\n",
        "s1 = Student(\"karan Mohan \", [98, 39, 100])\n",
        "\n",
        "s1.get_average_marks()\n",
        "\n",
        "# change the name:\n",
        "\n",
        "s1.name = \"nitissh kuamr rudra\"\n",
        "s1.get_average_marks()\n"
      ]
    },
    {
      "cell_type": "code",
      "execution_count": null,
      "metadata": {
        "colab": {
          "base_uri": "https://localhost:8080/"
        },
        "id": "4NpEWWfN4Jjn",
        "outputId": "778ac914-899d-4b67-91a8-171bd91f4ba9"
      },
      "outputs": [
        {
          "name": "stdout",
          "output_type": "stream",
          "text": [
            "Hi  karan Mohan  average marks :  79.0\n",
            "Hi  nitissh kuamr rudra average marks :  79.0\n",
            "Hello..\n"
          ]
        }
      ],
      "source": [
        "# Static methods: Methods that don't use the parameter (work at the class le vel)\n",
        "\n",
        "# class abc:\n",
        "  #staticmethod # decorators\n",
        "  # def hello():\n",
        "  #   print(\"hello\")\n",
        "\n",
        "# *Decorators allow us to wrap another function in order to extend the behaviour of the wrapped function, without permanently modifying it\n",
        "\n",
        "\n",
        "# create student class that takes name and marks of 3 subjects as arguments in cosntructors.. then create a method to print the average..\n",
        "\n",
        "class Student:\n",
        "  def __init__(self, name, marks):\n",
        "    self.name = name\n",
        "    self.marks = marks\n",
        "  @staticmethod\n",
        "  def hello():\n",
        "    print(\"Hello..\")\n",
        "\n",
        "  def get_average_marks(self):\n",
        "    sum=0\n",
        "    for val in self.marks:\n",
        "      sum+=val\n",
        "    print(\"Hi \", self.name, \"average marks : \", sum/3)\n",
        "\n",
        "s1 = Student(\"karan Mohan \", [98, 39, 100])\n",
        "\n",
        "s1.get_average_marks()\n",
        "\n",
        "# change the name:\n",
        "\n",
        "s1.name = \"nitissh kuamr rudra\"\n",
        "s1.get_average_marks()\n",
        "s1.hello()"
      ]
    },
    {
      "cell_type": "code",
      "execution_count": null,
      "metadata": {
        "colab": {
          "base_uri": "https://localhost:8080/"
        },
        "id": "wQX6GAOL46Pd",
        "outputId": "973c7dcb-533b-449a-e46a-bbc3dba16981"
      },
      "outputs": [
        {
          "name": "stdout",
          "output_type": "stream",
          "text": [
            "car start\n"
          ]
        }
      ],
      "source": [
        "# Important:\n",
        "\n",
        "# Abstarction : hididng(unneccssary) the implementation details of a class and only showing the essential features to the user..\n",
        "class car:\n",
        "  def __init__(self):\n",
        "    self.acc = False\n",
        "    self.br = False\n",
        "    self.clutch = False\n",
        "  def start(self):\n",
        "    self.clutch = True\n",
        "    self.br = True\n",
        "    print(\"car start\")\n",
        "\n",
        "car1 = car()\n",
        "car1.start()\n",
        "\n",
        "\n",
        "\n",
        "# Encapsulation : Wrapping data and functions into a single unit (object);\n",
        "# ex = create a capsule box and in the box (data + function)\n",
        "\n"
      ]
    },
    {
      "cell_type": "code",
      "execution_count": null,
      "metadata": {
        "colab": {
          "base_uri": "https://localhost:8080/"
        },
        "id": "H_QiWMMFqX79",
        "outputId": "79a79081-2c28-4617-c0e6-65d738a7f7f0"
      },
      "outputs": [
        {
          "name": "stdout",
          "output_type": "stream",
          "text": [
            "973242\n",
            "1200000347\n",
            "Rs 500 was debited\n",
            "Total balance :  972742\n",
            "Rs 1000 was credited\n",
            "Total balance :  973742\n"
          ]
        }
      ],
      "source": [
        "# create Account class with 2 attributes - balance 7 account no.\n",
        "# Create methods for debit, credit & printing the balance..\n",
        "\n",
        "class Account:\n",
        "  def __init__(self, bal, acc):\n",
        "    self.balance = bal\n",
        "    self.account_no = acc\n",
        "\n",
        "  def debit(self, amount):\n",
        "    self.balance -= amount\n",
        "    print(\"Rs\", amount, \"was debited\")\n",
        "    print(\"Total balance : \", self.get_balance())\n",
        "\n",
        "  def credit(self, amount):\n",
        "    self.balance += amount\n",
        "    print(\"Rs\", amount, \"was credited\")\n",
        "    print(\"Total balance : \", self.get_balance())\n",
        "\n",
        "\n",
        "  def get_balance(self):\n",
        "    return self.balance\n",
        "\n",
        "acc1 = Account(973242, 1200000347)\n",
        "print(acc1.balance)\n",
        "print(acc1.account_no)\n",
        "acc1.debit(500)\n",
        "acc1.credit(1000)\n"
      ]
    },
    {
      "cell_type": "code",
      "execution_count": null,
      "metadata": {
        "colab": {
          "base_uri": "https://localhost:8080/",
          "height": 233
        },
        "id": "Bf9Rd088vAEI",
        "outputId": "b66b66c2-c767-42f6-fe3c-73b3a64da8f8"
      },
      "outputs": [
        {
          "name": "stdout",
          "output_type": "stream",
          "text": [
            "sarsdha\n"
          ]
        },
        {
          "ename": "AttributeError",
          "evalue": "'student' object has no attribute 'name'",
          "output_type": "error",
          "traceback": [
            "\u001b[0;31m---------------------------------------------------------------------------\u001b[0m",
            "\u001b[0;31mAttributeError\u001b[0m                            Traceback (most recent call last)",
            "\u001b[0;32m<ipython-input-11-d783c46b2e1c>\u001b[0m in \u001b[0;36m<cell line: 16>\u001b[0;34m()\u001b[0m\n\u001b[1;32m     14\u001b[0m \u001b[0;32mdel\u001b[0m \u001b[0ms1\u001b[0m\u001b[0;34m.\u001b[0m\u001b[0mname\u001b[0m\u001b[0;34m\u001b[0m\u001b[0;34m\u001b[0m\u001b[0m\n\u001b[1;32m     15\u001b[0m \u001b[0;34m\u001b[0m\u001b[0m\n\u001b[0;32m---> 16\u001b[0;31m \u001b[0mprint\u001b[0m\u001b[0;34m(\u001b[0m\u001b[0ms1\u001b[0m\u001b[0;34m.\u001b[0m\u001b[0mname\u001b[0m\u001b[0;34m)\u001b[0m\u001b[0;34m\u001b[0m\u001b[0;34m\u001b[0m\u001b[0m\n\u001b[0m",
            "\u001b[0;31mAttributeError\u001b[0m: 'student' object has no attribute 'name'"
          ]
        }
      ],
      "source": [
        "# del keyword\n",
        "# used to delete object properties or object itself\n",
        "\n",
        "# del s1.name\n",
        "# del s1\n",
        "\n",
        "class student:\n",
        "  def __init__(self, name):\n",
        "    self.name = name\n",
        "\n",
        "s1 = student(\"sarsdha\")\n",
        "\n",
        "print(s1.name)\n",
        "del s1.name\n",
        "print(s1.name)"
      ]
    },
    {
      "cell_type": "code",
      "execution_count": null,
      "metadata": {
        "colab": {
          "base_uri": "https://localhost:8080/"
        },
        "id": "CD_g6933v6Uu",
        "outputId": "9efe9458-f356-4756-8e82-dc231aba342f"
      },
      "outputs": [
        {
          "name": "stdout",
          "output_type": "stream",
          "text": [
            "12345\n",
            "abcde\n",
            "None\n"
          ]
        }
      ],
      "source": [
        "# private(like) attributes & methods\n",
        "\n",
        "# Conceptual Implementation in Python:\n",
        "# Private attributes & methods are meant to be used only within the class and arew not accesible from the outside the class\n",
        "\n",
        "# syntax:\n",
        "\n",
        "#. __(method or attributes names)\n",
        "\n",
        "class account:\n",
        "  def __init__(self, acc_no, acc_pass):\n",
        "    self.acc_no = acc_no\n",
        "    self.__acc_pass = acc_pass\n",
        "\n",
        "  def reset_pass(self):\n",
        "    print(self.__acc_pass)\n",
        "\n",
        "\n",
        "acc1 = account(\"12345\", \"abcde\")\n",
        "\n",
        "print(acc1.acc_no)\n",
        "print(acc1.reset_pass())"
      ]
    },
    {
      "cell_type": "code",
      "execution_count": null,
      "metadata": {
        "colab": {
          "base_uri": "https://localhost:8080/"
        },
        "id": "rZWzDpopx_EW",
        "outputId": "1b18c530-8930-4b93-fcbe-27ed400da738"
      },
      "outputs": [
        {
          "name": "stdout",
          "output_type": "stream",
          "text": [
            "Hello person!..\n",
            "None\n"
          ]
        }
      ],
      "source": [
        "class Person:\n",
        "  __name = \"anonymous\"\n",
        "  def __hello(self):\n",
        "    print(\"Hello person!..\")\n",
        "\n",
        "  def Welcome(self):\n",
        "    self.__hello()\n",
        "p1 = Person()\n",
        "print(p1.Welcome())"
      ]
    },
    {
      "cell_type": "code",
      "execution_count": null,
      "metadata": {
        "id": "qlxFk18jyYlJ"
      },
      "outputs": [],
      "source": [
        "# inheritance : when one class(children/derived) derives the peoperties & methods of another class(parent/base)\n",
        "\n",
        "\n",
        "class car:\n",
        "  ....\n",
        "\n",
        "\n",
        "class TyotaCar(Car):\n",
        "  ....\n",
        "\n"
      ]
    },
    {
      "cell_type": "code",
      "execution_count": null,
      "metadata": {
        "colab": {
          "base_uri": "https://localhost:8080/"
        },
        "id": "VK9MRW6KjtOI",
        "outputId": "7a0be6d0-53dd-4ffc-f399-607542ab193c"
      },
      "outputs": [
        {
          "name": "stdout",
          "output_type": "stream",
          "text": [
            "fortuner\n",
            "car started...\n",
            "None\n",
            "car Stoped..\n",
            "None\n"
          ]
        }
      ],
      "source": [
        "class car:\n",
        "  color = \"red\"\n",
        "  @staticmethod\n",
        "  def start():\n",
        "    print(\"car started...\")\n",
        "\n",
        "  @staticmethod\n",
        "  def stop():\n",
        "    print(\"car Stoped..\")\n",
        "\n",
        "class TAYOTACAR(car):\n",
        "  def __init__(self, name):\n",
        "    self.name = name\n",
        "\n",
        "car1 = TAYOTACAR(\"fortuner\")\n",
        "car2 = TAYOTACAR(\"mercedes\")\n",
        "\n",
        "print(car1.name)\n",
        "print(car1.start())\n",
        "print(car1.stop())"
      ]
    },
    {
      "cell_type": "code",
      "execution_count": null,
      "metadata": {
        "colab": {
          "base_uri": "https://localhost:8080/"
        },
        "id": "m6nLqiBTlCYs",
        "outputId": "3c02ae60-b6ae-4f39-db5b-b4a48f70d140"
      },
      "outputs": [
        {
          "name": "stdout",
          "output_type": "stream",
          "text": [
            "car started...\n"
          ]
        }
      ],
      "source": [
        "# types :\n",
        "# single inheritance (above code examples..)\n",
        "# multiple inheritance : two bases class to create derived classes\n",
        "\n",
        "\n",
        "\n",
        "# multiple-level inheritance -> parent class -> drived class/parent-> derived class\n",
        "\n",
        "class car:\n",
        "  @staticmethod\n",
        "  def start():\n",
        "    print(\"car started...\")\n",
        "\n",
        "  @staticmethod\n",
        "  def stop():\n",
        "    print(\"car Stoped..\")\n",
        "\n",
        "class TAYOTACAR(car):\n",
        "  def __init__(self, brand):\n",
        "    self.name = brand\n",
        "\n",
        "class Fortuner(TAYOTACAR):\n",
        "  def __init__(self, type):\n",
        "    self.type = type\n",
        "\n",
        "car1 = Fortuner(\"diesel\")\n",
        "car1.start()"
      ]
    },
    {
      "cell_type": "code",
      "execution_count": null,
      "metadata": {
        "colab": {
          "base_uri": "https://localhost:8080/"
        },
        "id": "vDP2bNR_nWHd",
        "outputId": "28fd9537-813a-43c7-8582-fa3febfa53c9"
      },
      "outputs": [
        {
          "name": "stdout",
          "output_type": "stream",
          "text": [
            "welcome. to class A\n",
            "Welcome to class B\n",
            "Welcome to class C\n"
          ]
        }
      ],
      "source": [
        "# multiple inheritance : two bases class to create derived classes\n",
        "\n",
        "class A:\n",
        "  varA = \"welcome. to class A\"\n",
        "\n",
        "class B:\n",
        "  varB = \"Welcome to class B\"\n",
        "\n",
        "class C(A, B):\n",
        "  varC = \"Welcome to class C\"\n",
        "\n",
        "c1 = C()\n",
        "print(c1.varA)\n",
        "print(c1.varB)\n",
        "print(c1.varC)"
      ]
    },
    {
      "cell_type": "code",
      "execution_count": null,
      "metadata": {
        "colab": {
          "base_uri": "https://localhost:8080/"
        },
        "id": "SU3lc98Ynw2c",
        "outputId": "584c9a71-375f-45da-d37a-6527b9ae5c82"
      },
      "outputs": [
        {
          "name": "stdout",
          "output_type": "stream",
          "text": [
            "car started...\n",
            "electric\n"
          ]
        }
      ],
      "source": [
        "# super_method(): It method. is used to access methods of the parent class.\n",
        "\n",
        "class car:\n",
        "  def __init__(self, type):\n",
        "    self.type = type\n",
        "\n",
        "  @staticmethod\n",
        "  def start():\n",
        "    print(\"car started...\")\n",
        "\n",
        "  @staticmethod\n",
        "  def stop():\n",
        "    print(\"car Stoped..\")\n",
        "\n",
        "class TAYOTACAR(car):\n",
        "  def __init__(self, name, type):\n",
        "    self.name = name\n",
        "    super().__init__(type)\n",
        "    super().start()\n",
        "\n",
        "car1 = TAYOTACAR(\"prius\", \"electric\")\n",
        "print(car1.type)"
      ]
    },
    {
      "cell_type": "code",
      "execution_count": null,
      "metadata": {
        "colab": {
          "base_uri": "https://localhost:8080/"
        },
        "id": "Q4BpUUtDW-7B",
        "outputId": "ef7dd1f1-74a4-4453-a06e-e5da47fbddfd"
      },
      "outputs": [
        {
          "name": "stdout",
          "output_type": "stream",
          "text": [
            "rahul\n",
            "rahul\n",
            "rahul\n",
            "rahul\n"
          ]
        }
      ],
      "source": [
        "# class method:\n",
        "# A class method is bound to the class &  receives the class as an implicit frst arguments..\n",
        "\n",
        "# Note : static method can't access or modify class state & generally for utility..\n",
        "\n",
        "\n",
        "# class Student:\n",
        "'''@classmethod # decorator'''\n",
        "#   def college(cls):\n",
        "#     pass\n",
        "\n",
        "\n",
        "# 1st solution\n",
        "class Person:\n",
        "  name = \"anonymous\"\n",
        "\n",
        "  def changeName(self, name):\n",
        "    Person.name = name\n",
        "\n",
        "p1 = Person()\n",
        "p1.changeName(\"rahul\")\n",
        "print(p1.name)\n",
        "print(Person.name)\n",
        "\n",
        "# 2nd solution:\n",
        "\n",
        "class Person:\n",
        "  name = \"anonymous\"\n",
        "\n",
        "  def changeName(self, name):\n",
        "    self.__class__.name= name\n",
        "\n",
        "p1 = Person()\n",
        "p1.changeName(\"rahul\")\n",
        "print(p1.name)\n",
        "print(Person.name)\n",
        "\n",
        "# class method using..\n",
        "\n",
        "class Person:\n",
        "  name = \"anonymous\"\n",
        "\n",
        "  # def changeName(self, name):\n",
        "  #   Person.name = name\n",
        "\n",
        "  @classmethod\n",
        "  def changeName(cls, name):\n",
        "    cls.name = name\n",
        "\n",
        "\n",
        "p1 = Person()\n",
        "p1.changeName(\"rahul\")\n",
        "print(p1.name)\n",
        "print(Person.name)"
      ]
    },
    {
      "cell_type": "code",
      "execution_count": null,
      "metadata": {
        "id": "WL1GSLqQaKRt"
      },
      "outputs": [],
      "source": [
        "# methods:\n",
        "#1. static methods\n",
        "#2. class methods(cls)\n",
        "#3. instance method(self)\n"
      ]
    },
    {
      "cell_type": "code",
      "execution_count": 4,
      "metadata": {
        "colab": {
          "base_uri": "https://localhost:8080/"
        },
        "id": "wyI8vcvyafcz",
        "outputId": "b6ca564d-08a8-4161-a066-a575e244e1ff"
      },
      "outputs": [
        {
          "name": "stdout",
          "output_type": "stream",
          "text": [
            "98.0%\n",
            "86\n",
            "94.0%\n"
          ]
        }
      ],
      "source": [
        "class std:\n",
        "  def __init__(self, phy, chem, math):\n",
        "    self.phy = phy\n",
        "    self.chem = chem\n",
        "    self.math = math\n",
        "    self.perce = str((self.phy+self.chem+self.math)/3)+'%'\n",
        "\n",
        "  def calculate(self):\n",
        "    self.perce = str((self.phy+self.chem+self.math)/3)+'%'\n",
        "stu1 = std(98, 97, 99)\n",
        "print(stu1.perce)\n",
        "\n",
        "stu1.phy = 86\n",
        "print(stu1.phy)\n",
        "stu1.calculate()\n",
        "print(stu1.perce)"
      ]
    },
    {
      "cell_type": "code",
      "execution_count": 2,
      "metadata": {
        "colab": {
          "base_uri": "https://localhost:8080/"
        },
        "id": "JWt1WozqcV5P",
        "outputId": "fcd4d330-5e91-475a-9c94-2111f6a49b19"
      },
      "outputs": [
        {
          "name": "stdout",
          "output_type": "stream",
          "text": [
            "98.0%\n",
            "94.0%\n"
          ]
        }
      ],
      "source": [
        "# peoperty method : We use the @propert decorator on any method in the class to use the method as a peoperty..\n",
        "class std:\n",
        "  def __init__(self, phy, chem, math):\n",
        "    self.phy = phy\n",
        "    self.chem = chem\n",
        "    self.math = math\n",
        "    self.perce = str((self.phy+self.chem+self.math)/3)+'%'\n",
        "\n",
        "\n",
        "  @property\n",
        "  def percentage(self):\n",
        "    return str((self.phy+self.chem+self.math)/3)+'%'\n",
        "stu1 = std(98, 97, 99)\n",
        "print(stu1.perce)\n",
        "\n",
        "stu1.phy = 86\n",
        "\n",
        "print(stu1.percentage)\n"
      ]
    },
    {
      "cell_type": "code",
      "execution_count": null,
      "metadata": {
        "colab": {
          "base_uri": "https://localhost:8080/"
        },
        "id": "WjWcIxVsdQTE",
        "outputId": "238b32d8-03c8-470a-f2db-857180de2097"
      },
      "outputs": [
        {
          "name": "stdout",
          "output_type": "stream",
          "text": [
            "3\n",
            "<class 'int'>\n",
            "apna college\n",
            "<class 'str'>\n",
            "[1, 2, 3, 4, 322, 3, 2, 3]\n",
            "<class 'list'>\n"
          ]
        }
      ],
      "source": [
        "# polymorphsim (operator method) : When the same. operator is allowed to have different meaing accoriding to the context..\n",
        "\n",
        "# operator & Dunder fucntion:\n",
        "\n",
        "# addition. a+b   a.__add__(b)\n",
        "# substraction a-b. a.__sub__(b)\n",
        "# multipleication a.__mul__(b)\n",
        "#a/b # division a.__truediv(b)\n",
        "#  # addition a%b a.mod___(b)\n",
        "\n",
        "\n",
        "\n",
        "# all of these overate overloading..\n",
        "print(1+2)\n",
        "print(type(1))\n",
        "\n",
        "print(\"apna \"+\"college\") # concatinate\n",
        "\n",
        "print(type(\"apamds\"))\n",
        "\n",
        "print([1,2,3,4]+[322,3,2,3])\n",
        "\n",
        "print(type([1,2,3,4]))"
      ]
    },
    {
      "cell_type": "code",
      "execution_count": null,
      "metadata": {
        "colab": {
          "base_uri": "https://localhost:8080/"
        },
        "id": "cQqvABN2gN2-",
        "outputId": "30657424-ae96-44c3-bdcc-b6a5bcd7457b"
      },
      "outputs": [
        {
          "name": "stdout",
          "output_type": "stream",
          "text": [
            "1 i + 3 j\n",
            "4 i + 6 j\n",
            "5 i + 9 j\n"
          ]
        }
      ],
      "source": [
        "# compelx number : 2i(real) +3j(imaginary)\n",
        "class Complex:\n",
        "  def __init__(self, real, img):\n",
        "    self.real = real\n",
        "    self.img = img\n",
        "\n",
        "  def showNumber(self):\n",
        "    print(self.real, \"i +\", self.img ,\"j\")\n",
        "\n",
        "  def add(self, num2):\n",
        "    newReal = self.real+num2.real\n",
        "    newImg = self.img+num2.img\n",
        "    return Complex(newReal, newImg)\n",
        "\n",
        "num1 = Complex(1, 3)\n",
        "num1.showNumber()\n",
        "\n",
        "num2 = Complex(4,6)\n",
        "num2.showNumber()\n",
        "\n",
        "num3 = num1.add(num2)\n",
        "num3.showNumber()"
      ]
    },
    {
      "cell_type": "code",
      "execution_count": null,
      "metadata": {
        "colab": {
          "base_uri": "https://localhost:8080/"
        },
        "id": "eMxNvyt63tuT",
        "outputId": "f48aee8a-1a0b-417a-ae5c-004406b41462"
      },
      "outputs": [
        {
          "name": "stdout",
          "output_type": "stream",
          "text": [
            "1 i + 3 j\n",
            "4 i + 6 j\n",
            "5 i + 9 j\n"
          ]
        }
      ],
      "source": [
        "# compelx number : 2i(real) +3j(imaginary)\n",
        "class Complex:\n",
        "  def __init__(self, real, img):\n",
        "    self.real = real\n",
        "    self.img = img\n",
        "\n",
        "  def showNumber(self):\n",
        "    print(self.real, \"i +\", self.img ,\"j\")\n",
        "\n",
        "  def __add__(self, num2):\n",
        "    newReal = self.real+num2.real\n",
        "    newImg = self.img+num2.img\n",
        "    return Complex(newReal, newImg)\n",
        "\n",
        "num1 = Complex(1, 3)\n",
        "num1.showNumber()\n",
        "\n",
        "num2 = Complex(4,6)\n",
        "num2.showNumber()\n",
        "\n",
        "num3 = num1+num2\n",
        "num3.showNumber()\n"
      ]
    },
    {
      "cell_type": "code",
      "execution_count": null,
      "metadata": {
        "colab": {
          "base_uri": "https://localhost:8080/"
        },
        "id": "yuJflShZILCu",
        "outputId": "7401d79c-08b0-434d-b777-7c5768cddf78"
      },
      "outputs": [
        {
          "name": "stdout",
          "output_type": "stream",
          "text": [
            "452.15999999999997\n",
            "75.36\n"
          ]
        }
      ],
      "source": [
        "class Circle:\n",
        "  def __init__(self, radius):\n",
        "    self.radius = radius\n",
        "\n",
        "  def Area(self):\n",
        "    print(3.14*self.radius*self.radius)\n",
        "\n",
        "  def Perimeter(self):\n",
        "    print(2*3.14*self.radius)\n",
        "\n",
        "cir = Circle(12)\n",
        "cir.Area()\n",
        "cir.Perimeter()"
      ]
    },
    {
      "cell_type": "code",
      "execution_count": null,
      "metadata": {
        "colab": {
          "base_uri": "https://localhost:8080/"
        },
        "id": "fKBTEUgtJW7e",
        "outputId": "eba0700a-2d60-4405-c0cc-7622546fe8b6"
      },
      "outputs": [
        {
          "name": "stdout",
          "output_type": "stream",
          "text": [
            "452.16\n",
            "75.36\n"
          ]
        }
      ],
      "source": [
        "class Circle:\n",
        "  def __init__(self, radius):\n",
        "    self.radius = radius\n",
        "\n",
        "  def Area(self):\n",
        "    return 3.14*self.radius**2\n",
        "\n",
        "  def Perimeter(self):\n",
        "    return 2*3.14*self.radius\n",
        "\n",
        "cir = Circle(12)\n",
        "print(cir.Area())\n",
        "print(cir.Perimeter())"
      ]
    },
    {
      "cell_type": "code",
      "execution_count": null,
      "metadata": {
        "colab": {
          "base_uri": "https://localhost:8080/"
        },
        "id": "XlOAPBLDJplO",
        "outputId": "ca22053e-ffcf-4243-dc61-8d6076e966db"
      },
      "outputs": [
        {
          "name": "stdout",
          "output_type": "stream",
          "text": [
            "role :  Engineer\n",
            "dep :  IT\n",
            "salary :  85.000\n"
          ]
        }
      ],
      "source": [
        "class Employee:\n",
        "  def __init__(self, role, dept, salary):\n",
        "    self.role = role\n",
        "    self.dept = dept\n",
        "    self.salary = salary\n",
        "\n",
        "  def showDetails(self):\n",
        "    print(\"role : \", self.role)\n",
        "    print(\"dep : \", self.dept)\n",
        "    print(\"salary : \",self.salary)\n",
        "\n",
        "class Engineer(Employee):\n",
        "  def __init__(self, name, age):\n",
        "    self.name = name\n",
        "    self.age = age\n",
        "    super().__init__(\"Engineer\", \"IT\", \"85.000\")\n",
        "engineer = Engineer(\"nitish\", 19)\n",
        "engineer.showDetails()"
      ]
    },
    {
      "cell_type": "code",
      "execution_count": null,
      "metadata": {
        "colab": {
          "base_uri": "https://localhost:8080/"
        },
        "id": "f-aSMTxbLnh3",
        "outputId": "fba1bdad-2def-44bb-dce8-cf518400f3f6"
      },
      "outputs": [
        {
          "name": "stdout",
          "output_type": "stream",
          "text": [
            "True\n"
          ]
        }
      ],
      "source": [
        "class Order:\n",
        "  def __init__(self, item, price):\n",
        "    self.item = item\n",
        "    self.price = price\n",
        "  def __gt__(self, ord2):\n",
        "    return self.price>odr2.price\n",
        "\n",
        "odr1 = Order(\"chips\", 9832)\n",
        "odr2 = Order(\"kurkure\", 3932)\n",
        "\n",
        "print(odr1>odr2) # true\n"
      ]
    },
    {
      "cell_type": "code",
      "execution_count": null,
      "metadata": {
        "colab": {
          "base_uri": "https://localhost:8080/"
        },
        "id": "RpNmigtnPjgp",
        "outputId": "a008a51c-4003-4ef4-f027-10a1b072ac11"
      },
      "outputs": [
        {
          "name": "stdout",
          "output_type": "stream",
          "text": [
            "Enter first number : 10\n",
            "Enter second No: 0\n",
            "Can't divide by Zero..\n",
            "Program End..\n"
          ]
        }
      ],
      "source": [
        "# try exception functions:\n",
        "a = int(input(\"Enter first number : \"))\n",
        "b = int(input(\"Enter second No: \"))\n",
        "\n",
        "try:\n",
        "  c=a/b\n",
        "  print(\"Result : \",c)\n",
        "except:\n",
        "  print(\"Can't divide by Zero..\")\n",
        "\n",
        "\n",
        "print('Program End..')"
      ]
    },
    {
      "cell_type": "code",
      "execution_count": null,
      "metadata": {
        "colab": {
          "base_uri": "https://localhost:8080/",
          "height": 198
        },
        "id": "tVFed_84RLut",
        "outputId": "99bf2699-3192-4aeb-82dc-fa93c53748d4"
      },
      "outputs": [
        {
          "ename": "TypeError",
          "evalue": "student() takes no arguments",
          "output_type": "error",
          "traceback": [
            "\u001b[0;31m---------------------------------------------------------------------------\u001b[0m",
            "\u001b[0;31mTypeError\u001b[0m                                 Traceback (most recent call last)",
            "\u001b[0;32m<ipython-input-4-4dd20c39a2b2>\u001b[0m in \u001b[0;36m<cell line: 9>\u001b[0;34m()\u001b[0m\n\u001b[1;32m      7\u001b[0m     \u001b[0mprint\u001b[0m\u001b[0;34m(\u001b[0m\u001b[0;34m\"I am from the constructor..\"\u001b[0m\u001b[0;34m)\u001b[0m\u001b[0;34m\u001b[0m\u001b[0;34m\u001b[0m\u001b[0m\n\u001b[1;32m      8\u001b[0m \u001b[0;34m\u001b[0m\u001b[0m\n\u001b[0;32m----> 9\u001b[0;31m \u001b[0ms1\u001b[0m \u001b[0;34m=\u001b[0m \u001b[0mstudent\u001b[0m\u001b[0;34m(\u001b[0m\u001b[0;36m2\u001b[0m\u001b[0;34m,\u001b[0m\u001b[0;36m3\u001b[0m\u001b[0;34m)\u001b[0m\u001b[0;34m\u001b[0m\u001b[0;34m\u001b[0m\u001b[0m\n\u001b[0m\u001b[1;32m     10\u001b[0m \u001b[0mprint\u001b[0m\u001b[0;34m(\u001b[0m\u001b[0ms1\u001b[0m\u001b[0;34m.\u001b[0m\u001b[0mname\u001b[0m\u001b[0;34m)\u001b[0m\u001b[0;34m\u001b[0m\u001b[0;34m\u001b[0m\u001b[0m\n",
            "\u001b[0;31mTypeError\u001b[0m: student() takes no arguments"
          ]
        }
      ],
      "source": [
        "\n",
        "class student:\n",
        "  name = \"nitish kuamr\"\n",
        "  def swayam(abc, a, b):\n",
        "    abc.a=a\n",
        "    abc.b=b\n",
        "\n",
        "    print(\"I am from the constructor..\")\n",
        "\n",
        "s1 = student(2,3)\n",
        "print(s1.name)\n"
      ]
    },
    {
      "cell_type": "code",
      "execution_count": null,
      "metadata": {
        "colab": {
          "base_uri": "https://localhost:8080/"
        },
        "id": "VdpBD6HX9Sv_",
        "outputId": "648eb785-c8a6-496b-813d-75a6a5ff7456"
      },
      "outputs": [
        {
          "name": "stdout",
          "output_type": "stream",
          "text": [
            "nighkj\n",
            "nighkj\n",
            "None\n"
          ]
        }
      ],
      "source": [
        "class A:\n",
        "  def nitish(self, name, email):\n",
        "    self.name=name\n",
        "    self.email=email\n",
        "\n",
        "  def details(self):\n",
        "    print(self.name)\n",
        "    print(self.name)\n",
        "\n",
        "a=A()\n",
        "a.nitish('nighkj','jgvhjnb@gmail.com')\n",
        "print(a.details())"
      ]
    },
    {
      "cell_type": "code",
      "execution_count": null,
      "metadata": {
        "id": "AYHdMDEG-CML"
      },
      "outputs": [],
      "source": [
        "class human:\n",
        "    def swayam(self,name ,email):\n",
        "        self.name = name\n",
        "        self.email = email\n",
        "    def print_details(self):\n",
        "        print(self.name)\n",
        "        print(self.email)\n",
        "\n",
        "h1 = human()\n",
        "h1.swayam(\"swayam\",\"swayamrock25@gmail.com\")\n",
        "h1.print_details()"
      ]
    },
    {
      "cell_type": "code",
      "execution_count": null,
      "metadata": {
        "colab": {
          "base_uri": "https://localhost:8080/",
          "height": 198
        },
        "id": "4rsSsIbW-wqI",
        "outputId": "97881fa5-23ae-46b5-9e01-bf083899863e"
      },
      "outputs": [
        {
          "ename": "TypeError",
          "evalue": "addition() takes no arguments",
          "output_type": "error",
          "traceback": [
            "\u001b[0;31m---------------------------------------------------------------------------\u001b[0m",
            "\u001b[0;31mTypeError\u001b[0m                                 Traceback (most recent call last)",
            "\u001b[0;32m<ipython-input-10-4d9f1d1a0b51>\u001b[0m in \u001b[0;36m<cell line: 9>\u001b[0;34m()\u001b[0m\n\u001b[1;32m      7\u001b[0m     \u001b[0mprint\u001b[0m\u001b[0;34m(\u001b[0m\u001b[0mself\u001b[0m\u001b[0;34m.\u001b[0m\u001b[0ma\u001b[0m\u001b[0;34m+\u001b[0m\u001b[0mself\u001b[0m\u001b[0;34m.\u001b[0m\u001b[0mb\u001b[0m\u001b[0;34m)\u001b[0m\u001b[0;34m\u001b[0m\u001b[0;34m\u001b[0m\u001b[0m\n\u001b[1;32m      8\u001b[0m \u001b[0;34m\u001b[0m\u001b[0m\n\u001b[0;32m----> 9\u001b[0;31m \u001b[0mo1\u001b[0m \u001b[0;34m=\u001b[0m \u001b[0maddition\u001b[0m\u001b[0;34m(\u001b[0m\u001b[0;36m2\u001b[0m\u001b[0;34m,\u001b[0m\u001b[0;36m3\u001b[0m\u001b[0;34m)\u001b[0m\u001b[0;34m\u001b[0m\u001b[0;34m\u001b[0m\u001b[0m\n\u001b[0m\u001b[1;32m     10\u001b[0m \u001b[0mo1\u001b[0m\u001b[0;34m.\u001b[0m\u001b[0madds\u001b[0m\u001b[0;34m(\u001b[0m\u001b[0;36m2\u001b[0m\u001b[0;34m,\u001b[0m\u001b[0;36m3\u001b[0m\u001b[0;34m)\u001b[0m\u001b[0;34m\u001b[0m\u001b[0;34m\u001b[0m\u001b[0m\n",
            "\u001b[0;31mTypeError\u001b[0m: addition() takes no arguments"
          ]
        }
      ],
      "source": [
        "class addition:\n",
        "  def __add__(self, a, b):\n",
        "    self.a = a\n",
        "    self.b=b\n",
        "\n",
        "  def add(self):\n",
        "    print(self.a+self.b)\n",
        "\n",
        "o1 = addition(2,3)\n",
        "o1.add(2,3)"
      ]
    },
    {
      "cell_type": "code",
      "execution_count": null,
      "metadata": {
        "colab": {
          "base_uri": "https://localhost:8080/",
          "height": 180
        },
        "id": "RJPVUWkH_TiY",
        "outputId": "6cb93a43-03ef-40df-df0c-9c40283debe7"
      },
      "outputs": [
        {
          "ename": "TypeError",
          "evalue": "addition.add() takes 1 positional argument but 3 were given",
          "output_type": "error",
          "traceback": [
            "\u001b[0;31m---------------------------------------------------------------------------\u001b[0m",
            "\u001b[0;31mTypeError\u001b[0m                                 Traceback (most recent call last)",
            "\u001b[0;32m<ipython-input-12-aad92a6694e4>\u001b[0m in \u001b[0;36m<cell line: 10>\u001b[0;34m()\u001b[0m\n\u001b[1;32m      8\u001b[0m \u001b[0;34m\u001b[0m\u001b[0m\n\u001b[1;32m      9\u001b[0m \u001b[0mo1\u001b[0m \u001b[0;34m=\u001b[0m \u001b[0maddition\u001b[0m\u001b[0;34m(\u001b[0m\u001b[0;34m)\u001b[0m\u001b[0;34m\u001b[0m\u001b[0;34m\u001b[0m\u001b[0m\n\u001b[0;32m---> 10\u001b[0;31m \u001b[0mo1\u001b[0m\u001b[0;34m.\u001b[0m\u001b[0madd\u001b[0m\u001b[0;34m(\u001b[0m\u001b[0;36m2\u001b[0m\u001b[0;34m,\u001b[0m\u001b[0;36m3\u001b[0m\u001b[0;34m)\u001b[0m\u001b[0;34m\u001b[0m\u001b[0;34m\u001b[0m\u001b[0m\n\u001b[0m",
            "\u001b[0;31mTypeError\u001b[0m: addition.add() takes 1 positional argument but 3 were given"
          ]
        }
      ],
      "source": [
        "class addition:\n",
        "  def __add__(self, a, b):\n",
        "    self.a = a\n",
        "    self.b=b\n",
        "\n",
        "  def add(self):\n",
        "    print(self.a+self.b)\n",
        "\n",
        "o1 = addition()\n",
        "o1.add(2,3)"
      ]
    },
    {
      "cell_type": "code",
      "execution_count": null,
      "metadata": {
        "colab": {
          "base_uri": "https://localhost:8080/"
        },
        "id": "cjXTPct5_-kA",
        "outputId": "abb46dc5-27f5-4ded-bbca-c301390a09fc"
      },
      "outputs": [
        {
          "name": "stdout",
          "output_type": "stream",
          "text": [
            "addition(4, 6)\n"
          ]
        }
      ],
      "source": [
        "class addition:\n",
        "    def __init__(self, a, b):\n",
        "        self.a = a\n",
        "        self.b = b\n",
        "\n",
        "    def __repr__(self):\n",
        "        return f\"addition({self.a}, {self.b})\"\n",
        "\n",
        "    def __add__(self, other):\n",
        "        if isinstance(other, addition):\n",
        "            return addition(self.a + other.a, self.b + other.b)\n",
        "        else:\n",
        "            return 0\n",
        "h1 = addition(1, 2)\n",
        "h2 = addition(3, 4)\n",
        "h3 = h1 + h2\n",
        "print(h3)"
      ]
    },
    {
      "cell_type": "code",
      "execution_count": null,
      "metadata": {
        "colab": {
          "base_uri": "https://localhost:8080/"
        },
        "id": "_Q4njKXPAu2-",
        "outputId": "afa9ed64-731d-40c9-f40b-00fe08239ac3"
      },
      "outputs": [
        {
          "name": "stdout",
          "output_type": "stream",
          "text": [
            "addition(4)\n"
          ]
        }
      ],
      "source": [
        "class addition:\n",
        "    def __init__(self, a):\n",
        "        self.a = a\n",
        "\n",
        "\n",
        "    def __repr__(self):\n",
        "        return f\"addition({self.a})\"\n",
        "\n",
        "    def __add__(self, other):\n",
        "        if isinstance(other, addition):\n",
        "            return addition(self.a + other.a)\n",
        "        else:\n",
        "            return 0\n",
        "\n",
        "h1 = addition(1)\n",
        "h2 = addition(3)\n",
        "h3 = h1 + h2\n",
        "print(h3)"
      ]
    },
    {
      "cell_type": "code",
      "execution_count": null,
      "metadata": {},
      "outputs": [],
      "source": [
        "class human:\n",
        "    def swayam(self,name ,email):\n",
        "        self.name = name\n",
        "        self.email = email\n",
        "    def print_details(self):\n",
        "        print(self.name)\n",
        "        print(self.email)\n",
        "\n",
        "h1 = human()\n",
        "h1.swayam(\"swayam\",\"swayamrock25@gmail.com\")\n",
        "h1.print_details()"
      ]
    },
    {
      "cell_type": "code",
      "execution_count": null,
      "metadata": {},
      "outputs": [],
      "source": []
    }
  ],
  "metadata": {
    "colab": {
      "provenance": []
    },
    "kernelspec": {
      "display_name": "Python 3",
      "name": "python3"
    },
    "language_info": {
      "codemirror_mode": {
        "name": "ipython",
        "version": 3
      },
      "file_extension": ".py",
      "mimetype": "text/x-python",
      "name": "python",
      "nbconvert_exporter": "python",
      "pygments_lexer": "ipython3",
      "version": "3.11.5"
    }
  },
  "nbformat": 4,
  "nbformat_minor": 0
}
