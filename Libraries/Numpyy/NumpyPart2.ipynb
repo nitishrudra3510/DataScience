{
  "nbformat": 4,
  "nbformat_minor": 0,
  "metadata": {
    "colab": {
      "provenance": []
    },
    "kernelspec": {
      "name": "python3",
      "display_name": "Python 3"
    },
    "language_info": {
      "name": "python"
    }
  },
  "cells": [
    {
      "cell_type": "code",
      "source": [
        "# carete @D array with 3 rows and 4 columns filled with zeroes\n",
        "import numpy as np\n",
        "arr = np.zeros((3,4))\n",
        "print(arr)"
      ],
      "metadata": {
        "colab": {
          "base_uri": "https://localhost:8080/"
        },
        "id": "RE8C9dNwIQHF",
        "outputId": "0dea85aa-f031-43ce-fdc8-d6765cdcff10"
      },
      "execution_count": null,
      "outputs": [
        {
          "output_type": "stream",
          "name": "stdout",
          "text": [
            "[[0. 0. 0. 0.]\n",
            " [0. 0. 0. 0.]\n",
            " [0. 0. 0. 0.]]\n"
          ]
        }
      ]
    },
    {
      "cell_type": "code",
      "source": [
        "# create 3rd array with dimensional 2*3*4 filled with values..\n",
        "\n",
        "a2 = np.ones((2,3,4))\n",
        "print(a2)"
      ],
      "metadata": {
        "colab": {
          "base_uri": "https://localhost:8080/"
        },
        "id": "sVXLNFMsIphK",
        "outputId": "2858e5d3-39ae-4549-8918-752f719a1b99"
      },
      "execution_count": null,
      "outputs": [
        {
          "output_type": "stream",
          "name": "stdout",
          "text": [
            "[[[1. 1. 1. 1.]\n",
            "  [1. 1. 1. 1.]\n",
            "  [1. 1. 1. 1.]]\n",
            "\n",
            " [[1. 1. 1. 1.]\n",
            "  [1. 1. 1. 1.]\n",
            "  [1. 1. 1. 1.]]]\n"
          ]
        }
      ]
    },
    {
      "cell_type": "code",
      "source": [
        "n1 = np.full((3,3),15)\n",
        "n1"
      ],
      "metadata": {
        "colab": {
          "base_uri": "https://localhost:8080/"
        },
        "id": "soioIbfBJfcF",
        "outputId": "90a4c9b8-aca4-4c41-8657-ae66a9e82ad9"
      },
      "execution_count": null,
      "outputs": [
        {
          "output_type": "execute_result",
          "data": {
            "text/plain": [
              "array([[15, 15, 15],\n",
              "       [15, 15, 15],\n",
              "       [15, 15, 15]])"
            ]
          },
          "metadata": {},
          "execution_count": 11
        }
      ]
    },
    {
      "cell_type": "code",
      "source": [
        "n2 = np.random.rand(2,2,2)\n",
        "n2"
      ],
      "metadata": {
        "colab": {
          "base_uri": "https://localhost:8080/"
        },
        "id": "-_DLYebQJroR",
        "outputId": "e460bec7-e2c7-43cd-b0d1-fa93289970cb"
      },
      "execution_count": null,
      "outputs": [
        {
          "output_type": "execute_result",
          "data": {
            "text/plain": [
              "array([[[0.44678363, 0.62902633],\n",
              "        [0.80394487, 0.96248681]],\n",
              "\n",
              "       [[0.19877454, 0.49863514],\n",
              "        [0.92855609, 0.98004578]]])"
            ]
          },
          "metadata": {},
          "execution_count": 16
        }
      ]
    },
    {
      "cell_type": "code",
      "source": [
        "a1=np.full((2,2,2),np.random.rand())\n",
        "print(a1)"
      ],
      "metadata": {
        "colab": {
          "base_uri": "https://localhost:8080/"
        },
        "id": "Wvi4nOeMKJ66",
        "outputId": "ccdcc39b-cdf4-4b5d-8808-4bec716b1c9c"
      },
      "execution_count": null,
      "outputs": [
        {
          "output_type": "stream",
          "name": "stdout",
          "text": [
            "[[[0.739487 0.739487]\n",
            "  [0.739487 0.739487]]\n",
            "\n",
            " [[0.739487 0.739487]\n",
            "  [0.739487 0.739487]]]\n"
          ]
        }
      ]
    },
    {
      "cell_type": "code",
      "source": [
        "a1=np.full((2,2),2)\n",
        "print(a1)"
      ],
      "metadata": {
        "colab": {
          "base_uri": "https://localhost:8080/"
        },
        "id": "CQo6zps-KwEa",
        "outputId": "042656f1-6d29-494e-9e28-406eeb426363"
      },
      "execution_count": null,
      "outputs": [
        {
          "output_type": "stream",
          "name": "stdout",
          "text": [
            "[[2 2]\n",
            " [2 2]]\n"
          ]
        }
      ]
    },
    {
      "cell_type": "code",
      "source": [
        "import numpy as np\n",
        "a1 = np.full((2,2,2), np.random.rand())\n",
        "print(a1.dtype)"
      ],
      "metadata": {
        "colab": {
          "base_uri": "https://localhost:8080/"
        },
        "id": "IbOPWpoLslsA",
        "outputId": "cbeb398f-6d5e-4949-88a9-f17b34ee7051"
      },
      "execution_count": null,
      "outputs": [
        {
          "output_type": "stream",
          "name": "stdout",
          "text": [
            "float64\n"
          ]
        }
      ]
    },
    {
      "cell_type": "code",
      "source": [
        "a=np.array([1+3j, 3+6j, 5+9j])\n",
        "a.dtype"
      ],
      "metadata": {
        "colab": {
          "base_uri": "https://localhost:8080/"
        },
        "id": "OknbjKd7LwcD",
        "outputId": "d096fbd7-1459-4f2d-cce6-9391409b99a7"
      },
      "execution_count": null,
      "outputs": [
        {
          "output_type": "execute_result",
          "data": {
            "text/plain": [
              "dtype('complex128')"
            ]
          },
          "metadata": {},
          "execution_count": 20
        }
      ]
    },
    {
      "cell_type": "code",
      "source": [
        "i1 = np.arange(1,30, 2)\n",
        "f1 = i1.astype('float')\n",
        "print(i1, i1.dtype)\n",
        "print(f1, f1.dtype)"
      ],
      "metadata": {
        "colab": {
          "base_uri": "https://localhost:8080/"
        },
        "id": "tLSUE2HHL55h",
        "outputId": "0e1dee03-a8e1-4975-acc9-0ff8e16378ff"
      },
      "execution_count": null,
      "outputs": [
        {
          "output_type": "stream",
          "name": "stdout",
          "text": [
            "[ 1  3  5  7  9 11 13 15 17 19 21 23 25 27 29] int64\n",
            "[ 1.  3.  5.  7.  9. 11. 13. 15. 17. 19. 21. 23. 25. 27. 29.] float64\n"
          ]
        }
      ]
    },
    {
      "cell_type": "code",
      "source": [
        "# Type attributes:\n",
        "# ndim\n",
        "# size\n",
        "#dtype\n",
        "#shape\n",
        "#itemsize\n",
        "# data\n"
      ],
      "metadata": {
        "id": "N6u1VwYGMqa0"
      },
      "execution_count": null,
      "outputs": []
    },
    {
      "cell_type": "code",
      "source": [
        "a3 = np.random.rand(2,2,2)\n",
        "print(a3)"
      ],
      "metadata": {
        "colab": {
          "base_uri": "https://localhost:8080/"
        },
        "id": "2nbdtHEWtCPk",
        "outputId": "8a944a77-b1e0-4422-ea9e-c2045386cfd0"
      },
      "execution_count": null,
      "outputs": [
        {
          "output_type": "stream",
          "name": "stdout",
          "text": [
            "[[[0.4934935  0.22565275]\n",
            "  [0.44356129 0.64445144]]\n",
            "\n",
            " [[0.66621765 0.67287326]\n",
            "  [0.70695729 0.76102734]]]\n"
          ]
        }
      ]
    },
    {
      "cell_type": "code",
      "source": [
        "print(a3.size)"
      ],
      "metadata": {
        "colab": {
          "base_uri": "https://localhost:8080/"
        },
        "id": "VRXPqplmNpBQ",
        "outputId": "1bbafa44-433c-4794-e799-d0cf85ad3ab6"
      },
      "execution_count": null,
      "outputs": [
        {
          "output_type": "stream",
          "name": "stdout",
          "text": [
            "8\n"
          ]
        }
      ]
    },
    {
      "cell_type": "code",
      "source": [
        "arr = np.array([[1,2,3], [4,5,6]])\n",
        "arr"
      ],
      "metadata": {
        "colab": {
          "base_uri": "https://localhost:8080/"
        },
        "id": "uznNHXUZuOpL",
        "outputId": "4ff14845-79e4-4985-9845-636c400451a5"
      },
      "execution_count": null,
      "outputs": [
        {
          "output_type": "execute_result",
          "data": {
            "text/plain": [
              "array([[1, 2, 3],\n",
              "       [4, 5, 6]])"
            ]
          },
          "metadata": {},
          "execution_count": 9
        }
      ]
    },
    {
      "cell_type": "code",
      "source": [
        "arr*arr"
      ],
      "metadata": {
        "colab": {
          "base_uri": "https://localhost:8080/"
        },
        "id": "Kx26U5QNub6M",
        "outputId": "1d373256-7fe2-4e65-d1e3-b0557650de4a"
      },
      "execution_count": null,
      "outputs": [
        {
          "output_type": "execute_result",
          "data": {
            "text/plain": [
              "array([[ 1,  4,  9],\n",
              "       [16, 25, 36]])"
            ]
          },
          "metadata": {},
          "execution_count": 10
        }
      ]
    },
    {
      "cell_type": "code",
      "source": [
        "arr-arr"
      ],
      "metadata": {
        "colab": {
          "base_uri": "https://localhost:8080/"
        },
        "id": "G0m7yWluugGu",
        "outputId": "d763f360-2dc0-4c94-8c50-8a8ce31729f0"
      },
      "execution_count": null,
      "outputs": [
        {
          "output_type": "execute_result",
          "data": {
            "text/plain": [
              "array([[0, 0, 0],\n",
              "       [0, 0, 0]])"
            ]
          },
          "metadata": {},
          "execution_count": 11
        }
      ]
    },
    {
      "cell_type": "code",
      "source": [
        "a=arr>arr\n",
        "print(a)"
      ],
      "metadata": {
        "colab": {
          "base_uri": "https://localhost:8080/"
        },
        "id": "uhXAsMJouzrj",
        "outputId": "8e38f5a0-aaaf-4fa6-fec5-36023b787adb"
      },
      "execution_count": null,
      "outputs": [
        {
          "output_type": "stream",
          "name": "stdout",
          "text": [
            "[[False False False]\n",
            " [False False False]]\n"
          ]
        }
      ]
    },
    {
      "cell_type": "code",
      "source": [
        "arr=np.arange(10)\n",
        "arr"
      ],
      "metadata": {
        "colab": {
          "base_uri": "https://localhost:8080/"
        },
        "id": "DMa0Fdllu61U",
        "outputId": "65f77269-e806-406f-c0a8-381cf9b8ca7d"
      },
      "execution_count": null,
      "outputs": [
        {
          "output_type": "execute_result",
          "data": {
            "text/plain": [
              "array([0, 1, 2, 3, 4, 5, 6, 7, 8, 9])"
            ]
          },
          "metadata": {},
          "execution_count": 14
        }
      ]
    },
    {
      "cell_type": "code",
      "source": [
        "a=arr[5:8]\n",
        "a"
      ],
      "metadata": {
        "colab": {
          "base_uri": "https://localhost:8080/"
        },
        "id": "0gR6rVvzvD39",
        "outputId": "f2ab7e47-c466-4483-d431-d5865c139d0d"
      },
      "execution_count": null,
      "outputs": [
        {
          "output_type": "execute_result",
          "data": {
            "text/plain": [
              "array([5, 6, 7])"
            ]
          },
          "metadata": {},
          "execution_count": 17
        }
      ]
    },
    {
      "cell_type": "code",
      "source": [
        "a[1] = 987\n",
        "arr"
      ],
      "metadata": {
        "colab": {
          "base_uri": "https://localhost:8080/"
        },
        "id": "cJ1N8Rs_vyHW",
        "outputId": "d2e14fa8-e718-47fc-d37f-8870c2e3c7a2"
      },
      "execution_count": null,
      "outputs": [
        {
          "output_type": "execute_result",
          "data": {
            "text/plain": [
              "array([  0,   1,   2,   3,   4,   5, 987,   7,   8,   9])"
            ]
          },
          "metadata": {},
          "execution_count": 18
        }
      ]
    },
    {
      "cell_type": "code",
      "source": [
        "a[:] = 10\n",
        "arr"
      ],
      "metadata": {
        "id": "ePF1K29jv9DF",
        "outputId": "5e2d71f5-2c5f-4ce0-fd70-d11437ba0be2",
        "colab": {
          "base_uri": "https://localhost:8080/"
        }
      },
      "execution_count": null,
      "outputs": [
        {
          "output_type": "execute_result",
          "data": {
            "text/plain": [
              "array([ 0,  1,  2,  3,  4, 10, 10, 10,  8,  9])"
            ]
          },
          "metadata": {},
          "execution_count": 19
        }
      ]
    },
    {
      "cell_type": "code",
      "source": [
        "import random\n",
        "random_float = random.random()\n",
        "print(random_float)\n",
        "\n",
        "i = random.randint(1,10)\n",
        "print(i)\n",
        "\n",
        "u = random.uniform(1.5, 10.5)\n",
        "print(u)\n",
        "\n",
        "# v = np.random.unform(1.5, 10.5, size=(1,10))\n",
        "# print(v)"
      ],
      "metadata": {
        "colab": {
          "base_uri": "https://localhost:8080/"
        },
        "id": "m7rzmHYAL4tc",
        "outputId": "d4bd5af9-c890-4ce0-b31e-f4a75bc9bac7"
      },
      "execution_count": null,
      "outputs": [
        {
          "output_type": "stream",
          "name": "stdout",
          "text": [
            "0.2370991876677223\n",
            "4\n",
            "8.35904040369548\n"
          ]
        }
      ]
    },
    {
      "cell_type": "code",
      "source": [
        "import numpy as np\n",
        "samples = np.random.standard_normal(size=(4,4))\n",
        "samples"
      ],
      "metadata": {
        "colab": {
          "base_uri": "https://localhost:8080/"
        },
        "id": "Y_pLGu7BKdiJ",
        "outputId": "45a09857-a6ce-4093-e259-d597c54f2c2a"
      },
      "execution_count": null,
      "outputs": [
        {
          "output_type": "execute_result",
          "data": {
            "text/plain": [
              "array([[ 0.70370655, -0.78090768,  1.03032392, -1.23100602],\n",
              "       [-1.09097754,  0.3425722 , -0.08548973,  0.04883462],\n",
              "       [-0.50555884,  1.14150664, -0.9075431 , -0.11997286],\n",
              "       [-1.66239253,  0.3354502 , -0.10935533, -0.63932496]])"
            ]
          },
          "metadata": {},
          "execution_count": 2
        }
      ]
    },
    {
      "cell_type": "code",
      "source": [],
      "metadata": {
        "id": "DQrDL2ucLbuK"
      },
      "execution_count": null,
      "outputs": []
    },
    {
      "cell_type": "markdown",
      "source": [
        "permutation\n",
        "shuffle\n",
        "uniform\n",
        "integers\n",
        "binomial\n",
        "normal\n",
        "beta\n",
        "chisquare..\n",
        "gamma\n",
        "uniform"
      ],
      "metadata": {
        "id": "QPc5orlqLdpo"
      }
    },
    {
      "cell_type": "code",
      "source": [
        "a1 = np.arange(10)\n",
        "a1"
      ],
      "metadata": {
        "colab": {
          "base_uri": "https://localhost:8080/"
        },
        "id": "8DMS9IKnOr-2",
        "outputId": "685e5967-361c-415d-d0fe-f127d572a37a"
      },
      "execution_count": null,
      "outputs": [
        {
          "output_type": "execute_result",
          "data": {
            "text/plain": [
              "array([0, 1, 2, 3, 4, 5, 6, 7, 8, 9])"
            ]
          },
          "metadata": {},
          "execution_count": 18
        }
      ]
    },
    {
      "cell_type": "code",
      "source": [
        "a2=np.sqrt(a1)\n",
        "a2"
      ],
      "metadata": {
        "colab": {
          "base_uri": "https://localhost:8080/"
        },
        "id": "JJoLFsglO13I",
        "outputId": "2f9533a7-c52d-4fa8-ed60-17a7987d4108"
      },
      "execution_count": null,
      "outputs": [
        {
          "output_type": "execute_result",
          "data": {
            "text/plain": [
              "array([0.        , 1.        , 1.41421356, 1.73205081, 2.        ,\n",
              "       2.23606798, 2.44948974, 2.64575131, 2.82842712, 3.        ])"
            ]
          },
          "metadata": {},
          "execution_count": 26
        }
      ]
    },
    {
      "cell_type": "code",
      "source": [
        "np.exp(a1)"
      ],
      "metadata": {
        "colab": {
          "base_uri": "https://localhost:8080/"
        },
        "id": "I6_NS79QO-yB",
        "outputId": "30914951-1f82-4743-f70b-d06108415867"
      },
      "execution_count": null,
      "outputs": [
        {
          "output_type": "execute_result",
          "data": {
            "text/plain": [
              "array([1.00000000e+00, 2.71828183e+00, 7.38905610e+00, 2.00855369e+01,\n",
              "       5.45981500e+01, 1.48413159e+02, 4.03428793e+02, 1.09663316e+03,\n",
              "       2.98095799e+03, 8.10308393e+03])"
            ]
          },
          "metadata": {},
          "execution_count": 21
        }
      ]
    },
    {
      "cell_type": "code",
      "source": [
        "a1"
      ],
      "metadata": {
        "colab": {
          "base_uri": "https://localhost:8080/"
        },
        "id": "ZOjiMDaUPEuf",
        "outputId": "5792f0b0-bf0f-4134-9522-97f5374b6a53"
      },
      "execution_count": null,
      "outputs": [
        {
          "output_type": "execute_result",
          "data": {
            "text/plain": [
              "array([0, 1, 2, 3, 4, 5, 6, 7, 8, 9])"
            ]
          },
          "metadata": {},
          "execution_count": 22
        }
      ]
    },
    {
      "cell_type": "code",
      "source": [
        "# unary fucntion: take one argument at a time.\n"
      ],
      "metadata": {
        "id": "UOd8tmsNPZ_8"
      },
      "execution_count": null,
      "outputs": []
    },
    {
      "cell_type": "code",
      "source": [
        "np.maximum(a1,a2)"
      ],
      "metadata": {
        "colab": {
          "base_uri": "https://localhost:8080/"
        },
        "id": "dPM4r1wxQH4E",
        "outputId": "f230de01-28a5-44cc-993c-8afb2c899e90"
      },
      "execution_count": null,
      "outputs": [
        {
          "output_type": "execute_result",
          "data": {
            "text/plain": [
              "array([0., 1., 2., 3., 4., 5., 6., 7., 8., 9.])"
            ]
          },
          "metadata": {},
          "execution_count": 27
        }
      ]
    },
    {
      "cell_type": "code",
      "source": [
        "import numpy as np\n",
        "a = np.arange(10)\n",
        "abs_Arr=np.exp(a1)\n",
        "abs_Arr"
      ],
      "metadata": {
        "colab": {
          "base_uri": "https://localhost:8080/"
        },
        "id": "PDGuHoaCQ0zR",
        "outputId": "4c455f11-aa88-4087-c920-ed6c3a47a694"
      },
      "execution_count": null,
      "outputs": [
        {
          "output_type": "execute_result",
          "data": {
            "text/plain": [
              "array([1.00000000e+00, 2.71828183e+00, 7.38905610e+00, 2.00855369e+01,\n",
              "       5.45981500e+01, 1.48413159e+02, 4.03428793e+02, 1.09663316e+03,\n",
              "       2.98095799e+03, 8.10308393e+03])"
            ]
          },
          "metadata": {},
          "execution_count": 31
        }
      ]
    },
    {
      "cell_type": "code",
      "source": [
        "import numpy as np\n",
        "a = np.arange(10)\n",
        "abs_Arr=np.abs(a1)\n",
        "abs_Arr\n",
        "s=np.square(a)\n",
        "s"
      ],
      "metadata": {
        "colab": {
          "base_uri": "https://localhost:8080/"
        },
        "id": "RJSAkTuTRRMe",
        "outputId": "7a6a21bb-df02-4c79-8925-e03e087a4f05"
      },
      "execution_count": null,
      "outputs": [
        {
          "output_type": "execute_result",
          "data": {
            "text/plain": [
              "array([ 0,  1,  4,  9, 16, 25, 36, 49, 64, 81])"
            ]
          },
          "metadata": {},
          "execution_count": 33
        }
      ]
    },
    {
      "cell_type": "code",
      "source": [
        "np.add(a,12)"
      ],
      "metadata": {
        "colab": {
          "base_uri": "https://localhost:8080/"
        },
        "id": "GTZTLmWgR9ti",
        "outputId": "552b00e9-65b8-413b-af02-da843cf2a364"
      },
      "execution_count": null,
      "outputs": [
        {
          "output_type": "execute_result",
          "data": {
            "text/plain": [
              "array([12, 13, 14, 15, 16, 17, 18, 19, 20, 21])"
            ]
          },
          "metadata": {},
          "execution_count": 35
        }
      ]
    },
    {
      "cell_type": "code",
      "source": [
        "#sqrt X^2 +y^2\n",
        "points = np.arange(-5, 5, 0.01)\n",
        "\n",
        "xs, ys = np.meshgrid(points, points)\n",
        "ys"
      ],
      "metadata": {
        "colab": {
          "base_uri": "https://localhost:8080/"
        },
        "id": "U5b6zM36U2fy",
        "outputId": "6d5a470a-e93d-4afa-d238-299995cf851d"
      },
      "execution_count": null,
      "outputs": [
        {
          "output_type": "execute_result",
          "data": {
            "text/plain": [
              "array([[-5.  , -5.  , -5.  , ..., -5.  , -5.  , -5.  ],\n",
              "       [-4.99, -4.99, -4.99, ..., -4.99, -4.99, -4.99],\n",
              "       [-4.98, -4.98, -4.98, ..., -4.98, -4.98, -4.98],\n",
              "       ...,\n",
              "       [ 4.97,  4.97,  4.97, ...,  4.97,  4.97,  4.97],\n",
              "       [ 4.98,  4.98,  4.98, ...,  4.98,  4.98,  4.98],\n",
              "       [ 4.99,  4.99,  4.99, ...,  4.99,  4.99,  4.99]])"
            ]
          },
          "metadata": {},
          "execution_count": 40
        }
      ]
    },
    {
      "cell_type": "code",
      "source": [
        "import matplotlib.pyplot as plt\n",
        "plt.imshow(z,extent = [-5,5,-5,5])\n",
        "plt.colorbar()"
      ],
      "metadata": {
        "colab": {
          "base_uri": "https://localhost:8080/",
          "height": 216
        },
        "id": "1fKThRdAc7L3",
        "outputId": "166afdab-81a5-421a-fd47-2f71ab0ddeb9"
      },
      "execution_count": null,
      "outputs": [
        {
          "output_type": "error",
          "ename": "NameError",
          "evalue": "name 'z' is not defined",
          "traceback": [
            "\u001b[0;31m---------------------------------------------------------------------------\u001b[0m",
            "\u001b[0;31mNameError\u001b[0m                                 Traceback (most recent call last)",
            "\u001b[0;32m<ipython-input-42-f9a9888c1c97>\u001b[0m in \u001b[0;36m<cell line: 2>\u001b[0;34m()\u001b[0m\n\u001b[1;32m      1\u001b[0m \u001b[0;32mimport\u001b[0m \u001b[0mmatplotlib\u001b[0m\u001b[0;34m.\u001b[0m\u001b[0mpyplot\u001b[0m \u001b[0;32mas\u001b[0m \u001b[0mplt\u001b[0m\u001b[0;34m\u001b[0m\u001b[0;34m\u001b[0m\u001b[0m\n\u001b[0;32m----> 2\u001b[0;31m \u001b[0mplt\u001b[0m\u001b[0;34m.\u001b[0m\u001b[0mimshow\u001b[0m\u001b[0;34m(\u001b[0m\u001b[0mz\u001b[0m\u001b[0;34m,\u001b[0m\u001b[0mextent\u001b[0m \u001b[0;34m=\u001b[0m \u001b[0;34m[\u001b[0m\u001b[0;34m-\u001b[0m\u001b[0;36m5\u001b[0m\u001b[0;34m,\u001b[0m\u001b[0;36m5\u001b[0m\u001b[0;34m,\u001b[0m\u001b[0;34m-\u001b[0m\u001b[0;36m5\u001b[0m\u001b[0;34m,\u001b[0m\u001b[0;36m5\u001b[0m\u001b[0;34m]\u001b[0m\u001b[0;34m)\u001b[0m\u001b[0;34m\u001b[0m\u001b[0;34m\u001b[0m\u001b[0m\n\u001b[0m\u001b[1;32m      3\u001b[0m \u001b[0mplt\u001b[0m\u001b[0;34m.\u001b[0m\u001b[0mcolorbar\u001b[0m\u001b[0;34m(\u001b[0m\u001b[0;34m)\u001b[0m\u001b[0;34m\u001b[0m\u001b[0;34m\u001b[0m\u001b[0m\n",
            "\u001b[0;31mNameError\u001b[0m: name 'z' is not defined"
          ]
        }
      ]
    },
    {
      "cell_type": "code",
      "source": [
        "import numpy as np\n",
        "x=np.arange(-5,5,0.01)\n",
        "xs,ys=np.meshgrid(x,x)\n",
        "z=np.sqrt(xs**2+ys**2)\n",
        "print(z)"
      ],
      "metadata": {
        "colab": {
          "base_uri": "https://localhost:8080/"
        },
        "id": "gTUJR0ysc76W",
        "outputId": "b3dff791-cc85-4ca5-c57d-1f671974cbac"
      },
      "execution_count": null,
      "outputs": [
        {
          "output_type": "stream",
          "name": "stdout",
          "text": [
            "[[7.07106781 7.06400028 7.05693985 ... 7.04988652 7.05693985 7.06400028]\n",
            " [7.06400028 7.05692568 7.04985815 ... 7.04279774 7.04985815 7.05692568]\n",
            " [7.05693985 7.04985815 7.04278354 ... 7.03571603 7.04278354 7.04985815]\n",
            " ...\n",
            " [7.04988652 7.04279774 7.03571603 ... 7.0286414  7.03571603 7.04279774]\n",
            " [7.05693985 7.04985815 7.04278354 ... 7.03571603 7.04278354 7.04985815]\n",
            " [7.06400028 7.05692568 7.04985815 ... 7.04279774 7.04985815 7.05692568]]\n"
          ]
        }
      ]
    },
    {
      "cell_type": "code",
      "source": [
        "result = [(x if c else y)\n",
        "              for xarr,yarr, c in zip(z,y, cond)]\n"
      ],
      "metadata": {
        "id": "5WQOALxJdGkx"
      },
      "execution_count": null,
      "outputs": []
    },
    {
      "cell_type": "code",
      "source": [
        "x=np.arange(2,2.6,0.1)\n",
        "x\n",
        "y=np.arange(3,3.6,0.1)\n",
        "y\n",
        "cod=np.array([True,False,True,True,False,True, False])\n",
        "result=np.where(cod,x,y)\n",
        "print(result)"
      ],
      "metadata": {
        "colab": {
          "base_uri": "https://localhost:8080/"
        },
        "id": "VUmiWyopd2AA",
        "outputId": "d9fa7e70-c120-4e83-9717-e4ba2d451c81"
      },
      "execution_count": null,
      "outputs": [
        {
          "output_type": "stream",
          "name": "stdout",
          "text": [
            "[2.  3.1 2.2 2.3 3.4 2.5 3.6]\n"
          ]
        }
      ]
    },
    {
      "cell_type": "code",
      "source": [],
      "metadata": {
        "colab": {
          "base_uri": "https://localhost:8080/"
        },
        "id": "tYxkp6SEd7p_",
        "outputId": "b02f065a-8a99-4389-d501-9d07b9c9a286"
      },
      "execution_count": null,
      "outputs": [
        {
          "output_type": "stream",
          "name": "stdout",
          "text": [
            "[[7.07106781 7.06400028 7.05693985 ... 7.04988652 7.05693985 7.06400028]\n",
            " [7.06400028 7.05692568 7.04985815 ... 7.04279774 7.04985815 7.05692568]\n",
            " [7.05693985 7.04985815 7.04278354 ... 7.03571603 7.04278354 7.04985815]\n",
            " ...\n",
            " [7.04988652 7.04279774 7.03571603 ... 7.0286414  7.03571603 7.04279774]\n",
            " [7.05693985 7.04985815 7.04278354 ... 7.03571603 7.04278354 7.04985815]\n",
            " [7.06400028 7.05692568 7.04985815 ... 7.04279774 7.04985815 7.05692568]]\n"
          ]
        }
      ]
    },
    {
      "cell_type": "code",
      "source": [
        "import matplotlib.pyplot as plt\n",
        "plt.imshow(z,extent = [-5,5,-5,5])\n",
        "plt.colorbar()"
      ],
      "metadata": {
        "colab": {
          "base_uri": "https://localhost:8080/",
          "height": 450
        },
        "id": "sii0Bg0Jd78v",
        "outputId": "164746d7-a912-4d70-d4b7-8919daa7045d"
      },
      "execution_count": null,
      "outputs": [
        {
          "output_type": "execute_result",
          "data": {
            "text/plain": [
              "<matplotlib.colorbar.Colorbar at 0x7a244ad5e3b0>"
            ]
          },
          "metadata": {},
          "execution_count": 49
        },
        {
          "output_type": "display_data",
          "data": {
            "text/plain": [
              "<Figure size 640x480 with 2 Axes>"
            ],
            "image/png": "[encoded data removed]"
          },
          "metadata": {}
        }
      ]
    },
    {
      "cell_type": "code",
      "source": [
        "z"
      ],
      "metadata": {
        "colab": {
          "base_uri": "https://localhost:8080/"
        },
        "id": "1W2x1xOEgSHV",
        "outputId": "b17a193f-f75c-412a-e083-205a7c622ffc"
      },
      "execution_count": null,
      "outputs": [
        {
          "output_type": "execute_result",
          "data": {
            "text/plain": [
              "array([[7.07106781, 7.06400028, 7.05693985, ..., 7.04988652, 7.05693985,\n",
              "        7.06400028],\n",
              "       [7.06400028, 7.05692568, 7.04985815, ..., 7.04279774, 7.04985815,\n",
              "        7.05692568],\n",
              "       [7.05693985, 7.04985815, 7.04278354, ..., 7.03571603, 7.04278354,\n",
              "        7.04985815],\n",
              "       ...,\n",
              "       [7.04988652, 7.04279774, 7.03571603, ..., 7.0286414 , 7.03571603,\n",
              "        7.04279774],\n",
              "       [7.05693985, 7.04985815, 7.04278354, ..., 7.03571603, 7.04278354,\n",
              "        7.04985815],\n",
              "       [7.06400028, 7.05692568, 7.04985815, ..., 7.04279774, 7.04985815,\n",
              "        7.05692568]])"
            ]
          },
          "metadata": {},
          "execution_count": 50
        }
      ]
    },
    {
      "cell_type": "code",
      "source": [
        "z>7.03"
      ],
      "metadata": {
        "colab": {
          "base_uri": "https://localhost:8080/"
        },
        "id": "RhOO-OLvgyJw",
        "outputId": "a0f8e164-9e9d-43a2-acf8-083fc401ad1e"
      },
      "execution_count": null,
      "outputs": [
        {
          "output_type": "execute_result",
          "data": {
            "text/plain": [
              "array([[ True,  True,  True, ...,  True,  True,  True],\n",
              "       [ True,  True,  True, ...,  True,  True,  True],\n",
              "       [ True,  True,  True, ...,  True,  True,  True],\n",
              "       ...,\n",
              "       [ True,  True,  True, ..., False,  True,  True],\n",
              "       [ True,  True,  True, ...,  True,  True,  True],\n",
              "       [ True,  True,  True, ...,  True,  True,  True]])"
            ]
          },
          "metadata": {},
          "execution_count": 56
        }
      ]
    },
    {
      "cell_type": "code",
      "source": [
        "np.where(z>7.03,2,-2) # true = 2, and false = -2\n"
      ],
      "metadata": {
        "colab": {
          "base_uri": "https://localhost:8080/"
        },
        "id": "bR6CSeULgUGs",
        "outputId": "fc014e6a-95b1-4878-fd27-a10b4dbfaa7c"
      },
      "execution_count": null,
      "outputs": [
        {
          "output_type": "execute_result",
          "data": {
            "text/plain": [
              "array([[ 2,  2,  2, ...,  2,  2,  2],\n",
              "       [ 2,  2,  2, ...,  2,  2,  2],\n",
              "       [ 2,  2,  2, ...,  2,  2,  2],\n",
              "       ...,\n",
              "       [ 2,  2,  2, ..., -2,  2,  2],\n",
              "       [ 2,  2,  2, ...,  2,  2,  2],\n",
              "       [ 2,  2,  2, ...,  2,  2,  2]])"
            ]
          },
          "metadata": {},
          "execution_count": 54
        }
      ]
    },
    {
      "cell_type": "code",
      "source": [
        "np.where(z>7.03,2,z)"
      ],
      "metadata": {
        "colab": {
          "base_uri": "https://localhost:8080/"
        },
        "id": "B_rV-bsWgVY2",
        "outputId": "88c457e3-b656-4043-f856-ed0af3cdf88d"
      },
      "execution_count": null,
      "outputs": [
        {
          "output_type": "execute_result",
          "data": {
            "text/plain": [
              "array([[2.       , 2.       , 2.       , ..., 2.       , 2.       ,\n",
              "        2.       ],\n",
              "       [2.       , 2.       , 2.       , ..., 2.       , 2.       ,\n",
              "        2.       ],\n",
              "       [2.       , 2.       , 2.       , ..., 2.       , 2.       ,\n",
              "        2.       ],\n",
              "       ...,\n",
              "       [2.       , 2.       , 2.       , ..., 7.0286414, 2.       ,\n",
              "        2.       ],\n",
              "       [2.       , 2.       , 2.       , ..., 2.       , 2.       ,\n",
              "        2.       ],\n",
              "       [2.       , 2.       , 2.       , ..., 2.       , 2.       ,\n",
              "        2.       ]])"
            ]
          },
          "metadata": {},
          "execution_count": 58
        }
      ]
    },
    {
      "cell_type": "code",
      "source": [
        "abs(samples.mean())\n",
        "samples.sum()\n",
        "samples.mean(axis=0) # we are taking the across the column. and axis = 0 across the rows..\n"
      ],
      "metadata": {
        "colab": {
          "base_uri": "https://localhost:8080/"
        },
        "id": "h2dI8rmPhVfr",
        "outputId": "e0905adb-de3b-4ce9-9a1c-cc8ae3956150"
      },
      "execution_count": null,
      "outputs": [
        {
          "output_type": "execute_result",
          "data": {
            "text/plain": [
              "array([-0.63880559,  0.25965534, -0.01801606, -0.4853673 ])"
            ]
          },
          "metadata": {},
          "execution_count": 63
        }
      ]
    },
    {
      "cell_type": "code",
      "source": [
        "abs(samples.mean())\n",
        "samples.sum()\n",
        "samples.cumsum(axis=1) # we are taking the across the column. and axis = 0 across the rows..\n"
      ],
      "metadata": {
        "colab": {
          "base_uri": "https://localhost:8080/"
        },
        "id": "I0prxnn8iCUA",
        "outputId": "11859c0a-daf2-438e-c959-0bf228a8bc41"
      },
      "execution_count": null,
      "outputs": [
        {
          "output_type": "execute_result",
          "data": {
            "text/plain": [
              "array([[ 0.70370655, -0.07720113,  0.95312279, -0.27788322],\n",
              "       [-1.09097754, -0.74840534, -0.83389507, -0.78506046],\n",
              "       [-0.50555884,  0.63594779, -0.27159531, -0.39156816],\n",
              "       [-1.66239253, -1.32694233, -1.43629766, -2.07562262]])"
            ]
          },
          "metadata": {},
          "execution_count": 68
        }
      ]
    },
    {
      "cell_type": "code",
      "source": [
        "import numpy as np\n",
        "a = np.arange(10)\n",
        "(a>5).sum()\n",
        "(a<2).sum()"
      ],
      "metadata": {
        "colab": {
          "base_uri": "https://localhost:8080/"
        },
        "id": "ka2djMmopf9u",
        "outputId": "21fdeddd-2497-4091-890b-0d4f8bb5235c"
      },
      "execution_count": 1,
      "outputs": [
        {
          "output_type": "execute_result",
          "data": {
            "text/plain": [
              "2"
            ]
          },
          "metadata": {},
          "execution_count": 1
        }
      ]
    },
    {
      "cell_type": "code",
      "source": [
        "b = np.array([True, False, True])\n",
        "b.any()\n",
        "b.all()"
      ],
      "metadata": {
        "colab": {
          "base_uri": "https://localhost:8080/"
        },
        "id": "lnKpnoPPpv5w",
        "outputId": "cb754793-304f-4f98-898b-badc01444022"
      },
      "execution_count": 3,
      "outputs": [
        {
          "output_type": "execute_result",
          "data": {
            "text/plain": [
              "False"
            ]
          },
          "metadata": {},
          "execution_count": 3
        }
      ]
    },
    {
      "cell_type": "code",
      "source": [
        "c = np.array([1,1,2.2,1.2, 3.3])\n",
        "c.sort()\n",
        "c"
      ],
      "metadata": {
        "colab": {
          "base_uri": "https://localhost:8080/"
        },
        "id": "999p3_97p3Qa",
        "outputId": "7fc6bcc3-8238-4006-a3e9-b7c4ae22d4bf"
      },
      "execution_count": 6,
      "outputs": [
        {
          "output_type": "execute_result",
          "data": {
            "text/plain": [
              "array([1. , 1. , 1.2, 2.2, 3.3])"
            ]
          },
          "metadata": {},
          "execution_count": 6
        }
      ]
    },
    {
      "cell_type": "code",
      "source": [],
      "metadata": {
        "colab": {
          "base_uri": "https://localhost:8080/",
          "height": 144
        },
        "id": "jgXdMfErqfBn",
        "outputId": "a97a558e-6ef3-4ac4-d063-be5563eb8106"
      },
      "execution_count": 7,
      "outputs": [
        {
          "output_type": "error",
          "ename": "NameError",
          "evalue": "name 'samples' is not defined",
          "traceback": [
            "\u001b[0;31m---------------------------------------------------------------------------\u001b[0m",
            "\u001b[0;31mNameError\u001b[0m                                 Traceback (most recent call last)",
            "\u001b[0;32m<ipython-input-7-9d38a63ab2f3>\u001b[0m in \u001b[0;36m<cell line: 1>\u001b[0;34m()\u001b[0m\n\u001b[0;32m----> 1\u001b[0;31m \u001b[0msamples\u001b[0m\u001b[0;34m.\u001b[0m\u001b[0msort\u001b[0m\u001b[0;34m(\u001b[0m\u001b[0;34m)\u001b[0m\u001b[0;34m\u001b[0m\u001b[0;34m\u001b[0m\u001b[0m\n\u001b[0m",
            "\u001b[0;31mNameError\u001b[0m: name 'samples' is not defined"
          ]
        }
      ]
    },
    {
      "cell_type": "markdown",
      "source": [
        "# Array in Numpy\n",
        "\n",
        "It is a table of elements (usually numbers), all of the same type, indexed by a tuple of positive integers.\n",
        "\n",
        "In NumPy, dimensions are called axes. The number of axes is rank.\n",
        "\n",
        "NumPy’s array class is called ndarray. It is also known by the alias array."
      ],
      "metadata": {
        "id": "tZ2YH8rurIc3"
      }
    },
    {
      "cell_type": "code",
      "source": [
        "# 2 D array:\n",
        "\n",
        "arr = np.array([[1,2,3], [4,5,6]])\n",
        "\n",
        "\n",
        "# Printing type of arr object\n",
        "print(\"Array is of type: \", type(arr))\n",
        "\n",
        "# Printing array dimensions (axes)\n",
        "print(\"No. of dimensions: \", arr.ndim)\n",
        "\n",
        "# Printing shape of array\n",
        "print(\"Shape of array: \", arr.shape)\n",
        "\n",
        "# Printing size (total number of elements) of array\n",
        "print(\"Size of array: \", arr.size)\n",
        "\n",
        "# Printing type of elements in array\n",
        "print(\"Array stores elements of type: \", arr.dtype)"
      ],
      "metadata": {
        "colab": {
          "base_uri": "https://localhost:8080/"
        },
        "id": "Z7s380v4rGxF",
        "outputId": "639f6a5b-3d71-4d00-9ba9-51d1a6d32711"
      },
      "execution_count": 9,
      "outputs": [
        {
          "output_type": "stream",
          "name": "stdout",
          "text": [
            "Array is of type:  <class 'numpy.ndarray'>\n",
            "No. of dimensions:  2\n",
            "Shape of array:  (2, 3)\n",
            "Size of array:  6\n",
            "Array stores elements of type:  int64\n"
          ]
        }
      ]
    },
    {
      "cell_type": "code",
      "source": [],
      "metadata": {
        "id": "b11B154srD2A"
      },
      "execution_count": null,
      "outputs": []
    },
    {
      "cell_type": "markdown",
      "source": [
        "# Array creation:\n",
        "\n",
        "1. Create numpy array with list and tuples."
      ],
      "metadata": {
        "id": "vmK1T1_2rqxJ"
      }
    },
    {
      "cell_type": "code",
      "source": [
        "import numpy as np\n",
        "\n",
        "# Creating array from list with type float\n",
        "a = np.array([[1, 2, 4], [5, 8, 7]], dtype = 'float')\n",
        "print (\"Array created using passed list:\\n\", a)\n",
        "\n",
        "# Creating array from tuple\n",
        "b = np.array((1 , 3, 2))\n",
        "print (\"\\nArray created using passed tuple:\\n\", b)\n"
      ],
      "metadata": {
        "colab": {
          "base_uri": "https://localhost:8080/"
        },
        "id": "NwmXCGXPrxb0",
        "outputId": "577f5b39-ae94-4eea-a7db-140c6f11e98d"
      },
      "execution_count": 10,
      "outputs": [
        {
          "output_type": "stream",
          "name": "stdout",
          "text": [
            "Array created using passed list:\n",
            " [[1. 2. 4.]\n",
            " [5. 8. 7.]]\n",
            "\n",
            "Array created using passed tuple:\n",
            " [1 3 2]\n"
          ]
        }
      ]
    },
    {
      "cell_type": "markdown",
      "source": [
        "# create an array of fixed size()"
      ],
      "metadata": {
        "id": "ZfC8tfSGr83E"
      }
    },
    {
      "cell_type": "code",
      "source": [
        "# Creating a 3X4 array with all zeros\n",
        "c = np.zeros((3, 4))\n",
        "print (\"An array initialized with all zeros:\\n\", c)\n",
        "\n",
        "# Create a constant value array of complex type\n",
        "d = np.full((3, 3), 6, dtype = 'complex')\n",
        "print (\"An array initialized with all 6s.\"\n",
        "            \"Array type is complex:\\n\", d)\n",
        "\n",
        "# Create an array with random values\n",
        "e = np.random.random((2, 2))\n",
        "print (\"A random array:\\n\", e)\n"
      ],
      "metadata": {
        "colab": {
          "base_uri": "https://localhost:8080/"
        },
        "id": "SJ7g9LaOr8Y4",
        "outputId": "23090332-fee0-4e6e-9a7e-cec1dbbdccb8"
      },
      "execution_count": 11,
      "outputs": [
        {
          "output_type": "stream",
          "name": "stdout",
          "text": [
            "An array initialized with all zeros:\n",
            " [[0. 0. 0. 0.]\n",
            " [0. 0. 0. 0.]\n",
            " [0. 0. 0. 0.]]\n",
            "An array initialized with all 6s.Array type is complex:\n",
            " [[6.+0.j 6.+0.j 6.+0.j]\n",
            " [6.+0.j 6.+0.j 6.+0.j]\n",
            " [6.+0.j 6.+0.j 6.+0.j]]\n",
            "A random array:\n",
            " [[0.34899156 0.70406135]\n",
            " [0.34760172 0.08007553]]\n"
          ]
        }
      ]
    },
    {
      "cell_type": "markdown",
      "source": [
        "# creating using line() function\n",
        "\n",
        "linspace(): It returns evenly spaced values within a given interval."
      ],
      "metadata": {
        "id": "3QLlb8-4sZc1"
      }
    },
    {
      "cell_type": "code",
      "source": [
        "g = np.linspace(0, 5,10)\n",
        "print(\"A sequential array with 10 values between\"\n",
        "                                 \"0 and 5:\\n\", g)\n",
        "\n",
        "'''\n",
        "Here are the values step-by-step:\n",
        "\n",
        "0.0 (start)\n",
        "0.0 + 0.55555556 ≈ 0.55555556\n",
        "0.55555556 + 0.55555556 ≈ 1.11111111\n",
        "1.11111111 + 0.55555556 ≈ 1.66666667\n",
        "1.66666667 + 0.55555556 ≈ 2.22222222\n",
        "2.22222222 + 0.55555556 ≈ 2.77777778\n",
        "2.77777778 + 0.55555556 ≈ 3.33333333\n",
        "3.33333333 + 0.55555556 ≈ 3.88888889\n",
        "3.88888889 + 0.55555556 ≈ 4.44444444\n",
        "4.44444444 + 0.55555556 ≈ 5.0 (stop)\n",
        "\n",
        "'''"
      ],
      "metadata": {
        "colab": {
          "base_uri": "https://localhost:8080/",
          "height": 160
        },
        "id": "G1IVBkfysWVT",
        "outputId": "f7e02146-dd8c-4f42-d741-8763fd6b50f2"
      },
      "execution_count": 14,
      "outputs": [
        {
          "output_type": "stream",
          "name": "stdout",
          "text": [
            "A sequential array with 10 values between0 and 5:\n",
            " [0.         0.55555556 1.11111111 1.66666667 2.22222222 2.77777778\n",
            " 3.33333333 3.88888889 4.44444444 5.        ]\n"
          ]
        },
        {
          "output_type": "execute_result",
          "data": {
            "text/plain": [
              "'\\nHere are the values step-by-step:\\n\\n0.0 (start)\\n0.0 + 0.55555556 ≈ 0.55555556\\n0.55555556 + 0.55555556 ≈ 1.11111111\\n1.11111111 + 0.55555556 ≈ 1.66666667\\n1.66666667 + 0.55555556 ≈ 2.22222222\\n2.22222222 + 0.55555556 ≈ 2.77777778\\n2.77777778 + 0.55555556 ≈ 3.33333333\\n3.33333333 + 0.55555556 ≈ 3.88888889\\n3.88888889 + 0.55555556 ≈ 4.44444444\\n4.44444444 + 0.55555556 ≈ 5.0 (stop)\\n\\n'"
            ],
            "application/vnd.google.colaboratory.intrinsic+json": {
              "type": "string"
            }
          },
          "metadata": {},
          "execution_count": 14
        }
      ]
    },
    {
      "cell_type": "markdown",
      "source": [
        "# RESHAPING ARRAY RESHAPE METHOD"
      ],
      "metadata": {
        "id": "wUZfhNZ6vKZK"
      }
    },
    {
      "cell_type": "code",
      "source": [
        "# Reshaping array: We can use reshape method to reshape an array.\n",
        "\n",
        "# Reshaping 3X4 array to 2X2X3 array\n",
        "arr = np.array([[1, 2, 3, 4],\n",
        "                [5, 2, 4, 2],\n",
        "                [1, 2, 0, 1]])\n",
        "\n",
        "newarr = arr.reshape(2,2,3)\n",
        "\n",
        "print(\"Original array: \", arr)\n",
        "print(\"------------\\n\")\n",
        "print(\"Reshaped array:\",newarr)"
      ],
      "metadata": {
        "colab": {
          "base_uri": "https://localhost:8080/"
        },
        "id": "9jUPoza-vB-0",
        "outputId": "5be7821c-1fce-468d-9a38-096c093196ad"
      },
      "execution_count": 16,
      "outputs": [
        {
          "output_type": "stream",
          "name": "stdout",
          "text": [
            "Original array:  [[1 2 3 4]\n",
            " [5 2 4 2]\n",
            " [1 2 0 1]]\n",
            "------------\n",
            "\n",
            "Reshaped array: [[[1 2 3]\n",
            "  [4 5 2]]\n",
            "\n",
            " [[4 2 1]\n",
            "  [2 0 1]]]\n"
          ]
        }
      ]
    },
    {
      "cell_type": "markdown",
      "source": [
        "# filter array:\n",
        "Flatten array: We can use flatten method to get a copy of the array collapsed into one dimension."
      ],
      "metadata": {
        "id": "ALcTO6g9yoF-"
      }
    },
    {
      "cell_type": "code",
      "source": [
        "# Flatten array\n",
        "arr = np.array([[1, 2, 3], [4, 5, 6]])\n",
        "flat_arr = arr.flatten()\n",
        "\n",
        "print (\"Original array:\\n\", arr)\n",
        "print (\"Fattened array:\\n\", flat_arr)\n"
      ],
      "metadata": {
        "colab": {
          "base_uri": "https://localhost:8080/"
        },
        "id": "Iset0gB6ynUn",
        "outputId": "3028e61b-8b2a-46bb-ac64-3208fd01eab6"
      },
      "execution_count": 17,
      "outputs": [
        {
          "output_type": "stream",
          "name": "stdout",
          "text": [
            "Original array:\n",
            " [[1 2 3]\n",
            " [4 5 6]]\n",
            "Fattened array:\n",
            " [1 2 3 4 5 6]\n"
          ]
        }
      ]
    },
    {
      "cell_type": "code",
      "source": [
        "# numpy array indexing\n",
        "# slicing\n",
        "# integer array indexing\n",
        "# Boolean array indexing\n",
        "\n",
        "\n",
        "\n",
        "# indexing in numpy\\\n",
        "import numpy as np\n",
        "\n",
        "# An exemplar array\n",
        "arr = np.array([[-1, 2, 0, 4],\n",
        "                [4, -0.5, 6, 0],\n",
        "                [2.6, 0, 7, 8],\n",
        "                [3, -7, 4, 2.0]])\n",
        "# slicing array:\n",
        "temp = arr[:2, ::2]\n",
        "print(\"Array with first 2 rows and alternate\"\n",
        "                    \"columns(0 and 2):\\n\", temp)\n",
        "\n",
        "\n",
        "# Integer array indexing example\n",
        "temp = arr[[0, 1, 2, 3], [3, 2, 1, 0]]\n",
        "print (\"\\nElements at indices (0, 3), (1, 2), (2, 1),\"\n",
        "                                    \"(3, 0):\\n\", temp)\n",
        "\n",
        "\n",
        "# boolean array indexing example\n",
        "cond = arr > 0 # cond is a boolean array\n",
        "temp = arr[cond]\n",
        "print (\"\\nElements greater than 0:\\n\", temp)\n"
      ],
      "metadata": {
        "colab": {
          "base_uri": "https://localhost:8080/"
        },
        "id": "NWbTxKlzzhaL",
        "outputId": "b08b109c-21a1-4783-db22-56439e361e82"
      },
      "execution_count": 19,
      "outputs": [
        {
          "output_type": "stream",
          "name": "stdout",
          "text": [
            "Array with first 2 rows and alternatecolumns(0 and 2):\n",
            " [[-1.  0.]\n",
            " [ 4.  6.]]\n",
            "\n",
            "Elements at indices (0, 3), (1, 2), (2, 1),(3, 0):\n",
            " [4. 6. 0. 3.]\n",
            "\n",
            "Elements greater than 0:\n",
            " [2.  4.  4.  6.  2.6 7.  8.  3.  4.  2. ]\n"
          ]
        }
      ]
    },
    {
      "cell_type": "code",
      "source": [
        "# Numpy Basic Operations:\n",
        "\n",
        "# 1. Operation on a simgle Numpy array.\n",
        "\n",
        "# Python program to demonstrate\n",
        "# basic operations on single array\n",
        "import numpy as np\n",
        "\n",
        "a = np.array([1, 2, 5, 3])\n",
        "\n",
        "# add 1 to every element\n",
        "print (\"Adding 1 to every element:\", a+1)\n",
        "\n",
        "# subtract 3 from each element\n",
        "print (\"Subtracting 3 from each element:\", a-3)\n",
        "\n",
        "# multiply each element by 10\n",
        "print (\"Multiplying each element by 10:\", a*10)\n",
        "\n",
        "# square each element\n",
        "print (\"Squaring each element:\", a**2)\n",
        "\n",
        "# modify existing array\n",
        "a *= 2\n",
        "print (\"Doubled each element of original array:\", a)\n",
        "\n",
        "# transpose of array\n",
        "a = np.array([[1, 2, 3], [3, 4, 5], [9, 6, 0]])\n",
        "\n",
        "print (\"\\nOriginal array:\\n\", a)\n",
        "print (\"Transpose of array:\\n\", a.T)\n",
        "\n"
      ],
      "metadata": {
        "colab": {
          "base_uri": "https://localhost:8080/"
        },
        "id": "eHJpW6CW0wxB",
        "outputId": "85ae0681-a84e-4b78-af81-e36e463deb62"
      },
      "execution_count": 20,
      "outputs": [
        {
          "output_type": "stream",
          "name": "stdout",
          "text": [
            "Adding 1 to every element: [2 3 6 4]\n",
            "Subtracting 3 from each element: [-2 -1  2  0]\n",
            "Multiplying each element by 10: [10 20 50 30]\n",
            "Squaring each element: [ 1  4 25  9]\n",
            "Doubled each element of original array: [ 2  4 10  6]\n",
            "\n",
            "Original array:\n",
            " [[1 2 3]\n",
            " [3 4 5]\n",
            " [9 6 0]]\n",
            "Transpose of array:\n",
            " [[1 3 9]\n",
            " [2 4 6]\n",
            " [3 5 0]]\n"
          ]
        }
      ]
    },
    {
      "cell_type": "markdown",
      "source": [
        "# Unary Operator in Numpy"
      ],
      "metadata": {
        "id": "xGDSPvda2ktG"
      }
    },
    {
      "cell_type": "code",
      "source": [
        "# Python program to demonstrate\n",
        "# unary operators in numpy\n",
        "import numpy as np\n",
        "\n",
        "arr = np.array([[1, 5, 6],\n",
        "                [4, 7, 2],\n",
        "                [3, 1, 9]])\n",
        "\n",
        "# maximum element of array\n",
        "print (\"Largest element is:\", arr.max())\n",
        "print (\"Row-wise maximum elements:\",\n",
        "                    arr.max(axis = 1))\n",
        "\n",
        "# minimum element of array\n",
        "print (\"Column-wise minimum elements:\",\n",
        "                        arr.min(axis = 0))\n",
        "\n",
        "# sum of array elements\n",
        "print (\"Sum of all array elements:\",\n",
        "                            arr.sum())\n",
        "\n",
        "# cumulative sum along each row\n",
        "print (\"Cumulative sum along each row:\\n\",\n",
        "                        arr.cumsum(axis = 1))\n",
        "\n"
      ],
      "metadata": {
        "colab": {
          "base_uri": "https://localhost:8080/"
        },
        "id": "I66aCXSm2jyF",
        "outputId": "e78bf99e-d7ae-458a-fe32-2dbace414d39"
      },
      "execution_count": 21,
      "outputs": [
        {
          "output_type": "stream",
          "name": "stdout",
          "text": [
            "Largest element is: 9\n",
            "Row-wise maximum elements: [6 7 9]\n",
            "Column-wise minimum elements: [1 1 2]\n",
            "Sum of all array elements: 38\n",
            "Cumulative sum along each row:\n",
            " [[ 1  6 12]\n",
            " [ 4 11 13]\n",
            " [ 3  4 13]]\n"
          ]
        }
      ]
    },
    {
      "cell_type": "markdown",
      "source": [
        "# Binary Operators in Numpy:\n",
        "\n"
      ],
      "metadata": {
        "id": "wciLRCOk3x1y"
      }
    },
    {
      "cell_type": "code",
      "source": [
        "# Python program to demonstrate\n",
        "# binary operators in Numpy\n",
        "import numpy as np\n",
        "\n",
        "a = np.array([[1, 2],\n",
        "            [3, 4]])\n",
        "b = np.array([[4, 3],\n",
        "            [2, 1]])\n",
        "\n",
        "# add arrays\n",
        "print (\"Array sum:\\n\", a + b)\n",
        "\n",
        "# multiply arrays (elementwise multiplication)\n",
        "print (\"Array multiplication:\\n\", a*b)\n",
        "\n",
        "# matrix multiplication\n",
        "print (\"Matrix multiplication:\\n\", a.dot(b))\n"
      ],
      "metadata": {
        "colab": {
          "base_uri": "https://localhost:8080/"
        },
        "id": "S-MRRpi63wGR",
        "outputId": "c0707cea-b38d-44fb-8453-d1d74b03c546"
      },
      "execution_count": 22,
      "outputs": [
        {
          "output_type": "stream",
          "name": "stdout",
          "text": [
            "Array sum:\n",
            " [[5 5]\n",
            " [5 5]]\n",
            "Array multiplication:\n",
            " [[4 6]\n",
            " [6 4]]\n",
            "Matrix multiplication:\n",
            " [[ 8  5]\n",
            " [20 13]]\n"
          ]
        }
      ]
    },
    {
      "cell_type": "markdown",
      "source": [
        "# NUmpy's ufuncs:\n",
        "\n",
        "familiar mathematical functions such as sin, cos, exp"
      ],
      "metadata": {
        "id": "SAb6FWOW6lbJ"
      }
    },
    {
      "cell_type": "code",
      "source": [
        "# Python program to demonstrate\n",
        "# universal functions in numpy\n",
        "import numpy as np\n",
        "\n",
        "# create an array of sine values\n",
        "a = np.array([0, np.pi/2, np.pi])\n",
        "print (\"Sine values of array elements:\", np.sin(a))\n",
        "\n",
        "# exponential values\n",
        "a = np.array([0, 1, 2, 3])\n",
        "print (\"Exponent of array elements:\", np.exp(a))\n",
        "\n",
        "# square root of array values\n",
        "print (\"Square root of array elements:\", np.sqrt(a))\n"
      ],
      "metadata": {
        "colab": {
          "base_uri": "https://localhost:8080/"
        },
        "id": "1qWLBjdO6w29",
        "outputId": "340d08da-3b35-46b8-97fe-d4e62ca74b61"
      },
      "execution_count": 23,
      "outputs": [
        {
          "output_type": "stream",
          "name": "stdout",
          "text": [
            "Sine values of array elements: [0.0000000e+00 1.0000000e+00 1.2246468e-16]\n",
            "Exponent of array elements: [ 1.          2.71828183  7.3890561  20.08553692]\n",
            "Square root of array elements: [0.         1.         1.41421356 1.73205081]\n"
          ]
        }
      ]
    },
    {
      "cell_type": "markdown",
      "source": [
        "#  sorting array with numpy:"
      ],
      "metadata": {
        "id": "9bbZa92x7DKz"
      }
    },
    {
      "cell_type": "code",
      "source": [
        "# Python program to demonstrate sorting in numpy\n",
        "import numpy as np\n",
        "\n",
        "a = np.array([[1, 4, 2],\n",
        "                 [3, 4, 6],\n",
        "              [0, -1, 5]])\n",
        "\n",
        "# sorted array\n",
        "print(\"Array elements in sorted order:\\n\", np.sort(a, axis=None))\n",
        "# sort array row-wise\n",
        "print (\"Row-wise sorted array:\\n\",\n",
        "                np.sort(a, axis = 1))\n",
        "\n",
        "# specify sort algorithm\n",
        "print (\"Column wise sort by applying merge-sort:\\n\",\n",
        "            np.sort(a, axis = 0, kind = 'mergesort'))\n",
        "\n",
        "# Example to show sorting of structured array\n",
        "# set alias names for dtypes\n",
        "dtypes = [('name', 'S10'), ('grad_year', int), ('cgpa', float)]\n",
        "\n",
        "# Values to be put in array\n",
        "values = [('Hrithik', 2009, 8.5), ('Ajay', 2008, 8.7),\n",
        "           ('Pankaj', 2008, 7.9), ('Aakash', 2009, 9.0)]\n",
        "\n",
        "# Creating array\n",
        "arr = np.array(values, dtype = dtypes)\n",
        "print (\"\\nArray sorted by names:\\n\",\n",
        "            np.sort(arr, order = 'name'))\n",
        "\n",
        "print (\"Array sorted by graduation year and then cgpa:\\n\",\n",
        "                np.sort(arr, order = ['grad_year', 'cgpa']))\n"
      ],
      "metadata": {
        "colab": {
          "base_uri": "https://localhost:8080/"
        },
        "id": "0ocQgvv26-3j",
        "outputId": "64cc9ea6-9f85-47bd-c488-caf9522d4372"
      },
      "execution_count": 31,
      "outputs": [
        {
          "output_type": "stream",
          "name": "stdout",
          "text": [
            "Array elements in sorted order:\n",
            " [-1  0  1  2  3  4  4  5  6]\n",
            "Row-wise sorted array:\n",
            " [[ 1  2  4]\n",
            " [ 3  4  6]\n",
            " [-1  0  5]]\n"
          ]
        }
      ]
    },
    {
      "cell_type": "code",
      "source": [
        "# why numpy arrays are better than Python Lists?\n",
        "\n",
        "# NumPy is not only better in performance but it also provides us with several functionalities like broadcasting, indexing, slicing.\n",
        "# NumPy arrays are memory efficient as it stores the homogenous data in contiguous blocks of memory, where lists can store heterogenous data.\n",
        "# NumPy supports multidimensional arrays which allows easy representation.\n"
      ],
      "metadata": {
        "id": "KXv7QVGL7mxe"
      },
      "execution_count": null,
      "outputs": []
    },
    {
      "cell_type": "code",
      "source": [
        "# What are ndarrays in NumPy?\n",
        "# ndarrays or n-dimensional arrays are capable of storing homogenous elements. They have a fixed size which is defined at the time of creation.\n"
      ],
      "metadata": {
        "id": "_5p9SgXw8V_Z"
      },
      "execution_count": null,
      "outputs": []
    },
    {
      "cell_type": "code",
      "source": [
        "# What is Broadcasting?\n",
        "\n",
        "# Broadcasting allows us to perform operations between arrays of different shapes. NumPy arrays can perform element-wise operations. Example:\n",
        "\n",
        "arr1 = np.array([1, 2, 3])\n",
        "arr2 = np.array([[5], [10], [15]])\n",
        "result = arr1 + arr2 #[[6, 7, 8], [11, 12, 13], [16, 17, 18]]\n",
        "\n",
        "result\n",
        "\n"
      ],
      "metadata": {
        "colab": {
          "base_uri": "https://localhost:8080/"
        },
        "id": "5WORMPDe8bKU",
        "outputId": "7d26f784-82de-4b70-e18e-4d570a319ec4"
      },
      "execution_count": 33,
      "outputs": [
        {
          "output_type": "execute_result",
          "data": {
            "text/plain": [
              "array([[ 6,  7,  8],\n",
              "       [11, 12, 13],\n",
              "       [16, 17, 18]])"
            ]
          },
          "metadata": {},
          "execution_count": 33
        }
      ]
    },
    {
      "cell_type": "markdown",
      "source": [
        "# nump.frombuffer\n",
        "\n",
        "This function is used to create an array by using the specified buffer\n",
        "\n",
        "numpy.frombuffer(buffer, dtype = float, count = -1, offset = 0)  \n"
      ],
      "metadata": {
        "id": "Bu2AFdw3Ihim"
      }
    },
    {
      "cell_type": "code",
      "source": [
        "import numpy as np\n",
        "l = b'hello world'\n",
        "print(type(l))\n",
        "a = np.frombuffer(l, dtype = \"S1\")\n",
        "print(a)\n",
        "print(type(a))\n"
      ],
      "metadata": {
        "colab": {
          "base_uri": "https://localhost:8080/"
        },
        "id": "sM9Wj2if-jvH",
        "outputId": "61d7e1ee-3e0a-4176-9d3d-9d67ec9f4782"
      },
      "execution_count": 34,
      "outputs": [
        {
          "output_type": "stream",
          "name": "stdout",
          "text": [
            "<class 'bytes'>\n",
            "[b'h' b'e' b'l' b'l' b'o' b' ' b'w' b'o' b'r' b'l' b'd']\n",
            "<class 'numpy.ndarray'>\n"
          ]
        }
      ]
    },
    {
      "cell_type": "markdown",
      "source": [
        "numpy.fromiter\n",
        "\n",
        "This routine is used to create a ndarray by using an iterable object. It returns a one-dimensional ndarray object.\n",
        "\n",
        "The syntax is given below.\n",
        "\n",
        "numpy.fromiter(iterable, dtype, count = - 1)  "
      ],
      "metadata": {
        "id": "SrNum64-I9JD"
      }
    },
    {
      "cell_type": "code",
      "source": [
        "import numpy as np\n",
        "list = [0,2,4,6]\n",
        "it = iter(list)\n",
        "x = np.fromiter(it, dtype = float)\n",
        "print(x)\n",
        "print(type(x))"
      ],
      "metadata": {
        "colab": {
          "base_uri": "https://localhost:8080/"
        },
        "id": "YD3wZnOlJBeo",
        "outputId": "cb69e0fe-272a-4c11-de95-ea8e4a3d702a"
      },
      "execution_count": 35,
      "outputs": [
        {
          "output_type": "stream",
          "name": "stdout",
          "text": [
            "[0. 2. 4. 6.]\n",
            "<class 'numpy.ndarray'>\n"
          ]
        }
      ]
    },
    {
      "cell_type": "code",
      "source": [
        "# Number array iterations:\n",
        "\n",
        "import numpy as np\n",
        "a = np.array([[1,2,3,4],[2,4,5,6],[10,20,39,3]])\n",
        "print(\"Printing array:\")\n",
        "print(a);\n",
        "print(\"Iterating over the array:\")\n",
        "for x in np.nditer(a):\n",
        "  print(x, end = ' ')\n",
        "\n",
        "  # it sows not folleow column or row wise."
      ],
      "metadata": {
        "colab": {
          "base_uri": "https://localhost:8080/"
        },
        "id": "VWeiSd0RJnWX",
        "outputId": "426e9b19-80dd-40f0-829d-5198b3f366a3"
      },
      "execution_count": 37,
      "outputs": [
        {
          "output_type": "stream",
          "name": "stdout",
          "text": [
            "Printing array:\n",
            "[[ 1  2  3  4]\n",
            " [ 2  4  5  6]\n",
            " [10 20 39  3]]\n",
            "Iterating over the array:\n",
            "1 2 3 4 2 4 5 6 10 20 39 3 "
          ]
        }
      ]
    },
    {
      "cell_type": "code",
      "source": [
        "# order of iteration\n",
        "1. F-Style order\n",
        "2. C-Style order"
      ],
      "metadata": {
        "id": "y8dMlr_SKInh"
      },
      "execution_count": null,
      "outputs": []
    },
    {
      "cell_type": "code",
      "source": [
        "import numpy as np\n",
        "\n",
        "a = np.array([[1,2,3,4],[2,4,5,6],[10,20,39,3]])\n",
        "\n",
        "print(\"\\nPrinting the array:\\n\")\n",
        "\n",
        "print(a)\n",
        "\n",
        "print(\"\\nPrinting the transpose of the array:\\n\")\n",
        "at = a.T\n",
        "\n",
        "print(at)\n",
        "\n",
        "print(\"\\nIterating over the transposed array\\n\")\n",
        "\n",
        "for x in np.nditer(at):\n",
        "    print(x, end= ' ')\n",
        "\n",
        "print(\"\\nSorting the transposed array in C-style:\\n\")\n",
        "\n",
        "c = at.copy(order = 'C')\n",
        "\n",
        "print(c)\n",
        "\n",
        "print(\"\\nIterating over the C-style array:\\n\")\n",
        "for x in np.nditer(c):\n",
        "    print(x,end=' ')\n",
        "\n",
        "\n",
        "d = at.copy(order = 'F')\n",
        "\n",
        "print(d)\n",
        "print(\"Iterating over the F-style array:\\n\")\n",
        "for x in np.nditer(d):\n",
        "    print(x,end=' ')"
      ],
      "metadata": {
        "colab": {
          "base_uri": "https://localhost:8080/"
        },
        "id": "nHQ1cT2QKRPF",
        "outputId": "c34893a4-dfde-4b29-e0b5-ec9334b49a33"
      },
      "execution_count": 39,
      "outputs": [
        {
          "output_type": "stream",
          "name": "stdout",
          "text": [
            "\n",
            "Printing the array:\n",
            "\n",
            "[[ 1  2  3  4]\n",
            " [ 2  4  5  6]\n",
            " [10 20 39  3]]\n",
            "\n",
            "Printing the transpose of the array:\n",
            "\n",
            "[[ 1  2 10]\n",
            " [ 2  4 20]\n",
            " [ 3  5 39]\n",
            " [ 4  6  3]]\n",
            "\n",
            "Iterating over the transposed array\n",
            "\n",
            "1 2 3 4 2 4 5 6 10 20 39 3 \n",
            "Sorting the transposed array in C-style:\n",
            "\n",
            "[[ 1  2 10]\n",
            " [ 2  4 20]\n",
            " [ 3  5 39]\n",
            " [ 4  6  3]]\n",
            "\n",
            "Iterating over the C-style array:\n",
            "\n",
            "1 2 10 2 4 20 3 5 39 4 6 3 [[ 1  2 10]\n",
            " [ 2  4 20]\n",
            " [ 3  5 39]\n",
            " [ 4  6  3]]\n",
            "Iterating over the F-style array:\n",
            "\n",
            "1 2 3 4 2 4 5 6 10 20 39 3 "
          ]
        }
      ]
    },
    {
      "cell_type": "markdown",
      "source": [
        "# Numpy String Function"
      ],
      "metadata": {
        "id": "ZcIcK7ycK4zZ"
      }
    },
    {
      "cell_type": "code",
      "source": [
        "# numpy.char.add() method examples.\n",
        "\n",
        "import numpy as np\n",
        "print(\"Conatinate two string arrays: \")\n",
        "print(np.char.add([\"Welcome\",\"Hi \"],[\"to JavaPoint\", \"read Python\"]))"
      ],
      "metadata": {
        "colab": {
          "base_uri": "https://localhost:8080/"
        },
        "id": "lzCLo_FdK4WB",
        "outputId": "9c1a10e5-5d64-4737-810c-d404b622ca6c"
      },
      "execution_count": 41,
      "outputs": [
        {
          "output_type": "stream",
          "name": "stdout",
          "text": [
            "Conatinate two string arrays: \n",
            "['Welcometo JavaPoint' 'Hi read Python']\n"
          ]
        }
      ]
    },
    {
      "cell_type": "markdown",
      "source": [
        "numpy.char.multiply() methods"
      ],
      "metadata": {
        "id": "DSyvzBr5Lhkx"
      }
    },
    {
      "cell_type": "code",
      "source": [
        "import numpy as np\n",
        "print(\"Printing a string multiple times:\")\n",
        "print(np.char.multiply(\"hello \",3))\n"
      ],
      "metadata": {
        "colab": {
          "base_uri": "https://localhost:8080/"
        },
        "id": "h5wUYfRrLmid",
        "outputId": "a1a956a0-47d5-40d5-aa60-a4f757ee117c"
      },
      "execution_count": 42,
      "outputs": [
        {
          "output_type": "stream",
          "name": "stdout",
          "text": [
            "Printing a string multiple times:\n",
            "hello hello hello \n"
          ]
        }
      ]
    },
    {
      "cell_type": "markdown",
      "source": [
        "# numpy.char.center() method examples..\n"
      ],
      "metadata": {
        "id": "lC4iRIylLq3R"
      }
    },
    {
      "cell_type": "code",
      "source": [
        "import numpy as np\n",
        "print(\"Padding the string through left and right with the fill char..\")\n",
        "#np.char.center(string, width, fillchar)\n",
        "print(np.char.center(\"Javatpoint\", 20, '*'))\n"
      ],
      "metadata": {
        "colab": {
          "base_uri": "https://localhost:8080/"
        },
        "id": "ForYsnHtLxWI",
        "outputId": "f1d6bf7e-9620-4eb5-b304-5ddb66d5c042"
      },
      "execution_count": 43,
      "outputs": [
        {
          "output_type": "stream",
          "name": "stdout",
          "text": [
            "Padding the string through left and right with the fill char..\n",
            "*****Javatpoint*****\n"
          ]
        }
      ]
    },
    {
      "cell_type": "markdown",
      "source": [
        "numpy.char.capitalize() method"
      ],
      "metadata": {
        "id": "aoKO0GnbMGQL"
      }
    },
    {
      "cell_type": "code",
      "source": [
        "import numpy as np\n",
        "print(\"Capitalizing the string using capitalize()...\")\n",
        "print(np.char.capitalize(\"welcome to javatpoint\"))"
      ],
      "metadata": {
        "colab": {
          "base_uri": "https://localhost:8080/"
        },
        "id": "FteHELiHMDVs",
        "outputId": "3196cb28-985f-4171-d7ee-9026f0814f5b"
      },
      "execution_count": 44,
      "outputs": [
        {
          "output_type": "stream",
          "name": "stdout",
          "text": [
            "Capitalizing the string using capitalize()...\n",
            "Welcome to javatpoint\n"
          ]
        }
      ]
    },
    {
      "cell_type": "markdown",
      "source": [
        "numpy.char.title() method"
      ],
      "metadata": {
        "id": "6_edwM3JMNWl"
      }
    },
    {
      "cell_type": "code",
      "source": [
        "\n",
        "print(\"Converting string into title cased version...\")\n",
        "print(np.char.title(\"welcome to javatpoint\"))\n"
      ],
      "metadata": {
        "colab": {
          "base_uri": "https://localhost:8080/"
        },
        "id": "3sVeNokTMN1z",
        "outputId": "047da267-88a4-43ca-dfb6-9a115321199f"
      },
      "execution_count": 45,
      "outputs": [
        {
          "output_type": "stream",
          "name": "stdout",
          "text": [
            "Converting string into title cased version...\n",
            "Welcome To Javatpoint\n"
          ]
        }
      ]
    },
    {
      "cell_type": "markdown",
      "source": [
        "numpy.char.lower() method"
      ],
      "metadata": {
        "id": "c4kPpKyKMTsk"
      }
    },
    {
      "cell_type": "code",
      "source": [
        "print(\"Convert all the characters into lower case: \")\n",
        "print(np.char.lower(\"JavaPoint Welcome\"))"
      ],
      "metadata": {
        "colab": {
          "base_uri": "https://localhost:8080/"
        },
        "id": "tW-z7WOUMTA1",
        "outputId": "6204a656-4fa2-4f37-e3a3-116ac3a0af94"
      },
      "execution_count": 46,
      "outputs": [
        {
          "output_type": "stream",
          "name": "stdout",
          "text": [
            "Convert all the characters into lower case: \n",
            "javapoint welcome\n"
          ]
        }
      ]
    },
    {
      "cell_type": "markdown",
      "source": [
        "np.char.upper() method"
      ],
      "metadata": {
        "id": "aCnVdQQVMuKF"
      }
    },
    {
      "cell_type": "code",
      "source": [
        "print(np.char.upper(\"Nitishds dcbjnskmncsc\"))"
      ],
      "metadata": {
        "colab": {
          "base_uri": "https://localhost:8080/"
        },
        "id": "GHvIDAUpMtDP",
        "outputId": "55c14792-b94a-45a8-a65a-6cec8ea1b3f7"
      },
      "execution_count": 47,
      "outputs": [
        {
          "output_type": "stream",
          "name": "stdout",
          "text": [
            "NITISHDS DCBJNSKMNCSC\n"
          ]
        }
      ]
    },
    {
      "cell_type": "markdown",
      "source": [
        "# built function in string it mores:\n",
        "1. np.char.split()\n",
        "2. np.char.splitlines()\n",
        "3. np.char.strip()\n",
        "4. np.char.join()\n",
        "\n",
        "5. np.char.replace()\n",
        "6. np.char.encode() and decode()\n",
        "\n"
      ],
      "metadata": {
        "id": "ARbxHVF6M3B4"
      }
    },
    {
      "cell_type": "markdown",
      "source": [
        "# Numpy Mathematicals function\n",
        "\n",
        "1. Rounding function\n",
        "2. Trignmetry fucntions."
      ],
      "metadata": {
        "id": "FckktcJsN4-o"
      }
    },
    {
      "cell_type": "code",
      "source": [
        "# Rounding fucntions:\n",
        "\n",
        "# the numpy.around() function: This function returns a decimal value rounded to a desired position of the decimal.\n",
        "\n",
        "# numpy.around(num, decimals)\n",
        "\n",
        "import numpy as np\n",
        "arr = np.array([12.202, 90.23120, 123.020, 23.202])\n",
        "print(\"printing the original array values:\",end = \" \")\n",
        "print(arr)\n",
        "print(\"Array values rounded off to 2 decimal position\",np.around(arr, 2))\n",
        "print(\"Array values rounded off to -1 decimal position\",np.around(arr, -1))\n",
        "\n"
      ],
      "metadata": {
        "colab": {
          "base_uri": "https://localhost:8080/"
        },
        "id": "URHdIpwHN9FA",
        "outputId": "4e2b30dc-3d44-4207-a0af-de50460b5ce9"
      },
      "execution_count": 48,
      "outputs": [
        {
          "output_type": "stream",
          "name": "stdout",
          "text": [
            "printing the original array values: [ 12.202   90.2312 123.02    23.202 ]\n",
            "Array values rounded off to 2 decimal position [ 12.2   90.23 123.02  23.2 ]\n",
            "Array values rounded off to -1 decimal position [ 10.  90. 120.  20.]\n"
          ]
        }
      ]
    },
    {
      "cell_type": "code",
      "source": [
        "# the numpy.floor() function : This function is used to return the floor value of the input data which is the largest integer not greater than the input value.\n",
        "\n",
        "import numpy as np\n",
        "arr = np.array([12.202, 90.23120, 123.020, 23.202])\n",
        "print(np.floor(arr))"
      ],
      "metadata": {
        "colab": {
          "base_uri": "https://localhost:8080/"
        },
        "id": "CqE3oHTWOOuU",
        "outputId": "1e231890-973c-4f2f-c4e5-2df65e6dbe63"
      },
      "execution_count": 49,
      "outputs": [
        {
          "output_type": "stream",
          "name": "stdout",
          "text": [
            "[ 12.  90. 123.  23.]\n"
          ]
        }
      ]
    },
    {
      "cell_type": "code",
      "source": [
        "# The numpy.ceil() function\n",
        "# This function is used to return the ceiling value of the array values which is the smallest integer value greater than the array element.\n",
        "\n",
        "\n",
        "import numpy as np\n",
        "arr = np.array([12.202, 90.23120, 123.020, 23.202])\n",
        "print(np.ceil(arr))"
      ],
      "metadata": {
        "colab": {
          "base_uri": "https://localhost:8080/"
        },
        "id": "O29ItPtWOkNE",
        "outputId": "3df3ac89-b2e9-496d-dc42-b59bb095d777"
      },
      "execution_count": 50,
      "outputs": [
        {
          "output_type": "stream",
          "name": "stdout",
          "text": [
            "[ 13.  91. 124.  24.]\n"
          ]
        }
      ]
    },
    {
      "cell_type": "code",
      "source": [],
      "metadata": {
        "id": "yjrrdxsPO073"
      },
      "execution_count": null,
      "outputs": []
    },
    {
      "cell_type": "markdown",
      "source": [
        "# Numpy statistical functions:\n",
        "\n",
        "find the minimum and maximum elements from the array:\n",
        "\n",
        "1. numpy.amin()\n",
        "2. numpy.amax()"
      ],
      "metadata": {
        "id": "lF4izTpMQzMr"
      }
    },
    {
      "cell_type": "code",
      "source": [
        "import numpy as np\n",
        "\n",
        "a = np.array([[2,10,20],[80,43,31],[22,43,10]])\n",
        "\n",
        "print(\"The original array:\\n\")\n",
        "print(a)\n",
        "\n",
        "print(\"The minimum elemetns : \", np.amin(a))\n",
        "print(\"The aximum elemetns : \", np.amax(a))\n",
        "\n",
        "print(\"The minimum elemetns in the rows: \", np.amin(a,0))\n",
        "print(\"The maximum elemetns in the rows: \", np.amax(a,0))\n",
        "\n",
        "\n",
        "print(\"The minimum elemetns in the rows: \", np.amin(a,1))\n",
        "print(\"The maximum elemetns in the rows: \", np.amax(a,1))\n"
      ],
      "metadata": {
        "colab": {
          "base_uri": "https://localhost:8080/"
        },
        "id": "iBfp7jAZPBgS",
        "outputId": "21c00be5-723f-47ee-fc1e-c50c3a79580a"
      },
      "execution_count": 55,
      "outputs": [
        {
          "output_type": "stream",
          "name": "stdout",
          "text": [
            "The original array:\n",
            "\n",
            "[[ 2 10 20]\n",
            " [80 43 31]\n",
            " [22 43 10]]\n",
            "The minimum elemetns :  2\n",
            "The aximum elemetns :  80\n",
            "The minimum elemetns in the rows:  [ 2 10 10]\n",
            "The maximum elemetns in the rows:  [80 43 31]\n",
            "The minimum elemetns in the rows:  [ 2 31 10]\n",
            "The maximum elemetns in the rows:  [20 80 43]\n"
          ]
        }
      ]
    },
    {
      "cell_type": "code",
      "source": [
        "# numpy.ptp() function\n",
        "\n",
        "# The name of the function numpy.ptp() is derived from the name peak-to-peak.\n",
        "\n",
        "# np.ptp(a, 1) calculates the peak-to-peak value (the difference between the maximum and minimum values) along axis 1 (rows) for the array a.\n",
        "\n",
        "import numpy as np\n",
        "\n",
        "a = np.array([[2,10,20],[80,43,31],[22,43,10]])\n",
        "\n",
        "print(\"Original array:\\n\",a)\n",
        "\n",
        "print(\"\\nptp value along axis 1:\",np.ptp(a,1))\n",
        "\n",
        "print(\"ptp value along axis 0:\",np.ptp(a,0))\n"
      ],
      "metadata": {
        "colab": {
          "base_uri": "https://localhost:8080/"
        },
        "id": "j0g_pIFASAd3",
        "outputId": "ab6f9e73-b265-4706-efd1-32dc0b116be3"
      },
      "execution_count": 56,
      "outputs": [
        {
          "output_type": "stream",
          "name": "stdout",
          "text": [
            "Original array:\n",
            " [[ 2 10 20]\n",
            " [80 43 31]\n",
            " [22 43 10]]\n",
            "\n",
            "ptp value along axis 1: [18 49 33]\n",
            "ptp value along axis 0: [78 33 21]\n"
          ]
        }
      ]
    },
    {
      "cell_type": "markdown",
      "source": [
        "# numpy.percentile() fucntion\n",
        "\n",
        "numpy.percentile(input, q, axis)  "
      ],
      "metadata": {
        "id": "qHN7EE2PTH_F"
      }
    },
    {
      "cell_type": "markdown",
      "source": [
        "It accepts the following parameters.\n",
        "\n",
        "input: It is the input array.\n",
        "q: It is the percentile (1-100) which is calculated of the array element.\n",
        "\n",
        "axis: It is the axis along which the percentile is to be calculated.\n"
      ],
      "metadata": {
        "id": "J2bTDchYTdRP"
      }
    },
    {
      "cell_type": "code",
      "source": [
        "import numpy as np\n",
        "\n",
        "a = np.array([[2,10,20],[80,43,31],[22,43,10]])\n",
        "\n",
        "print(\"Array:\\n\",a)\n",
        "\n",
        "print(\"\\nPercentile along axis 0\",np.percentile(a, 10,0))\n",
        "\n",
        "print(\"Percentile along axis 1\",np.percentile(a, 10, 1))"
      ],
      "metadata": {
        "colab": {
          "base_uri": "https://localhost:8080/"
        },
        "id": "UQ0bXRr-TMRb",
        "outputId": "135c9af6-ca4e-40f6-83e7-aaf65e3faa2f"
      },
      "execution_count": 57,
      "outputs": [
        {
          "output_type": "stream",
          "name": "stdout",
          "text": [
            "Array:\n",
            " [[ 2 10 20]\n",
            " [80 43 31]\n",
            " [22 43 10]]\n",
            "\n",
            "Percentile along axis 0 [ 6.  16.6 12. ]\n",
            "Percentile along axis 1 [ 3.6 33.4 12.4]\n"
          ]
        }
      ]
    },
    {
      "cell_type": "markdown",
      "source": [
        "# Calculating mean and median and average of array items.\n"
      ],
      "metadata": {
        "id": "3UbFFqRxV4Ai"
      }
    },
    {
      "cell_type": "markdown",
      "source": [
        "1 the numpy.median() fucntion\n",
        "2. the numpy.mean()\n",
        "3. the numpy.average()"
      ],
      "metadata": {
        "id": "09R6VYuPV_FG"
      }
    },
    {
      "cell_type": "code",
      "source": [
        "import numpy as np\n",
        "\n",
        "a = np.array([[1,2,3],[4,5,6],[7,8,9]])\n",
        "\n",
        "print(\"Array:\\n\",a)\n",
        "\n",
        "print(\"\\nMedian of array along axis 0:\",np.median(a,0))\n",
        "print(\"Mean of array along axis 0:\",np.mean(a,0))\n",
        "print(\"Average of array along axis 1:\",np.average(a,1))"
      ],
      "metadata": {
        "colab": {
          "base_uri": "https://localhost:8080/"
        },
        "id": "gQYqeLIzWCeh",
        "outputId": "a0eb7620-57b8-4289-97bf-0c6ccfce8e73"
      },
      "execution_count": 58,
      "outputs": [
        {
          "output_type": "stream",
          "name": "stdout",
          "text": [
            "Array:\n",
            " [[1 2 3]\n",
            " [4 5 6]\n",
            " [7 8 9]]\n",
            "\n",
            "Median of array along axis 0: [4. 5. 6.]\n",
            "Mean of array along axis 0: [4. 5. 6.]\n",
            "Average of array along axis 1: [2. 5. 8.]\n"
          ]
        }
      ]
    },
    {
      "cell_type": "markdown",
      "source": [
        "# Numpy Matric Library"
      ],
      "metadata": {
        "id": "DUnh_MxMXCwv"
      }
    },
    {
      "cell_type": "code",
      "source": [
        "# numpy.matlib.empty() function\n",
        "\n",
        "# numpy.matlib.empty(shape, dtype, order)\n",
        "\n",
        "import numpy as np\n",
        "\n",
        "import numpy.matlib\n",
        "print(numpy.matlib.empty((3,3)))\n",
        "\n"
      ],
      "metadata": {
        "colab": {
          "base_uri": "https://localhost:8080/"
        },
        "id": "gTEdcMsmXIh-",
        "outputId": "460353cb-6d78-4ff1-c14c-72a432f603bb"
      },
      "execution_count": 63,
      "outputs": [
        {
          "output_type": "stream",
          "name": "stdout",
          "text": [
            "[[9.88e-324 4.94e-323 9.88e-323]\n",
            " [3.95e-322 2.12e-322 1.53e-322]\n",
            " [1.09e-322 2.12e-322 4.94e-323]]\n"
          ]
        }
      ]
    },
    {
      "cell_type": "markdown",
      "source": [
        "numpy.matlib.zeros() function\n",
        "# This function is used to create the matrix where the entries are initialized to zero."
      ],
      "metadata": {
        "id": "PHnDuH3zX4-t"
      }
    },
    {
      "cell_type": "code",
      "source": [
        "import numpy as np\n",
        "\n",
        "import numpy.matlib\n",
        "\n",
        "print(numpy.matlib.zeros((4,3)))"
      ],
      "metadata": {
        "colab": {
          "base_uri": "https://localhost:8080/"
        },
        "id": "iQsGESwUX6rj",
        "outputId": "ffc495a1-39b1-4991-ef39-4eb6d3d72c4e"
      },
      "execution_count": 64,
      "outputs": [
        {
          "output_type": "stream",
          "name": "stdout",
          "text": [
            "[[0. 0. 0.]\n",
            " [0. 0. 0.]\n",
            " [0. 0. 0.]\n",
            " [0. 0. 0.]]\n"
          ]
        }
      ]
    },
    {
      "cell_type": "markdown",
      "source": [
        "# numpy.matlib.ones() function :\n",
        "This function returns a matrix with all the elements initialized to 1.\n"
      ],
      "metadata": {
        "id": "ythpmEqKX9QK"
      }
    },
    {
      "cell_type": "code",
      "source": [
        "import numpy as np\n",
        "\n",
        "import numpy.matlib\n",
        "\n",
        "print(numpy.matlib.ones((2,2)))"
      ],
      "metadata": {
        "colab": {
          "base_uri": "https://localhost:8080/"
        },
        "id": "HOLQiXdhYJon",
        "outputId": "ddde68dd-0742-4243-a975-500e88460b0f"
      },
      "execution_count": 65,
      "outputs": [
        {
          "output_type": "stream",
          "name": "stdout",
          "text": [
            "[[1. 1.]\n",
            " [1. 1.]]\n"
          ]
        }
      ]
    },
    {
      "cell_type": "markdown",
      "source": [
        "# numpy.matlib.eye() function\n",
        "\n",
        "This function returns a matrix with the diagonal elements initialized to 1 and zero elsewhere. The syntax to use this function is given below.\n",
        "\n",
        "numpy.matlib.eye(n, m, k, dtype)   "
      ],
      "metadata": {
        "id": "zxNi9PmkYPES"
      }
    },
    {
      "cell_type": "code",
      "source": [
        "import numpy as np\n",
        "\n",
        "import numpy.matlib\n",
        "\n",
        "print(numpy.matlib.eye(n = 3, M = 3, k = 0, dtype = int))"
      ],
      "metadata": {
        "colab": {
          "base_uri": "https://localhost:8080/"
        },
        "id": "vM7FhFjtYNf-",
        "outputId": "a75b4c42-0e55-4e55-a3dd-19648a119c80"
      },
      "execution_count": 66,
      "outputs": [
        {
          "output_type": "stream",
          "name": "stdout",
          "text": [
            "[[1 0 0]\n",
            " [0 1 0]\n",
            " [0 0 1]]\n"
          ]
        }
      ]
    },
    {
      "cell_type": "markdown",
      "source": [
        "umpy.matlib.identity() function\n",
        "This function is used to return an identity matrix of the given size. An identity matrix is the one with diagonal elements initializes to 1 and all other elements to zero.\n",
        "\n",
        "numpy.matlib.rand() function\n",
        "This function is used to generate a matrix where all the entries are initialized with random values."
      ],
      "metadata": {
        "id": "bAspAdPmYgLi"
      }
    },
    {
      "cell_type": "code",
      "source": [],
      "metadata": {
        "id": "vrP69kp3YoG7"
      },
      "execution_count": null,
      "outputs": []
    },
    {
      "cell_type": "markdown",
      "source": [
        "# Numpy Matrix Multiplication"
      ],
      "metadata": {
        "id": "Fagmlx5i147c"
      }
    },
    {
      "cell_type": "code",
      "source": [
        "import numpy as np\n",
        "arr1 = np.array([[1,2,3],[4,5,6],[7,8,9]], ndmin=3)\n",
        "arr2 = np.array([[9,8,7],[6,5,4],[3,2,1]], ndmin = 3)\n",
        "result = np.multiply(arr1,arr2)\n",
        "result"
      ],
      "metadata": {
        "id": "ZlI-Okzy2AgH",
        "outputId": "c87e9a13-6ea7-4315-c2b8-26a4be6bc6c2",
        "colab": {
          "base_uri": "https://localhost:8080/"
        }
      },
      "execution_count": 1,
      "outputs": [
        {
          "output_type": "execute_result",
          "data": {
            "text/plain": [
              "array([[[ 9, 16, 21],\n",
              "        [24, 25, 24],\n",
              "        [21, 16,  9]]])"
            ]
          },
          "metadata": {},
          "execution_count": 1
        }
      ]
    },
    {
      "cell_type": "markdown",
      "source": [
        "# Matrix product"
      ],
      "metadata": {
        "id": "tLt-_X0-3DDc"
      }
    },
    {
      "cell_type": "code",
      "source": [
        "import numpy as np\n",
        "array1=np.array([[1,2,3],[4,5,6],[7,8,9]],ndmin=3)\n",
        "array2=np.array([[9,8,7],[6,5,4],[3,2,1]],ndmin=3)\n",
        "result=np.matmul(array1,array2)\n",
        "result"
      ],
      "metadata": {
        "id": "qTTsoVvn3GTg",
        "outputId": "a26cae83-f20f-4646-e372-1ddb45bdcda5",
        "colab": {
          "base_uri": "https://localhost:8080/"
        }
      },
      "execution_count": 2,
      "outputs": [
        {
          "output_type": "execute_result",
          "data": {
            "text/plain": [
              "array([[[ 30,  24,  18],\n",
              "        [ 84,  69,  54],\n",
              "        [138, 114,  90]]])"
            ]
          },
          "metadata": {},
          "execution_count": 2
        }
      ]
    },
    {
      "cell_type": "markdown",
      "source": [
        "# Dot Product"
      ],
      "metadata": {
        "id": "QE6RNwK03K9v"
      }
    },
    {
      "cell_type": "code",
      "source": [
        "import numpy as np\n",
        "array1=np.array([[1,2,3],[4,5,6],[7,8,9]],ndmin=3)\n",
        "array2=np.array([[9,8,7],[6,5,4],[3,2,1]],ndmin=3)\n",
        "result=np.dot(array1,array2)\n",
        "result"
      ],
      "metadata": {
        "id": "h2mHIr-q3NmM",
        "outputId": "135805ea-b7bc-426b-a9d2-3a8fbbf9fb70",
        "colab": {
          "base_uri": "https://localhost:8080/"
        }
      },
      "execution_count": 3,
      "outputs": [
        {
          "output_type": "execute_result",
          "data": {
            "text/plain": [
              "array([[[[ 30,  24,  18]],\n",
              "\n",
              "        [[ 84,  69,  54]],\n",
              "\n",
              "        [[138, 114,  90]]]])"
            ]
          },
          "metadata": {},
          "execution_count": 3
        }
      ]
    },
    {
      "cell_type": "markdown",
      "source": [
        "NUMPY.MEAN()"
      ],
      "metadata": {
        "id": "5yMIQYsG4wrj"
      }
    },
    {
      "cell_type": "code",
      "source": [
        "import numpy as np\n",
        "a = np.array([[1, 2], [3, 4]])\n",
        "b=np.mean(a)\n",
        "x = np.array([[5, 6], [7, 34]])\n",
        "y=np.mean(x)\n",
        "print(b)\n",
        "print(y)"
      ],
      "metadata": {
        "id": "tFdsqg814wYi",
        "outputId": "15c7291c-e368-4b37-afeb-520e9bcc62af",
        "colab": {
          "base_uri": "https://localhost:8080/"
        }
      },
      "execution_count": 7,
      "outputs": [
        {
          "output_type": "stream",
          "name": "stdout",
          "text": [
            "2.5\n",
            "13.0\n"
          ]
        }
      ]
    },
    {
      "cell_type": "code",
      "source": [
        "import numpy as np\n",
        "a = np.array([[1,2,3],[4,5,6]])\n",
        "b = np.mean(a, axis=0)\n",
        "c=np.mean(a, axis=1)\n",
        "print(b)\n",
        "print(c)"
      ],
      "metadata": {
        "id": "AZTL8a3E5MMi",
        "outputId": "6f2bcfc4-a450-4e1e-8d68-515458585755",
        "colab": {
          "base_uri": "https://localhost:8080/"
        }
      },
      "execution_count": 10,
      "outputs": [
        {
          "output_type": "stream",
          "name": "stdout",
          "text": [
            "[2.5 3.5 4.5]\n",
            "[2. 5.]\n"
          ]
        }
      ]
    },
    {
      "cell_type": "code",
      "source": [
        "import numpy as np\n",
        "a = np.zeros((2, 512*512), dtype=np.float32)\n",
        "a[0, :] = 23.0\n",
        "a[1, :] = 32.0\n",
        "c=np.mean(a)\n",
        "c"
      ],
      "metadata": {
        "id": "o98IjVoJ5mQJ",
        "outputId": "78605754-cb4f-4a96-ddc7-ba720df6b891",
        "colab": {
          "base_uri": "https://localhost:8080/"
        }
      },
      "execution_count": 11,
      "outputs": [
        {
          "output_type": "execute_result",
          "data": {
            "text/plain": [
              "27.5"
            ]
          },
          "metadata": {},
          "execution_count": 11
        }
      ]
    },
    {
      "cell_type": "code",
      "source": [
        "import numpy as np\n",
        "a[0, :] = 2.0\n",
        "a[1, :] = 0.2\n",
        "c=np.mean(a)\n",
        "c\n",
        "d=np.mean(a, dtype=np.float64)\n",
        "d"
      ],
      "metadata": {
        "id": "JssKmnFa5olW",
        "outputId": "e850827e-dd22-47f1-f032-f7288bfec36d",
        "colab": {
          "base_uri": "https://localhost:8080/"
        }
      },
      "execution_count": 12,
      "outputs": [
        {
          "output_type": "execute_result",
          "data": {
            "text/plain": [
              "1.1000000014901161"
            ]
          },
          "metadata": {},
          "execution_count": 12
        }
      ]
    }
  ]
}