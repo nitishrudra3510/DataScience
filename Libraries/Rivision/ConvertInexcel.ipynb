{
 "cells": [
  {
   "cell_type": "code",
   "execution_count": 1,
   "metadata": {},
   "outputs": [],
   "source": [
    "import pandas as pd"
   ]
  },
  {
   "cell_type": "code",
   "execution_count": 2,
   "metadata": {},
   "outputs": [],
   "source": [
    "data = {\n",
    "    'Name': ['Alice', 'Bob', 'Charlie'],\n",
    "    'Age': [25, 30, 35],\n",
    "    'City': ['New York', 'Los Angeles', 'Chicago']\n",
    "}\n",
    "df = pd.DataFrame(data)"
   ]
  },
  {
   "cell_type": "code",
   "execution_count": 3,
   "metadata": {},
   "outputs": [
    {
     "data": {
      "text/html": [
       "<div>\n",
       "<style scoped>\n",
       "    .dataframe tbody tr th:only-of-type {\n",
       "        vertical-align: middle;\n",
       "    }\n",
       "\n",
       "    .dataframe tbody tr th {\n",
       "        vertical-align: top;\n",
       "    }\n",
       "\n",
       "    .dataframe thead th {\n",
       "        text-align: right;\n",
       "    }\n",
       "</style>\n",
       "<table border=\"1\" class=\"dataframe\">\n",
       "  <thead>\n",
       "    <tr style=\"text-align: right;\">\n",
       "      <th></th>\n",
       "      <th>Name</th>\n",
       "      <th>Age</th>\n",
       "      <th>City</th>\n",
       "    </tr>\n",
       "  </thead>\n",
       "  <tbody>\n",
       "    <tr>\n",
       "      <th>0</th>\n",
       "      <td>Alice</td>\n",
       "      <td>25</td>\n",
       "      <td>New York</td>\n",
       "    </tr>\n",
       "    <tr>\n",
       "      <th>1</th>\n",
       "      <td>Bob</td>\n",
       "      <td>30</td>\n",
       "      <td>Los Angeles</td>\n",
       "    </tr>\n",
       "    <tr>\n",
       "      <th>2</th>\n",
       "      <td>Charlie</td>\n",
       "      <td>35</td>\n",
       "      <td>Chicago</td>\n",
       "    </tr>\n",
       "  </tbody>\n",
       "</table>\n",
       "</div>"
      ],
      "text/plain": [
       "      Name  Age         City\n",
       "0    Alice   25     New York\n",
       "1      Bob   30  Los Angeles\n",
       "2  Charlie   35      Chicago"
      ]
     },
     "execution_count": 3,
     "metadata": {},
     "output_type": "execute_result"
    }
   ],
   "source": [
    "df"
   ]
  },
  {
   "cell_type": "code",
   "execution_count": 4,
   "metadata": {},
   "outputs": [
    {
     "name": "stdout",
     "output_type": "stream",
     "text": [
      "Excel file created: /Users/nitishkumar/Documents/output.xlsx\n"
     ]
    }
   ],
   "source": [
    "# Step 1: Import the pandas library\n",
    "import pandas as pd\n",
    "\n",
    "# Step 2: Create a DataFrame\n",
    "data = {\n",
    "    'Name': ['Alice', 'Bob', 'Charlie'],\n",
    "    'Age': [25, 30, 35],\n",
    "    'City': ['New York', 'Los Angeles', 'Chicago']\n",
    "}\n",
    "\n",
    "df = pd.DataFrame(data)\n",
    "\n",
    "# Step 3: Specify the output path in the Documents directory\n",
    "output_path = '/Users/nitishkumar/Documents/output.xlsx'  # Specify the file name here\n",
    "\n",
    "# Step 4: Create the Excel file from the DataFrame\n",
    "df.to_excel(output_path, index=False, sheet_name='Data')\n",
    "\n",
    "print(f\"Excel file created: {output_path}\")"
   ]
  },
  {
   "cell_type": "code",
   "execution_count": 5,
   "metadata": {},
   "outputs": [],
   "source": [
    "df = { \"Name\": ['nitish', 'abhijeet', 'swayam'], 'marks': [90, 60, 95]}\n",
    "data = pd.DataFrame(df)"
   ]
  },
  {
   "cell_type": "code",
   "execution_count": 6,
   "metadata": {},
   "outputs": [
    {
     "data": {
      "text/html": [
       "<div>\n",
       "<style scoped>\n",
       "    .dataframe tbody tr th:only-of-type {\n",
       "        vertical-align: middle;\n",
       "    }\n",
       "\n",
       "    .dataframe tbody tr th {\n",
       "        vertical-align: top;\n",
       "    }\n",
       "\n",
       "    .dataframe thead th {\n",
       "        text-align: right;\n",
       "    }\n",
       "</style>\n",
       "<table border=\"1\" class=\"dataframe\">\n",
       "  <thead>\n",
       "    <tr style=\"text-align: right;\">\n",
       "      <th></th>\n",
       "      <th>Name</th>\n",
       "      <th>marks</th>\n",
       "    </tr>\n",
       "  </thead>\n",
       "  <tbody>\n",
       "    <tr>\n",
       "      <th>0</th>\n",
       "      <td>nitish</td>\n",
       "      <td>90</td>\n",
       "    </tr>\n",
       "    <tr>\n",
       "      <th>1</th>\n",
       "      <td>abhijeet</td>\n",
       "      <td>60</td>\n",
       "    </tr>\n",
       "    <tr>\n",
       "      <th>2</th>\n",
       "      <td>swayam</td>\n",
       "      <td>95</td>\n",
       "    </tr>\n",
       "  </tbody>\n",
       "</table>\n",
       "</div>"
      ],
      "text/plain": [
       "       Name  marks\n",
       "0    nitish     90\n",
       "1  abhijeet     60\n",
       "2    swayam     95"
      ]
     },
     "execution_count": 6,
     "metadata": {},
     "output_type": "execute_result"
    }
   ],
   "source": [
    "data"
   ]
  },
  {
   "cell_type": "code",
   "execution_count": 15,
   "metadata": {},
   "outputs": [
    {
     "ename": "AttributeError",
     "evalue": "'dict' object has no attribute 'to_excel'",
     "output_type": "error",
     "traceback": [
      "\u001b[0;31m---------------------------------------------------------------------------\u001b[0m",
      "\u001b[0;31mAttributeError\u001b[0m                            Traceback (most recent call last)",
      "Cell \u001b[0;32mIn[15], line 1\u001b[0m\n\u001b[0;32m----> 1\u001b[0m data\u001b[38;5;241m.\u001b[39mto_excel(\u001b[38;5;124m'\u001b[39m\u001b[38;5;124m/Users/nitishkumar/Documents/GitHub/DataScience/Libraries/excel.xlsx\u001b[39m\u001b[38;5;124m'\u001b[39m, index \u001b[38;5;241m=\u001b[39m \u001b[38;5;28;01mFalse\u001b[39;00m, sheet_name\u001b[38;5;241m=\u001b[39m\u001b[38;5;124m\"\u001b[39m\u001b[38;5;124mresult\u001b[39m\u001b[38;5;124m\"\u001b[39m)\n",
      "\u001b[0;31mAttributeError\u001b[0m: 'dict' object has no attribute 'to_excel'"
     ]
    }
   ],
   "source": [
    "data.to_excel('/Users/nitishkumar/Documents/GitHub/DataScience/Libraries/excel2.xlsx', index = False, sheet_name=\"result\")"
   ]
  },
  {
   "cell_type": "code",
   "execution_count": 16,
   "metadata": {},
   "outputs": [
    {
     "ename": "AttributeError",
     "evalue": "'dict' object has no attribute 'to_excel'",
     "output_type": "error",
     "traceback": [
      "\u001b[0;31m---------------------------------------------------------------------------\u001b[0m",
      "\u001b[0;31mAttributeError\u001b[0m                            Traceback (most recent call last)",
      "Cell \u001b[0;32mIn[16], line 3\u001b[0m\n\u001b[1;32m      1\u001b[0m \u001b[38;5;66;03m# another method \u001b[39;00m\n\u001b[1;32m      2\u001b[0m output_path \u001b[38;5;241m=\u001b[39m \u001b[38;5;124m'\u001b[39m\u001b[38;5;124m/Users/nitishkumar/Documents/GitHub/DataScience/Libraries/excel.xlsx\u001b[39m\u001b[38;5;124m'\u001b[39m\n\u001b[0;32m----> 3\u001b[0m data\u001b[38;5;241m.\u001b[39mto_excel(output_path, index\u001b[38;5;241m=\u001b[39m\u001b[38;5;28;01mFalse\u001b[39;00m, sheet_name\u001b[38;5;241m=\u001b[39m\u001b[38;5;124m'\u001b[39m\u001b[38;5;124mresult\u001b[39m\u001b[38;5;124m'\u001b[39m)\n\u001b[1;32m      4\u001b[0m \u001b[38;5;28mprint\u001b[39m(\u001b[38;5;124mf\u001b[39m\u001b[38;5;124m\"\u001b[39m\u001b[38;5;124mExcel file created \u001b[39m\u001b[38;5;132;01m{\u001b[39;00moutput_path\u001b[38;5;132;01m}\u001b[39;00m\u001b[38;5;124m\"\u001b[39m)\n",
      "\u001b[0;31mAttributeError\u001b[0m: 'dict' object has no attribute 'to_excel'"
     ]
    }
   ],
   "source": [
    "# another method \n",
    "output_path = '/Users/nitishkumar/Documents/GitHub/DataScience/Libraries/excel.xlsx'\n",
    "data.to_excel(output_path, index=False, sheet_name='result')\n",
    "print(f\"Excel file created {output_path}\")"
   ]
  },
  {
   "cell_type": "code",
   "execution_count": 17,
   "metadata": {},
   "outputs": [
    {
     "name": "stdout",
     "output_type": "stream",
     "text": [
      "Excel file created: /Users/nitishkumar/Documents/GitHub/DataScience/Libraries/excel1.xlsx\n"
     ]
    }
   ],
   "source": [
    "# Step 1: Import the necessary libraries\n",
    "import pandas as pd\n",
    "import numpy as np\n",
    "\n",
    "# Step 2: Create a DataFrame with sales information\n",
    "data = {\n",
    "    'Product': ['Laptop', 'Smartphone', 'Tablet', 'Smartwatch', 'Headphones'],\n",
    "    'Price': [999.99, 499.99, 299.99, 199.99, np.nan],  # Note the NaN for missing price\n",
    "    'Stock': [50, 150, 100, 75, 200],\n",
    "    'Sales': [20, 60, 45, 30, 90],\n",
    "}\n",
    "\n",
    "df = pd.DataFrame(data)\n",
    "\n",
    "# Step 3: Fill missing values and calculate additional metrics\n",
    "# Fill missing price with the average price of available products\n",
    "df['Price'].fillna(df['Price'].mean(), inplace=True)\n",
    "\n",
    "# Calculate total revenue for each product\n",
    "df['Total Revenue'] = df['Price'] * df['Sales']\n",
    "\n",
    "# Calculate total value of stock for each product\n",
    "df['Total Value'] = df['Price'] * df['Stock']\n",
    "\n",
    "# Step 4: Sort products by total revenue in descending order\n",
    "df_sorted = df.sort_values(by='Total Revenue', ascending=False)\n",
    "\n",
    "# Step 5: Specify the output path in the Documents directory\n",
    "output_path = '/Users/nitishkumar/Documents/GitHub/DataScience/Libraries/excel1.xlsx' # Specify the file name here\n",
    "\n",
    "# Step 6: Create a Pandas Excel writer using XlsxWriter as the engine\n",
    "with pd.ExcelWriter(output_path, engine='xlsxwriter') as writer:\n",
    "    # Write the sorted DataFrame to the first sheet\n",
    "    df_sorted.to_excel(writer, index=False, sheet_name='Sales Data')\n",
    "\n",
    "    # Create a second sheet for summary statistics\n",
    "    summary_df = df[['Product', 'Total Revenue', 'Total Value']].copy()\n",
    "    summary_df = summary_df.sort_values(by='Total Revenue', ascending=False)\n",
    "    summary_df.to_excel(writer, index=False, sheet_name='Summary')\n",
    "\n",
    "\n",
    "    # Access the XlsxWriter workbook and worksheet objects\n",
    "    workbook = writer.book\n",
    "    sales_worksheet = writer.sheets['Sales Data']\n",
    "    summary_worksheet = writer.sheets['Summary']\n",
    "\n",
    "    # Step 7: Add formatting to the Sales Data sheet\n",
    "    money_format = workbook.add_format({'num_format': '$#,##0.00'})\n",
    "    sales_worksheet.set_column('B:B', 12, money_format)  # Format Price column\n",
    "    sales_worksheet.set_column('D:D', 15, money_format)  # Format Total Revenue column\n",
    "    sales_worksheet.set_column('E:E', 15, money_format)  # Format Total Value column\n",
    "\n",
    "    # Step 8: Add a header format for the Summary sheet\n",
    "    header_format = workbook.add_format({'bold': True, 'bg_color': '#D9EAD3', 'border': 1})\n",
    "    for col_num, value in enumerate(summary_df.columns.values):\n",
    "        summary_worksheet.write(0, col_num, value, header_format)\n",
    "\n",
    "# Step 9: Print a message to confirm creation\n",
    "print(f\"Excel file created: {output_path}\")"
   ]
  },
  {
   "cell_type": "code",
   "execution_count": 21,
   "metadata": {},
   "outputs": [
    {
     "name": "stdout",
     "output_type": "stream",
     "text": [
      "File created /Users/nitishkumar/Documents/GitHub/DataScience/Libraries/excel3.xlsx\n"
     ]
    }
   ],
   "source": [
    "# Step 1: Import the necessary libraries\n",
    "import pandas as pd\n",
    "import numpy as np\n",
    "\n",
    "# Step 2: Create a DataFrame with sales information\n",
    "data = {\n",
    "    'Product': ['Laptop', 'Smartphone', 'Tablet', 'Smartwatch', 'Headphones'],\n",
    "    'Price': [999.99, 499.99, 299.99, 199.99, np.nan],  # Note the NaN for missing price\n",
    "    'Stock': [50, 150, 100, 75, 200],\n",
    "    'Sales': [20, 60, 45, 30, 90],\n",
    "}\n",
    "\n",
    "df = pd.DataFrame(data)\n",
    "\n",
    "# Step 3: Fill missing values and calculate additional metrics\n",
    "# Fill missing price with the average price of available products\n",
    "df['Price'].fillna(df['Price'].mean(), inplace=True)\n",
    "\n",
    "# Calculate total revenue for each product\n",
    "df['Total Revenue'] = df['Price'] * df['Sales']\n",
    "\n",
    "# Calculate total value of stock for each product\n",
    "df['Total Value'] = df['Price'] * df['Stock']\n",
    "\n",
    "# Step 4: Sort products by total revenue in descending order\n",
    "df_sorted = df.sort_values(by='Total Revenue', ascending=False)\n",
    "\n",
    "# Step 5: Specify the output path in the Documents directory\n",
    "output_path = '/Users/nitishkumar/Documents/GitHub/DataScience/Libraries/excel3.xlsx' # Specify the file name here\n",
    "\n",
    "df_sorted.to_excel(output_path, index=False, sheet_name=\"Sale Product\")\n",
    "print(f\"File created {output_path}\")"
   ]
  },
  {
   "cell_type": "code",
   "execution_count": null,
   "metadata": {},
   "outputs": [],
   "source": []
  }
 ],
 "metadata": {
  "kernelspec": {
   "display_name": "Python 3",
   "language": "python",
   "name": "python3"
  },
  "language_info": {
   "codemirror_mode": {
    "name": "ipython",
    "version": 3
   },
   "file_extension": ".py",
   "mimetype": "text/x-python",
   "name": "python",
   "nbconvert_exporter": "python",
   "pygments_lexer": "ipython3",
   "version": "3.11.5"
  }
 },
 "nbformat": 4,
 "nbformat_minor": 2
}
